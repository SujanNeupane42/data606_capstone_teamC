{
  "cells": [
    {
      "cell_type": "code",
      "execution_count": null,
      "id": "3057fd89",
      "metadata": {
        "id": "3057fd89"
      },
      "outputs": [],
      "source": [
        "import warnings\n",
        "warnings.filterwarnings(\"ignore\")"
      ]
    },
    {
      "cell_type": "code",
      "execution_count": null,
      "id": "e3042deb",
      "metadata": {
        "id": "e3042deb"
      },
      "outputs": [],
      "source": [
        "import pandas as pd\n",
        "import numpy as np\n",
        "import matplotlib.pyplot as plt\n",
        "import seaborn as sns"
      ]
    },
    {
      "cell_type": "code",
      "execution_count": null,
      "id": "f6a2809f",
      "metadata": {
        "id": "f6a2809f"
      },
      "outputs": [],
      "source": [
        "df = pd.read_csv(\"final_data_with_summarization_FinalTesting.csv\")"
      ]
    },
    {
      "cell_type": "code",
      "execution_count": null,
      "id": "1e83367f",
      "metadata": {
        "id": "1e83367f",
        "outputId": "53d74a13-4f22-4fc8-ac45-d06c5ccc35ed"
      },
      "outputs": [
        {
          "data": {
            "text/html": [
              "<div>\n",
              "<style scoped>\n",
              "    .dataframe tbody tr th:only-of-type {\n",
              "        vertical-align: middle;\n",
              "    }\n",
              "\n",
              "    .dataframe tbody tr th {\n",
              "        vertical-align: top;\n",
              "    }\n",
              "\n",
              "    .dataframe thead th {\n",
              "        text-align: right;\n",
              "    }\n",
              "</style>\n",
              "<table border=\"1\" class=\"dataframe\">\n",
              "  <thead>\n",
              "    <tr style=\"text-align: right;\">\n",
              "      <th></th>\n",
              "      <th>title</th>\n",
              "      <th>text</th>\n",
              "      <th>label</th>\n",
              "      <th>title_tokens</th>\n",
              "      <th>text_tokens</th>\n",
              "      <th>text_summary</th>\n",
              "    </tr>\n",
              "  </thead>\n",
              "  <tbody>\n",
              "    <tr>\n",
              "      <th>0</th>\n",
              "      <td>Drunk Bragging Trump Staffer Started Russian ...</td>\n",
              "      <td>House Intelligence Committee Chairman Devin Nu...</td>\n",
              "      <td>1</td>\n",
              "      <td>13</td>\n",
              "      <td>387</td>\n",
              "      <td>NaN</td>\n",
              "    </tr>\n",
              "    <tr>\n",
              "      <th>1</th>\n",
              "      <td>Pope Francis Just Called Out Donald Trump Dur...</td>\n",
              "      <td>Pope Francis used his annual Christmas Day mes...</td>\n",
              "      <td>1</td>\n",
              "      <td>13</td>\n",
              "      <td>477</td>\n",
              "      <td>NaN</td>\n",
              "    </tr>\n",
              "    <tr>\n",
              "      <th>2</th>\n",
              "      <td>Racist Alabama Cops Brutalize Black Boy While...</td>\n",
              "      <td>The number of cases of cops brutalizing and ki...</td>\n",
              "      <td>1</td>\n",
              "      <td>18</td>\n",
              "      <td>367</td>\n",
              "      <td>NaN</td>\n",
              "    </tr>\n",
              "    <tr>\n",
              "      <th>3</th>\n",
              "      <td>Fresh Off The Golf Course, Trump Lashes Out A...</td>\n",
              "      <td>Donald Trump spent a good portion of his day a...</td>\n",
              "      <td>1</td>\n",
              "      <td>19</td>\n",
              "      <td>481</td>\n",
              "      <td>NaN</td>\n",
              "    </tr>\n",
              "    <tr>\n",
              "      <th>4</th>\n",
              "      <td>Trump Said Some INSANELY Racist Stuff Inside ...</td>\n",
              "      <td>In the wake of yet another court decision that...</td>\n",
              "      <td>1</td>\n",
              "      <td>19</td>\n",
              "      <td>454</td>\n",
              "      <td>NaN</td>\n",
              "    </tr>\n",
              "    <tr>\n",
              "      <th>...</th>\n",
              "      <td>...</td>\n",
              "      <td>...</td>\n",
              "      <td>...</td>\n",
              "      <td>...</td>\n",
              "      <td>...</td>\n",
              "      <td>...</td>\n",
              "    </tr>\n",
              "    <tr>\n",
              "      <th>44893</th>\n",
              "      <td>U.S., North Korea clash at U.N. forum over nuc...</td>\n",
              "      <td>GENEVA (Reuters) - North Korea and the United ...</td>\n",
              "      <td>0</td>\n",
              "      <td>19</td>\n",
              "      <td>889</td>\n",
              "      <td>North Korea and the US clashed at a U.N. forum...</td>\n",
              "    </tr>\n",
              "    <tr>\n",
              "      <th>44894</th>\n",
              "      <td>U.S., North Korea clash at U.N. forum over nuc...</td>\n",
              "      <td>GENEVA (Reuters) - North Korea and the United ...</td>\n",
              "      <td>0</td>\n",
              "      <td>19</td>\n",
              "      <td>889</td>\n",
              "      <td>North Korea and the United States clashed at a...</td>\n",
              "    </tr>\n",
              "    <tr>\n",
              "      <th>44895</th>\n",
              "      <td>U.S., North Korea clash at U.N. arms forum on ...</td>\n",
              "      <td>GENEVA (Reuters) - North Korea and the United ...</td>\n",
              "      <td>0</td>\n",
              "      <td>20</td>\n",
              "      <td>810</td>\n",
              "      <td>North Korea and the US clashed at the United N...</td>\n",
              "    </tr>\n",
              "    <tr>\n",
              "      <th>44896</th>\n",
              "      <td>North Korea shipments to Syria chemical arms a...</td>\n",
              "      <td>UNITED NATIONS (Reuters) - Two North Korean sh...</td>\n",
              "      <td>0</td>\n",
              "      <td>17</td>\n",
              "      <td>554</td>\n",
              "      <td>Two North Korean shipments to a Syrian governm...</td>\n",
              "    </tr>\n",
              "    <tr>\n",
              "      <th>44897</th>\n",
              "      <td>'Fully committed' NATO backs new U.S. approach...</td>\n",
              "      <td>BRUSSELS (Reuters) - NATO allies on Tuesday we...</td>\n",
              "      <td>0</td>\n",
              "      <td>16</td>\n",
              "      <td>559</td>\n",
              "      <td>NATO allies welcomed President Donald Trump's ...</td>\n",
              "    </tr>\n",
              "  </tbody>\n",
              "</table>\n",
              "<p>44898 rows × 6 columns</p>\n",
              "</div>"
            ],
            "text/plain": [
              "                                                   title  \\\n",
              "0       Drunk Bragging Trump Staffer Started Russian ...   \n",
              "1       Pope Francis Just Called Out Donald Trump Dur...   \n",
              "2       Racist Alabama Cops Brutalize Black Boy While...   \n",
              "3       Fresh Off The Golf Course, Trump Lashes Out A...   \n",
              "4       Trump Said Some INSANELY Racist Stuff Inside ...   \n",
              "...                                                  ...   \n",
              "44893  U.S., North Korea clash at U.N. forum over nuc...   \n",
              "44894  U.S., North Korea clash at U.N. forum over nuc...   \n",
              "44895  U.S., North Korea clash at U.N. arms forum on ...   \n",
              "44896  North Korea shipments to Syria chemical arms a...   \n",
              "44897  'Fully committed' NATO backs new U.S. approach...   \n",
              "\n",
              "                                                    text  label  title_tokens  \\\n",
              "0      House Intelligence Committee Chairman Devin Nu...      1            13   \n",
              "1      Pope Francis used his annual Christmas Day mes...      1            13   \n",
              "2      The number of cases of cops brutalizing and ki...      1            18   \n",
              "3      Donald Trump spent a good portion of his day a...      1            19   \n",
              "4      In the wake of yet another court decision that...      1            19   \n",
              "...                                                  ...    ...           ...   \n",
              "44893  GENEVA (Reuters) - North Korea and the United ...      0            19   \n",
              "44894  GENEVA (Reuters) - North Korea and the United ...      0            19   \n",
              "44895  GENEVA (Reuters) - North Korea and the United ...      0            20   \n",
              "44896  UNITED NATIONS (Reuters) - Two North Korean sh...      0            17   \n",
              "44897  BRUSSELS (Reuters) - NATO allies on Tuesday we...      0            16   \n",
              "\n",
              "       text_tokens                                       text_summary  \n",
              "0              387                                                NaN  \n",
              "1              477                                                NaN  \n",
              "2              367                                                NaN  \n",
              "3              481                                                NaN  \n",
              "4              454                                                NaN  \n",
              "...            ...                                                ...  \n",
              "44893          889  North Korea and the US clashed at a U.N. forum...  \n",
              "44894          889  North Korea and the United States clashed at a...  \n",
              "44895          810  North Korea and the US clashed at the United N...  \n",
              "44896          554  Two North Korean shipments to a Syrian governm...  \n",
              "44897          559  NATO allies welcomed President Donald Trump's ...  \n",
              "\n",
              "[44898 rows x 6 columns]"
            ]
          },
          "execution_count": 4,
          "metadata": {},
          "output_type": "execute_result"
        }
      ],
      "source": [
        "df"
      ]
    },
    {
      "cell_type": "code",
      "execution_count": null,
      "id": "04bc832d",
      "metadata": {
        "id": "04bc832d",
        "outputId": "2b7a59ba-d352-4ef2-e9e7-d94e15ca8ff3"
      },
      "outputs": [
        {
          "name": "stdout",
          "output_type": "stream",
          "text": [
            "<class 'pandas.core.frame.DataFrame'>\n",
            "RangeIndex: 44898 entries, 0 to 44897\n",
            "Data columns (total 6 columns):\n",
            " #   Column        Non-Null Count  Dtype \n",
            "---  ------        --------------  ----- \n",
            " 0   title         44898 non-null  object\n",
            " 1   text          44898 non-null  object\n",
            " 2   label         44898 non-null  int64 \n",
            " 3   title_tokens  44898 non-null  int64 \n",
            " 4   text_tokens   44898 non-null  int64 \n",
            " 5   text_summary  19248 non-null  object\n",
            "dtypes: int64(3), object(3)\n",
            "memory usage: 2.1+ MB\n"
          ]
        }
      ],
      "source": [
        "df.info()"
      ]
    },
    {
      "cell_type": "code",
      "execution_count": null,
      "id": "640c1e51",
      "metadata": {
        "id": "640c1e51"
      },
      "outputs": [],
      "source": [
        "from sklearn.feature_extraction.text import TfidfVectorizer\n",
        "from sklearn.linear_model import LogisticRegression\n",
        "from sklearn.model_selection import train_test_split\n",
        "from sklearn.metrics import classification_report, roc_auc_score, roc_curve\n",
        "from textstat import flesch_reading_ease, flesch_kincaid_grade\n",
        "from scipy.sparse import hstack\n",
        "from tqdm import tqdm\n",
        "tqdm.pandas()"
      ]
    },
    {
      "cell_type": "markdown",
      "id": "71547d65",
      "metadata": {
        "id": "71547d65"
      },
      "source": [
        "Split the dataset + clean up null values"
      ]
    },
    {
      "cell_type": "code",
      "execution_count": null,
      "id": "0ffce019",
      "metadata": {
        "id": "0ffce019"
      },
      "outputs": [],
      "source": [
        "df = df.dropna(subset=[\"text\"]).copy()  # Prevent null values\n",
        "\n",
        "# Split train/test first to avoid data leakage\n",
        "X_raw = df[\"text\"]\n",
        "y = df[\"label\"]  # 0 = real, 1 = fake\n",
        "\n",
        "X_train_raw, X_test_raw, y_train, y_test = train_test_split(\n",
        "    X_raw, y, test_size=0.2, random_state=42, stratify=y\n",
        ")"
      ]
    },
    {
      "cell_type": "markdown",
      "id": "b14adcfb",
      "metadata": {
        "id": "b14adcfb"
      },
      "source": [
        "Flesch-Kincaid readability calculation"
      ]
    },
    {
      "cell_type": "code",
      "execution_count": null,
      "id": "cf1e202e",
      "metadata": {
        "id": "cf1e202e",
        "outputId": "a5991648-d892-483b-a647-b3705cdacb21"
      },
      "outputs": [
        {
          "name": "stderr",
          "output_type": "stream",
          "text": [
            "100%|███████████████████████████████████████████████████████████████████████████| 35918/35918 [00:55<00:00, 649.42it/s]\n",
            "100%|███████████████████████████████████████████████████████████████████████████| 35918/35918 [00:42<00:00, 838.75it/s]\n",
            "100%|█████████████████████████████████████████████████████████████████████████████| 8980/8980 [00:12<00:00, 693.85it/s]\n",
            "100%|█████████████████████████████████████████████████████████████████████████████| 8980/8980 [00:10<00:00, 845.48it/s]\n"
          ]
        }
      ],
      "source": [
        "# Calculate readability features: Flesch Reading Ease & Flesch-Kincaid Grade Level\n",
        "train_readability = pd.DataFrame({\n",
        "    \"flesch_reading_ease\": X_train_raw.progress_apply(flesch_reading_ease),\n",
        "    \"flesch_kincaid_grade\": X_train_raw.progress_apply(flesch_kincaid_grade)\n",
        "}).fillna(0)\n",
        "\n",
        "test_readability = pd.DataFrame({\n",
        "    \"flesch_reading_ease\": X_test_raw.progress_apply(flesch_reading_ease),\n",
        "    \"flesch_kincaid_grade\": X_test_raw.progress_apply(flesch_kincaid_grade)\n",
        "}).fillna(0)"
      ]
    },
    {
      "cell_type": "markdown",
      "id": "0511edbb",
      "metadata": {
        "id": "0511edbb"
      },
      "source": [
        "TF-IDF feature extraction + merge readability features"
      ]
    },
    {
      "cell_type": "code",
      "execution_count": null,
      "id": "02d0a025",
      "metadata": {
        "id": "02d0a025"
      },
      "outputs": [],
      "source": [
        "# TF-IDF：Unigram + Bigram + Trigram\n",
        "tfidf = TfidfVectorizer(\n",
        "    ngram_range=(1, 3),\n",
        "    max_features=10000,\n",
        "    stop_words=\"english\"\n",
        ")\n",
        "X_train_tfidf = tfidf.fit_transform(X_train_raw)\n",
        "X_test_tfidf = tfidf.transform(X_test_raw)\n",
        "\n",
        "# Merge readability and TF-IDF features\n",
        "X_train = hstack([X_train_tfidf, train_readability.values])\n",
        "X_test = hstack([X_test_tfidf, test_readability.values])"
      ]
    },
    {
      "cell_type": "markdown",
      "id": "29bbe594",
      "metadata": {
        "id": "29bbe594"
      },
      "source": [
        "Logistic regression model training and evaluation"
      ]
    },
    {
      "cell_type": "code",
      "execution_count": null,
      "id": "e1df5c81",
      "metadata": {
        "id": "e1df5c81",
        "outputId": "d64e844a-127b-41a8-ad86-59d427688571"
      },
      "outputs": [
        {
          "name": "stdout",
          "output_type": "stream",
          "text": [
            "Classification Report: \n",
            "              precision    recall  f1-score   support\n",
            "\n",
            "        Real       0.99      0.99      0.99      4284\n",
            "        Fake       0.99      0.99      0.99      4696\n",
            "\n",
            "    accuracy                           0.99      8980\n",
            "   macro avg       0.99      0.99      0.99      8980\n",
            "weighted avg       0.99      0.99      0.99      8980\n",
            "\n",
            "ROC AUC score: 0.9990\n"
          ]
        }
      ],
      "source": [
        "#Build a logistic regression model\n",
        "clf = LogisticRegression(max_iter=1000)\n",
        "clf.fit(X_train, y_train)\n",
        "\n",
        "# Prediction and Evaluation\n",
        "y_pred = clf.predict(X_test)\n",
        "y_prob = clf.predict_proba(X_test)[:, 1]\n",
        "\n",
        "print(\"Classification Report: \")\n",
        "print(classification_report(y_test, y_pred, target_names=[\"Real\", \"Fake\"]))\n",
        "print(f\"ROC AUC score: {roc_auc_score(y_test, y_prob):.4f}\")"
      ]
    },
    {
      "cell_type": "markdown",
      "id": "07dd2957",
      "metadata": {
        "id": "07dd2957"
      },
      "source": [
        "ROC Curve Visualization"
      ]
    },
    {
      "cell_type": "code",
      "execution_count": null,
      "id": "396dbf9f",
      "metadata": {
        "id": "396dbf9f",
        "outputId": "afbcc977-38ca-4089-8b55-9b26b9157ee8"
      },
      "outputs": [
        {
          "data": {
            "image/png": "[encoded data removed]",
            "text/plain": [
              "<Figure size 800x500 with 1 Axes>"
            ]
          },
          "metadata": {},
          "output_type": "display_data"
        }
      ],
      "source": [
        "# ROC curve\n",
        "fpr, tpr, _ = roc_curve(y_test, y_prob)\n",
        "plt.figure(figsize=(8, 5))\n",
        "plt.plot(fpr, tpr, label=f\"AUC = {roc_auc_score(y_test, y_prob):.4f}\")\n",
        "plt.plot([0, 1], [0, 1], \"k--\")\n",
        "plt.xlabel(\"False Positive Rate\")\n",
        "plt.ylabel(\"True Positive Rate\")\n",
        "plt.title(\"ROC Curve - Fake News Detection\")\n",
        "plt.legend(loc=\"lower right\")\n",
        "plt.grid()\n",
        "plt.show()"
      ]
    },
    {
      "cell_type": "markdown",
      "id": "11fa105c",
      "metadata": {
        "id": "11fa105c"
      },
      "source": [
        "Readability vs. True and False News Visualization"
      ]
    },
    {
      "cell_type": "code",
      "execution_count": null,
      "id": "19938188",
      "metadata": {
        "id": "19938188",
        "outputId": "6e4e03d3-aeb2-4e87-b19e-af3ec1c34439"
      },
      "outputs": [
        {
          "data": {
            "image/png": "[encoded data removed]",
            "text/plain": [
              "<Figure size 640x480 with 1 Axes>"
            ]
          },
          "metadata": {},
          "output_type": "display_data"
        }
      ],
      "source": [
        "df['flesch'] = df['text'].apply(flesch_reading_ease)\n",
        "df['label_text'] = df['label'].map({0: 'Fake', 1: 'Real'})\n",
        "\n",
        "sns.boxplot(data=df, x='label_text', y='flesch')\n",
        "plt.title(\"Flesch Reading Ease vs News Type\")\n",
        "plt.xlabel(\"News Label\")\n",
        "plt.ylabel(\"Flesch Reading Ease Score\")\n",
        "plt.show()"
      ]
    },
    {
      "cell_type": "markdown",
      "id": "893f19bc",
      "metadata": {
        "id": "893f19bc"
      },
      "source": [
        "Most common word analysis"
      ]
    },
    {
      "cell_type": "code",
      "execution_count": null,
      "id": "1c8a11a3",
      "metadata": {
        "id": "1c8a11a3",
        "outputId": "036fa18b-707e-4f4f-fc51-15709fbdc52f"
      },
      "outputs": [
        {
          "name": "stderr",
          "output_type": "stream",
          "text": [
            "[nltk_data] Downloading package stopwords to\n",
            "[nltk_data]     C:\\Users\\User\\AppData\\Roaming\\nltk_data...\n",
            "[nltk_data]   Package stopwords is already up-to-date!\n"
          ]
        },
        {
          "name": "stdout",
          "output_type": "stream",
          "text": [
            "Fake News Common Words: [('said', 72035), ('trump', 36485), ('would', 31361), ('president', 23399), ('new', 16578), ('also', 15870), ('state', 15608), ('united', 15521), ('government', 15319), ('house', 14550), ('republican', 14500), ('told', 14221), ('could', 13597), ('last', 12529), ('people', 12400), ('states', 11819), ('one', 11792), ('two', 11279), ('washington', 10785), ('former', 10585)]\n",
            "Real News Common Words: [('trump', 65511), ('would', 23261), ('people', 22359), ('president', 22080), ('one', 21561), ('said', 21221), ('like', 16858), ('donald', 16800), ('obama', 16043), ('clinton', 15614), ('also', 14771), ('new', 13941), ('even', 13515), ('hillary', 12584), ('white', 12235), ('news', 12123), ('us', 11811), ('state', 10833), ('get', 10603), ('could', 10084)]\n"
          ]
        }
      ],
      "source": [
        "from collections import Counter\n",
        "import nltk\n",
        "nltk.download('stopwords')\n",
        "from nltk.corpus import stopwords\n",
        "\n",
        "stop_words = set(stopwords.words('english'))\n",
        "\n",
        "def get_common_words(texts, n=20):\n",
        "    words = ' '.join(texts).lower().split()\n",
        "    words = [w for w in words if w.isalpha() and w not in stop_words]\n",
        "    return Counter(words).most_common(n)\n",
        "\n",
        "common_fake = get_common_words(df[df['label'] == 0]['text'])\n",
        "common_real = get_common_words(df[df['label'] == 1]['text'])\n",
        "\n",
        "print(\"Fake News Common Words:\", common_fake)\n",
        "print(\"Real News Common Words:\", common_real)"
      ]
    },
    {
      "cell_type": "code",
      "execution_count": null,
      "id": "8facee11",
      "metadata": {
        "id": "8facee11",
        "outputId": "e1c0e7ce-2645-42f7-e2e9-8bb02e4a65ed"
      },
      "outputs": [
        {
          "data": {
            "text/html": [
              "<div>\n",
              "<style scoped>\n",
              "    .dataframe tbody tr th:only-of-type {\n",
              "        vertical-align: middle;\n",
              "    }\n",
              "\n",
              "    .dataframe tbody tr th {\n",
              "        vertical-align: top;\n",
              "    }\n",
              "\n",
              "    .dataframe thead th {\n",
              "        text-align: right;\n",
              "    }\n",
              "</style>\n",
              "<table border=\"1\" class=\"dataframe\">\n",
              "  <thead>\n",
              "    <tr style=\"text-align: right;\">\n",
              "      <th></th>\n",
              "      <th>title</th>\n",
              "      <th>text</th>\n",
              "      <th>label</th>\n",
              "      <th>title_tokens</th>\n",
              "      <th>text_tokens</th>\n",
              "      <th>text_summary</th>\n",
              "      <th>flesch</th>\n",
              "      <th>label_text</th>\n",
              "    </tr>\n",
              "  </thead>\n",
              "  <tbody>\n",
              "    <tr>\n",
              "      <th>0</th>\n",
              "      <td>Drunk Bragging Trump Staffer Started Russian ...</td>\n",
              "      <td>House Intelligence Committee Chairman Devin Nu...</td>\n",
              "      <td>1</td>\n",
              "      <td>13</td>\n",
              "      <td>387</td>\n",
              "      <td>NaN</td>\n",
              "      <td>45.677700</td>\n",
              "      <td>Real</td>\n",
              "    </tr>\n",
              "    <tr>\n",
              "      <th>1</th>\n",
              "      <td>Pope Francis Just Called Out Donald Trump Dur...</td>\n",
              "      <td>Pope Francis used his annual Christmas Day mes...</td>\n",
              "      <td>1</td>\n",
              "      <td>13</td>\n",
              "      <td>477</td>\n",
              "      <td>NaN</td>\n",
              "      <td>62.447143</td>\n",
              "      <td>Real</td>\n",
              "    </tr>\n",
              "    <tr>\n",
              "      <th>2</th>\n",
              "      <td>Racist Alabama Cops Brutalize Black Boy While...</td>\n",
              "      <td>The number of cases of cops brutalizing and ki...</td>\n",
              "      <td>1</td>\n",
              "      <td>18</td>\n",
              "      <td>367</td>\n",
              "      <td>NaN</td>\n",
              "      <td>65.023269</td>\n",
              "      <td>Real</td>\n",
              "    </tr>\n",
              "    <tr>\n",
              "      <th>3</th>\n",
              "      <td>Fresh Off The Golf Course, Trump Lashes Out A...</td>\n",
              "      <td>Donald Trump spent a good portion of his day a...</td>\n",
              "      <td>1</td>\n",
              "      <td>19</td>\n",
              "      <td>481</td>\n",
              "      <td>NaN</td>\n",
              "      <td>50.075108</td>\n",
              "      <td>Real</td>\n",
              "    </tr>\n",
              "    <tr>\n",
              "      <th>4</th>\n",
              "      <td>Trump Said Some INSANELY Racist Stuff Inside ...</td>\n",
              "      <td>In the wake of yet another court decision that...</td>\n",
              "      <td>1</td>\n",
              "      <td>19</td>\n",
              "      <td>454</td>\n",
              "      <td>NaN</td>\n",
              "      <td>45.403077</td>\n",
              "      <td>Real</td>\n",
              "    </tr>\n",
              "    <tr>\n",
              "      <th>...</th>\n",
              "      <td>...</td>\n",
              "      <td>...</td>\n",
              "      <td>...</td>\n",
              "      <td>...</td>\n",
              "      <td>...</td>\n",
              "      <td>...</td>\n",
              "      <td>...</td>\n",
              "      <td>...</td>\n",
              "    </tr>\n",
              "    <tr>\n",
              "      <th>44893</th>\n",
              "      <td>U.S., North Korea clash at U.N. forum over nuc...</td>\n",
              "      <td>GENEVA (Reuters) - North Korea and the United ...</td>\n",
              "      <td>0</td>\n",
              "      <td>19</td>\n",
              "      <td>889</td>\n",
              "      <td>North Korea and the US clashed at a U.N. forum...</td>\n",
              "      <td>45.131802</td>\n",
              "      <td>Fake</td>\n",
              "    </tr>\n",
              "    <tr>\n",
              "      <th>44894</th>\n",
              "      <td>U.S., North Korea clash at U.N. forum over nuc...</td>\n",
              "      <td>GENEVA (Reuters) - North Korea and the United ...</td>\n",
              "      <td>0</td>\n",
              "      <td>19</td>\n",
              "      <td>889</td>\n",
              "      <td>North Korea and the United States clashed at a...</td>\n",
              "      <td>45.131802</td>\n",
              "      <td>Fake</td>\n",
              "    </tr>\n",
              "    <tr>\n",
              "      <th>44895</th>\n",
              "      <td>U.S., North Korea clash at U.N. arms forum on ...</td>\n",
              "      <td>GENEVA (Reuters) - North Korea and the United ...</td>\n",
              "      <td>0</td>\n",
              "      <td>20</td>\n",
              "      <td>810</td>\n",
              "      <td>North Korea and the US clashed at the United N...</td>\n",
              "      <td>39.594786</td>\n",
              "      <td>Fake</td>\n",
              "    </tr>\n",
              "    <tr>\n",
              "      <th>44896</th>\n",
              "      <td>North Korea shipments to Syria chemical arms a...</td>\n",
              "      <td>UNITED NATIONS (Reuters) - Two North Korean sh...</td>\n",
              "      <td>0</td>\n",
              "      <td>17</td>\n",
              "      <td>554</td>\n",
              "      <td>Two North Korean shipments to a Syrian governm...</td>\n",
              "      <td>31.903561</td>\n",
              "      <td>Fake</td>\n",
              "    </tr>\n",
              "    <tr>\n",
              "      <th>44897</th>\n",
              "      <td>'Fully committed' NATO backs new U.S. approach...</td>\n",
              "      <td>BRUSSELS (Reuters) - NATO allies on Tuesday we...</td>\n",
              "      <td>0</td>\n",
              "      <td>16</td>\n",
              "      <td>559</td>\n",
              "      <td>NATO allies welcomed President Donald Trump's ...</td>\n",
              "      <td>49.379156</td>\n",
              "      <td>Fake</td>\n",
              "    </tr>\n",
              "  </tbody>\n",
              "</table>\n",
              "<p>44898 rows × 8 columns</p>\n",
              "</div>"
            ],
            "text/plain": [
              "                                                   title  \\\n",
              "0       Drunk Bragging Trump Staffer Started Russian ...   \n",
              "1       Pope Francis Just Called Out Donald Trump Dur...   \n",
              "2       Racist Alabama Cops Brutalize Black Boy While...   \n",
              "3       Fresh Off The Golf Course, Trump Lashes Out A...   \n",
              "4       Trump Said Some INSANELY Racist Stuff Inside ...   \n",
              "...                                                  ...   \n",
              "44893  U.S., North Korea clash at U.N. forum over nuc...   \n",
              "44894  U.S., North Korea clash at U.N. forum over nuc...   \n",
              "44895  U.S., North Korea clash at U.N. arms forum on ...   \n",
              "44896  North Korea shipments to Syria chemical arms a...   \n",
              "44897  'Fully committed' NATO backs new U.S. approach...   \n",
              "\n",
              "                                                    text  label  title_tokens  \\\n",
              "0      House Intelligence Committee Chairman Devin Nu...      1            13   \n",
              "1      Pope Francis used his annual Christmas Day mes...      1            13   \n",
              "2      The number of cases of cops brutalizing and ki...      1            18   \n",
              "3      Donald Trump spent a good portion of his day a...      1            19   \n",
              "4      In the wake of yet another court decision that...      1            19   \n",
              "...                                                  ...    ...           ...   \n",
              "44893  GENEVA (Reuters) - North Korea and the United ...      0            19   \n",
              "44894  GENEVA (Reuters) - North Korea and the United ...      0            19   \n",
              "44895  GENEVA (Reuters) - North Korea and the United ...      0            20   \n",
              "44896  UNITED NATIONS (Reuters) - Two North Korean sh...      0            17   \n",
              "44897  BRUSSELS (Reuters) - NATO allies on Tuesday we...      0            16   \n",
              "\n",
              "       text_tokens                                       text_summary  \\\n",
              "0              387                                                NaN   \n",
              "1              477                                                NaN   \n",
              "2              367                                                NaN   \n",
              "3              481                                                NaN   \n",
              "4              454                                                NaN   \n",
              "...            ...                                                ...   \n",
              "44893          889  North Korea and the US clashed at a U.N. forum...   \n",
              "44894          889  North Korea and the United States clashed at a...   \n",
              "44895          810  North Korea and the US clashed at the United N...   \n",
              "44896          554  Two North Korean shipments to a Syrian governm...   \n",
              "44897          559  NATO allies welcomed President Donald Trump's ...   \n",
              "\n",
              "          flesch label_text  \n",
              "0      45.677700       Real  \n",
              "1      62.447143       Real  \n",
              "2      65.023269       Real  \n",
              "3      50.075108       Real  \n",
              "4      45.403077       Real  \n",
              "...          ...        ...  \n",
              "44893  45.131802       Fake  \n",
              "44894  45.131802       Fake  \n",
              "44895  39.594786       Fake  \n",
              "44896  31.903561       Fake  \n",
              "44897  49.379156       Fake  \n",
              "\n",
              "[44898 rows x 8 columns]"
            ]
          },
          "execution_count": 14,
          "metadata": {},
          "output_type": "execute_result"
        }
      ],
      "source": [
        "df"
      ]
    },
    {
      "cell_type": "markdown",
      "id": "34c885b2",
      "metadata": {
        "id": "34c885b2"
      },
      "source": [
        "Add emotion tags"
      ]
    },
    {
      "cell_type": "code",
      "execution_count": null,
      "id": "3f87412b",
      "metadata": {
        "id": "3f87412b"
      },
      "outputs": [],
      "source": [
        "from sklearn.feature_extraction.text import TfidfVectorizer\n",
        "from sklearn.naive_bayes import MultinomialNB\n",
        "from sklearn.preprocessing import LabelEncoder\n",
        "from sklearn.metrics import classification_report"
      ]
    },
    {
      "cell_type": "code",
      "execution_count": null,
      "id": "89a546c6",
      "metadata": {
        "id": "89a546c6"
      },
      "outputs": [],
      "source": [
        "# Read the emotion annotation dataset\n",
        "sentiment_df = pd.read_csv(\"news_sentiment_analysis.csv\")\n",
        "sentiment_df = sentiment_df.dropna(subset=[\"Description\", \"Sentiment\"])"
      ]
    },
    {
      "cell_type": "code",
      "execution_count": null,
      "id": "bca4f9a3",
      "metadata": {
        "id": "bca4f9a3"
      },
      "outputs": [],
      "source": [
        "# Columns\n",
        "X_sentiment = sentiment_df[\"Description\"]\n",
        "y_sentiment = sentiment_df[\"Sentiment\"]\n",
        "\n",
        "# Label Encoding\n",
        "label_encoder = LabelEncoder()\n",
        "y_sentiment_encoded = label_encoder.fit_transform(y_sentiment)\n",
        "\n",
        "# Split data\n",
        "X_train_s, X_test_s, y_train_s, y_test_s = train_test_split(\n",
        "    X_sentiment, y_sentiment_encoded, test_size=0.2, random_state=42, stratify=y_sentiment_encoded\n",
        ")"
      ]
    },
    {
      "cell_type": "code",
      "execution_count": null,
      "id": "f083e7fb",
      "metadata": {
        "id": "f083e7fb",
        "outputId": "29b90a5d-5349-4f9d-a152-2e2a16192157"
      },
      "outputs": [
        {
          "name": "stdout",
          "output_type": "stream",
          "text": [
            "              precision    recall  f1-score   support\n",
            "\n",
            "    negative       0.85      0.36      0.50       115\n",
            "     neutral       0.83      0.50      0.62       158\n",
            "    positive       0.73      0.96      0.83       427\n",
            "\n",
            "    accuracy                           0.76       700\n",
            "   macro avg       0.81      0.60      0.65       700\n",
            "weighted avg       0.78      0.76      0.73       700\n",
            "\n"
          ]
        }
      ],
      "source": [
        "# TF-IDF vectorization\n",
        "sent_vectorizer = TfidfVectorizer(stop_words=\"english\", max_features=5000)\n",
        "X_train_vec_s = sent_vectorizer.fit_transform(X_train_s)\n",
        "X_test_vec_s = sent_vectorizer.transform(X_test_s)\n",
        "\n",
        "# Train the Naive Bayes model\n",
        "sentiment_clf = MultinomialNB()\n",
        "sentiment_clf.fit(X_train_vec_s, y_train_s)\n",
        "\n",
        "# Validate model\n",
        "y_pred_s = sentiment_clf.predict(X_test_vec_s)\n",
        "print(classification_report(y_test_s, y_pred_s, target_names=label_encoder.classes_))"
      ]
    },
    {
      "cell_type": "code",
      "execution_count": null,
      "id": "da5d908b",
      "metadata": {
        "id": "da5d908b"
      },
      "outputs": [],
      "source": [
        "# Predicting Sentiment\n",
        "X_main_text = df[\"text\"]\n",
        "X_main_vec = sent_vectorizer.transform(X_main_text)\n",
        "predicted_sentiment_encoded = sentiment_clf.predict(X_main_vec)\n",
        "df[\"predicted_sentiment\"] = label_encoder.inverse_transform(predicted_sentiment_encoded)"
      ]
    },
    {
      "cell_type": "code",
      "execution_count": null,
      "id": "1fec6031",
      "metadata": {
        "id": "1fec6031",
        "outputId": "811886ec-e11d-43fa-b575-d52b0ca6af37"
      },
      "outputs": [
        {
          "data": {
            "text/html": [
              "<div>\n",
              "<style scoped>\n",
              "    .dataframe tbody tr th:only-of-type {\n",
              "        vertical-align: middle;\n",
              "    }\n",
              "\n",
              "    .dataframe tbody tr th {\n",
              "        vertical-align: top;\n",
              "    }\n",
              "\n",
              "    .dataframe thead th {\n",
              "        text-align: right;\n",
              "    }\n",
              "</style>\n",
              "<table border=\"1\" class=\"dataframe\">\n",
              "  <thead>\n",
              "    <tr style=\"text-align: right;\">\n",
              "      <th></th>\n",
              "      <th>title</th>\n",
              "      <th>text</th>\n",
              "      <th>label</th>\n",
              "      <th>title_tokens</th>\n",
              "      <th>text_tokens</th>\n",
              "      <th>text_summary</th>\n",
              "      <th>flesch</th>\n",
              "      <th>label_text</th>\n",
              "      <th>predicted_sentiment</th>\n",
              "    </tr>\n",
              "  </thead>\n",
              "  <tbody>\n",
              "    <tr>\n",
              "      <th>0</th>\n",
              "      <td>Drunk Bragging Trump Staffer Started Russian ...</td>\n",
              "      <td>House Intelligence Committee Chairman Devin Nu...</td>\n",
              "      <td>1</td>\n",
              "      <td>13</td>\n",
              "      <td>387</td>\n",
              "      <td>NaN</td>\n",
              "      <td>45.677700</td>\n",
              "      <td>Real</td>\n",
              "      <td>positive</td>\n",
              "    </tr>\n",
              "    <tr>\n",
              "      <th>1</th>\n",
              "      <td>Pope Francis Just Called Out Donald Trump Dur...</td>\n",
              "      <td>Pope Francis used his annual Christmas Day mes...</td>\n",
              "      <td>1</td>\n",
              "      <td>13</td>\n",
              "      <td>477</td>\n",
              "      <td>NaN</td>\n",
              "      <td>62.447143</td>\n",
              "      <td>Real</td>\n",
              "      <td>positive</td>\n",
              "    </tr>\n",
              "    <tr>\n",
              "      <th>2</th>\n",
              "      <td>Racist Alabama Cops Brutalize Black Boy While...</td>\n",
              "      <td>The number of cases of cops brutalizing and ki...</td>\n",
              "      <td>1</td>\n",
              "      <td>18</td>\n",
              "      <td>367</td>\n",
              "      <td>NaN</td>\n",
              "      <td>65.023269</td>\n",
              "      <td>Real</td>\n",
              "      <td>positive</td>\n",
              "    </tr>\n",
              "    <tr>\n",
              "      <th>3</th>\n",
              "      <td>Fresh Off The Golf Course, Trump Lashes Out A...</td>\n",
              "      <td>Donald Trump spent a good portion of his day a...</td>\n",
              "      <td>1</td>\n",
              "      <td>19</td>\n",
              "      <td>481</td>\n",
              "      <td>NaN</td>\n",
              "      <td>50.075108</td>\n",
              "      <td>Real</td>\n",
              "      <td>positive</td>\n",
              "    </tr>\n",
              "    <tr>\n",
              "      <th>4</th>\n",
              "      <td>Trump Said Some INSANELY Racist Stuff Inside ...</td>\n",
              "      <td>In the wake of yet another court decision that...</td>\n",
              "      <td>1</td>\n",
              "      <td>19</td>\n",
              "      <td>454</td>\n",
              "      <td>NaN</td>\n",
              "      <td>45.403077</td>\n",
              "      <td>Real</td>\n",
              "      <td>positive</td>\n",
              "    </tr>\n",
              "    <tr>\n",
              "      <th>...</th>\n",
              "      <td>...</td>\n",
              "      <td>...</td>\n",
              "      <td>...</td>\n",
              "      <td>...</td>\n",
              "      <td>...</td>\n",
              "      <td>...</td>\n",
              "      <td>...</td>\n",
              "      <td>...</td>\n",
              "      <td>...</td>\n",
              "    </tr>\n",
              "    <tr>\n",
              "      <th>44893</th>\n",
              "      <td>U.S., North Korea clash at U.N. forum over nuc...</td>\n",
              "      <td>GENEVA (Reuters) - North Korea and the United ...</td>\n",
              "      <td>0</td>\n",
              "      <td>19</td>\n",
              "      <td>889</td>\n",
              "      <td>North Korea and the US clashed at a U.N. forum...</td>\n",
              "      <td>45.131802</td>\n",
              "      <td>Fake</td>\n",
              "      <td>positive</td>\n",
              "    </tr>\n",
              "    <tr>\n",
              "      <th>44894</th>\n",
              "      <td>U.S., North Korea clash at U.N. forum over nuc...</td>\n",
              "      <td>GENEVA (Reuters) - North Korea and the United ...</td>\n",
              "      <td>0</td>\n",
              "      <td>19</td>\n",
              "      <td>889</td>\n",
              "      <td>North Korea and the United States clashed at a...</td>\n",
              "      <td>45.131802</td>\n",
              "      <td>Fake</td>\n",
              "      <td>positive</td>\n",
              "    </tr>\n",
              "    <tr>\n",
              "      <th>44895</th>\n",
              "      <td>U.S., North Korea clash at U.N. arms forum on ...</td>\n",
              "      <td>GENEVA (Reuters) - North Korea and the United ...</td>\n",
              "      <td>0</td>\n",
              "      <td>20</td>\n",
              "      <td>810</td>\n",
              "      <td>North Korea and the US clashed at the United N...</td>\n",
              "      <td>39.594786</td>\n",
              "      <td>Fake</td>\n",
              "      <td>positive</td>\n",
              "    </tr>\n",
              "    <tr>\n",
              "      <th>44896</th>\n",
              "      <td>North Korea shipments to Syria chemical arms a...</td>\n",
              "      <td>UNITED NATIONS (Reuters) - Two North Korean sh...</td>\n",
              "      <td>0</td>\n",
              "      <td>17</td>\n",
              "      <td>554</td>\n",
              "      <td>Two North Korean shipments to a Syrian governm...</td>\n",
              "      <td>31.903561</td>\n",
              "      <td>Fake</td>\n",
              "      <td>positive</td>\n",
              "    </tr>\n",
              "    <tr>\n",
              "      <th>44897</th>\n",
              "      <td>'Fully committed' NATO backs new U.S. approach...</td>\n",
              "      <td>BRUSSELS (Reuters) - NATO allies on Tuesday we...</td>\n",
              "      <td>0</td>\n",
              "      <td>16</td>\n",
              "      <td>559</td>\n",
              "      <td>NATO allies welcomed President Donald Trump's ...</td>\n",
              "      <td>49.379156</td>\n",
              "      <td>Fake</td>\n",
              "      <td>positive</td>\n",
              "    </tr>\n",
              "  </tbody>\n",
              "</table>\n",
              "<p>44898 rows × 9 columns</p>\n",
              "</div>"
            ],
            "text/plain": [
              "                                                   title  \\\n",
              "0       Drunk Bragging Trump Staffer Started Russian ...   \n",
              "1       Pope Francis Just Called Out Donald Trump Dur...   \n",
              "2       Racist Alabama Cops Brutalize Black Boy While...   \n",
              "3       Fresh Off The Golf Course, Trump Lashes Out A...   \n",
              "4       Trump Said Some INSANELY Racist Stuff Inside ...   \n",
              "...                                                  ...   \n",
              "44893  U.S., North Korea clash at U.N. forum over nuc...   \n",
              "44894  U.S., North Korea clash at U.N. forum over nuc...   \n",
              "44895  U.S., North Korea clash at U.N. arms forum on ...   \n",
              "44896  North Korea shipments to Syria chemical arms a...   \n",
              "44897  'Fully committed' NATO backs new U.S. approach...   \n",
              "\n",
              "                                                    text  label  title_tokens  \\\n",
              "0      House Intelligence Committee Chairman Devin Nu...      1            13   \n",
              "1      Pope Francis used his annual Christmas Day mes...      1            13   \n",
              "2      The number of cases of cops brutalizing and ki...      1            18   \n",
              "3      Donald Trump spent a good portion of his day a...      1            19   \n",
              "4      In the wake of yet another court decision that...      1            19   \n",
              "...                                                  ...    ...           ...   \n",
              "44893  GENEVA (Reuters) - North Korea and the United ...      0            19   \n",
              "44894  GENEVA (Reuters) - North Korea and the United ...      0            19   \n",
              "44895  GENEVA (Reuters) - North Korea and the United ...      0            20   \n",
              "44896  UNITED NATIONS (Reuters) - Two North Korean sh...      0            17   \n",
              "44897  BRUSSELS (Reuters) - NATO allies on Tuesday we...      0            16   \n",
              "\n",
              "       text_tokens                                       text_summary  \\\n",
              "0              387                                                NaN   \n",
              "1              477                                                NaN   \n",
              "2              367                                                NaN   \n",
              "3              481                                                NaN   \n",
              "4              454                                                NaN   \n",
              "...            ...                                                ...   \n",
              "44893          889  North Korea and the US clashed at a U.N. forum...   \n",
              "44894          889  North Korea and the United States clashed at a...   \n",
              "44895          810  North Korea and the US clashed at the United N...   \n",
              "44896          554  Two North Korean shipments to a Syrian governm...   \n",
              "44897          559  NATO allies welcomed President Donald Trump's ...   \n",
              "\n",
              "          flesch label_text predicted_sentiment  \n",
              "0      45.677700       Real            positive  \n",
              "1      62.447143       Real            positive  \n",
              "2      65.023269       Real            positive  \n",
              "3      50.075108       Real            positive  \n",
              "4      45.403077       Real            positive  \n",
              "...          ...        ...                 ...  \n",
              "44893  45.131802       Fake            positive  \n",
              "44894  45.131802       Fake            positive  \n",
              "44895  39.594786       Fake            positive  \n",
              "44896  31.903561       Fake            positive  \n",
              "44897  49.379156       Fake            positive  \n",
              "\n",
              "[44898 rows x 9 columns]"
            ]
          },
          "execution_count": 20,
          "metadata": {},
          "output_type": "execute_result"
        }
      ],
      "source": [
        "df"
      ]
    },
    {
      "cell_type": "code",
      "execution_count": null,
      "id": "b0d3cd83",
      "metadata": {
        "id": "b0d3cd83",
        "outputId": "8285a495-c7c1-461e-8515-4c391b3dac11"
      },
      "outputs": [
        {
          "name": "stdout",
          "output_type": "stream",
          "text": [
            "predicted_sentiment  negative   neutral  positive\n",
            "label                                            \n",
            "0                    0.006163  0.000000  0.993837\n",
            "1                    0.006516  0.000085  0.993399\n"
          ]
        }
      ],
      "source": [
        "import scipy.stats as stats\n",
        "import seaborn as sns\n",
        "import matplotlib.pyplot as plt\n",
        "\n",
        "# Contingency table (cross table)\n",
        "ct = pd.crosstab(df[\"label\"], df[\"predicted_sentiment\"], normalize=\"index\")\n",
        "print(ct)"
      ]
    },
    {
      "cell_type": "code",
      "execution_count": null,
      "id": "4d6a9f23",
      "metadata": {
        "id": "4d6a9f23",
        "outputId": "4d47c914-57e4-4367-dd84-3a7da1854448"
      },
      "outputs": [
        {
          "name": "stdout",
          "output_type": "stream",
          "text": [
            "\n",
            "Chi-squared test p-value: 0.3596\n"
          ]
        },
        {
          "data": {
            "image/png": "[encoded data removed]",
            "text/plain": [
              "<Figure size 640x480 with 2 Axes>"
            ]
          },
          "metadata": {},
          "output_type": "display_data"
        }
      ],
      "source": [
        "# Chi-square test\n",
        "contingency = pd.crosstab(df[\"label\"], df[\"predicted_sentiment\"])\n",
        "chi2, p_value, dof, expected = stats.chi2_contingency(contingency)\n",
        "print(f\"\\nChi-squared test p-value: {p_value:.4f}\")\n",
        "\n",
        "# Display the proportional distribution graph\n",
        "sns.heatmap(ct, annot=True, cmap=\"Blues\", fmt=\".2f\")\n",
        "plt.title(\"Predicted Sentiment Distribution by News Label\")\n",
        "plt.xlabel(\"Predicted Sentiment\")\n",
        "plt.ylabel(\"News Label (0 = Fake, 1 = Real)\")\n",
        "plt.show()"
      ]
    },
    {
      "cell_type": "code",
      "execution_count": null,
      "id": "23ed18c0",
      "metadata": {
        "id": "23ed18c0"
      },
      "outputs": [],
      "source": [
        "from sklearn.preprocessing import OneHotEncoder\n",
        "from scipy.sparse import hstack\n",
        "from sklearn.linear_model import LogisticRegression\n",
        "from sklearn.metrics import classification_report"
      ]
    },
    {
      "cell_type": "code",
      "execution_count": null,
      "id": "bc52bffb",
      "metadata": {
        "id": "bc52bffb"
      },
      "outputs": [],
      "source": [
        "from textstat import flesch_reading_ease, flesch_kincaid_grade\n",
        "df[\"flesch_reading_ease\"] = df[\"text\"].apply(flesch_reading_ease)\n",
        "df[\"flesch_kincaid_grade\"] = df[\"text\"].apply(flesch_kincaid_grade)\n",
        "\n",
        "X_sent_vec = sent_vectorizer.transform(df[\"text\"])\n",
        "sentiment_proba = sentiment_clf.predict_proba(X_sent_vec)\n",
        "\n",
        "df_clean = df.dropna(subset=[\"text\", \"label\", \"flesch_reading_ease\", \"flesch_kincaid_grade\"])\n",
        "y_all = df_clean[\"label\"]"
      ]
    },
    {
      "cell_type": "code",
      "execution_count": null,
      "id": "019b5eee",
      "metadata": {
        "id": "019b5eee",
        "outputId": "9e0c0161-4fc0-4cd6-973f-d5512f217cff"
      },
      "outputs": [
        {
          "name": "stdout",
          "output_type": "stream",
          "text": [
            "              precision    recall  f1-score   support\n",
            "\n",
            "        Fake       0.99      0.99      0.99      4284\n",
            "        Real       0.99      0.99      0.99      4696\n",
            "\n",
            "    accuracy                           0.99      8980\n",
            "   macro avg       0.99      0.99      0.99      8980\n",
            "weighted avg       0.99      0.99      0.99      8980\n",
            "\n"
          ]
        }
      ],
      "source": [
        "# Create features\n",
        "tfidf = TfidfVectorizer(stop_words=\"english\", max_features=10000)\n",
        "X_tfidf = tfidf.fit_transform(df_clean[\"text\"])\n",
        "readability = df_clean[[\"flesch_reading_ease\", \"flesch_kincaid_grade\"]].values\n",
        "sentiment_proba = sentiment_clf.predict_proba(sent_vectorizer.transform(df_clean[\"text\"]))\n",
        "\n",
        "from scipy.sparse import hstack\n",
        "X_all = hstack([X_tfidf, readability, sentiment_proba])\n",
        "y_all = df_clean[\"label\"]\n",
        "\n",
        "# Modeling\n",
        "from sklearn.linear_model import LogisticRegression\n",
        "from sklearn.model_selection import train_test_split\n",
        "from sklearn.metrics import classification_report\n",
        "\n",
        "X_train, X_test, y_train, y_test = train_test_split(X_all, y_all, test_size=0.2, random_state=42, stratify=y_all)\n",
        "\n",
        "clf = LogisticRegression(max_iter=1000)\n",
        "clf.fit(X_train, y_train)\n",
        "y_pred = clf.predict(X_test)\n",
        "\n",
        "# Evaluate\n",
        "print(classification_report(y_test, y_pred, target_names=[\"Fake\", \"Real\"]))\n"
      ]
    },
    {
      "cell_type": "code",
      "execution_count": null,
      "id": "e584ea7b",
      "metadata": {
        "id": "e584ea7b"
      },
      "outputs": [],
      "source": [
        "df_main = df.copy()"
      ]
    },
    {
      "cell_type": "code",
      "execution_count": null,
      "id": "22b47770",
      "metadata": {
        "id": "22b47770",
        "outputId": "94978ddb-b53a-47b8-bf9b-6f9ece4f1636"
      },
      "outputs": [
        {
          "name": "stdout",
          "output_type": "stream",
          "text": [
            "Model comparison:\n",
            "Baseline Accuracy: 0.9883\n",
            "Baseline AUC: 0.9986\n",
            "Full Model Accuracy: 0.9880\n",
            "Full Model AUC: 0.9986\n"
          ]
        }
      ],
      "source": [
        "# Features\n",
        "tfidf = TfidfVectorizer(stop_words=\"english\", max_features=10000)\n",
        "X_tfidf = tfidf.fit_transform(df_clean[\"text\"])\n",
        "readability = df_clean[[\"flesch_reading_ease\", \"flesch_kincaid_grade\"]].values\n",
        "sentiment_proba = sentiment_clf.predict_proba(sent_vectorizer.transform(df_clean[\"text\"]))\n",
        "y_all = df_clean[\"label\"]\n",
        "\n",
        "from scipy.sparse import hstack\n",
        "from sklearn.linear_model import LogisticRegression\n",
        "from sklearn.model_selection import train_test_split\n",
        "from sklearn.metrics import accuracy_score, roc_auc_score\n",
        "\n",
        "# baseline\n",
        "X_basic = hstack([X_tfidf, readability])\n",
        "X_train_b, X_test_b, y_train_b, y_test_b = train_test_split(X_basic, y_all, test_size=0.2, random_state=42, stratify=y_all)\n",
        "clf_basic = LogisticRegression(max_iter=1000)\n",
        "clf_basic.fit(X_train_b, y_train_b)\n",
        "y_pred_b = clf_basic.predict(X_test_b)\n",
        "y_prob_b = clf_basic.predict_proba(X_test_b)[:, 1]\n",
        "\n",
        "# full model\n",
        "X_all = hstack([X_tfidf, readability, sentiment_proba])\n",
        "X_train_f, X_test_f, y_train_f, y_test_f = train_test_split(X_all, y_all, test_size=0.2, random_state=42, stratify=y_all)\n",
        "clf_full = LogisticRegression(max_iter=1000)\n",
        "clf_full.fit(X_train_f, y_train_f)\n",
        "y_pred_f = clf_full.predict(X_test_f)\n",
        "y_prob_f = clf_full.predict_proba(X_test_f)[:, 1]\n",
        "\n",
        "# Comparison results\n",
        "print(\"Model comparison:\")\n",
        "print(f\"Baseline Accuracy: {accuracy_score(y_test_b, y_pred_b):.4f}\")\n",
        "print(f\"Baseline AUC: {roc_auc_score(y_test_b, y_prob_b):.4f}\")\n",
        "print(f\"Full Model Accuracy: {accuracy_score(y_test_f, y_pred_f):.4f}\")\n",
        "print(f\"Full Model AUC: {roc_auc_score(y_test_f, y_prob_f):.4f}\")"
      ]
    },
    {
      "cell_type": "code",
      "execution_count": null,
      "id": "47fcbd0e",
      "metadata": {
        "id": "47fcbd0e",
        "outputId": "664ca3f9-ba94-4d17-a588-513b47612219"
      },
      "outputs": [
        {
          "data": {
            "image/png": "[encoded data removed]",
            "text/plain": [
              "<Figure size 800x600 with 1 Axes>"
            ]
          },
          "metadata": {},
          "output_type": "display_data"
        },
        {
          "name": "stdout",
          "output_type": "stream",
          "text": [
            "Baseline AUC: 0.9986436795047376\n",
            "Full Model AUC: 0.9986190742623\n"
          ]
        }
      ],
      "source": [
        "# Clean Data\n",
        "df_clean = df.dropna(subset=[\"text\", \"label\", \"flesch_reading_ease\", \"flesch_kincaid_grade\"])\n",
        "y_all = df_clean[\"label\"]\n",
        "\n",
        "# Feature Construction\n",
        "tfidf = TfidfVectorizer(stop_words=\"english\", max_features=10000)\n",
        "X_tfidf = tfidf.fit_transform(df_clean[\"text\"])\n",
        "readability = df_clean[[\"flesch_reading_ease\", \"flesch_kincaid_grade\"]].values\n",
        "sentiment_proba_clean = sentiment_clf.predict_proba(sent_vectorizer.transform(df_clean[\"text\"]))\n",
        "\n",
        "X_basic = hstack([X_tfidf, readability])\n",
        "X_all = hstack([X_tfidf, readability, sentiment_proba_clean])\n",
        "\n",
        "# Create Baseline Model\n",
        "X_train_b, X_test_b, y_train_b, y_test_b = train_test_split(X_basic, y_all, test_size=0.2, random_state=42, stratify=y_all)\n",
        "clf_b = LogisticRegression(max_iter=1000)\n",
        "clf_b.fit(X_train_b, y_train_b)\n",
        "y_prob_b = clf_b.predict_proba(X_test_b)[:, 1]\n",
        "\n",
        "# Create a Full model (including emotional probability)\n",
        "X_train_f, X_test_f, y_train_f, y_test_f = train_test_split(X_all, y_all, test_size=0.2, random_state=42, stratify=y_all)\n",
        "clf_f = LogisticRegression(max_iter=1000)\n",
        "clf_f.fit(X_train_f, y_train_f)\n",
        "y_prob_f = clf_f.predict_proba(X_test_f)[:, 1]\n",
        "\n",
        "# Draw ROC curves\n",
        "fpr_b, tpr_b, _ = roc_curve(y_test_b, y_prob_b)\n",
        "fpr_f, tpr_f, _ = roc_curve(y_test_f, y_prob_f)\n",
        "\n",
        "plt.figure(figsize=(8, 6))\n",
        "plt.plot(fpr_b, tpr_b, label=\"Baseline (No Sentiment)\", linestyle=\"--\")\n",
        "plt.plot(fpr_f, tpr_f, label=\"Full Model (With Sentiment)\")\n",
        "plt.plot([0, 1], [0, 1], 'k--', alpha=0.5)\n",
        "plt.title(\"ROC Curve Comparison\")\n",
        "plt.xlabel(\"False Positive Rate\")\n",
        "plt.ylabel(\"True Positive Rate\")\n",
        "plt.legend(loc=\"lower right\")\n",
        "plt.grid(True)\n",
        "plt.show()\n",
        "\n",
        "# Print out additional AUC scores\n",
        "print(\"Baseline AUC:\", roc_auc_score(y_test_b, y_prob_b))\n",
        "print(\"Full Model AUC:\", roc_auc_score(y_test_f, y_prob_f))"
      ]
    },
    {
      "cell_type": "code",
      "execution_count": null,
      "id": "efe2d83c",
      "metadata": {
        "id": "efe2d83c",
        "outputId": "7d0e2190-3d86-4327-bd5a-e718a51a5c94"
      },
      "outputs": [
        {
          "name": "stdout",
          "output_type": "stream",
          "text": [
            "              precision    recall  f1-score   support\n",
            "\n",
            "        Fake       0.01      0.01      0.01     23481\n",
            "        Real       0.01      0.01      0.01     21417\n",
            "\n",
            "    accuracy                           0.01     44898\n",
            "   macro avg       0.01      0.01      0.01     44898\n",
            "weighted avg       0.01      0.01      0.01     44898\n",
            "\n",
            "Accuracy: 0.00955499131364426\n",
            "AUC: 0.0009086015998203893\n"
          ]
        }
      ],
      "source": [
        "# Read and merge test set\n",
        "df_fake = pd.read_csv(\"Fake.csv\")\n",
        "df_real = pd.read_csv(\"True.csv\")\n",
        "df_fake[\"label\"] = 0\n",
        "df_real[\"label\"] = 1\n",
        "df_test = pd.concat([df_fake, df_real], ignore_index=True)\n",
        "df_test = df_test.dropna(subset=[\"text\", \"label\"]).copy()\n",
        "\n",
        "# Create test set features\n",
        "df_test[\"flesch_reading_ease\"] = df_test[\"text\"].apply(flesch_reading_ease)\n",
        "df_test[\"flesch_kincaid_grade\"] = df_test[\"text\"].apply(flesch_kincaid_grade)\n",
        "X_test_tfidf = tfidf.transform(df_test[\"text\"])\n",
        "X_test_read = df_test[[\"flesch_reading_ease\", \"flesch_kincaid_grade\"]].values\n",
        "X_test_sent = sent_vectorizer.transform(df_test[\"text\"])\n",
        "X_test_sent_proba = sentiment_clf.predict_proba(X_test_sent)\n",
        "X_test_final = hstack([X_test_tfidf, X_test_read, X_test_sent_proba])\n",
        "y_test_final = df_test[\"label\"]\n",
        "\n",
        "# Model prediction and evaluation\n",
        "y_pred = clf_full.predict(X_test_final)\n",
        "y_prob = clf_full.predict_proba(X_test_final)[:, 1]\n",
        "print(classification_report(y_test_final, y_pred, target_names=[\"Fake\", \"Real\"]))\n",
        "print(\"Accuracy:\", accuracy_score(y_test_final, y_pred))\n",
        "print(\"AUC:\", roc_auc_score(y_test_final, y_prob))"
      ]
    },
    {
      "cell_type": "code",
      "execution_count": null,
      "id": "6c06cd38",
      "metadata": {
        "id": "6c06cd38"
      },
      "outputs": [],
      "source": []
    },
    {
      "cell_type": "code",
      "execution_count": null,
      "id": "3ea86606",
      "metadata": {
        "id": "3ea86606"
      },
      "outputs": [],
      "source": []
    }
  ],
  "metadata": {
    "kernelspec": {
      "display_name": "Python 3 (ipykernel)",
      "language": "python",
      "name": "python3"
    },
    "language_info": {
      "codemirror_mode": {
        "name": "ipython",
        "version": 3
      },
      "file_extension": ".py",
      "mimetype": "text/x-python",
      "name": "python",
      "nbconvert_exporter": "python",
      "pygments_lexer": "ipython3",
      "version": "3.11.4"
    },
    "colab": {
      "provenance": []
    }
  },
  "nbformat": 4,
  "nbformat_minor": 5
}