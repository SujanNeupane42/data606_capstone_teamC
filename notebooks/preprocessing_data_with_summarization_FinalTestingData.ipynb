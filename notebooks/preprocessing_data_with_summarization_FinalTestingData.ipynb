{
 "cells": [
  {
   "cell_type": "code",
   "execution_count": 1,
   "id": "4e918470",
   "metadata": {},
   "outputs": [],
   "source": [
    "import os\n",
    "import pandas as pd\n",
    "import numpy as np\n",
    "\n",
    "import warnings\n",
    "warnings.filterwarnings(\"ignore\")"
   ]
  },
  {
   "cell_type": "code",
   "execution_count": 2,
   "id": "7c1ff1fc",
   "metadata": {},
   "outputs": [
    {
     "name": "stdout",
     "output_type": "stream",
     "text": [
      "GPU is available!\n",
      "Using device: NVIDIA GeForce GTX 1650 Ti\n"
     ]
    }
   ],
   "source": [
    "import torch\n",
    "\n",
    "if torch.cuda.is_available():\n",
    "    print(\"GPU is available!\")\n",
    "    print(f\"Using device: {torch.cuda.get_device_name(0)}\")\n",
    "else:\n",
    "    print(\"No GPU. Using CPU.\")"
   ]
  },
  {
   "cell_type": "markdown",
   "id": "0f045ca1",
   "metadata": {},
   "source": [
    "# 1. Loading the Data"
   ]
  },
  {
   "cell_type": "code",
   "execution_count": 2,
   "id": "8d2b2232",
   "metadata": {},
   "outputs": [],
   "source": [
    "fake_news = pd.read_csv(r\"C:\\Users\\neupa\\OneDrive\\Desktop\\data606_capstone_teamC\\Data\\fake_news_1\\News _dataset\\Fake.csv\")\n",
    "real_news = pd.read_csv(r\"C:\\Users\\neupa\\OneDrive\\Desktop\\data606_capstone_teamC\\Data\\fake_news_1\\News _dataset\\True.csv\")"
   ]
  },
  {
   "cell_type": "code",
   "execution_count": 3,
   "id": "14a9bf01",
   "metadata": {},
   "outputs": [
    {
     "data": {
      "text/html": [
       "<div>\n",
       "<style scoped>\n",
       "    .dataframe tbody tr th:only-of-type {\n",
       "        vertical-align: middle;\n",
       "    }\n",
       "\n",
       "    .dataframe tbody tr th {\n",
       "        vertical-align: top;\n",
       "    }\n",
       "\n",
       "    .dataframe thead th {\n",
       "        text-align: right;\n",
       "    }\n",
       "</style>\n",
       "<table border=\"1\" class=\"dataframe\">\n",
       "  <thead>\n",
       "    <tr style=\"text-align: right;\">\n",
       "      <th></th>\n",
       "      <th>title</th>\n",
       "      <th>text</th>\n",
       "      <th>subject</th>\n",
       "      <th>date</th>\n",
       "    </tr>\n",
       "  </thead>\n",
       "  <tbody>\n",
       "    <tr>\n",
       "      <th>0</th>\n",
       "      <td>Donald Trump Sends Out Embarrassing New Year’...</td>\n",
       "      <td>Donald Trump just couldn t wish all Americans ...</td>\n",
       "      <td>News</td>\n",
       "      <td>December 31, 2017</td>\n",
       "    </tr>\n",
       "    <tr>\n",
       "      <th>1</th>\n",
       "      <td>Drunk Bragging Trump Staffer Started Russian ...</td>\n",
       "      <td>House Intelligence Committee Chairman Devin Nu...</td>\n",
       "      <td>News</td>\n",
       "      <td>December 31, 2017</td>\n",
       "    </tr>\n",
       "    <tr>\n",
       "      <th>2</th>\n",
       "      <td>Sheriff David Clarke Becomes An Internet Joke...</td>\n",
       "      <td>On Friday, it was revealed that former Milwauk...</td>\n",
       "      <td>News</td>\n",
       "      <td>December 30, 2017</td>\n",
       "    </tr>\n",
       "    <tr>\n",
       "      <th>3</th>\n",
       "      <td>Trump Is So Obsessed He Even Has Obama’s Name...</td>\n",
       "      <td>On Christmas day, Donald Trump announced that ...</td>\n",
       "      <td>News</td>\n",
       "      <td>December 29, 2017</td>\n",
       "    </tr>\n",
       "    <tr>\n",
       "      <th>4</th>\n",
       "      <td>Pope Francis Just Called Out Donald Trump Dur...</td>\n",
       "      <td>Pope Francis used his annual Christmas Day mes...</td>\n",
       "      <td>News</td>\n",
       "      <td>December 25, 2017</td>\n",
       "    </tr>\n",
       "  </tbody>\n",
       "</table>\n",
       "</div>"
      ],
      "text/plain": [
       "                                               title  \\\n",
       "0   Donald Trump Sends Out Embarrassing New Year’...   \n",
       "1   Drunk Bragging Trump Staffer Started Russian ...   \n",
       "2   Sheriff David Clarke Becomes An Internet Joke...   \n",
       "3   Trump Is So Obsessed He Even Has Obama’s Name...   \n",
       "4   Pope Francis Just Called Out Donald Trump Dur...   \n",
       "\n",
       "                                                text subject  \\\n",
       "0  Donald Trump just couldn t wish all Americans ...    News   \n",
       "1  House Intelligence Committee Chairman Devin Nu...    News   \n",
       "2  On Friday, it was revealed that former Milwauk...    News   \n",
       "3  On Christmas day, Donald Trump announced that ...    News   \n",
       "4  Pope Francis used his annual Christmas Day mes...    News   \n",
       "\n",
       "                date  \n",
       "0  December 31, 2017  \n",
       "1  December 31, 2017  \n",
       "2  December 30, 2017  \n",
       "3  December 29, 2017  \n",
       "4  December 25, 2017  "
      ]
     },
     "execution_count": 3,
     "metadata": {},
     "output_type": "execute_result"
    }
   ],
   "source": [
    "fake_news.head()"
   ]
  },
  {
   "cell_type": "code",
   "execution_count": 5,
   "id": "b4ad2c40",
   "metadata": {},
   "outputs": [
    {
     "data": {
      "text/plain": [
       "'Donald Trump just couldn t wish all Americans a Happy New Year and leave it at that. Instead, he had to give a shout out to his enemies, haters and  the very dishonest fake news media.  The former reality show star had just one job to do and he couldn t do it. As our Country rapidly grows stronger and smarter, I want to wish all of my friends, supporters, enemies, haters, and even the very dishonest Fake News Media, a Happy and Healthy New Year,  President Angry Pants tweeted.  2018 will be a great year for America! As our Country rapidly grows stronger and smarter, I want to wish all of my friends, supporters, enemies, haters, and even the very dishonest Fake News Media, a Happy and Healthy New Year. 2018 will be a great year for America!  Donald J. Trump (@realDonaldTrump) December 31, 2017Trump s tweet went down about as welll as you d expect.What kind of president sends a New Year s greeting like this despicable, petty, infantile gibberish? Only Trump! His lack of decency won t even allow him to rise above the gutter long enough to wish the American citizens a happy new year!  Bishop Talbert Swan (@TalbertSwan) December 31, 2017no one likes you  Calvin (@calvinstowell) December 31, 2017Your impeachment would make 2018 a great year for America, but I ll also accept regaining control of Congress.  Miranda Yaver (@mirandayaver) December 31, 2017Do you hear yourself talk? When you have to include that many people that hate you you have to wonder? Why do the they all hate me?  Alan Sandoval (@AlanSandoval13) December 31, 2017Who uses the word Haters in a New Years wish??  Marlene (@marlene399) December 31, 2017You can t just say happy new year?  Koren pollitt (@Korencarpenter) December 31, 2017Here s Trump s New Year s Eve tweet from 2016.Happy New Year to all, including to my many enemies and those who have fought me and lost so badly they just don t know what to do. Love!  Donald J. Trump (@realDonaldTrump) December 31, 2016This is nothing new for Trump. He s been doing this for years.Trump has directed messages to his  enemies  and  haters  for New Year s, Easter, Thanksgiving, and the anniversary of 9/11. pic.twitter.com/4FPAe2KypA  Daniel Dale (@ddale8) December 31, 2017Trump s holiday tweets are clearly not presidential.How long did he work at Hallmark before becoming President?  Steven Goodine (@SGoodine) December 31, 2017He s always been like this . . . the only difference is that in the last few years, his filter has been breaking down.  Roy Schulze (@thbthttt) December 31, 2017Who, apart from a teenager uses the term haters?  Wendy (@WendyWhistles) December 31, 2017he s a fucking 5 year old  Who Knows (@rainyday80) December 31, 2017So, to all the people who voted for this a hole thinking he would change once he got into power, you were wrong! 70-year-old men don t change and now he s a year older.Photo by Andrew Burton/Getty Images.'"
      ]
     },
     "execution_count": 5,
     "metadata": {},
     "output_type": "execute_result"
    }
   ],
   "source": [
    "fake_news.iloc[0][\"text\"]"
   ]
  },
  {
   "cell_type": "code",
   "execution_count": 5,
   "id": "5a640551",
   "metadata": {},
   "outputs": [
    {
     "data": {
      "text/html": [
       "<div>\n",
       "<style scoped>\n",
       "    .dataframe tbody tr th:only-of-type {\n",
       "        vertical-align: middle;\n",
       "    }\n",
       "\n",
       "    .dataframe tbody tr th {\n",
       "        vertical-align: top;\n",
       "    }\n",
       "\n",
       "    .dataframe thead th {\n",
       "        text-align: right;\n",
       "    }\n",
       "</style>\n",
       "<table border=\"1\" class=\"dataframe\">\n",
       "  <thead>\n",
       "    <tr style=\"text-align: right;\">\n",
       "      <th></th>\n",
       "      <th>title</th>\n",
       "      <th>text</th>\n",
       "      <th>subject</th>\n",
       "      <th>date</th>\n",
       "    </tr>\n",
       "  </thead>\n",
       "  <tbody>\n",
       "    <tr>\n",
       "      <th>0</th>\n",
       "      <td>As U.S. budget fight looms, Republicans flip t...</td>\n",
       "      <td>WASHINGTON (Reuters) - The head of a conservat...</td>\n",
       "      <td>politicsNews</td>\n",
       "      <td>December 31, 2017</td>\n",
       "    </tr>\n",
       "    <tr>\n",
       "      <th>1</th>\n",
       "      <td>U.S. military to accept transgender recruits o...</td>\n",
       "      <td>WASHINGTON (Reuters) - Transgender people will...</td>\n",
       "      <td>politicsNews</td>\n",
       "      <td>December 29, 2017</td>\n",
       "    </tr>\n",
       "    <tr>\n",
       "      <th>2</th>\n",
       "      <td>Senior U.S. Republican senator: 'Let Mr. Muell...</td>\n",
       "      <td>WASHINGTON (Reuters) - The special counsel inv...</td>\n",
       "      <td>politicsNews</td>\n",
       "      <td>December 31, 2017</td>\n",
       "    </tr>\n",
       "    <tr>\n",
       "      <th>3</th>\n",
       "      <td>FBI Russia probe helped by Australian diplomat...</td>\n",
       "      <td>WASHINGTON (Reuters) - Trump campaign adviser ...</td>\n",
       "      <td>politicsNews</td>\n",
       "      <td>December 30, 2017</td>\n",
       "    </tr>\n",
       "    <tr>\n",
       "      <th>4</th>\n",
       "      <td>Trump wants Postal Service to charge 'much mor...</td>\n",
       "      <td>SEATTLE/WASHINGTON (Reuters) - President Donal...</td>\n",
       "      <td>politicsNews</td>\n",
       "      <td>December 29, 2017</td>\n",
       "    </tr>\n",
       "  </tbody>\n",
       "</table>\n",
       "</div>"
      ],
      "text/plain": [
       "                                               title  \\\n",
       "0  As U.S. budget fight looms, Republicans flip t...   \n",
       "1  U.S. military to accept transgender recruits o...   \n",
       "2  Senior U.S. Republican senator: 'Let Mr. Muell...   \n",
       "3  FBI Russia probe helped by Australian diplomat...   \n",
       "4  Trump wants Postal Service to charge 'much mor...   \n",
       "\n",
       "                                                text       subject  \\\n",
       "0  WASHINGTON (Reuters) - The head of a conservat...  politicsNews   \n",
       "1  WASHINGTON (Reuters) - Transgender people will...  politicsNews   \n",
       "2  WASHINGTON (Reuters) - The special counsel inv...  politicsNews   \n",
       "3  WASHINGTON (Reuters) - Trump campaign adviser ...  politicsNews   \n",
       "4  SEATTLE/WASHINGTON (Reuters) - President Donal...  politicsNews   \n",
       "\n",
       "                 date  \n",
       "0  December 31, 2017   \n",
       "1  December 29, 2017   \n",
       "2  December 31, 2017   \n",
       "3  December 30, 2017   \n",
       "4  December 29, 2017   "
      ]
     },
     "execution_count": 5,
     "metadata": {},
     "output_type": "execute_result"
    }
   ],
   "source": [
    "real_news.head()"
   ]
  },
  {
   "cell_type": "code",
   "execution_count": 6,
   "id": "ef83a279",
   "metadata": {},
   "outputs": [],
   "source": [
    "fake_news['label'] = 1\n",
    "real_news['label'] = 0\n",
    "\n",
    "df = pd.concat([fake_news, real_news], ignore_index=True)\n",
    "del fake_news, real_news"
   ]
  },
  {
   "cell_type": "code",
   "execution_count": 7,
   "id": "d4c8e339",
   "metadata": {},
   "outputs": [],
   "source": [
    "df.reset_index(drop=True, inplace=True)"
   ]
  },
  {
   "cell_type": "code",
   "execution_count": 8,
   "id": "b91d6753",
   "metadata": {},
   "outputs": [
    {
     "data": {
      "text/html": [
       "<div>\n",
       "<style scoped>\n",
       "    .dataframe tbody tr th:only-of-type {\n",
       "        vertical-align: middle;\n",
       "    }\n",
       "\n",
       "    .dataframe tbody tr th {\n",
       "        vertical-align: top;\n",
       "    }\n",
       "\n",
       "    .dataframe thead th {\n",
       "        text-align: right;\n",
       "    }\n",
       "</style>\n",
       "<table border=\"1\" class=\"dataframe\">\n",
       "  <thead>\n",
       "    <tr style=\"text-align: right;\">\n",
       "      <th></th>\n",
       "      <th>title</th>\n",
       "      <th>text</th>\n",
       "      <th>subject</th>\n",
       "      <th>date</th>\n",
       "      <th>label</th>\n",
       "    </tr>\n",
       "  </thead>\n",
       "  <tbody>\n",
       "    <tr>\n",
       "      <th>0</th>\n",
       "      <td>Donald Trump Sends Out Embarrassing New Year’...</td>\n",
       "      <td>Donald Trump just couldn t wish all Americans ...</td>\n",
       "      <td>News</td>\n",
       "      <td>December 31, 2017</td>\n",
       "      <td>1</td>\n",
       "    </tr>\n",
       "    <tr>\n",
       "      <th>1</th>\n",
       "      <td>Drunk Bragging Trump Staffer Started Russian ...</td>\n",
       "      <td>House Intelligence Committee Chairman Devin Nu...</td>\n",
       "      <td>News</td>\n",
       "      <td>December 31, 2017</td>\n",
       "      <td>1</td>\n",
       "    </tr>\n",
       "    <tr>\n",
       "      <th>2</th>\n",
       "      <td>Sheriff David Clarke Becomes An Internet Joke...</td>\n",
       "      <td>On Friday, it was revealed that former Milwauk...</td>\n",
       "      <td>News</td>\n",
       "      <td>December 30, 2017</td>\n",
       "      <td>1</td>\n",
       "    </tr>\n",
       "    <tr>\n",
       "      <th>3</th>\n",
       "      <td>Trump Is So Obsessed He Even Has Obama’s Name...</td>\n",
       "      <td>On Christmas day, Donald Trump announced that ...</td>\n",
       "      <td>News</td>\n",
       "      <td>December 29, 2017</td>\n",
       "      <td>1</td>\n",
       "    </tr>\n",
       "    <tr>\n",
       "      <th>4</th>\n",
       "      <td>Pope Francis Just Called Out Donald Trump Dur...</td>\n",
       "      <td>Pope Francis used his annual Christmas Day mes...</td>\n",
       "      <td>News</td>\n",
       "      <td>December 25, 2017</td>\n",
       "      <td>1</td>\n",
       "    </tr>\n",
       "    <tr>\n",
       "      <th>...</th>\n",
       "      <td>...</td>\n",
       "      <td>...</td>\n",
       "      <td>...</td>\n",
       "      <td>...</td>\n",
       "      <td>...</td>\n",
       "    </tr>\n",
       "    <tr>\n",
       "      <th>44893</th>\n",
       "      <td>'Fully committed' NATO backs new U.S. approach...</td>\n",
       "      <td>BRUSSELS (Reuters) - NATO allies on Tuesday we...</td>\n",
       "      <td>worldnews</td>\n",
       "      <td>August 22, 2017</td>\n",
       "      <td>0</td>\n",
       "    </tr>\n",
       "    <tr>\n",
       "      <th>44894</th>\n",
       "      <td>LexisNexis withdrew two products from Chinese ...</td>\n",
       "      <td>LONDON (Reuters) - LexisNexis, a provider of l...</td>\n",
       "      <td>worldnews</td>\n",
       "      <td>August 22, 2017</td>\n",
       "      <td>0</td>\n",
       "    </tr>\n",
       "    <tr>\n",
       "      <th>44895</th>\n",
       "      <td>Minsk cultural hub becomes haven from authorities</td>\n",
       "      <td>MINSK (Reuters) - In the shadow of disused Sov...</td>\n",
       "      <td>worldnews</td>\n",
       "      <td>August 22, 2017</td>\n",
       "      <td>0</td>\n",
       "    </tr>\n",
       "    <tr>\n",
       "      <th>44896</th>\n",
       "      <td>Vatican upbeat on possibility of Pope Francis ...</td>\n",
       "      <td>MOSCOW (Reuters) - Vatican Secretary of State ...</td>\n",
       "      <td>worldnews</td>\n",
       "      <td>August 22, 2017</td>\n",
       "      <td>0</td>\n",
       "    </tr>\n",
       "    <tr>\n",
       "      <th>44897</th>\n",
       "      <td>Indonesia to buy $1.14 billion worth of Russia...</td>\n",
       "      <td>JAKARTA (Reuters) - Indonesia will buy 11 Sukh...</td>\n",
       "      <td>worldnews</td>\n",
       "      <td>August 22, 2017</td>\n",
       "      <td>0</td>\n",
       "    </tr>\n",
       "  </tbody>\n",
       "</table>\n",
       "<p>44898 rows × 5 columns</p>\n",
       "</div>"
      ],
      "text/plain": [
       "                                                   title  \\\n",
       "0       Donald Trump Sends Out Embarrassing New Year’...   \n",
       "1       Drunk Bragging Trump Staffer Started Russian ...   \n",
       "2       Sheriff David Clarke Becomes An Internet Joke...   \n",
       "3       Trump Is So Obsessed He Even Has Obama’s Name...   \n",
       "4       Pope Francis Just Called Out Donald Trump Dur...   \n",
       "...                                                  ...   \n",
       "44893  'Fully committed' NATO backs new U.S. approach...   \n",
       "44894  LexisNexis withdrew two products from Chinese ...   \n",
       "44895  Minsk cultural hub becomes haven from authorities   \n",
       "44896  Vatican upbeat on possibility of Pope Francis ...   \n",
       "44897  Indonesia to buy $1.14 billion worth of Russia...   \n",
       "\n",
       "                                                    text    subject  \\\n",
       "0      Donald Trump just couldn t wish all Americans ...       News   \n",
       "1      House Intelligence Committee Chairman Devin Nu...       News   \n",
       "2      On Friday, it was revealed that former Milwauk...       News   \n",
       "3      On Christmas day, Donald Trump announced that ...       News   \n",
       "4      Pope Francis used his annual Christmas Day mes...       News   \n",
       "...                                                  ...        ...   \n",
       "44893  BRUSSELS (Reuters) - NATO allies on Tuesday we...  worldnews   \n",
       "44894  LONDON (Reuters) - LexisNexis, a provider of l...  worldnews   \n",
       "44895  MINSK (Reuters) - In the shadow of disused Sov...  worldnews   \n",
       "44896  MOSCOW (Reuters) - Vatican Secretary of State ...  worldnews   \n",
       "44897  JAKARTA (Reuters) - Indonesia will buy 11 Sukh...  worldnews   \n",
       "\n",
       "                    date  label  \n",
       "0      December 31, 2017      1  \n",
       "1      December 31, 2017      1  \n",
       "2      December 30, 2017      1  \n",
       "3      December 29, 2017      1  \n",
       "4      December 25, 2017      1  \n",
       "...                  ...    ...  \n",
       "44893   August 22, 2017       0  \n",
       "44894   August 22, 2017       0  \n",
       "44895   August 22, 2017       0  \n",
       "44896   August 22, 2017       0  \n",
       "44897   August 22, 2017       0  \n",
       "\n",
       "[44898 rows x 5 columns]"
      ]
     },
     "execution_count": 8,
     "metadata": {},
     "output_type": "execute_result"
    }
   ],
   "source": [
    "df"
   ]
  },
  {
   "cell_type": "markdown",
   "id": "59e185a9",
   "metadata": {},
   "source": [
    "# 2. Tokenization\n",
    "\n",
    "We use the [sentence-transformers/all-MiniLM-L6-v2](https://huggingface.co/sentence-transformers/all-MiniLM-L6-v2) embedding model from huggingface. \n",
    "\n",
    "This embedding model is relatively lightweight, one of the most popular ones, and converts an input text (max 512 tokens) into a 384 dimensional dense vector embedding. \n",
    "\n",
    "\n",
    "The produced embedding can be used for checking sentence similarity, clustering, information retrieval, or text classification by passing in the embeddings as input features."
   ]
  },
  {
   "cell_type": "code",
   "execution_count": 13,
   "id": "467bdc5c",
   "metadata": {},
   "outputs": [],
   "source": [
    "from sentence_transformers import SentenceTransformer\n",
    "from transformers import AutoTokenizer, AutoModel\n",
    "from tqdm import tqdm"
   ]
  },
  {
   "cell_type": "code",
   "execution_count": 10,
   "id": "178885b0",
   "metadata": {},
   "outputs": [],
   "source": [
    "tokenizer = AutoTokenizer.from_pretrained('sentence-transformers/all-MiniLM-L6-v2')"
   ]
  },
  {
   "cell_type": "code",
   "execution_count": 11,
   "id": "cbced684",
   "metadata": {},
   "outputs": [
    {
     "data": {
      "text/plain": [
       "title      0\n",
       "text       0\n",
       "subject    0\n",
       "date       0\n",
       "label      0\n",
       "dtype: int64"
      ]
     },
     "execution_count": 11,
     "metadata": {},
     "output_type": "execute_result"
    }
   ],
   "source": [
    "df.isnull().sum()   "
   ]
  },
  {
   "cell_type": "code",
   "execution_count": 12,
   "id": "66f6821c",
   "metadata": {},
   "outputs": [],
   "source": [
    "all_title = df[\"title\"].fillna(\"\").values\n",
    "all_text = df[\"text\"].fillna(\"\").values"
   ]
  },
  {
   "cell_type": "code",
   "execution_count": 14,
   "id": "1d443e25",
   "metadata": {},
   "outputs": [
    {
     "name": "stderr",
     "output_type": "stream",
     "text": [
      "100%|██████████| 44898/44898 [00:08<00:00, 5291.99it/s]\n"
     ]
    }
   ],
   "source": [
    "total_title_tokens = []\n",
    "\n",
    "for current_title in tqdm(all_title):\n",
    "    encoded = tokenizer.encode(current_title, return_tensors='pt')\n",
    "    total_title_tokens.append(len(encoded[0]))"
   ]
  },
  {
   "cell_type": "code",
   "execution_count": 15,
   "id": "ac146a00",
   "metadata": {},
   "outputs": [
    {
     "data": {
      "text/plain": [
       "63"
      ]
     },
     "execution_count": 15,
     "metadata": {},
     "output_type": "execute_result"
    }
   ],
   "source": [
    "max(total_title_tokens)"
   ]
  },
  {
   "cell_type": "markdown",
   "id": "dea7038c",
   "metadata": {},
   "source": [
    "This is good. So, title is within the 512 input token limit for our embedding model. Lets check for text."
   ]
  },
  {
   "cell_type": "code",
   "execution_count": 16,
   "id": "4314c236",
   "metadata": {},
   "outputs": [
    {
     "name": "stderr",
     "output_type": "stream",
     "text": [
      "  0%|          | 0/44898 [00:00<?, ?it/s]Token indices sequence length is longer than the specified maximum sequence length for this model (730 > 512). Running this sequence through the model will result in indexing errors\n",
      "100%|██████████| 44898/44898 [01:25<00:00, 522.57it/s] \n"
     ]
    }
   ],
   "source": [
    "total_text_tokens = []\n",
    "\n",
    "for current_text in tqdm(all_text):\n",
    "    encoded = tokenizer.encode(current_text, return_tensors='pt')\n",
    "    total_text_tokens.append(len(encoded[0]))"
   ]
  },
  {
   "cell_type": "code",
   "execution_count": 17,
   "id": "dfc487c7",
   "metadata": {},
   "outputs": [
    {
     "data": {
      "text/plain": [
       "14285"
      ]
     },
     "execution_count": 17,
     "metadata": {},
     "output_type": "execute_result"
    }
   ],
   "source": [
    "max(total_text_tokens)"
   ]
  },
  {
   "cell_type": "code",
   "execution_count": 25,
   "id": "857e3c10",
   "metadata": {},
   "outputs": [],
   "source": [
    "largest = sorted(set(total_text_tokens), reverse=True)"
   ]
  },
  {
   "cell_type": "code",
   "execution_count": 26,
   "id": "f22c423f",
   "metadata": {},
   "outputs": [
    {
     "data": {
      "text/plain": [
       "(14285, 10292, 9746)"
      ]
     },
     "execution_count": 26,
     "metadata": {},
     "output_type": "execute_result"
    }
   ],
   "source": [
    "largest[0], largest[1], largest[2]"
   ]
  },
  {
   "cell_type": "code",
   "execution_count": 27,
   "id": "37970280",
   "metadata": {},
   "outputs": [],
   "source": [
    "total_text_token_np = np.array(total_text_tokens)"
   ]
  },
  {
   "cell_type": "code",
   "execution_count": 28,
   "id": "9512df48",
   "metadata": {},
   "outputs": [
    {
     "data": {
      "text/plain": [
       "(17854,)"
      ]
     },
     "execution_count": 28,
     "metadata": {},
     "output_type": "execute_result"
    }
   ],
   "source": [
    "total_text_token_np[total_text_token_np > 512].shape"
   ]
  },
  {
   "cell_type": "markdown",
   "id": "4a8b4a72",
   "metadata": {},
   "source": [
    "Not good! Looks like we need to summarize this again."
   ]
  },
  {
   "cell_type": "code",
   "execution_count": 29,
   "id": "dfdbade2",
   "metadata": {},
   "outputs": [
    {
     "name": "stderr",
     "output_type": "stream",
     "text": [
      "44898it [00:00, 1446914.03it/s]\n"
     ]
    }
   ],
   "source": [
    "available_tokens_for_text_summarization = []\n",
    "summarize_text = []\n",
    "\n",
    "for text_token_count, title_token_count in tqdm(zip(total_text_tokens, total_title_tokens)):\n",
    "    if text_token_count + title_token_count <= 512:\n",
    "        perform_summarization = False\n",
    "    else:\n",
    "        perform_summarization = True\n",
    "\n",
    "\n",
    "    available_tokens_for_text = 512 - title_token_count\n",
    "    available_tokens_for_text_summarization.append(available_tokens_for_text)\n",
    "    summarize_text.append(perform_summarization)"
   ]
  },
  {
   "cell_type": "code",
   "execution_count": 30,
   "id": "c2cdcf13",
   "metadata": {},
   "outputs": [],
   "source": [
    "true_indices = [idx for idx, val in enumerate(summarize_text) if val]\n",
    "all_text_true = [all_text[idx] for idx in true_indices]\n",
    "max_tokens = [available_tokens_for_text_summarization[idx] for idx in true_indices]"
   ]
  },
  {
   "cell_type": "markdown",
   "id": "f90f476e",
   "metadata": {},
   "source": [
    "Now we have all the big texts, and max tokens available to summarize them. Lets do that using Groq.\n",
    "\n",
    "I will use llama-3.1-8b-instant from Groq to do the summarization"
   ]
  },
  {
   "cell_type": "code",
   "execution_count": 42,
   "id": "ceee8984",
   "metadata": {},
   "outputs": [],
   "source": [
    "def return_prompt(\n",
    "    title: str,\n",
    "    text: str,\n",
    "    title_token_count: int,\n",
    "    text_token_count: int,\n",
    "    available_tokens_for_summarization: int,\n",
    "    max_tokens: int = 512\n",
    "):\n",
    "    \"\"\"\n",
    "    Generates a prompt to summarize or rewrite the input news text to fit within\n",
    "    the token limit of an embedding model, preserving key information.\n",
    "    \"\"\"\n",
    "    prompt = f\"\"\"Input details:\n",
    "    \n",
    "    Title: {title}\\n\n",
    "    Title Token Count: {title_token_count}\\n\n",
    "    Original Text: {text}\\n\n",
    "    Original Text Token Count: {text_token_count}\\n\n",
    "    Max Allowed Total Tokens (Title + Text): {max_tokens}\\n\n",
    "    Available Tokens for Text Summary: {available_tokens_for_summarization}\\n\n",
    "    \n",
    "    Now rewrite the article text only (not the title) within the available token budget. Your output should be clean, self-contained, and informative. \n",
    "    Do not add any information that is not present in the original news text or do not censor the text.\n",
    "    Your output must be exactly text summary and nothing else. You are also not allowed to water-down or censor the text as the text may contain sensitive information related \n",
    "    to politics, race or religion. Your job is to just summarize the text and not censor/water-down the text in any way shape or form.\n",
    "    The summary should be concise, informative, and maintain the original meaning.\n",
    "    \"\"\"\n",
    "    return prompt\n"
   ]
  },
  {
   "cell_type": "code",
   "execution_count": 43,
   "id": "eacb9482",
   "metadata": {},
   "outputs": [],
   "source": [
    "labels = df['label'].values"
   ]
  },
  {
   "cell_type": "code",
   "execution_count": 44,
   "id": "a9ebfe0d",
   "metadata": {},
   "outputs": [],
   "source": [
    "''' \n",
    "This loop is used to find the first text that requires summarization.\n",
    "It will break once it finds a text that needs summarization.\n",
    "'''\n",
    "for i in range(len(summarize_text)):\n",
    "    if summarize_text[i]:\n",
    "        current_available_tokens = available_tokens_for_text_summarization[i]\n",
    "        current_title = all_title[i]\n",
    "        current_text = all_text[i]\n",
    "        current_title_token_count = total_title_tokens[i]\n",
    "        current_text_token_count = total_text_tokens[i]\n",
    "        prompt = return_prompt(\n",
    "            current_title,\n",
    "            current_text,\n",
    "            current_title_token_count,\n",
    "            current_text_token_count,\n",
    "            current_available_tokens,\n",
    "        )\n",
    "        \n",
    "        break"
   ]
  },
  {
   "cell_type": "code",
   "execution_count": 45,
   "id": "0571debe",
   "metadata": {},
   "outputs": [
    {
     "name": "stdout",
     "output_type": "stream",
     "text": [
      "1\n"
     ]
    }
   ],
   "source": [
    "print(labels[i])"
   ]
  },
  {
   "cell_type": "code",
   "execution_count": 46,
   "id": "0a9483b0",
   "metadata": {},
   "outputs": [],
   "source": [
    "prompts = []\n",
    "maximum_allocated_tokens = []\n",
    "\n",
    "for i in range(0, len(all_text)):\n",
    "    if summarize_text[i]:\n",
    "        current_available_tokens = available_tokens_for_text_summarization[i]\n",
    "        current_title = all_title[i]\n",
    "        current_text = all_text[i]\n",
    "        current_title_token_count = total_title_tokens[i]\n",
    "        current_text_token_count = total_text_tokens[i]\n",
    "        prompts.append(\n",
    "                return_prompt(\n",
    "                current_title,\n",
    "                current_text,\n",
    "                current_title_token_count,\n",
    "                current_text_token_count,\n",
    "                current_available_tokens,\n",
    "            )\n",
    "        )\n",
    "        maximum_allocated_tokens.append(current_available_tokens)"
   ]
  },
  {
   "cell_type": "code",
   "execution_count": 47,
   "id": "5db05896",
   "metadata": {},
   "outputs": [
    {
     "data": {
      "text/plain": [
       "44898"
      ]
     },
     "execution_count": 47,
     "metadata": {},
     "output_type": "execute_result"
    }
   ],
   "source": [
    "len(summarize_text)"
   ]
  },
  {
   "cell_type": "code",
   "execution_count": 48,
   "id": "c5c2bdc7",
   "metadata": {},
   "outputs": [
    {
     "name": "stdout",
     "output_type": "stream",
     "text": [
      "Input details:\n",
      "\n",
      "    Title:  Donald Trump Sends Out Embarrassing New Year’s Eve Message; This is Disturbing\n",
      "\n",
      "    Title Token Count: 17\n",
      "\n",
      "    Original Text: Donald Trump just couldn t wish all Americans a Happy New Year and leave it at that. Instead, he had to give a shout out to his enemies, haters and  the very dishonest fake news media.  The former reality show star had just one job to do and he couldn t do it. As our Country rapidly grows stronger and smarter, I want to wish all of my friends, supporters, enemies, haters, and even the very dishonest Fake News Media, a Happy and Healthy New Year,  President Angry Pants tweeted.  2018 will be a great year for America! As our Country rapidly grows stronger and smarter, I want to wish all of my friends, supporters, enemies, haters, and even the very dishonest Fake News Media, a Happy and Healthy New Year. 2018 will be a great year for America!  Donald J. Trump (@realDonaldTrump) December 31, 2017Trump s tweet went down about as welll as you d expect.What kind of president sends a New Year s greeting like this despicable, petty, infantile gibberish? Only Trump! His lack of decency won t even allow him to rise above the gutter long enough to wish the American citizens a happy new year!  Bishop Talbert Swan (@TalbertSwan) December 31, 2017no one likes you  Calvin (@calvinstowell) December 31, 2017Your impeachment would make 2018 a great year for America, but I ll also accept regaining control of Congress.  Miranda Yaver (@mirandayaver) December 31, 2017Do you hear yourself talk? When you have to include that many people that hate you you have to wonder? Why do the they all hate me?  Alan Sandoval (@AlanSandoval13) December 31, 2017Who uses the word Haters in a New Years wish??  Marlene (@marlene399) December 31, 2017You can t just say happy new year?  Koren pollitt (@Korencarpenter) December 31, 2017Here s Trump s New Year s Eve tweet from 2016.Happy New Year to all, including to my many enemies and those who have fought me and lost so badly they just don t know what to do. Love!  Donald J. Trump (@realDonaldTrump) December 31, 2016This is nothing new for Trump. He s been doing this for years.Trump has directed messages to his  enemies  and  haters  for New Year s, Easter, Thanksgiving, and the anniversary of 9/11. pic.twitter.com/4FPAe2KypA  Daniel Dale (@ddale8) December 31, 2017Trump s holiday tweets are clearly not presidential.How long did he work at Hallmark before becoming President?  Steven Goodine (@SGoodine) December 31, 2017He s always been like this . . . the only difference is that in the last few years, his filter has been breaking down.  Roy Schulze (@thbthttt) December 31, 2017Who, apart from a teenager uses the term haters?  Wendy (@WendyWhistles) December 31, 2017he s a fucking 5 year old  Who Knows (@rainyday80) December 31, 2017So, to all the people who voted for this a hole thinking he would change once he got into power, you were wrong! 70-year-old men don t change and now he s a year older.Photo by Andrew Burton/Getty Images.\n",
      "\n",
      "    Original Text Token Count: 730\n",
      "\n",
      "    Max Allowed Total Tokens (Title + Text): 512\n",
      "\n",
      "    Available Tokens for Text Summary: 495\n",
      "\n",
      "\n",
      "    Now rewrite the article text only (not the title) within the available token budget. Your output should be clean, self-contained, and informative. \n",
      "    Do not add any information that is not present in the original news text or do not censor the text.\n",
      "    Your output must be exactly text summary and nothing else. You are also not allowed to water-down or censor the text as the text may contain sensitive information related \n",
      "    to politics, race or religion. Your job is to just summarize the text and not censor/water-down the text in any way shape or form.\n",
      "    The summary should be concise, informative, and maintain the original meaning.\n",
      "    \n"
     ]
    }
   ],
   "source": [
    "print(prompt)"
   ]
  },
  {
   "cell_type": "code",
   "execution_count": 49,
   "id": "251d53e9",
   "metadata": {},
   "outputs": [
    {
     "data": {
      "text/plain": [
       "921"
      ]
     },
     "execution_count": 49,
     "metadata": {},
     "output_type": "execute_result"
    }
   ],
   "source": [
    "len(tokenizer.encode(prompt, return_tensors='pt')[0])"
   ]
  },
  {
   "cell_type": "markdown",
   "id": "a6ff6019",
   "metadata": {},
   "source": [
    "Hmmm.. our prompt iself is ~921 tokens. So, hopefully, our model will not hallucinate and give us proper summary."
   ]
  },
  {
   "cell_type": "code",
   "execution_count": 50,
   "id": "bdaa0d33",
   "metadata": {},
   "outputs": [],
   "source": [
    "from groq import Groq\n",
    "\n",
    "llm_api_key = os.getenv(\"LLM_API_KEY\")\n",
    "client = Groq(api_key=llm_api_key)"
   ]
  },
  {
   "cell_type": "code",
   "execution_count": 51,
   "id": "88417f96",
   "metadata": {},
   "outputs": [],
   "source": [
    "system_prompt = '''You are an expert summarizer helping a user prepare input for a sentence embedding model with a strict 512-token input limit.\n",
    "The user will always include the full **title** of the news article. Your job is to **rewrite or summarize the news article text only**, using no more than the available tokens provided. The goal is to preserve **all important meaning** from the article without exceeding the token budget.\n",
    "\n",
    "You must:\n",
    "- Leave the title unchanged\n",
    "- Output **only the rewritten article text**\n",
    "- Not include anything non-relevant stuff in your response\n",
    "\n",
    "You will be provided Input details.\n",
    "'''"
   ]
  },
  {
   "cell_type": "code",
   "execution_count": 52,
   "id": "4d943d0f",
   "metadata": {},
   "outputs": [],
   "source": [
    "def run_groq_summary(prompt_text, max_tokens, model=\"llama3-70b-8192\"):\n",
    "    response = client.chat.completions.create(\n",
    "        messages=[\n",
    "            {\"role\": \"system\", \"content\":system_prompt},\n",
    "            {\"role\": \"user\", \"content\": prompt_text}\n",
    "        ],\n",
    "        model=model,\n",
    "        temperature=0.1,\n",
    "        top_p=1,\n",
    "        max_completion_tokens=max_tokens # this is the maximum number of tokens possible (title tokens + max_tokens = 512)\n",
    "    )\n",
    "    return response.choices[0].message.content"
   ]
  },
  {
   "cell_type": "code",
   "execution_count": 53,
   "id": "bfc937d6",
   "metadata": {},
   "outputs": [
    {
     "name": "stdout",
     "output_type": "stream",
     "text": [
      "BRUSSELS (Reuters) - NATO allies on Tuesday welcomed President Donald Trump s decision to commit more forces to Afghanistan, as part of a new U.S. strategy he said would require more troops and funding from America s partners. Having run for the White House last year on a pledge to withdraw swiftly from Afghanistan, Trump reversed course on Monday and promised a stepped-up military campaign against  Taliban insurgents, saying:  Our troops will fight to win .  U.S. officials said he had signed off on plans to send about 4,000 more U.S. troops to add to the roughly 8,400 now deployed in Afghanistan. But his speech did not define benchmarks for successfully ending the war that began with the U.S.-led invasion of Afghanistan in 2001, and which he acknowledged had required an   extraordinary sacrifice of blood and treasure .  We will ask our NATO allies and global partners to support our new strategy, with additional troops and funding increases in line with our own. We are confident they will,  Trump said. That comment signaled he would further increase pressure on U.S. partners who have already been jolted by his repeated demands to step up their contributions to NATO and his description of the alliance as  obsolete  - even though, since taking office, he has said this is no longer the case. NATO Secretary General Jens Stoltenberg said in a statement:  NATO remains fully committed to Afghanistan and I am looking forward to discussing the way ahead with (Defense) Secretary (James) Mattis and our Allies and international partners.  NATO has 12,000 troops in Afghanistan, and 15 countries have pledged more, Stoltenberg said. Britain, a leading NATO member, called the U.S. commitment  very welcome .  In my call with Secretary Mattis yesterday we agreed that despite the challenges, we have to stay the course in Afghanistan to help build up its fragile democracy and reduce the terrorist threat to the West,  Defence Secretary Michael Fallon said. Germany, which has borne the brunt of Trump s criticism over  the scale of its defense spending, also welcomed the new U.S. plan.  Our continued commitment is necessary on the path to stabilizing the country,  a government spokeswoman said. In June, European allies had already pledged more troops but had not given details on numbers, waiting for the Trump administration to outline its strategy for the region.Nearly 16 years after the U.S.-led invasion - a response to the Sept. 11 attacks which were planned by al Qaeda leader Osama bin Laden from Afghanistan - the country is still struggling with weak central government and a Taliban insurgency. Trump said he shared the frustration of the American people who were  weary of war without victory , but a hasty withdrawal would create a vacuum for groups like Islamic State and al Qaeda to fill. \n"
     ]
    }
   ],
   "source": [
    "print(current_text)"
   ]
  },
  {
   "cell_type": "code",
   "execution_count": 54,
   "id": "ee5105c0",
   "metadata": {},
   "outputs": [
    {
     "name": "stdout",
     "output_type": "stream",
     "text": [
      "Input details:\n",
      "\n",
      "    Title:  Donald Trump Sends Out Embarrassing New Year’s Eve Message; This is Disturbing\n",
      "\n",
      "    Title Token Count: 17\n",
      "\n",
      "    Original Text: Donald Trump just couldn t wish all Americans a Happy New Year and leave it at that. Instead, he had to give a shout out to his enemies, haters and  the very dishonest fake news media.  The former reality show star had just one job to do and he couldn t do it. As our Country rapidly grows stronger and smarter, I want to wish all of my friends, supporters, enemies, haters, and even the very dishonest Fake News Media, a Happy and Healthy New Year,  President Angry Pants tweeted.  2018 will be a great year for America! As our Country rapidly grows stronger and smarter, I want to wish all of my friends, supporters, enemies, haters, and even the very dishonest Fake News Media, a Happy and Healthy New Year. 2018 will be a great year for America!  Donald J. Trump (@realDonaldTrump) December 31, 2017Trump s tweet went down about as welll as you d expect.What kind of president sends a New Year s greeting like this despicable, petty, infantile gibberish? Only Trump! His lack of decency won t even allow him to rise above the gutter long enough to wish the American citizens a happy new year!  Bishop Talbert Swan (@TalbertSwan) December 31, 2017no one likes you  Calvin (@calvinstowell) December 31, 2017Your impeachment would make 2018 a great year for America, but I ll also accept regaining control of Congress.  Miranda Yaver (@mirandayaver) December 31, 2017Do you hear yourself talk? When you have to include that many people that hate you you have to wonder? Why do the they all hate me?  Alan Sandoval (@AlanSandoval13) December 31, 2017Who uses the word Haters in a New Years wish??  Marlene (@marlene399) December 31, 2017You can t just say happy new year?  Koren pollitt (@Korencarpenter) December 31, 2017Here s Trump s New Year s Eve tweet from 2016.Happy New Year to all, including to my many enemies and those who have fought me and lost so badly they just don t know what to do. Love!  Donald J. Trump (@realDonaldTrump) December 31, 2016This is nothing new for Trump. He s been doing this for years.Trump has directed messages to his  enemies  and  haters  for New Year s, Easter, Thanksgiving, and the anniversary of 9/11. pic.twitter.com/4FPAe2KypA  Daniel Dale (@ddale8) December 31, 2017Trump s holiday tweets are clearly not presidential.How long did he work at Hallmark before becoming President?  Steven Goodine (@SGoodine) December 31, 2017He s always been like this . . . the only difference is that in the last few years, his filter has been breaking down.  Roy Schulze (@thbthttt) December 31, 2017Who, apart from a teenager uses the term haters?  Wendy (@WendyWhistles) December 31, 2017he s a fucking 5 year old  Who Knows (@rainyday80) December 31, 2017So, to all the people who voted for this a hole thinking he would change once he got into power, you were wrong! 70-year-old men don t change and now he s a year older.Photo by Andrew Burton/Getty Images.\n",
      "\n",
      "    Original Text Token Count: 730\n",
      "\n",
      "    Max Allowed Total Tokens (Title + Text): 512\n",
      "\n",
      "    Available Tokens for Text Summary: 495\n",
      "\n",
      "\n",
      "    Now rewrite the article text only (not the title) within the available token budget. Your output should be clean, self-contained, and informative. \n",
      "    Do not add any information that is not present in the original news text or do not censor the text.\n",
      "    Your output must be exactly text summary and nothing else. You are also not allowed to water-down or censor the text as the text may contain sensitive information related \n",
      "    to politics, race or religion. Your job is to just summarize the text and not censor/water-down the text in any way shape or form.\n",
      "    The summary should be concise, informative, and maintain the original meaning.\n",
      "    \n"
     ]
    }
   ],
   "source": [
    "print(prompt)"
   ]
  },
  {
   "cell_type": "code",
   "execution_count": 55,
   "id": "0050b935",
   "metadata": {},
   "outputs": [
    {
     "name": "stdout",
     "output_type": "stream",
     "text": [
      "CPU times: total: 93.8 ms\n",
      "Wall time: 1.15 s\n"
     ]
    }
   ],
   "source": [
    "%%time\n",
    "\n",
    "output = run_groq_summary(prompt, current_available_tokens)"
   ]
  },
  {
   "cell_type": "code",
   "execution_count": 56,
   "id": "b80b4730",
   "metadata": {},
   "outputs": [
    {
     "name": "stdout",
     "output_type": "stream",
     "text": [
      "Donald Trump's New Year's Eve message sparked outrage as he wished a Happy New Year to his \"enemies, haters, and the very dishonest Fake News Media.\" The tweet was met with criticism, with many calling it \"despicable, petty, and infantile.\" Trump's lack of decency was on full display as he couldn't even rise above his grievances to wish Americans a happy new year. This is not a new behavior for Trump, who has a history of directing messages to his \"enemies\" and \"haters\" on various holidays. His un-presidential tweets have become a hallmark of his presidency.\n"
     ]
    }
   ],
   "source": [
    "print(output)"
   ]
  },
  {
   "cell_type": "markdown",
   "id": "9f5d85b4",
   "metadata": {},
   "source": [
    "<b> Original </b>\n",
    "\n",
    "Donald Trump just couldn t wish all Americans a Happy New Year and leave it at that. Instead, he had to give a shout out to his enemies, haters and  the very dishonest fake news media.  The former reality show star had just one job to do and he couldn t do it. As our Country rapidly grows stronger and smarter, I want to wish all of my friends, supporters, enemies, haters, and even the very dishonest Fake News Media, a Happy and Healthy New Year,  President Angry Pants tweeted.  2018 will be a great year for America! As our Country rapidly grows stronger and smarter, I want to wish all of my friends, supporters, enemies, haters, and even the very dishonest Fake News Media, a Happy and Healthy New Year. 2018 will be a great year for America!  Donald J. Trump (@realDonaldTrump) December 31, 2017Trump s tweet went down about as welll as you d expect.What kind of president sends a New Year s greeting like this despicable, petty, infantile gibberish? Only Trump! His lack of decency won t even allow him to rise above the gutter long enough to wish the American citizens a happy new year!  Bishop Talbert Swan (@TalbertSwan) December 31, 2017no one likes you  Calvin (@calvinstowell) December 31, 2017Your impeachment would make 2018 a great year for America, but I ll also accept regaining control of Congress.  Miranda Yaver (@mirandayaver) December 31, 2017Do you hear yourself talk? When you have to include that many people that hate you you have to wonder? Why do the they all hate me?  Alan Sandoval (@AlanSandoval13) December 31, 2017Who uses the word Haters in a New Years wish??  Marlene (@marlene399) December 31, 2017You can t just say happy new year?  Koren pollitt (@Korencarpenter) December 31, 2017Here s Trump s New Year s Eve tweet from 2016.Happy New Year to all, including to my many enemies and those who have fought me and lost so badly they just don t know what to do. Love!  Donald J. Trump (@realDonaldTrump) December 31, 2016This is nothing new for Trump. He s been doing this for years.Trump has directed messages to his  enemies  and  haters  for New Year s, Easter, Thanksgiving, and the anniversary of 9/11. pic.twitter.com/4FPAe2KypA  Daniel Dale (@ddale8) December 31, 2017Trump s holiday tweets are clearly not presidential.How long did he work at Hallmark before becoming President?  Steven Goodine (@SGoodine) December 31, 2017He s always been like this . . . the only difference is that in the last few years, his filter has been breaking down.  Roy Schulze (@thbthttt) December 31, 2017Who, apart from a teenager uses the term haters?  Wendy (@WendyWhistles) December 31, 2017he s a fucking 5 year old  Who Knows (@rainyday80) December 31, 2017So, to all the people who voted for this a hole thinking he would change once he got into power, you were wrong! 70-year-old men don t change and now he s a year older.Photo by Andrew Burton/Getty Images.\n"
   ]
  },
  {
   "cell_type": "markdown",
   "id": "219273e3",
   "metadata": {},
   "source": [
    "<b> Summary </b>\n",
    "\n",
    "Donald Trump's New Year's Eve message sparked outrage as he wished a Happy New Year to his \"enemies, haters, and the very dishonest Fake News Media.\" The tweet was met with criticism, with many calling it \"despicable, petty, and infantile.\" Trump's lack of decency was on full display as he couldn't even rise above his grievances to wish Americans a happy new year. This is not a new behavior for Trump, who has a history of directing messages to his \"enemies\" and \"haters\" on various holidays. His un-presidential tweets have become a hallmark of his presidency."
   ]
  },
  {
   "cell_type": "code",
   "execution_count": 57,
   "id": "e5e78f5a",
   "metadata": {},
   "outputs": [
    {
     "name": "stdout",
     "output_type": "stream",
     "text": [
      "The token count of original text of the news article:  559\n",
      "The token count of new summarized text of the news article:  141\n"
     ]
    }
   ],
   "source": [
    "print(\"The token count of original text of the news article: \", len(tokenizer.encode(current_text, return_tensors='pt')[0]))\n",
    "print(\"The token count of new summarized text of the news article: \", len(tokenizer.encode(output, return_tensors='pt')[0]))"
   ]
  },
  {
   "cell_type": "code",
   "execution_count": 59,
   "id": "24ff9d9c",
   "metadata": {},
   "outputs": [
    {
     "name": "stdout",
     "output_type": "stream",
     "text": [
      "The token count of original title of the news article:  14\n"
     ]
    }
   ],
   "source": [
    "print(\"The token count of original title of the news article: \", total_title_tokens[-1])"
   ]
  },
  {
   "cell_type": "code",
   "execution_count": 60,
   "id": "5924b2c0",
   "metadata": {},
   "outputs": [
    {
     "data": {
      "text/plain": [
       "155"
      ]
     },
     "execution_count": 60,
     "metadata": {},
     "output_type": "execute_result"
    }
   ],
   "source": [
    "total_title_tokens[-1] + len(tokenizer.encode(output, return_tensors='pt')[0])"
   ]
  },
  {
   "cell_type": "markdown",
   "id": "18862ba2",
   "metadata": {},
   "source": [
    "<b> Which is less than 512.  Perfect !!!"
   ]
  },
  {
   "cell_type": "code",
   "execution_count": 61,
   "id": "ba1229ed",
   "metadata": {},
   "outputs": [],
   "source": [
    "llm_tokenizer = AutoTokenizer.from_pretrained(\"meta-llama/Llama-3.2-3B-Instruct\")\n",
    "\n",
    "def get_token_count_for_prompt(prompt_text):\n",
    "    \"\"\"\n",
    "    Returns the token count for a given prompt text.\n",
    "    \"\"\"\n",
    "    messages = [\n",
    "        {\"role\": \"system\", \"content\": system_prompt},\n",
    "        {\"role\": \"user\", \"content\": prompt_text},\n",
    "    ]\n",
    "\n",
    "    prompt = llm_tokenizer.apply_chat_template(messages, tokenize=False, add_generation_prompt=True)\n",
    "    encoded = llm_tokenizer.encode(prompt, return_tensors='pt')\n",
    "    return len(encoded[0])"
   ]
  },
  {
   "cell_type": "code",
   "execution_count": 62,
   "id": "7257d237",
   "metadata": {},
   "outputs": [
    {
     "name": "stderr",
     "output_type": "stream",
     "text": [
      "100%|██████████| 44898/44898 [01:30<00:00, 494.94it/s] \n"
     ]
    }
   ],
   "source": [
    "texts = []\n",
    "labels_for_text_summarization = []\n",
    "title_tokens= []\n",
    "text_tokens = []\n",
    "new_title = []\n",
    "new_text = []\n",
    "prompt_token_count = []\n",
    "\n",
    "for i in tqdm(range(0, len(all_text))):\n",
    "    current_title = all_title[i]\n",
    "    current_text = all_text[i]\n",
    "    current_label = labels[i]\n",
    "    combined_text = f\"{current_title}. {current_text}\"\n",
    "\n",
    "    if summarize_text[i]:\n",
    "        current_available_tokens = available_tokens_for_text_summarization[i]\n",
    "        current_title_token_count = total_title_tokens[i]\n",
    "        current_text_token_count = total_text_tokens[i]\n",
    "        current_prompt = return_prompt(\n",
    "            current_title,\n",
    "            current_text,\n",
    "            current_title_token_count,\n",
    "            current_text_token_count,\n",
    "            current_available_tokens,\n",
    "        )\n",
    "        \n",
    "\n",
    "        texts.append(current_prompt)\n",
    "        new_title.append(current_title)\n",
    "        new_text.append(current_text)\n",
    "        title_tokens.append(current_title_token_count)\n",
    "        text_tokens.append(current_text_token_count)\n",
    "        prompt_token_count.append(get_token_count_for_prompt(current_prompt))        \n",
    "        labels_for_text_summarization.append(current_label)"
   ]
  },
  {
   "cell_type": "code",
   "execution_count": 68,
   "id": "7a1244ed",
   "metadata": {},
   "outputs": [],
   "source": [
    "df_for_summarization = pd.DataFrame({\n",
    "    'title': new_title, \n",
    "    'text': new_text,\n",
    "    'label': labels_for_text_summarization,\n",
    "    \"prompt\": texts,\n",
    "    \"title_tokens\": title_tokens,\n",
    "    \"text_tokens\": text_tokens,\n",
    "    \"prompt_token_count\": prompt_token_count\n",
    "})"
   ]
  },
  {
   "cell_type": "code",
   "execution_count": 69,
   "id": "9d15c3d9",
   "metadata": {},
   "outputs": [
    {
     "data": {
      "text/html": [
       "<div>\n",
       "<style scoped>\n",
       "    .dataframe tbody tr th:only-of-type {\n",
       "        vertical-align: middle;\n",
       "    }\n",
       "\n",
       "    .dataframe tbody tr th {\n",
       "        vertical-align: top;\n",
       "    }\n",
       "\n",
       "    .dataframe thead th {\n",
       "        text-align: right;\n",
       "    }\n",
       "</style>\n",
       "<table border=\"1\" class=\"dataframe\">\n",
       "  <thead>\n",
       "    <tr style=\"text-align: right;\">\n",
       "      <th></th>\n",
       "      <th>title</th>\n",
       "      <th>text</th>\n",
       "      <th>label</th>\n",
       "      <th>prompt</th>\n",
       "      <th>title_tokens</th>\n",
       "      <th>text_tokens</th>\n",
       "      <th>prompt_token_count</th>\n",
       "    </tr>\n",
       "  </thead>\n",
       "  <tbody>\n",
       "    <tr>\n",
       "      <th>0</th>\n",
       "      <td>Donald Trump Sends Out Embarrassing New Year’...</td>\n",
       "      <td>Donald Trump just couldn t wish all Americans ...</td>\n",
       "      <td>1</td>\n",
       "      <td>Input details:\\n\\n    Title:  Donald Trump Sen...</td>\n",
       "      <td>17</td>\n",
       "      <td>730</td>\n",
       "      <td>1109</td>\n",
       "    </tr>\n",
       "    <tr>\n",
       "      <th>1</th>\n",
       "      <td>Sheriff David Clarke Becomes An Internet Joke...</td>\n",
       "      <td>On Friday, it was revealed that former Milwauk...</td>\n",
       "      <td>1</td>\n",
       "      <td>Input details:\\n\\n    Title:  Sheriff David Cl...</td>\n",
       "      <td>19</td>\n",
       "      <td>930</td>\n",
       "      <td>1299</td>\n",
       "    </tr>\n",
       "    <tr>\n",
       "      <th>2</th>\n",
       "      <td>Trump Is So Obsessed He Even Has Obama’s Name...</td>\n",
       "      <td>On Christmas day, Donald Trump announced that ...</td>\n",
       "      <td>1</td>\n",
       "      <td>Input details:\\n\\n    Title:  Trump Is So Obse...</td>\n",
       "      <td>20</td>\n",
       "      <td>706</td>\n",
       "      <td>1050</td>\n",
       "    </tr>\n",
       "    <tr>\n",
       "      <th>3</th>\n",
       "      <td>Former CIA Director Slams Trump Over UN Bully...</td>\n",
       "      <td>Many people have raised the alarm regarding th...</td>\n",
       "      <td>1</td>\n",
       "      <td>Input details:\\n\\n    Title:  Former CIA Direc...</td>\n",
       "      <td>25</td>\n",
       "      <td>574</td>\n",
       "      <td>924</td>\n",
       "    </tr>\n",
       "    <tr>\n",
       "      <th>4</th>\n",
       "      <td>Heiress To Disney Empire Knows GOP Scammed Us...</td>\n",
       "      <td>Abigail Disney is an heiress with brass ovarie...</td>\n",
       "      <td>1</td>\n",
       "      <td>Input details:\\n\\n    Title:  Heiress To Disne...</td>\n",
       "      <td>20</td>\n",
       "      <td>630</td>\n",
       "      <td>989</td>\n",
       "    </tr>\n",
       "    <tr>\n",
       "      <th>...</th>\n",
       "      <td>...</td>\n",
       "      <td>...</td>\n",
       "      <td>...</td>\n",
       "      <td>...</td>\n",
       "      <td>...</td>\n",
       "      <td>...</td>\n",
       "      <td>...</td>\n",
       "    </tr>\n",
       "    <tr>\n",
       "      <th>19243</th>\n",
       "      <td>U.S., North Korea clash at U.N. forum over nuc...</td>\n",
       "      <td>GENEVA (Reuters) - North Korea and the United ...</td>\n",
       "      <td>0</td>\n",
       "      <td>Input details:\\n\\n    Title: U.S., North Korea...</td>\n",
       "      <td>19</td>\n",
       "      <td>889</td>\n",
       "      <td>1237</td>\n",
       "    </tr>\n",
       "    <tr>\n",
       "      <th>19244</th>\n",
       "      <td>U.S., North Korea clash at U.N. forum over nuc...</td>\n",
       "      <td>GENEVA (Reuters) - North Korea and the United ...</td>\n",
       "      <td>0</td>\n",
       "      <td>Input details:\\n\\n    Title: U.S., North Korea...</td>\n",
       "      <td>19</td>\n",
       "      <td>889</td>\n",
       "      <td>1237</td>\n",
       "    </tr>\n",
       "    <tr>\n",
       "      <th>19245</th>\n",
       "      <td>U.S., North Korea clash at U.N. arms forum on ...</td>\n",
       "      <td>GENEVA (Reuters) - North Korea and the United ...</td>\n",
       "      <td>0</td>\n",
       "      <td>Input details:\\n\\n    Title: U.S., North Korea...</td>\n",
       "      <td>20</td>\n",
       "      <td>810</td>\n",
       "      <td>1160</td>\n",
       "    </tr>\n",
       "    <tr>\n",
       "      <th>19246</th>\n",
       "      <td>North Korea shipments to Syria chemical arms a...</td>\n",
       "      <td>UNITED NATIONS (Reuters) - Two North Korean sh...</td>\n",
       "      <td>0</td>\n",
       "      <td>Input details:\\n\\n    Title: North Korea shipm...</td>\n",
       "      <td>17</td>\n",
       "      <td>554</td>\n",
       "      <td>906</td>\n",
       "    </tr>\n",
       "    <tr>\n",
       "      <th>19247</th>\n",
       "      <td>'Fully committed' NATO backs new U.S. approach...</td>\n",
       "      <td>BRUSSELS (Reuters) - NATO allies on Tuesday we...</td>\n",
       "      <td>0</td>\n",
       "      <td>Input details:\\n\\n    Title: 'Fully committed'...</td>\n",
       "      <td>16</td>\n",
       "      <td>559</td>\n",
       "      <td>924</td>\n",
       "    </tr>\n",
       "  </tbody>\n",
       "</table>\n",
       "<p>19248 rows × 7 columns</p>\n",
       "</div>"
      ],
      "text/plain": [
       "                                                   title  \\\n",
       "0       Donald Trump Sends Out Embarrassing New Year’...   \n",
       "1       Sheriff David Clarke Becomes An Internet Joke...   \n",
       "2       Trump Is So Obsessed He Even Has Obama’s Name...   \n",
       "3       Former CIA Director Slams Trump Over UN Bully...   \n",
       "4       Heiress To Disney Empire Knows GOP Scammed Us...   \n",
       "...                                                  ...   \n",
       "19243  U.S., North Korea clash at U.N. forum over nuc...   \n",
       "19244  U.S., North Korea clash at U.N. forum over nuc...   \n",
       "19245  U.S., North Korea clash at U.N. arms forum on ...   \n",
       "19246  North Korea shipments to Syria chemical arms a...   \n",
       "19247  'Fully committed' NATO backs new U.S. approach...   \n",
       "\n",
       "                                                    text  label  \\\n",
       "0      Donald Trump just couldn t wish all Americans ...      1   \n",
       "1      On Friday, it was revealed that former Milwauk...      1   \n",
       "2      On Christmas day, Donald Trump announced that ...      1   \n",
       "3      Many people have raised the alarm regarding th...      1   \n",
       "4      Abigail Disney is an heiress with brass ovarie...      1   \n",
       "...                                                  ...    ...   \n",
       "19243  GENEVA (Reuters) - North Korea and the United ...      0   \n",
       "19244  GENEVA (Reuters) - North Korea and the United ...      0   \n",
       "19245  GENEVA (Reuters) - North Korea and the United ...      0   \n",
       "19246  UNITED NATIONS (Reuters) - Two North Korean sh...      0   \n",
       "19247  BRUSSELS (Reuters) - NATO allies on Tuesday we...      0   \n",
       "\n",
       "                                                  prompt  title_tokens  \\\n",
       "0      Input details:\\n\\n    Title:  Donald Trump Sen...            17   \n",
       "1      Input details:\\n\\n    Title:  Sheriff David Cl...            19   \n",
       "2      Input details:\\n\\n    Title:  Trump Is So Obse...            20   \n",
       "3      Input details:\\n\\n    Title:  Former CIA Direc...            25   \n",
       "4      Input details:\\n\\n    Title:  Heiress To Disne...            20   \n",
       "...                                                  ...           ...   \n",
       "19243  Input details:\\n\\n    Title: U.S., North Korea...            19   \n",
       "19244  Input details:\\n\\n    Title: U.S., North Korea...            19   \n",
       "19245  Input details:\\n\\n    Title: U.S., North Korea...            20   \n",
       "19246  Input details:\\n\\n    Title: North Korea shipm...            17   \n",
       "19247  Input details:\\n\\n    Title: 'Fully committed'...            16   \n",
       "\n",
       "       text_tokens  prompt_token_count  \n",
       "0              730                1109  \n",
       "1              930                1299  \n",
       "2              706                1050  \n",
       "3              574                 924  \n",
       "4              630                 989  \n",
       "...            ...                 ...  \n",
       "19243          889                1237  \n",
       "19244          889                1237  \n",
       "19245          810                1160  \n",
       "19246          554                 906  \n",
       "19247          559                 924  \n",
       "\n",
       "[19248 rows x 7 columns]"
      ]
     },
     "execution_count": 69,
     "metadata": {},
     "output_type": "execute_result"
    }
   ],
   "source": [
    "df_for_summarization"
   ]
  },
  {
   "cell_type": "code",
   "execution_count": 70,
   "id": "eca00d63",
   "metadata": {},
   "outputs": [
    {
     "data": {
      "text/plain": [
       "np.int64(10636)"
      ]
     },
     "execution_count": 70,
     "metadata": {},
     "output_type": "execute_result"
    }
   ],
   "source": [
    "df_for_summarization[\"prompt_token_count\"].max()"
   ]
  },
  {
   "cell_type": "code",
   "execution_count": 66,
   "id": "7dd32f72",
   "metadata": {},
   "outputs": [],
   "source": [
    "# saving the texts that need summarization to a CSV file which wiill be used later for doing the summarization\n",
    "pd.DataFrame({\n",
    "    'text': texts,\n",
    "    'label': labels_for_text_summarization\n",
    "}).to_csv(\"Summary_prompts_FinalTesting.csv\", index=False)"
   ]
  },
  {
   "cell_type": "code",
   "execution_count": 67,
   "id": "85d4ccfa",
   "metadata": {},
   "outputs": [
    {
     "data": {
      "text/html": [
       "<div>\n",
       "<style scoped>\n",
       "    .dataframe tbody tr th:only-of-type {\n",
       "        vertical-align: middle;\n",
       "    }\n",
       "\n",
       "    .dataframe tbody tr th {\n",
       "        vertical-align: top;\n",
       "    }\n",
       "\n",
       "    .dataframe thead th {\n",
       "        text-align: right;\n",
       "    }\n",
       "</style>\n",
       "<table border=\"1\" class=\"dataframe\">\n",
       "  <thead>\n",
       "    <tr style=\"text-align: right;\">\n",
       "      <th></th>\n",
       "      <th>text</th>\n",
       "      <th>label</th>\n",
       "    </tr>\n",
       "  </thead>\n",
       "  <tbody>\n",
       "    <tr>\n",
       "      <th>0</th>\n",
       "      <td>Input details:\\n\\n    Title:  Donald Trump Sen...</td>\n",
       "      <td>1</td>\n",
       "    </tr>\n",
       "    <tr>\n",
       "      <th>1</th>\n",
       "      <td>Input details:\\n\\n    Title:  Sheriff David Cl...</td>\n",
       "      <td>1</td>\n",
       "    </tr>\n",
       "    <tr>\n",
       "      <th>2</th>\n",
       "      <td>Input details:\\n\\n    Title:  Trump Is So Obse...</td>\n",
       "      <td>1</td>\n",
       "    </tr>\n",
       "    <tr>\n",
       "      <th>3</th>\n",
       "      <td>Input details:\\n\\n    Title:  Former CIA Direc...</td>\n",
       "      <td>1</td>\n",
       "    </tr>\n",
       "    <tr>\n",
       "      <th>4</th>\n",
       "      <td>Input details:\\n\\n    Title:  Heiress To Disne...</td>\n",
       "      <td>1</td>\n",
       "    </tr>\n",
       "    <tr>\n",
       "      <th>...</th>\n",
       "      <td>...</td>\n",
       "      <td>...</td>\n",
       "    </tr>\n",
       "    <tr>\n",
       "      <th>19243</th>\n",
       "      <td>Input details:\\n\\n    Title: U.S., North Korea...</td>\n",
       "      <td>0</td>\n",
       "    </tr>\n",
       "    <tr>\n",
       "      <th>19244</th>\n",
       "      <td>Input details:\\n\\n    Title: U.S., North Korea...</td>\n",
       "      <td>0</td>\n",
       "    </tr>\n",
       "    <tr>\n",
       "      <th>19245</th>\n",
       "      <td>Input details:\\n\\n    Title: U.S., North Korea...</td>\n",
       "      <td>0</td>\n",
       "    </tr>\n",
       "    <tr>\n",
       "      <th>19246</th>\n",
       "      <td>Input details:\\n\\n    Title: North Korea shipm...</td>\n",
       "      <td>0</td>\n",
       "    </tr>\n",
       "    <tr>\n",
       "      <th>19247</th>\n",
       "      <td>Input details:\\n\\n    Title: 'Fully committed'...</td>\n",
       "      <td>0</td>\n",
       "    </tr>\n",
       "  </tbody>\n",
       "</table>\n",
       "<p>19248 rows × 2 columns</p>\n",
       "</div>"
      ],
      "text/plain": [
       "                                                    text  label\n",
       "0      Input details:\\n\\n    Title:  Donald Trump Sen...      1\n",
       "1      Input details:\\n\\n    Title:  Sheriff David Cl...      1\n",
       "2      Input details:\\n\\n    Title:  Trump Is So Obse...      1\n",
       "3      Input details:\\n\\n    Title:  Former CIA Direc...      1\n",
       "4      Input details:\\n\\n    Title:  Heiress To Disne...      1\n",
       "...                                                  ...    ...\n",
       "19243  Input details:\\n\\n    Title: U.S., North Korea...      0\n",
       "19244  Input details:\\n\\n    Title: U.S., North Korea...      0\n",
       "19245  Input details:\\n\\n    Title: U.S., North Korea...      0\n",
       "19246  Input details:\\n\\n    Title: North Korea shipm...      0\n",
       "19247  Input details:\\n\\n    Title: 'Fully committed'...      0\n",
       "\n",
       "[19248 rows x 2 columns]"
      ]
     },
     "execution_count": 67,
     "metadata": {},
     "output_type": "execute_result"
    }
   ],
   "source": [
    "pd.DataFrame({\n",
    "    'text': texts,\n",
    "    'label': labels_for_text_summarization\n",
    "})"
   ]
  },
  {
   "cell_type": "markdown",
   "id": "1e002c67",
   "metadata": {},
   "source": [
    "<b> We will now proceed to notebook llm_summarization.ipynb which will do the summarization"
   ]
  },
  {
   "cell_type": "code",
   "execution_count": 71,
   "id": "21f3979b",
   "metadata": {},
   "outputs": [],
   "source": [
    "summarized_df = pd.read_csv(\"llama3_2_3b_summary_results_FinalTesting.csv\")"
   ]
  },
  {
   "cell_type": "code",
   "execution_count": 72,
   "id": "db475eb9",
   "metadata": {},
   "outputs": [
    {
     "data": {
      "text/html": [
       "<div>\n",
       "<style scoped>\n",
       "    .dataframe tbody tr th:only-of-type {\n",
       "        vertical-align: middle;\n",
       "    }\n",
       "\n",
       "    .dataframe tbody tr th {\n",
       "        vertical-align: top;\n",
       "    }\n",
       "\n",
       "    .dataframe thead th {\n",
       "        text-align: right;\n",
       "    }\n",
       "</style>\n",
       "<table border=\"1\" class=\"dataframe\">\n",
       "  <thead>\n",
       "    <tr style=\"text-align: right;\">\n",
       "      <th></th>\n",
       "      <th>Prompts</th>\n",
       "      <th>Results</th>\n",
       "    </tr>\n",
       "  </thead>\n",
       "  <tbody>\n",
       "    <tr>\n",
       "      <th>0</th>\n",
       "      <td>&lt;|begin_of_text|&gt;&lt;|start_header_id|&gt;system&lt;|en...</td>\n",
       "      <td>Donald Trump wished Americans a Happy New Year...</td>\n",
       "    </tr>\n",
       "    <tr>\n",
       "      <th>1</th>\n",
       "      <td>&lt;|begin_of_text|&gt;&lt;|start_header_id|&gt;system&lt;|en...</td>\n",
       "      <td>Former Milwaukee Sheriff David Clarke is facin...</td>\n",
       "    </tr>\n",
       "    <tr>\n",
       "      <th>2</th>\n",
       "      <td>&lt;|begin_of_text|&gt;&lt;|start_header_id|&gt;system&lt;|en...</td>\n",
       "      <td>Donald Trump announced he'd return to work the...</td>\n",
       "    </tr>\n",
       "    <tr>\n",
       "      <th>3</th>\n",
       "      <td>&lt;|begin_of_text|&gt;&lt;|start_header_id|&gt;system&lt;|en...</td>\n",
       "      <td>Many people have raised alarm about Donald Tru...</td>\n",
       "    </tr>\n",
       "    <tr>\n",
       "      <th>4</th>\n",
       "      <td>&lt;|begin_of_text|&gt;&lt;|start_header_id|&gt;system&lt;|en...</td>\n",
       "      <td>Abigail Disney, an heiress to the Disney empir...</td>\n",
       "    </tr>\n",
       "  </tbody>\n",
       "</table>\n",
       "</div>"
      ],
      "text/plain": [
       "                                             Prompts  \\\n",
       "0  <|begin_of_text|><|start_header_id|>system<|en...   \n",
       "1  <|begin_of_text|><|start_header_id|>system<|en...   \n",
       "2  <|begin_of_text|><|start_header_id|>system<|en...   \n",
       "3  <|begin_of_text|><|start_header_id|>system<|en...   \n",
       "4  <|begin_of_text|><|start_header_id|>system<|en...   \n",
       "\n",
       "                                             Results  \n",
       "0  Donald Trump wished Americans a Happy New Year...  \n",
       "1  Former Milwaukee Sheriff David Clarke is facin...  \n",
       "2  Donald Trump announced he'd return to work the...  \n",
       "3  Many people have raised alarm about Donald Tru...  \n",
       "4  Abigail Disney, an heiress to the Disney empir...  "
      ]
     },
     "execution_count": 72,
     "metadata": {},
     "output_type": "execute_result"
    }
   ],
   "source": [
    "summarized_df.head()"
   ]
  },
  {
   "cell_type": "code",
   "execution_count": 73,
   "id": "62d5fc87",
   "metadata": {},
   "outputs": [
    {
     "name": "stderr",
     "output_type": "stream",
     "text": [
      "44898it [00:00, 334412.18it/s]\n"
     ]
    }
   ],
   "source": [
    "new_title = []\n",
    "new_text = []\n",
    "new_label = []\n",
    "summarized_text = []\n",
    "title_tokens = []\n",
    "text_tokens = []\n",
    "\n",
    "for i, (title, text, label) in enumerate(tqdm(zip(all_title, all_text, labels))):\n",
    "    if not summarize_text[i]:\n",
    "        new_title.append(title)\n",
    "        new_text.append(text)\n",
    "        new_label.append(label)\n",
    "        title_tokens.append(total_title_tokens[i])\n",
    "        text_tokens.append(total_text_tokens[i])\n",
    "        summarized_text.append(np.nan)\n",
    "\n",
    "df1 = pd.DataFrame({\n",
    "    'title': new_title, \n",
    "    'text': new_text,\n",
    "    'label': new_label,\n",
    "    \"title_tokens\": title_tokens,\n",
    "    \"text_tokens\": text_tokens,\n",
    "    'text_summary': summarized_text\n",
    "})"
   ]
  },
  {
   "cell_type": "code",
   "execution_count": 74,
   "id": "2a466848",
   "metadata": {},
   "outputs": [
    {
     "data": {
      "text/html": [
       "<div>\n",
       "<style scoped>\n",
       "    .dataframe tbody tr th:only-of-type {\n",
       "        vertical-align: middle;\n",
       "    }\n",
       "\n",
       "    .dataframe tbody tr th {\n",
       "        vertical-align: top;\n",
       "    }\n",
       "\n",
       "    .dataframe thead th {\n",
       "        text-align: right;\n",
       "    }\n",
       "</style>\n",
       "<table border=\"1\" class=\"dataframe\">\n",
       "  <thead>\n",
       "    <tr style=\"text-align: right;\">\n",
       "      <th></th>\n",
       "      <th>title</th>\n",
       "      <th>text</th>\n",
       "      <th>label</th>\n",
       "      <th>title_tokens</th>\n",
       "      <th>text_tokens</th>\n",
       "      <th>text_summary</th>\n",
       "    </tr>\n",
       "  </thead>\n",
       "  <tbody>\n",
       "    <tr>\n",
       "      <th>0</th>\n",
       "      <td>Drunk Bragging Trump Staffer Started Russian ...</td>\n",
       "      <td>House Intelligence Committee Chairman Devin Nu...</td>\n",
       "      <td>1</td>\n",
       "      <td>13</td>\n",
       "      <td>387</td>\n",
       "      <td>NaN</td>\n",
       "    </tr>\n",
       "    <tr>\n",
       "      <th>1</th>\n",
       "      <td>Pope Francis Just Called Out Donald Trump Dur...</td>\n",
       "      <td>Pope Francis used his annual Christmas Day mes...</td>\n",
       "      <td>1</td>\n",
       "      <td>13</td>\n",
       "      <td>477</td>\n",
       "      <td>NaN</td>\n",
       "    </tr>\n",
       "    <tr>\n",
       "      <th>2</th>\n",
       "      <td>Racist Alabama Cops Brutalize Black Boy While...</td>\n",
       "      <td>The number of cases of cops brutalizing and ki...</td>\n",
       "      <td>1</td>\n",
       "      <td>18</td>\n",
       "      <td>367</td>\n",
       "      <td>NaN</td>\n",
       "    </tr>\n",
       "    <tr>\n",
       "      <th>3</th>\n",
       "      <td>Fresh Off The Golf Course, Trump Lashes Out A...</td>\n",
       "      <td>Donald Trump spent a good portion of his day a...</td>\n",
       "      <td>1</td>\n",
       "      <td>19</td>\n",
       "      <td>481</td>\n",
       "      <td>NaN</td>\n",
       "    </tr>\n",
       "    <tr>\n",
       "      <th>4</th>\n",
       "      <td>Trump Said Some INSANELY Racist Stuff Inside ...</td>\n",
       "      <td>In the wake of yet another court decision that...</td>\n",
       "      <td>1</td>\n",
       "      <td>19</td>\n",
       "      <td>454</td>\n",
       "      <td>NaN</td>\n",
       "    </tr>\n",
       "    <tr>\n",
       "      <th>...</th>\n",
       "      <td>...</td>\n",
       "      <td>...</td>\n",
       "      <td>...</td>\n",
       "      <td>...</td>\n",
       "      <td>...</td>\n",
       "      <td>...</td>\n",
       "    </tr>\n",
       "    <tr>\n",
       "      <th>25645</th>\n",
       "      <td>Headless torso could belong to submarine journ...</td>\n",
       "      <td>COPENHAGEN (Reuters) - Danish police said on T...</td>\n",
       "      <td>0</td>\n",
       "      <td>13</td>\n",
       "      <td>353</td>\n",
       "      <td>NaN</td>\n",
       "    </tr>\n",
       "    <tr>\n",
       "      <th>25646</th>\n",
       "      <td>LexisNexis withdrew two products from Chinese ...</td>\n",
       "      <td>LONDON (Reuters) - LexisNexis, a provider of l...</td>\n",
       "      <td>0</td>\n",
       "      <td>13</td>\n",
       "      <td>168</td>\n",
       "      <td>NaN</td>\n",
       "    </tr>\n",
       "    <tr>\n",
       "      <th>25647</th>\n",
       "      <td>Minsk cultural hub becomes haven from authorities</td>\n",
       "      <td>MINSK (Reuters) - In the shadow of disused Sov...</td>\n",
       "      <td>0</td>\n",
       "      <td>9</td>\n",
       "      <td>422</td>\n",
       "      <td>NaN</td>\n",
       "    </tr>\n",
       "    <tr>\n",
       "      <th>25648</th>\n",
       "      <td>Vatican upbeat on possibility of Pope Francis ...</td>\n",
       "      <td>MOSCOW (Reuters) - Vatican Secretary of State ...</td>\n",
       "      <td>0</td>\n",
       "      <td>11</td>\n",
       "      <td>236</td>\n",
       "      <td>NaN</td>\n",
       "    </tr>\n",
       "    <tr>\n",
       "      <th>25649</th>\n",
       "      <td>Indonesia to buy $1.14 billion worth of Russia...</td>\n",
       "      <td>JAKARTA (Reuters) - Indonesia will buy 11 Sukh...</td>\n",
       "      <td>0</td>\n",
       "      <td>14</td>\n",
       "      <td>270</td>\n",
       "      <td>NaN</td>\n",
       "    </tr>\n",
       "  </tbody>\n",
       "</table>\n",
       "<p>25650 rows × 6 columns</p>\n",
       "</div>"
      ],
      "text/plain": [
       "                                                   title  \\\n",
       "0       Drunk Bragging Trump Staffer Started Russian ...   \n",
       "1       Pope Francis Just Called Out Donald Trump Dur...   \n",
       "2       Racist Alabama Cops Brutalize Black Boy While...   \n",
       "3       Fresh Off The Golf Course, Trump Lashes Out A...   \n",
       "4       Trump Said Some INSANELY Racist Stuff Inside ...   \n",
       "...                                                  ...   \n",
       "25645  Headless torso could belong to submarine journ...   \n",
       "25646  LexisNexis withdrew two products from Chinese ...   \n",
       "25647  Minsk cultural hub becomes haven from authorities   \n",
       "25648  Vatican upbeat on possibility of Pope Francis ...   \n",
       "25649  Indonesia to buy $1.14 billion worth of Russia...   \n",
       "\n",
       "                                                    text  label  title_tokens  \\\n",
       "0      House Intelligence Committee Chairman Devin Nu...      1            13   \n",
       "1      Pope Francis used his annual Christmas Day mes...      1            13   \n",
       "2      The number of cases of cops brutalizing and ki...      1            18   \n",
       "3      Donald Trump spent a good portion of his day a...      1            19   \n",
       "4      In the wake of yet another court decision that...      1            19   \n",
       "...                                                  ...    ...           ...   \n",
       "25645  COPENHAGEN (Reuters) - Danish police said on T...      0            13   \n",
       "25646  LONDON (Reuters) - LexisNexis, a provider of l...      0            13   \n",
       "25647  MINSK (Reuters) - In the shadow of disused Sov...      0             9   \n",
       "25648  MOSCOW (Reuters) - Vatican Secretary of State ...      0            11   \n",
       "25649  JAKARTA (Reuters) - Indonesia will buy 11 Sukh...      0            14   \n",
       "\n",
       "       text_tokens  text_summary  \n",
       "0              387           NaN  \n",
       "1              477           NaN  \n",
       "2              367           NaN  \n",
       "3              481           NaN  \n",
       "4              454           NaN  \n",
       "...            ...           ...  \n",
       "25645          353           NaN  \n",
       "25646          168           NaN  \n",
       "25647          422           NaN  \n",
       "25648          236           NaN  \n",
       "25649          270           NaN  \n",
       "\n",
       "[25650 rows x 6 columns]"
      ]
     },
     "execution_count": 74,
     "metadata": {},
     "output_type": "execute_result"
    }
   ],
   "source": [
    "df1"
   ]
  },
  {
   "cell_type": "code",
   "execution_count": 75,
   "id": "9224dac6",
   "metadata": {},
   "outputs": [
    {
     "name": "stdout",
     "output_type": "stream",
     "text": [
      "10636\n"
     ]
    }
   ],
   "source": [
    "print(df_for_summarization[\"prompt_token_count\"].max()) # this is way too long text; we are excluding any news article with tokens larger than 20000\n",
    "df_for_summarization = df_for_summarization[df_for_summarization[\"prompt_token_count\"] < 20000]"
   ]
  },
  {
   "cell_type": "code",
   "execution_count": 76,
   "id": "cbb4d13c",
   "metadata": {},
   "outputs": [],
   "source": [
    "df_for_summarization = df_for_summarization.reset_index(drop=True)"
   ]
  },
  {
   "cell_type": "code",
   "execution_count": 77,
   "id": "9dfeefbe",
   "metadata": {},
   "outputs": [
    {
     "data": {
      "text/plain": [
       "((19248, 7), (19248, 2))"
      ]
     },
     "execution_count": 77,
     "metadata": {},
     "output_type": "execute_result"
    }
   ],
   "source": [
    "df_for_summarization.shape, summarized_df.shape"
   ]
  },
  {
   "cell_type": "code",
   "execution_count": 80,
   "id": "1f26cf4c",
   "metadata": {},
   "outputs": [],
   "source": [
    "df_for_summarization[\"text_summary\"] = summarized_df['Results']"
   ]
  },
  {
   "cell_type": "code",
   "execution_count": 81,
   "id": "84e8f656",
   "metadata": {},
   "outputs": [
    {
     "name": "stdout",
     "output_type": "stream",
     "text": [
      "Establishment Republican pollster Frank Luntz looked more like a CNN host than a Republican pollster in a room full of committed Roy Moore voters. Luntz was obviously frustrated, as Alabama voters dug in their heels, and refused to back down on their support for Judge Roy Moore in today s Senate election to fill AG Jeff Sessions seat in Alabama.MONTGOMERY, Alabama   Frank Luntz, a GOP establishment messaging consultant, was visibly flabbergasted as every single one of his focus group participants in a Birmingham area Vice News-produced panel backed Judge Roy Moore for U.S. Senate. Titled  Why These Alabama Voters Are Sticking By Roy Moore,  Luntz s Vice News focus group aired on Vice News Tonight on Dec. 8 on HBO. Are you all Christians here?  Luntz opens the seven-and-a-half-minute long segment.  Yes,  all of the focus group participants, who joined Luntz in a Birmingham area restaurant, replied. Is Roy Moore a good Christian?  he followed up. Yes,  one woman replied.  Absolutely,  another said. Absolutely?  Luntz followed up in disbelief.  Yes,  the woman shot back.  Without any doubt whatsoever?  Luntz asked again.After some more back and forth, a man in the focus group spoke up. Scottie Porter, a real estate developer, said:He s not my choice, I m not voting for him because I like him. I m voting for him because I don t want Doug Jones. But Roy Moore is entitled to the presumption of innocence in the law and in the Bible just like anybody else should be. There are only accusations. There have been no charges filed. All you have is a group of women who have come forward. How many? How many?  Luntz pressed Porter. Seven,  he replied. There s really only three,  one woman yelled out. How many women have to come forward before you say  wait a minute, where there s smoke there s fire ?  Luntz asked the group.Chuck Moore, a retired sales consultant, replied:  It s about the legitimacy, not just how many. How many are not being paid? Or being coerced to do this? How many of them do you think are being paid?  Luntz asked the group. All of them,  some replied in unison. By a show of hands, how many of you think all the women are being paid?  Luntz asked the full group.Three hands in the group went up. Seriously?  Luntz asked in disbelief, before the camera turned to homemaker Jane Wade. To me, there are only two women that have a smoking gun but the women s their reputations are questionable at the time,  Wade said. Is this how you want to be treated as a woman if something were to happen to you? Do you want to be dismissed that way?  Luntz asked Gina Doran, a retired school bus driver. You better have proof,  Doran fired back at Luntz.Watch: Breitbart News\n"
     ]
    }
   ],
   "source": [
    "print(df_for_summarization.sample(1, random_state=42)[\"text\"].values[0])"
   ]
  },
  {
   "cell_type": "markdown",
   "id": "6f0b9519",
   "metadata": {},
   "source": [
    "<b> Original </b>\n",
    "\n",
    "Establishment Republican pollster Frank Luntz looked more like a CNN host than a Republican pollster in a room full of committed Roy Moore voters. Luntz was obviously frustrated, as Alabama voters dug in their heels, and refused to back down on their support for Judge Roy Moore in today s Senate election to fill AG Jeff Sessions seat in Alabama.MONTGOMERY, Alabama   Frank Luntz, a GOP establishment messaging consultant, was visibly flabbergasted as every single one of his focus group participants in a Birmingham area Vice News-produced panel backed Judge Roy Moore for U.S. Senate. Titled  Why These Alabama Voters Are Sticking By Roy Moore,  Luntz s Vice News focus group aired on Vice News Tonight on Dec. 8 on HBO. Are you all Christians here?  Luntz opens the seven-and-a-half-minute long segment.  Yes,  all of the focus group participants, who joined Luntz in a Birmingham area restaurant, replied. Is Roy Moore a good Christian?  he followed up. Yes,  one woman replied.  Absolutely,  another said. Absolutely?  Luntz followed up in disbelief.  Yes,  the woman shot back.  Without any doubt whatsoever?  Luntz asked again.After some more back and forth, a man in the focus group spoke up. Scottie Porter, a real estate developer, said:He s not my choice, I m not voting for him because I like him. I m voting for him because I don t want Doug Jones. But Roy Moore is entitled to the presumption of innocence in the law and in the Bible just like anybody else should be. There are only accusations. There have been no charges filed. All you have is a group of women who have come forward. How many? How many?  Luntz pressed Porter. Seven,  he replied. There s really only three,  one woman yelled out. How many women have to come forward before you say  wait a minute, where there s smoke there s fire ?  Luntz asked the group.Chuck Moore, a retired sales consultant, replied:  It s about the legitimacy, not just how many. How many are not being paid? Or being coerced to do this? How many of them do you think are being paid?  Luntz asked the group. All of them,  some replied in unison. By a show of hands, how many of you think all the women are being paid?  Luntz asked the full group.Three hands in the group went up. Seriously?  Luntz asked in disbelief, before the camera turned to homemaker Jane Wade. To me, there are only two women that have a smoking gun but the women s their reputations are questionable at the time,  Wade said. Is this how you want to be treated as a woman if something were to happen to you? Do you want to be dismissed that way?  Luntz asked Gina Doran, a retired school bus driver. You better have proof,  Doran fired back at Luntz.Watch: Breitbart News"
   ]
  },
  {
   "cell_type": "code",
   "execution_count": 82,
   "id": "6a9b4eb9",
   "metadata": {},
   "outputs": [
    {
     "name": "stdout",
     "output_type": "stream",
     "text": [
      "Establishment Republican pollster Frank Luntz looked frustrated as Alabama voters dug in their heels, refusing to back down on their support for Judge Roy Moore in the Senate election. Luntz's focus group, titled \"Why These Alabama Voters Are Sticking By Roy Moore,\" aired on Vice News Tonight on HBO, featuring a panel of committed Moore supporters. When asked if they were Christians, all participants replied \"yes.\" Luntz pressed on, asking if Moore was a good Christian, with one woman responding \"absolutely.\" A real estate developer, Scottie Porter, explained he's voting for Moore because he doesn't want Doug Jones, but believes Moore is entitled to the presumption of innocence. Porter questioned the legitimacy of the accusations against Moore, suggesting that only those who have been paid or coerced should be considered guilty. A homemaker, Jane Wade, expressed concern that women who make accusations against Moore are being treated unfairly. A retired school bus driver, Gina Doran, told Luntz to \"you better have proof\" before believing the accusations.\n"
     ]
    }
   ],
   "source": [
    "print(df_for_summarization.sample(1, random_state=42)[\"text_summary\"].values[0])"
   ]
  },
  {
   "cell_type": "markdown",
   "id": "92602e7e",
   "metadata": {},
   "source": [
    "<b> Summarized </b>"
   ]
  },
  {
   "cell_type": "markdown",
   "id": "f58bc08e",
   "metadata": {},
   "source": [
    "Establishment Republican pollster Frank Luntz looked frustrated as Alabama voters dug in their heels, refusing to back down on their support for Judge Roy Moore in the Senate election. Luntz's focus group, titled \"Why These Alabama Voters Are Sticking By Roy Moore,\" aired on Vice News Tonight on HBO, featuring a panel of committed Moore supporters. When asked if they were Christians, all participants replied \"yes.\" Luntz pressed on, asking if Moore was a good Christian, with one woman responding \"absolutely.\" A real estate developer, Scottie Porter, explained he's voting for Moore because he doesn't want Doug Jones, but believes Moore is entitled to the presumption of innocence. Porter questioned the legitimacy of the accusations against Moore, suggesting that only those who have been paid or coerced should be considered guilty. A homemaker, Jane Wade, expressed concern that women who make accusations against Moore are being treated unfairly. A retired school bus driver, Gina Doran, told Luntz to \"you better have proof\" before believing the accusations."
   ]
  },
  {
   "cell_type": "code",
   "execution_count": 83,
   "id": "07add1b9",
   "metadata": {},
   "outputs": [],
   "source": [
    "df_for_summarization = df_for_summarization[df1.columns]"
   ]
  },
  {
   "cell_type": "code",
   "execution_count": 84,
   "id": "f4b8fd61",
   "metadata": {},
   "outputs": [],
   "source": [
    "final_df = pd.concat([df1, df_for_summarization], ignore_index=True)"
   ]
  },
  {
   "cell_type": "code",
   "execution_count": 85,
   "id": "ca40a148",
   "metadata": {},
   "outputs": [],
   "source": [
    "final_df.to_csv(\"final_data_with_summarization_FinalTesting1.csv\", index=False)"
   ]
  },
  {
   "cell_type": "code",
   "execution_count": 86,
   "id": "0f4a4215",
   "metadata": {},
   "outputs": [
    {
     "data": {
      "text/html": [
       "<div>\n",
       "<style scoped>\n",
       "    .dataframe tbody tr th:only-of-type {\n",
       "        vertical-align: middle;\n",
       "    }\n",
       "\n",
       "    .dataframe tbody tr th {\n",
       "        vertical-align: top;\n",
       "    }\n",
       "\n",
       "    .dataframe thead th {\n",
       "        text-align: right;\n",
       "    }\n",
       "</style>\n",
       "<table border=\"1\" class=\"dataframe\">\n",
       "  <thead>\n",
       "    <tr style=\"text-align: right;\">\n",
       "      <th></th>\n",
       "      <th>title</th>\n",
       "      <th>text</th>\n",
       "      <th>label</th>\n",
       "      <th>title_tokens</th>\n",
       "      <th>text_tokens</th>\n",
       "      <th>text_summary</th>\n",
       "    </tr>\n",
       "  </thead>\n",
       "  <tbody>\n",
       "    <tr>\n",
       "      <th>0</th>\n",
       "      <td>Drunk Bragging Trump Staffer Started Russian ...</td>\n",
       "      <td>House Intelligence Committee Chairman Devin Nu...</td>\n",
       "      <td>1</td>\n",
       "      <td>13</td>\n",
       "      <td>387</td>\n",
       "      <td>NaN</td>\n",
       "    </tr>\n",
       "    <tr>\n",
       "      <th>1</th>\n",
       "      <td>Pope Francis Just Called Out Donald Trump Dur...</td>\n",
       "      <td>Pope Francis used his annual Christmas Day mes...</td>\n",
       "      <td>1</td>\n",
       "      <td>13</td>\n",
       "      <td>477</td>\n",
       "      <td>NaN</td>\n",
       "    </tr>\n",
       "    <tr>\n",
       "      <th>2</th>\n",
       "      <td>Racist Alabama Cops Brutalize Black Boy While...</td>\n",
       "      <td>The number of cases of cops brutalizing and ki...</td>\n",
       "      <td>1</td>\n",
       "      <td>18</td>\n",
       "      <td>367</td>\n",
       "      <td>NaN</td>\n",
       "    </tr>\n",
       "    <tr>\n",
       "      <th>3</th>\n",
       "      <td>Fresh Off The Golf Course, Trump Lashes Out A...</td>\n",
       "      <td>Donald Trump spent a good portion of his day a...</td>\n",
       "      <td>1</td>\n",
       "      <td>19</td>\n",
       "      <td>481</td>\n",
       "      <td>NaN</td>\n",
       "    </tr>\n",
       "    <tr>\n",
       "      <th>4</th>\n",
       "      <td>Trump Said Some INSANELY Racist Stuff Inside ...</td>\n",
       "      <td>In the wake of yet another court decision that...</td>\n",
       "      <td>1</td>\n",
       "      <td>19</td>\n",
       "      <td>454</td>\n",
       "      <td>NaN</td>\n",
       "    </tr>\n",
       "    <tr>\n",
       "      <th>...</th>\n",
       "      <td>...</td>\n",
       "      <td>...</td>\n",
       "      <td>...</td>\n",
       "      <td>...</td>\n",
       "      <td>...</td>\n",
       "      <td>...</td>\n",
       "    </tr>\n",
       "    <tr>\n",
       "      <th>44893</th>\n",
       "      <td>U.S., North Korea clash at U.N. forum over nuc...</td>\n",
       "      <td>GENEVA (Reuters) - North Korea and the United ...</td>\n",
       "      <td>0</td>\n",
       "      <td>19</td>\n",
       "      <td>889</td>\n",
       "      <td>North Korea and the US clashed at a U.N. forum...</td>\n",
       "    </tr>\n",
       "    <tr>\n",
       "      <th>44894</th>\n",
       "      <td>U.S., North Korea clash at U.N. forum over nuc...</td>\n",
       "      <td>GENEVA (Reuters) - North Korea and the United ...</td>\n",
       "      <td>0</td>\n",
       "      <td>19</td>\n",
       "      <td>889</td>\n",
       "      <td>North Korea and the United States clashed at a...</td>\n",
       "    </tr>\n",
       "    <tr>\n",
       "      <th>44895</th>\n",
       "      <td>U.S., North Korea clash at U.N. arms forum on ...</td>\n",
       "      <td>GENEVA (Reuters) - North Korea and the United ...</td>\n",
       "      <td>0</td>\n",
       "      <td>20</td>\n",
       "      <td>810</td>\n",
       "      <td>North Korea and the US clashed at the United N...</td>\n",
       "    </tr>\n",
       "    <tr>\n",
       "      <th>44896</th>\n",
       "      <td>North Korea shipments to Syria chemical arms a...</td>\n",
       "      <td>UNITED NATIONS (Reuters) - Two North Korean sh...</td>\n",
       "      <td>0</td>\n",
       "      <td>17</td>\n",
       "      <td>554</td>\n",
       "      <td>Two North Korean shipments to a Syrian governm...</td>\n",
       "    </tr>\n",
       "    <tr>\n",
       "      <th>44897</th>\n",
       "      <td>'Fully committed' NATO backs new U.S. approach...</td>\n",
       "      <td>BRUSSELS (Reuters) - NATO allies on Tuesday we...</td>\n",
       "      <td>0</td>\n",
       "      <td>16</td>\n",
       "      <td>559</td>\n",
       "      <td>NATO allies welcomed President Donald Trump's ...</td>\n",
       "    </tr>\n",
       "  </tbody>\n",
       "</table>\n",
       "<p>44898 rows × 6 columns</p>\n",
       "</div>"
      ],
      "text/plain": [
       "                                                   title  \\\n",
       "0       Drunk Bragging Trump Staffer Started Russian ...   \n",
       "1       Pope Francis Just Called Out Donald Trump Dur...   \n",
       "2       Racist Alabama Cops Brutalize Black Boy While...   \n",
       "3       Fresh Off The Golf Course, Trump Lashes Out A...   \n",
       "4       Trump Said Some INSANELY Racist Stuff Inside ...   \n",
       "...                                                  ...   \n",
       "44893  U.S., North Korea clash at U.N. forum over nuc...   \n",
       "44894  U.S., North Korea clash at U.N. forum over nuc...   \n",
       "44895  U.S., North Korea clash at U.N. arms forum on ...   \n",
       "44896  North Korea shipments to Syria chemical arms a...   \n",
       "44897  'Fully committed' NATO backs new U.S. approach...   \n",
       "\n",
       "                                                    text  label  title_tokens  \\\n",
       "0      House Intelligence Committee Chairman Devin Nu...      1            13   \n",
       "1      Pope Francis used his annual Christmas Day mes...      1            13   \n",
       "2      The number of cases of cops brutalizing and ki...      1            18   \n",
       "3      Donald Trump spent a good portion of his day a...      1            19   \n",
       "4      In the wake of yet another court decision that...      1            19   \n",
       "...                                                  ...    ...           ...   \n",
       "44893  GENEVA (Reuters) - North Korea and the United ...      0            19   \n",
       "44894  GENEVA (Reuters) - North Korea and the United ...      0            19   \n",
       "44895  GENEVA (Reuters) - North Korea and the United ...      0            20   \n",
       "44896  UNITED NATIONS (Reuters) - Two North Korean sh...      0            17   \n",
       "44897  BRUSSELS (Reuters) - NATO allies on Tuesday we...      0            16   \n",
       "\n",
       "       text_tokens                                       text_summary  \n",
       "0              387                                                NaN  \n",
       "1              477                                                NaN  \n",
       "2              367                                                NaN  \n",
       "3              481                                                NaN  \n",
       "4              454                                                NaN  \n",
       "...            ...                                                ...  \n",
       "44893          889  North Korea and the US clashed at a U.N. forum...  \n",
       "44894          889  North Korea and the United States clashed at a...  \n",
       "44895          810  North Korea and the US clashed at the United N...  \n",
       "44896          554  Two North Korean shipments to a Syrian governm...  \n",
       "44897          559  NATO allies welcomed President Donald Trump's ...  \n",
       "\n",
       "[44898 rows x 6 columns]"
      ]
     },
     "execution_count": 86,
     "metadata": {},
     "output_type": "execute_result"
    }
   ],
   "source": [
    "final_df"
   ]
  },
  {
   "cell_type": "code",
   "execution_count": null,
   "id": "e29d1527",
   "metadata": {},
   "outputs": [],
   "source": []
  },
  {
   "cell_type": "code",
   "execution_count": null,
   "id": "1446f1ea",
   "metadata": {},
   "outputs": [],
   "source": []
  }
 ],
 "metadata": {
  "kernelspec": {
   "display_name": "capstone",
   "language": "python",
   "name": "python3"
  },
  "language_info": {
   "name": "python",
   "version": "3.11.13"
  }
 },
 "nbformat": 4,
 "nbformat_minor": 5
}
