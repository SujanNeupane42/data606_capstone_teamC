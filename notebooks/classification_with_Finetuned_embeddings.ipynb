{
  "cells": [
    {
      "cell_type": "code",
      "execution_count": 1,
      "metadata": {
        "id": "Ep64uuXCAR-I"
      },
      "outputs": [],
      "source": [
        "import os\n",
        "import pandas as pd\n",
        "import numpy as np\n",
        "\n",
        "import warnings\n",
        "warnings.filterwarnings(\"ignore\")"
      ]
    },
    {
      "cell_type": "code",
      "execution_count": 2,
      "metadata": {
        "colab": {
          "base_uri": "https://localhost:8080/"
        },
        "id": "5XsuEq8NAR-K",
        "outputId": "9d1448aa-a893-4b23-db65-fb2fb82aa35d"
      },
      "outputs": [
        {
          "output_type": "stream",
          "name": "stdout",
          "text": [
            "GPU is available!\n",
            "Using device: Tesla T4\n"
          ]
        }
      ],
      "source": [
        "import torch\n",
        "\n",
        "if torch.cuda.is_available():\n",
        "    print(\"GPU is available!\")\n",
        "    print(f\"Using device: {torch.cuda.get_device_name(0)}\")\n",
        "else:\n",
        "    print(\"No GPU. Using CPU.\")"
      ]
    },
    {
      "cell_type": "code",
      "source": [
        "!pip install gdown --quiet\n",
        "!gdown '1bzTrvDtnVOeL9Ft_6omSKumvU8qaO3vw'"
      ],
      "metadata": {
        "colab": {
          "base_uri": "https://localhost:8080/"
        },
        "id": "mGtwY4L3AcR2",
        "outputId": "5fd53e5b-878b-4a60-a5aa-4f69be737789"
      },
      "execution_count": 3,
      "outputs": [
        {
          "output_type": "stream",
          "name": "stdout",
          "text": [
            "Downloading...\n",
            "From (original): https://drive.google.com/uc?id=1bzTrvDtnVOeL9Ft_6omSKumvU8qaO3vw\n",
            "From (redirected): https://drive.google.com/uc?id=1bzTrvDtnVOeL9Ft_6omSKumvU8qaO3vw&confirm=t&uuid=10f80674-0787-4b47-b45b-3f8cb8268395\n",
            "To: /content/final_data_with_summarization.csv\n",
            "100% 288M/288M [00:01<00:00, 225MB/s]\n"
          ]
        }
      ]
    },
    {
      "cell_type": "markdown",
      "metadata": {
        "id": "jH1vhAMdAR-L"
      },
      "source": [
        "# 1. Loading the Data"
      ]
    },
    {
      "cell_type": "code",
      "execution_count": 4,
      "metadata": {
        "id": "6FrfSlm2zdG-"
      },
      "outputs": [],
      "source": [
        "df = pd.read_csv(r\"final_data_with_summarization.csv\")"
      ]
    },
    {
      "cell_type": "code",
      "execution_count": 5,
      "metadata": {
        "id": "KJzPvGySziJj"
      },
      "outputs": [],
      "source": [
        "df[\"input\"] = df[\"text_summary\"].fillna(df[\"text\"])"
      ]
    },
    {
      "cell_type": "code",
      "execution_count": 6,
      "metadata": {
        "colab": {
          "base_uri": "https://localhost:8080/"
        },
        "id": "k3RRx1BcAR-N",
        "outputId": "fdf1f653-e670-48e1-ef4f-5f1280960f12"
      },
      "outputs": [
        {
          "output_type": "execute_result",
          "data": {
            "text/plain": [
              "np.int64(39)"
            ]
          },
          "metadata": {},
          "execution_count": 6
        }
      ],
      "source": [
        "df[\"input\"].isnull().sum()"
      ]
    },
    {
      "cell_type": "code",
      "execution_count": 7,
      "metadata": {
        "id": "Qwn21XOXAR-N"
      },
      "outputs": [],
      "source": [
        "X = df[\"title\"].fillna(\"\") + \" \" + df[\"input\"].fillna(\"\")"
      ]
    },
    {
      "cell_type": "code",
      "execution_count": 8,
      "metadata": {
        "id": "tnlJUGjhAR-N"
      },
      "outputs": [],
      "source": [
        "# now fake = 1\n",
        "df[\"label\"] = df[\"label\"].map({0: 1, 1: 0})"
      ]
    },
    {
      "cell_type": "code",
      "execution_count": 9,
      "metadata": {
        "id": "BgHHgofHAR-O"
      },
      "outputs": [],
      "source": [
        "Y = df[\"label\"]"
      ]
    },
    {
      "cell_type": "code",
      "execution_count": 10,
      "metadata": {
        "id": "qLspDJgOAR-O"
      },
      "outputs": [],
      "source": [
        "from sklearn.model_selection import train_test_split\n",
        "X_train, X_test, y_train, y_test = train_test_split(X, Y, test_size=0.2, random_state=42)\n",
        "\n",
        "X_train, X_val, y_train, y_val = train_test_split(X_train, y_train, test_size=0.15, random_state=42)"
      ]
    },
    {
      "cell_type": "code",
      "execution_count": 11,
      "metadata": {
        "colab": {
          "base_uri": "https://localhost:8080/"
        },
        "id": "x6t51gyJAR-O",
        "outputId": "5110b262-4e46-45ea-d632-4539b444a104"
      },
      "outputs": [
        {
          "output_type": "execute_result",
          "data": {
            "text/plain": [
              "((49043,), (8655,), (14425,))"
            ]
          },
          "metadata": {},
          "execution_count": 11
        }
      ],
      "source": [
        "X_train.shape, X_val.shape, X_test.shape"
      ]
    },
    {
      "cell_type": "code",
      "source": [
        "X_train = X_train.values\n",
        "X_val = X_val.values\n",
        "X_test = X_test.values\n",
        "\n",
        "y_train = y_train.values\n",
        "y_val = y_val.values\n",
        "y_test = y_test.values"
      ],
      "metadata": {
        "id": "EM870u1DtbRp"
      },
      "execution_count": 12,
      "outputs": []
    },
    {
      "cell_type": "markdown",
      "metadata": {
        "id": "2j8dJZ0BAR-P"
      },
      "source": [
        "# 2. Preparing Data Loaders and Model\n",
        "\n",
        "We use the [sentence-transformers/all-MiniLM-L6-v2](https://huggingface.co/sentence-transformers/all-MiniLM-L6-v2) embedding model from huggingface and fine tune it."
      ]
    },
    {
      "cell_type": "code",
      "source": [
        "import torch\n",
        "import torch.nn as nn\n",
        "from torch.utils.data import DataLoader, Dataset\n",
        "from transformers import AutoModel, AutoTokenizer\n",
        "from sklearn.metrics import accuracy_score\n",
        "from tqdm import tqdm"
      ],
      "metadata": {
        "id": "aqT2rAN2qA1N"
      },
      "execution_count": 13,
      "outputs": []
    },
    {
      "cell_type": "code",
      "source": [
        "device = torch.device(\"cuda\" if torch.cuda.is_available() else \"cpu\")\n",
        "\n",
        "class TextDataset(Dataset):\n",
        "    def __init__(self, texts, labels):\n",
        "        self.texts = texts\n",
        "        self.labels = labels.astype(\"float32\")\n",
        "\n",
        "    def __len__(self):\n",
        "        return len(self.texts)\n",
        "\n",
        "    def __getitem__(self, idx):\n",
        "        return self.texts[idx], self.labels[idx]"
      ],
      "metadata": {
        "id": "LHG0te0WqAxq"
      },
      "execution_count": 14,
      "outputs": []
    },
    {
      "cell_type": "code",
      "source": [
        "train_dataset = TextDataset(X_train, y_train)\n",
        "val_dataset = TextDataset(X_val, y_val)\n",
        "test_dataset = TextDataset(X_test, y_test)"
      ],
      "metadata": {
        "id": "Wn9CUcWHqIno"
      },
      "execution_count": 15,
      "outputs": []
    },
    {
      "cell_type": "code",
      "source": [
        "batch_size = 64\n",
        "\n",
        "train_loader = DataLoader(train_dataset, batch_size=batch_size, shuffle=False)\n",
        "val_loader = DataLoader(val_dataset, batch_size=batch_size, shuffle=False)\n",
        "test_loader = DataLoader(test_dataset, batch_size=batch_size, shuffle=False)"
      ],
      "metadata": {
        "id": "qCZFvu77qIkE"
      },
      "execution_count": 16,
      "outputs": []
    },
    {
      "cell_type": "code",
      "execution_count": 17,
      "metadata": {
        "id": "uzor7QRTAR-P"
      },
      "outputs": [],
      "source": [
        "from sentence_transformers import SentenceTransformer\n",
        "from transformers import AutoTokenizer, AutoModel"
      ]
    },
    {
      "cell_type": "code",
      "source": [
        "class EmbeddingClassifier(nn.Module):\n",
        "    def __init__(self, model_name='sentence-transformers/all-MiniLM-L6-v2'):\n",
        "        super(EmbeddingClassifier, self).__init__()\n",
        "        self.encoder = AutoModel.from_pretrained(model_name)\n",
        "        self.tokenizer = AutoTokenizer.from_pretrained(model_name)\n",
        "\n",
        "        self.classifier = nn.Sequential(\n",
        "            nn.Linear(384, 128),\n",
        "            nn.LeakyReLU(),\n",
        "            nn.Linear(128, 128),\n",
        "            nn.LeakyReLU(),\n",
        "            nn.Linear(128, 2)\n",
        "        )\n",
        "\n",
        "    def mean_pooling(self, model_output, attention_mask):\n",
        "        token_embeddings = model_output.last_hidden_state\n",
        "        input_mask_expanded = attention_mask.unsqueeze(-1).expand(token_embeddings.size())\n",
        "        return torch.sum(token_embeddings * input_mask_expanded, 1) / torch.clamp(\n",
        "            input_mask_expanded.sum(1), min=1e-9\n",
        "        )\n",
        "\n",
        "    def forward(self, input_texts):\n",
        "        encoded = self.tokenizer(\n",
        "            input_texts,\n",
        "            padding=True,\n",
        "            truncation=True,\n",
        "            return_tensors='pt'\n",
        "        ).to(next(self.parameters()).device)\n",
        "\n",
        "        model_output = self.encoder(**encoded)\n",
        "        sentence_embeddings = self.mean_pooling(model_output, encoded['attention_mask'])\n",
        "        logits = self.classifier(sentence_embeddings)\n",
        "        return logits  # ouput shape: [batchsize, 2]"
      ],
      "metadata": {
        "id": "cAjoYQynqdd1"
      },
      "execution_count": 18,
      "outputs": []
    },
    {
      "cell_type": "code",
      "source": [
        "for features, labels in train_loader:\n",
        "  break"
      ],
      "metadata": {
        "id": "pxLv_lSZtEj1"
      },
      "execution_count": 19,
      "outputs": []
    },
    {
      "cell_type": "code",
      "source": [
        "NN_Model = EmbeddingClassifier()\n",
        "NN_Model.to(device)"
      ],
      "metadata": {
        "colab": {
          "base_uri": "https://localhost:8080/"
        },
        "id": "y_dIyAIltiZF",
        "outputId": "b5404256-4d53-4c27-a993-c74bb891ef37"
      },
      "execution_count": 20,
      "outputs": [
        {
          "output_type": "execute_result",
          "data": {
            "text/plain": [
              "EmbeddingClassifier(\n",
              "  (encoder): BertModel(\n",
              "    (embeddings): BertEmbeddings(\n",
              "      (word_embeddings): Embedding(30522, 384, padding_idx=0)\n",
              "      (position_embeddings): Embedding(512, 384)\n",
              "      (token_type_embeddings): Embedding(2, 384)\n",
              "      (LayerNorm): LayerNorm((384,), eps=1e-12, elementwise_affine=True)\n",
              "      (dropout): Dropout(p=0.1, inplace=False)\n",
              "    )\n",
              "    (encoder): BertEncoder(\n",
              "      (layer): ModuleList(\n",
              "        (0-5): 6 x BertLayer(\n",
              "          (attention): BertAttention(\n",
              "            (self): BertSdpaSelfAttention(\n",
              "              (query): Linear(in_features=384, out_features=384, bias=True)\n",
              "              (key): Linear(in_features=384, out_features=384, bias=True)\n",
              "              (value): Linear(in_features=384, out_features=384, bias=True)\n",
              "              (dropout): Dropout(p=0.1, inplace=False)\n",
              "            )\n",
              "            (output): BertSelfOutput(\n",
              "              (dense): Linear(in_features=384, out_features=384, bias=True)\n",
              "              (LayerNorm): LayerNorm((384,), eps=1e-12, elementwise_affine=True)\n",
              "              (dropout): Dropout(p=0.1, inplace=False)\n",
              "            )\n",
              "          )\n",
              "          (intermediate): BertIntermediate(\n",
              "            (dense): Linear(in_features=384, out_features=1536, bias=True)\n",
              "            (intermediate_act_fn): GELUActivation()\n",
              "          )\n",
              "          (output): BertOutput(\n",
              "            (dense): Linear(in_features=1536, out_features=384, bias=True)\n",
              "            (LayerNorm): LayerNorm((384,), eps=1e-12, elementwise_affine=True)\n",
              "            (dropout): Dropout(p=0.1, inplace=False)\n",
              "          )\n",
              "        )\n",
              "      )\n",
              "    )\n",
              "    (pooler): BertPooler(\n",
              "      (dense): Linear(in_features=384, out_features=384, bias=True)\n",
              "      (activation): Tanh()\n",
              "    )\n",
              "  )\n",
              "  (classifier): Sequential(\n",
              "    (0): Linear(in_features=384, out_features=128, bias=True)\n",
              "    (1): LeakyReLU(negative_slope=0.01)\n",
              "    (2): Linear(in_features=128, out_features=128, bias=True)\n",
              "    (3): LeakyReLU(negative_slope=0.01)\n",
              "    (4): Linear(in_features=128, out_features=2, bias=True)\n",
              "  )\n",
              ")"
            ]
          },
          "metadata": {},
          "execution_count": 20
        }
      ]
    },
    {
      "cell_type": "markdown",
      "source": [
        "As we can see, we appended a multi-layered perceptron on top of the embedding model. Lets see if we get expected output in a forward pass for a batch of data."
      ],
      "metadata": {
        "id": "9zjdzXMGtnrm"
      }
    },
    {
      "cell_type": "code",
      "source": [
        "outputs = NN_Model(features)"
      ],
      "metadata": {
        "id": "zVZXaZqztQHu"
      },
      "execution_count": 21,
      "outputs": []
    },
    {
      "cell_type": "code",
      "source": [
        "outputs.shape"
      ],
      "metadata": {
        "colab": {
          "base_uri": "https://localhost:8080/"
        },
        "id": "eB8nogvutzyr",
        "outputId": "a2cc00b7-86a6-43dd-a446-8cb321915a67"
      },
      "execution_count": 22,
      "outputs": [
        {
          "output_type": "execute_result",
          "data": {
            "text/plain": [
              "torch.Size([64, 2])"
            ]
          },
          "metadata": {},
          "execution_count": 22
        }
      ]
    },
    {
      "cell_type": "code",
      "source": [
        "all_on_gpu = all(p.device.type == 'cuda' for p in NN_Model.parameters())\n",
        "print(\"All model parameters on GPU:\", all_on_gpu)"
      ],
      "metadata": {
        "colab": {
          "base_uri": "https://localhost:8080/"
        },
        "id": "seN-R9psvid8",
        "outputId": "e50ba0a1-dd42-46f8-cc39-0634cf5b2d83"
      },
      "execution_count": 23,
      "outputs": [
        {
          "output_type": "stream",
          "name": "stdout",
          "text": [
            "All model parameters on GPU: True\n"
          ]
        }
      ]
    },
    {
      "cell_type": "code",
      "source": [
        "total_params = sum(p.numel() for p in NN_Model.parameters() if p.requires_grad)\n",
        "print(f\"Total trainable parameters: {total_params}\")"
      ],
      "metadata": {
        "colab": {
          "base_uri": "https://localhost:8080/"
        },
        "id": "NypqV_L9xxGr",
        "outputId": "ca66e94d-5a25-480e-f94e-ccb9b02e92d9"
      },
      "execution_count": 24,
      "outputs": [
        {
          "output_type": "stream",
          "name": "stdout",
          "text": [
            "Total trainable parameters: 22779266\n"
          ]
        }
      ]
    },
    {
      "cell_type": "markdown",
      "source": [
        "Perfect!!! Our forward pass works as expected. Now, lets create some helper functions and train our model."
      ],
      "metadata": {
        "id": "rIZn437guruh"
      }
    },
    {
      "cell_type": "markdown",
      "source": [
        "# 3. Helper Functions"
      ],
      "metadata": {
        "id": "1GnOg7_sqmqW"
      }
    },
    {
      "cell_type": "code",
      "source": [
        "from sklearn.metrics import confusion_matrix, classification_report, roc_auc_score, roc_curve, auc\n",
        "import matplotlib.pyplot as plt\n",
        "import seaborn as sns"
      ],
      "metadata": {
        "id": "7onkNLIGDtr1"
      },
      "execution_count": 25,
      "outputs": []
    },
    {
      "cell_type": "code",
      "source": [
        "def perform_deep_test_analysis(y_test, test_preds: np.array, test_preds_proba: np.array, model_name: str) -> None:\n",
        "    \"\"\"\"\n",
        "    This function takes in a model object and model name, and performs a deep analysis on the model's performance on the test set.\n",
        "    It prints classification report, confusion matrix, ROC AUC score and plots the ROC curve.\n",
        "    \"\"\"\n",
        "    cm = confusion_matrix(y_test, test_preds)\n",
        "\n",
        "    plt.figure(figsize=(6, 6))\n",
        "    sns.heatmap(cm, annot=True, fmt='d', cmap='coolwarm', cbar=False)\n",
        "    plt.xlabel('Predicted')\n",
        "    plt.ylabel('Actual')\n",
        "    plt.title('Confusion Matrix')\n",
        "    plt.show()\n",
        "\n",
        "    print(\"\\n\")\n",
        "    print(\"FOR TESTING SET: \")\n",
        "    print(classification_report(y_test, test_preds))\n",
        "    print(\"\\n\")\n",
        "\n",
        "    print(f\"ROC AUC Score: {roc_auc_score(y_test, test_preds_proba):.2%}\")\n",
        "    print(\"\\n\")\n",
        "\n",
        "    fpr, tpr, _ = roc_curve(y_test, test_preds_proba)\n",
        "    roc_auc = auc(fpr, tpr)\n",
        "\n",
        "    plt.figure(figsize=(10, 6))\n",
        "    plt.plot(fpr, tpr, color='darkorange', lw=2, label=f'ROC curve (area = {roc_auc:.2f})')\n",
        "    plt.plot([0, 1], [0, 1], color='navy', lw=2, linestyle='--')\n",
        "    plt.xlim([0.0, 1.0])\n",
        "    plt.ylim([0.0, 1.05])\n",
        "    plt.xlabel('False Positive Rate')\n",
        "    plt.ylabel('True Positive Rate')\n",
        "    plt.title(f'Receiver Operating Characteristic Curve for {model_name}')\n",
        "    plt.legend(loc=\"lower right\")\n",
        "    plt.show()"
      ],
      "metadata": {
        "id": "TPBTXGYsDU-A"
      },
      "execution_count": 26,
      "outputs": []
    },
    {
      "cell_type": "code",
      "execution_count": 26,
      "metadata": {
        "id": "7305cWhSAR-k"
      },
      "outputs": [],
      "source": []
    },
    {
      "cell_type": "markdown",
      "source": [
        "# 4. Model Training"
      ],
      "metadata": {
        "id": "xOLEsKYooF1e"
      }
    },
    {
      "cell_type": "code",
      "source": [
        "import torch.optim as optim\n",
        "\n",
        "scaler = torch.cuda.amp.GradScaler()"
      ],
      "metadata": {
        "id": "D8G3HuNPuz38"
      },
      "execution_count": 27,
      "outputs": []
    },
    {
      "cell_type": "code",
      "source": [
        "criterion = nn.CrossEntropyLoss()\n",
        "optimizer = optim.Adam(NN_Model.parameters(), lr=0.0001, weight_decay=0.001)\n",
        "num_epochs = 7\n",
        "early_stopping_patience = 4"
      ],
      "metadata": {
        "id": "FxRbploIOvFt"
      },
      "execution_count": 28,
      "outputs": []
    },
    {
      "cell_type": "code",
      "execution_count": 29,
      "metadata": {
        "id": "GG-XY3G1AR-m",
        "colab": {
          "base_uri": "https://localhost:8080/"
        },
        "outputId": "0cabe889-7788-4c10-ee78-e260699e19eb"
      },
      "outputs": [
        {
          "output_type": "stream",
          "name": "stderr",
          "text": [
            "100%|██████████| 767/767 [05:17<00:00,  2.41it/s]\n",
            "100%|██████████| 136/136 [00:21<00:00,  6.34it/s]\n"
          ]
        },
        {
          "output_type": "stream",
          "name": "stdout",
          "text": [
            "Epoch 1: Train Loss=0.1775, Train Acc=0.9295, Val Loss=0.1246, Val Acc=0.9467\n"
          ]
        },
        {
          "output_type": "stream",
          "name": "stderr",
          "text": [
            "100%|██████████| 767/767 [04:57<00:00,  2.58it/s]\n",
            "100%|██████████| 136/136 [00:21<00:00,  6.31it/s]\n"
          ]
        },
        {
          "output_type": "stream",
          "name": "stdout",
          "text": [
            "Epoch 2: Train Loss=0.0902, Train Acc=0.9672, Val Loss=0.2090, Val Acc=0.9233\n"
          ]
        },
        {
          "output_type": "stream",
          "name": "stderr",
          "text": [
            "100%|██████████| 767/767 [04:57<00:00,  2.58it/s]\n",
            "100%|██████████| 136/136 [00:20<00:00,  6.52it/s]\n"
          ]
        },
        {
          "output_type": "stream",
          "name": "stdout",
          "text": [
            "Epoch 3: Train Loss=0.0777, Train Acc=0.9730, Val Loss=0.1753, Val Acc=0.9523\n"
          ]
        },
        {
          "output_type": "stream",
          "name": "stderr",
          "text": [
            "100%|██████████| 767/767 [04:56<00:00,  2.59it/s]\n",
            "100%|██████████| 136/136 [00:21<00:00,  6.30it/s]"
          ]
        },
        {
          "output_type": "stream",
          "name": "stdout",
          "text": [
            "Epoch 4: Train Loss=0.0556, Train Acc=0.9817, Val Loss=0.1409, Val Acc=0.9570\n",
            "Early stopping at epoch 4\n"
          ]
        },
        {
          "output_type": "stream",
          "name": "stderr",
          "text": [
            "\n"
          ]
        }
      ],
      "source": [
        "train_losses, train_accuracies = [], []\n",
        "val_losses, val_accuracies = [], []\n",
        "\n",
        "best_val_loss = np.inf\n",
        "epochs_no_improve = 0\n",
        "best_model_wts = NN_Model.state_dict()\n",
        "\n",
        "for epoch in range(num_epochs):\n",
        "    NN_Model.train()\n",
        "    running_loss = 0.0\n",
        "    running_corrects = 0\n",
        "    running_total = 0\n",
        "\n",
        "    for xb, yb in tqdm(train_loader):\n",
        "        yb = yb.to(device).long() # features are already moved to GPU inside the model class\n",
        "        optimizer.zero_grad()\n",
        "\n",
        "        # pytorch's default mixed precision training for speed-up\n",
        "        with torch.cuda.amp.autocast():\n",
        "          out = NN_Model(xb)\n",
        "          loss = criterion(out, yb)\n",
        "        loss.backward()\n",
        "        optimizer.step()\n",
        "\n",
        "        running_loss += loss.item() * len(xb)\n",
        "        preds = out.argmax(dim=1)\n",
        "        running_corrects += (preds == yb).sum().item()\n",
        "        running_total += yb.size(0)\n",
        "\n",
        "    epoch_train_loss = running_loss / running_total\n",
        "    epoch_train_acc = running_corrects / running_total\n",
        "    train_losses.append(epoch_train_loss)\n",
        "    train_accuracies.append(epoch_train_acc)\n",
        "\n",
        "    NN_Model.eval()\n",
        "    val_running_loss = 0.0\n",
        "    val_running_corrects = 0\n",
        "    val_running_total = 0\n",
        "    with torch.no_grad():\n",
        "        for xb, yb in tqdm(val_loader):\n",
        "            yb = yb.to(device).long()\n",
        "\n",
        "            # pytorch's default mixed precision training for speed-up\n",
        "            with torch.cuda.amp.autocast():\n",
        "              out = NN_Model(xb)\n",
        "              loss = criterion(out, yb)\n",
        "\n",
        "            val_running_loss += loss.item() * len(xb)\n",
        "            preds = out.argmax(dim=1)\n",
        "            val_running_corrects += (preds == yb).sum().item()\n",
        "            val_running_total += yb.size(0)\n",
        "\n",
        "    epoch_val_loss = val_running_loss / val_running_total\n",
        "    epoch_val_acc = val_running_corrects / val_running_total\n",
        "    val_losses.append(epoch_val_loss)\n",
        "    val_accuracies.append(epoch_val_acc)\n",
        "\n",
        "    print(f\"Epoch {epoch+1}: \"\n",
        "          f\"Train Loss={epoch_train_loss:.4f}, Train Acc={epoch_train_acc:.4f}, \"\n",
        "          f\"Val Loss={epoch_val_loss:.4f}, Val Acc={epoch_val_acc:.4f}\")\n",
        "\n",
        "    if epoch_val_loss < best_val_loss:\n",
        "        best_val_loss = epoch_val_loss\n",
        "        epochs_no_improve = 0\n",
        "        best_model_wts = NN_Model.state_dict()\n",
        "    else:\n",
        "        epochs_no_improve += 1\n",
        "        if epochs_no_improve >= early_stopping_patience:\n",
        "            print(f\"Early stopping at epoch {epoch+1}\")\n",
        "            break"
      ]
    },
    {
      "cell_type": "code",
      "source": [
        "torch.save(best_model_wts, 'EmbeddingClassifier_FineTuned.pth')"
      ],
      "metadata": {
        "id": "txS6Jv0tdCKR"
      },
      "execution_count": 30,
      "outputs": []
    },
    {
      "cell_type": "code",
      "source": [
        "NN_Model.load_state_dict(torch.load('EmbeddingClassifier_FineTuned.pth'))"
      ],
      "metadata": {
        "colab": {
          "base_uri": "https://localhost:8080/"
        },
        "id": "Bickg858dMaO",
        "outputId": "588cf00a-d2ba-4c23-bd04-4079c5417685"
      },
      "execution_count": 31,
      "outputs": [
        {
          "output_type": "execute_result",
          "data": {
            "text/plain": [
              "<All keys matched successfully>"
            ]
          },
          "metadata": {},
          "execution_count": 31
        }
      ]
    },
    {
      "cell_type": "code",
      "source": [
        "def make_predictions_using_NN(model, data_loader):\n",
        "    model.eval()\n",
        "    all_preds = []\n",
        "    all_probs = []\n",
        "\n",
        "    with torch.no_grad():\n",
        "        for xb, labels in tqdm(data_loader):\n",
        "            logits = model(xb)\n",
        "            probs = torch.softmax(logits, dim=1)\n",
        "            preds = torch.argmax(logits, dim=1)\n",
        "            all_preds.append(preds.cpu())\n",
        "            all_probs.append(probs.cpu())\n",
        "\n",
        "    all_preds = torch.cat(all_preds)\n",
        "    all_probs = torch.cat(all_probs)\n",
        "    return all_preds, all_probs"
      ],
      "metadata": {
        "id": "LN0eOYZKWJzT"
      },
      "execution_count": 34,
      "outputs": []
    },
    {
      "cell_type": "code",
      "source": [
        "train_preds, train_probs_1dCNN = make_predictions_using_NN(NN_Model, train_loader)\n",
        "val_preds, val_probs_1dCNN = make_predictions_using_NN(NN_Model, val_loader)\n",
        "test_preds, test_probs_1dCNN = make_predictions_using_NN(NN_Model, test_loader)"
      ],
      "metadata": {
        "id": "UcrEE1dvWh_u",
        "colab": {
          "base_uri": "https://localhost:8080/"
        },
        "outputId": "df92d761-1be8-4d85-a214-2f26c7a9d36b"
      },
      "execution_count": 35,
      "outputs": [
        {
          "output_type": "stream",
          "name": "stderr",
          "text": [
            "100%|██████████| 767/767 [04:51<00:00,  2.63it/s]\n",
            "100%|██████████| 136/136 [00:50<00:00,  2.69it/s]\n",
            "100%|██████████| 226/226 [01:27<00:00,  2.59it/s]\n"
          ]
        }
      ]
    },
    {
      "cell_type": "code",
      "source": [
        "print(\"Training performance\")\n",
        "print(classification_report(y_train, train_preds))"
      ],
      "metadata": {
        "colab": {
          "base_uri": "https://localhost:8080/"
        },
        "id": "fOsWCxdfWjF3",
        "outputId": "cd6d6087-f5aa-4422-be2a-aff393ad5094"
      },
      "execution_count": 36,
      "outputs": [
        {
          "output_type": "stream",
          "name": "stdout",
          "text": [
            "Training performance for 1-d CNN\n",
            "              precision    recall  f1-score   support\n",
            "\n",
            "           0       1.00      0.98      0.99     25190\n",
            "           1       0.98      1.00      0.99     23853\n",
            "\n",
            "    accuracy                           0.99     49043\n",
            "   macro avg       0.99      0.99      0.99     49043\n",
            "weighted avg       0.99      0.99      0.99     49043\n",
            "\n"
          ]
        }
      ]
    },
    {
      "cell_type": "code",
      "source": [
        "print(\"Val performance\")\n",
        "print(classification_report(y_val, val_preds))"
      ],
      "metadata": {
        "colab": {
          "base_uri": "https://localhost:8080/"
        },
        "id": "mbCrWa9hWu2B",
        "outputId": "b4067a75-53f6-47cc-bda0-7bf0b33ffc90"
      },
      "execution_count": 37,
      "outputs": [
        {
          "output_type": "stream",
          "name": "stdout",
          "text": [
            "Val performance for 1-d CNN\n",
            "              precision    recall  f1-score   support\n",
            "\n",
            "           0       0.98      0.94      0.96      4558\n",
            "           1       0.94      0.98      0.96      4097\n",
            "\n",
            "    accuracy                           0.96      8655\n",
            "   macro avg       0.96      0.96      0.96      8655\n",
            "weighted avg       0.96      0.96      0.96      8655\n",
            "\n"
          ]
        }
      ]
    },
    {
      "cell_type": "code",
      "source": [
        "print(\"Test performance\")\n",
        "print(classification_report(y_test, test_preds))"
      ],
      "metadata": {
        "colab": {
          "base_uri": "https://localhost:8080/"
        },
        "id": "0Eh3059EWgiS",
        "outputId": "4b095c36-24a9-43d5-a4d2-19bac9ce6307"
      },
      "execution_count": 38,
      "outputs": [
        {
          "output_type": "stream",
          "name": "stdout",
          "text": [
            "Test performance for 1-d CNN\n",
            "              precision    recall  f1-score   support\n",
            "\n",
            "           0       0.98      0.94      0.96      7347\n",
            "           1       0.94      0.98      0.96      7078\n",
            "\n",
            "    accuracy                           0.96     14425\n",
            "   macro avg       0.96      0.96      0.96     14425\n",
            "weighted avg       0.96      0.96      0.96     14425\n",
            "\n"
          ]
        }
      ]
    },
    {
      "cell_type": "code",
      "source": [
        "perform_deep_test_analysis(y_test, test_preds, test_probs_1dCNN[:, 1], \"Finetuned EmbeddingClassifier\")"
      ],
      "metadata": {
        "colab": {
          "base_uri": "https://localhost:8080/",
          "height": 1000
        },
        "id": "fryBVAvkaeN9",
        "outputId": "ea2fb640-457c-4527-dc9b-0ac0f3f64f6e"
      },
      "execution_count": 40,
      "outputs": [
        {
          "output_type": "display_data",
          "data": {
            "text/plain": [
              "<Figure size 600x600 with 1 Axes>"
            ],
            "image/png": "[encoded data removed]"
          },
          "metadata": {}
        },
        {
          "output_type": "stream",
          "name": "stdout",
          "text": [
            "\n",
            "\n",
            "FOR TESTING SET: \n",
            "              precision    recall  f1-score   support\n",
            "\n",
            "           0       0.98      0.94      0.96      7347\n",
            "           1       0.94      0.98      0.96      7078\n",
            "\n",
            "    accuracy                           0.96     14425\n",
            "   macro avg       0.96      0.96      0.96     14425\n",
            "weighted avg       0.96      0.96      0.96     14425\n",
            "\n",
            "\n",
            "\n",
            "ROC AUC Score: 99.48%\n",
            "\n",
            "\n"
          ]
        },
        {
          "output_type": "display_data",
          "data": {
            "text/plain": [
              "<Figure size 1000x600 with 1 Axes>"
            ],
            "image/png": "[encoded data removed]"
          },
          "metadata": {}
        }
      ]
    },
    {
      "cell_type": "code",
      "source": [],
      "metadata": {
        "id": "p_AcjTRYm6dl"
      },
      "execution_count": null,
      "outputs": []
    }
  ],
  "metadata": {
    "accelerator": "GPU",
    "colab": {
      "gpuType": "T4",
      "provenance": []
    },
    "kernelspec": {
      "display_name": "capstone",
      "language": "python",
      "name": "python3"
    },
    "language_info": {
      "codemirror_mode": {
        "name": "ipython",
        "version": 3
      },
      "file_extension": ".py",
      "mimetype": "text/x-python",
      "name": "python",
      "nbconvert_exporter": "python",
      "pygments_lexer": "ipython3",
      "version": "3.11.13"
    }
  },
  "nbformat": 4,
  "nbformat_minor": 0
}