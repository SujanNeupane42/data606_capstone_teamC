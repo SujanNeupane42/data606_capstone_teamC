{
  "cells": [
    {
      "cell_type": "code",
      "execution_count": 1,
      "metadata": {
        "id": "Ep64uuXCAR-I"
      },
      "outputs": [],
      "source": [
        "import os\n",
        "import pandas as pd\n",
        "import numpy as np\n",
        "\n",
        "import warnings\n",
        "warnings.filterwarnings(\"ignore\")"
      ]
    },
    {
      "cell_type": "code",
      "execution_count": 2,
      "metadata": {
        "colab": {
          "base_uri": "https://localhost:8080/"
        },
        "id": "5XsuEq8NAR-K",
        "outputId": "d4a80696-e996-43a6-8754-4dc094b6ccfb"
      },
      "outputs": [
        {
          "name": "stdout",
          "output_type": "stream",
          "text": [
            "GPU is available!\n",
            "Using device: NVIDIA GeForce GTX 1650 Ti\n"
          ]
        }
      ],
      "source": [
        "import torch\n",
        "\n",
        "if torch.cuda.is_available():\n",
        "    print(\"GPU is available!\")\n",
        "    print(f\"Using device: {torch.cuda.get_device_name(0)}\")\n",
        "else:\n",
        "    print(\"No GPU. Using CPU.\")"
      ]
    },
    {
      "cell_type": "code",
      "execution_count": 3,
      "metadata": {
        "colab": {
          "base_uri": "https://localhost:8080/"
        },
        "id": "mGtwY4L3AcR2",
        "outputId": "b95c16f6-e3fa-40fa-c091-bc15d357897b"
      },
      "outputs": [
        {
          "name": "stdout",
          "output_type": "stream",
          "text": [
            "Downloading...\n",
            "From (original): https://drive.google.com/uc?id=1bzTrvDtnVOeL9Ft_6omSKumvU8qaO3vw\n",
            "From (redirected): https://drive.google.com/uc?id=1bzTrvDtnVOeL9Ft_6omSKumvU8qaO3vw&confirm=t&uuid=48545c21-c4e9-494e-87f9-a5a050a3214c\n",
            "To: /content/final_data_with_summarization.csv\n",
            "100% 288M/288M [00:03<00:00, 90.4MB/s]\n"
          ]
        }
      ],
      "source": [
        "!pip install gdown --quiet\n",
        "!gdown '1bzTrvDtnVOeL9Ft_6omSKumvU8qaO3vw'"
      ]
    },
    {
      "cell_type": "markdown",
      "metadata": {
        "id": "jH1vhAMdAR-L"
      },
      "source": [
        "# 1. Loading the Data"
      ]
    },
    {
      "cell_type": "code",
      "execution_count": 3,
      "metadata": {
        "id": "6FrfSlm2zdG-"
      },
      "outputs": [],
      "source": [
        "df = pd.read_csv(r\"final_data_with_summarization.csv\")"
      ]
    },
    {
      "cell_type": "code",
      "execution_count": 4,
      "metadata": {},
      "outputs": [
        {
          "data": {
            "text/html": [
              "<div>\n",
              "<style scoped>\n",
              "    .dataframe tbody tr th:only-of-type {\n",
              "        vertical-align: middle;\n",
              "    }\n",
              "\n",
              "    .dataframe tbody tr th {\n",
              "        vertical-align: top;\n",
              "    }\n",
              "\n",
              "    .dataframe thead th {\n",
              "        text-align: right;\n",
              "    }\n",
              "</style>\n",
              "<table border=\"1\" class=\"dataframe\">\n",
              "  <thead>\n",
              "    <tr style=\"text-align: right;\">\n",
              "      <th></th>\n",
              "      <th>title</th>\n",
              "      <th>text</th>\n",
              "      <th>label</th>\n",
              "      <th>title_tokens</th>\n",
              "      <th>text_tokens</th>\n",
              "      <th>text_summary</th>\n",
              "    </tr>\n",
              "  </thead>\n",
              "  <tbody>\n",
              "    <tr>\n",
              "      <th>0</th>\n",
              "      <td>NaN</td>\n",
              "      <td>Did they post their votes for Hillary already?</td>\n",
              "      <td>1</td>\n",
              "      <td>2</td>\n",
              "      <td>11</td>\n",
              "      <td>NaN</td>\n",
              "    </tr>\n",
              "    <tr>\n",
              "      <th>1</th>\n",
              "      <td>UNBELIEVABLE! OBAMA’S ATTORNEY GENERAL SAYS MO...</td>\n",
              "      <td>Now, most of the demonstrators gathered last ...</td>\n",
              "      <td>1</td>\n",
              "      <td>30</td>\n",
              "      <td>38</td>\n",
              "      <td>NaN</td>\n",
              "    </tr>\n",
              "    <tr>\n",
              "      <th>2</th>\n",
              "      <td>SATAN 2: Russia unvelis an image of its terrif...</td>\n",
              "      <td>The RS-28 Sarmat missile, dubbed Satan 2, will...</td>\n",
              "      <td>1</td>\n",
              "      <td>25</td>\n",
              "      <td>425</td>\n",
              "      <td>NaN</td>\n",
              "    </tr>\n",
              "    <tr>\n",
              "      <th>3</th>\n",
              "      <td>About Time! Christian Group Sues Amazon and SP...</td>\n",
              "      <td>All we can say on this one is it s about time ...</td>\n",
              "      <td>1</td>\n",
              "      <td>18</td>\n",
              "      <td>325</td>\n",
              "      <td>NaN</td>\n",
              "    </tr>\n",
              "    <tr>\n",
              "      <th>4</th>\n",
              "      <td>DR BEN CARSON TARGETED BY THE IRS: “I never ha...</td>\n",
              "      <td>DR. BEN CARSON TELLS THE STORY OF WHAT HAPPENE...</td>\n",
              "      <td>1</td>\n",
              "      <td>26</td>\n",
              "      <td>19</td>\n",
              "      <td>NaN</td>\n",
              "    </tr>\n",
              "    <tr>\n",
              "      <th>...</th>\n",
              "      <td>...</td>\n",
              "      <td>...</td>\n",
              "      <td>...</td>\n",
              "      <td>...</td>\n",
              "      <td>...</td>\n",
              "      <td>...</td>\n",
              "    </tr>\n",
              "    <tr>\n",
              "      <th>72118</th>\n",
              "      <td>Russians steal research on Trump in hack of U....</td>\n",
              "      <td>WASHINGTON (Reuters) - Hackers believed to be ...</td>\n",
              "      <td>0</td>\n",
              "      <td>16</td>\n",
              "      <td>972</td>\n",
              "      <td>Hackers believed to be working for the Russian...</td>\n",
              "    </tr>\n",
              "    <tr>\n",
              "      <th>72119</th>\n",
              "      <td>WATCH: Giuliani Demands That Democrats Apolog...</td>\n",
              "      <td>You know, because in fantasyland Republicans n...</td>\n",
              "      <td>1</td>\n",
              "      <td>19</td>\n",
              "      <td>724</td>\n",
              "      <td>Giuliani demands that Democrats apologize for ...</td>\n",
              "    </tr>\n",
              "    <tr>\n",
              "      <th>72120</th>\n",
              "      <td>Migrants Refuse To Leave Train At Refugee Camp...</td>\n",
              "      <td>Migrants Refuse To Leave Train At Refugee Camp...</td>\n",
              "      <td>0</td>\n",
              "      <td>12</td>\n",
              "      <td>593</td>\n",
              "      <td>Thousands of migrants flooded into a train sta...</td>\n",
              "    </tr>\n",
              "    <tr>\n",
              "      <th>72121</th>\n",
              "      <td>Trump tussle gives unpopular Mexican leader mu...</td>\n",
              "      <td>MEXICO CITY (Reuters) - Donald Trump’s combati...</td>\n",
              "      <td>0</td>\n",
              "      <td>16</td>\n",
              "      <td>730</td>\n",
              "      <td>Donald Trump's combative style has buffeted Me...</td>\n",
              "    </tr>\n",
              "    <tr>\n",
              "      <th>72122</th>\n",
              "      <td>Goldman Sachs Endorses Hillary Clinton For Pre...</td>\n",
              "      <td>Goldman Sachs Endorses Hillary Clinton For Pre...</td>\n",
              "      <td>1</td>\n",
              "      <td>11</td>\n",
              "      <td>568</td>\n",
              "      <td>Goldman Sachs CEO Lloyd Blankfein endorsed Hil...</td>\n",
              "    </tr>\n",
              "  </tbody>\n",
              "</table>\n",
              "<p>72123 rows × 6 columns</p>\n",
              "</div>"
            ],
            "text/plain": [
              "                                                   title  \\\n",
              "0                                                    NaN   \n",
              "1      UNBELIEVABLE! OBAMA’S ATTORNEY GENERAL SAYS MO...   \n",
              "2      SATAN 2: Russia unvelis an image of its terrif...   \n",
              "3      About Time! Christian Group Sues Amazon and SP...   \n",
              "4      DR BEN CARSON TARGETED BY THE IRS: “I never ha...   \n",
              "...                                                  ...   \n",
              "72118  Russians steal research on Trump in hack of U....   \n",
              "72119   WATCH: Giuliani Demands That Democrats Apolog...   \n",
              "72120  Migrants Refuse To Leave Train At Refugee Camp...   \n",
              "72121  Trump tussle gives unpopular Mexican leader mu...   \n",
              "72122  Goldman Sachs Endorses Hillary Clinton For Pre...   \n",
              "\n",
              "                                                    text  label  title_tokens  \\\n",
              "0         Did they post their votes for Hillary already?      1             2   \n",
              "1       Now, most of the demonstrators gathered last ...      1            30   \n",
              "2      The RS-28 Sarmat missile, dubbed Satan 2, will...      1            25   \n",
              "3      All we can say on this one is it s about time ...      1            18   \n",
              "4      DR. BEN CARSON TELLS THE STORY OF WHAT HAPPENE...      1            26   \n",
              "...                                                  ...    ...           ...   \n",
              "72118  WASHINGTON (Reuters) - Hackers believed to be ...      0            16   \n",
              "72119  You know, because in fantasyland Republicans n...      1            19   \n",
              "72120  Migrants Refuse To Leave Train At Refugee Camp...      0            12   \n",
              "72121  MEXICO CITY (Reuters) - Donald Trump’s combati...      0            16   \n",
              "72122  Goldman Sachs Endorses Hillary Clinton For Pre...      1            11   \n",
              "\n",
              "       text_tokens                                       text_summary  \n",
              "0               11                                                NaN  \n",
              "1               38                                                NaN  \n",
              "2              425                                                NaN  \n",
              "3              325                                                NaN  \n",
              "4               19                                                NaN  \n",
              "...            ...                                                ...  \n",
              "72118          972  Hackers believed to be working for the Russian...  \n",
              "72119          724  Giuliani demands that Democrats apologize for ...  \n",
              "72120          593  Thousands of migrants flooded into a train sta...  \n",
              "72121          730  Donald Trump's combative style has buffeted Me...  \n",
              "72122          568  Goldman Sachs CEO Lloyd Blankfein endorsed Hil...  \n",
              "\n",
              "[72123 rows x 6 columns]"
            ]
          },
          "execution_count": 4,
          "metadata": {},
          "output_type": "execute_result"
        }
      ],
      "source": [
        "df"
      ]
    },
    {
      "cell_type": "code",
      "execution_count": 5,
      "metadata": {
        "id": "KJzPvGySziJj"
      },
      "outputs": [],
      "source": [
        "df[\"input\"] = df[\"text_summary\"].fillna(df[\"text\"])"
      ]
    },
    {
      "cell_type": "code",
      "execution_count": 6,
      "metadata": {
        "colab": {
          "base_uri": "https://localhost:8080/"
        },
        "id": "k3RRx1BcAR-N",
        "outputId": "b1ac5b5d-b68a-459d-c32d-ad1fc8b668bb"
      },
      "outputs": [
        {
          "data": {
            "text/plain": [
              "np.int64(39)"
            ]
          },
          "execution_count": 6,
          "metadata": {},
          "output_type": "execute_result"
        }
      ],
      "source": [
        "df[\"input\"].isnull().sum()"
      ]
    },
    {
      "cell_type": "code",
      "execution_count": 7,
      "metadata": {
        "id": "Qwn21XOXAR-N"
      },
      "outputs": [],
      "source": [
        "X = df[\"title\"].fillna(\"\") + \" \" + df[\"input\"].fillna(\"\")"
      ]
    },
    {
      "cell_type": "code",
      "execution_count": 8,
      "metadata": {
        "id": "tnlJUGjhAR-N"
      },
      "outputs": [],
      "source": [
        "# now fake = 1\n",
        "df[\"label\"] = df[\"label\"].map({0: 1, 1: 0})"
      ]
    },
    {
      "cell_type": "code",
      "execution_count": 9,
      "metadata": {
        "id": "BgHHgofHAR-O"
      },
      "outputs": [],
      "source": [
        "Y = df[\"label\"]"
      ]
    },
    {
      "cell_type": "code",
      "execution_count": 10,
      "metadata": {
        "id": "qLspDJgOAR-O"
      },
      "outputs": [],
      "source": [
        "from sklearn.model_selection import train_test_split\n",
        "X_train, X_test, Y_train, Y_test = train_test_split(X, Y, test_size=0.2, random_state=42)\n",
        "\n",
        "X_train, X_val, Y_train, Y_val = train_test_split(X_train, Y_train, test_size=0.15, random_state=42)"
      ]
    },
    {
      "cell_type": "code",
      "execution_count": 11,
      "metadata": {
        "colab": {
          "base_uri": "https://localhost:8080/"
        },
        "id": "x6t51gyJAR-O",
        "outputId": "768b3e0a-2caf-4df8-bf13-c669c3e0fcff"
      },
      "outputs": [
        {
          "data": {
            "text/plain": [
              "((49043,), (8655,), (14425,))"
            ]
          },
          "execution_count": 11,
          "metadata": {},
          "output_type": "execute_result"
        }
      ],
      "source": [
        "X_train.shape, X_val.shape, X_test.shape"
      ]
    },
    {
      "cell_type": "markdown",
      "metadata": {
        "id": "2j8dJZ0BAR-P"
      },
      "source": [
        "# 2. Tokenization\n",
        "\n",
        "We use the [sentence-transformers/all-MiniLM-L6-v2](https://huggingface.co/sentence-transformers/all-MiniLM-L6-v2) embedding model from huggingface.\n",
        "\n",
        "This embedding model is relatively lightweight, one of the most popular ones, and converts an input text (max 512 tokens) into a 384 dimensional dense vector embedding.\n",
        "\n",
        "\n",
        "The produced embedding can be used for checking sentence similarity, clustering, information retrieval, or text classification by passing in the embeddings as input features."
      ]
    },
    {
      "cell_type": "code",
      "execution_count": 12,
      "metadata": {
        "id": "uzor7QRTAR-P"
      },
      "outputs": [],
      "source": [
        "from sentence_transformers import SentenceTransformer\n",
        "from transformers import AutoTokenizer, AutoModel"
      ]
    },
    {
      "cell_type": "code",
      "execution_count": 13,
      "metadata": {
        "id": "9Iz_mzhRAR-Q"
      },
      "outputs": [],
      "source": [
        "model = SentenceTransformer('sentence-transformers/all-MiniLM-L6-v2')"
      ]
    },
    {
      "cell_type": "code",
      "execution_count": 14,
      "metadata": {
        "colab": {
          "base_uri": "https://localhost:8080/"
        },
        "id": "XGToXIWqAR-Q",
        "outputId": "0bd73eed-8b30-4b0e-c534-86974445d2cd"
      },
      "outputs": [
        {
          "data": {
            "text/plain": [
              "SentenceTransformer(\n",
              "  (0): Transformer({'max_seq_length': 256, 'do_lower_case': False}) with Transformer model: BertModel \n",
              "  (1): Pooling({'word_embedding_dimension': 384, 'pooling_mode_cls_token': False, 'pooling_mode_mean_tokens': True, 'pooling_mode_max_tokens': False, 'pooling_mode_mean_sqrt_len_tokens': False, 'pooling_mode_weightedmean_tokens': False, 'pooling_mode_lasttoken': False, 'include_prompt': True})\n",
              "  (2): Normalize()\n",
              ")"
            ]
          },
          "execution_count": 14,
          "metadata": {},
          "output_type": "execute_result"
        }
      ],
      "source": [
        "model"
      ]
    },
    {
      "cell_type": "code",
      "execution_count": 15,
      "metadata": {
        "colab": {
          "base_uri": "https://localhost:8080/"
        },
        "id": "NQ6T2FOiBH-u",
        "outputId": "7dab3e5a-1eb9-42f3-a68d-e252ccb64e7a"
      },
      "outputs": [
        {
          "data": {
            "text/plain": [
              "device(type='cuda', index=0)"
            ]
          },
          "execution_count": 15,
          "metadata": {},
          "output_type": "execute_result"
        }
      ],
      "source": [
        "model.device"
      ]
    },
    {
      "cell_type": "markdown",
      "metadata": {
        "id": "6Gnb5eUSAR-Q"
      },
      "source": [
        "# 3. Generating Embeddings"
      ]
    },
    {
      "cell_type": "code",
      "execution_count": 16,
      "metadata": {
        "id": "mn7fkbViAR-Q"
      },
      "outputs": [],
      "source": [
        "X_train = X_train.values.tolist()\n",
        "X_val = X_val.values.tolist()\n",
        "X_test = X_test.values.tolist()\n",
        "\n",
        "Y_train = Y_train.values.tolist()\n",
        "Y_val = Y_val.values.tolist()\n",
        "Y_test = Y_test.values.tolist()"
      ]
    },
    {
      "cell_type": "code",
      "execution_count": 17,
      "metadata": {
        "colab": {
          "base_uri": "https://localhost:8080/"
        },
        "id": "DqYrOxYwAR-Q",
        "outputId": "788779b2-24d8-4b94-b469-ce1f8e98510c"
      },
      "outputs": [
        {
          "data": {
            "text/plain": [
              "(49043, 8655, 14425)"
            ]
          },
          "execution_count": 17,
          "metadata": {},
          "output_type": "execute_result"
        }
      ],
      "source": [
        "len(X_train), len(X_val), len(X_test)"
      ]
    },
    {
      "cell_type": "code",
      "execution_count": 18,
      "metadata": {
        "id": "FGnGi-HKAR-R"
      },
      "outputs": [],
      "source": [
        "from tqdm import tqdm"
      ]
    },
    {
      "cell_type": "code",
      "execution_count": 19,
      "metadata": {
        "id": "7_150NfYAR-R"
      },
      "outputs": [],
      "source": [
        "def batch_encode(text_list, model, batch_size=2048*3):\n",
        "    embeddings = []\n",
        "    for i in tqdm(range(0, len(text_list), batch_size)):\n",
        "        batch = text_list[i:i+batch_size]\n",
        "        batch_emb = model.encode(batch)\n",
        "        embeddings.extend(batch_emb)\n",
        "    return embeddings"
      ]
    },
    {
      "cell_type": "code",
      "execution_count": 20,
      "metadata": {
        "colab": {
          "base_uri": "https://localhost:8080/"
        },
        "id": "uWewgiaXAR-R",
        "outputId": "710ef373-5b56-4ab5-a63a-41a05797a64a"
      },
      "outputs": [
        {
          "name": "stderr",
          "output_type": "stream",
          "text": [
            "100%|██████████| 2/2 [00:39<00:00, 19.72s/it]\n"
          ]
        }
      ],
      "source": [
        "X_val_embeddings = batch_encode(X_val, model)"
      ]
    },
    {
      "cell_type": "code",
      "execution_count": 21,
      "metadata": {
        "colab": {
          "base_uri": "https://localhost:8080/"
        },
        "id": "qN7jrm-dAR-R",
        "outputId": "5d7bcd07-58c1-4c27-b576-3217a4709734"
      },
      "outputs": [
        {
          "name": "stderr",
          "output_type": "stream",
          "text": [
            "100%|██████████| 8/8 [02:31<00:00, 18.96s/it]\n"
          ]
        }
      ],
      "source": [
        "X_train_embeddings = batch_encode(X_train, model)"
      ]
    },
    {
      "cell_type": "code",
      "execution_count": 22,
      "metadata": {
        "colab": {
          "base_uri": "https://localhost:8080/"
        },
        "id": "WwJfcgc8AR-R",
        "outputId": "54254fc6-89e8-4c50-e5a0-e739171549f5"
      },
      "outputs": [
        {
          "name": "stderr",
          "output_type": "stream",
          "text": [
            "100%|██████████| 3/3 [00:40<00:00, 13.52s/it]\n"
          ]
        }
      ],
      "source": [
        "X_test_embeddings = batch_encode(X_test, model)"
      ]
    },
    {
      "cell_type": "markdown",
      "metadata": {
        "id": "Gx_iy_MBAR-S"
      },
      "source": [
        "# 4. Model Training, Optimization and Evaluation"
      ]
    },
    {
      "cell_type": "markdown",
      "metadata": {
        "id": "eCyEbXFOCaVz"
      },
      "source": [
        "## 4.1 Custom Helper Functions"
      ]
    },
    {
      "cell_type": "code",
      "execution_count": 23,
      "metadata": {
        "id": "W9BMXKDGCfK3"
      },
      "outputs": [],
      "source": [
        "from sklearn.metrics import accuracy_score\n",
        "from sklearn.model_selection import ParameterSampler\n",
        "from tqdm import tqdm\n",
        "import copy"
      ]
    },
    {
      "cell_type": "code",
      "execution_count": 24,
      "metadata": {
        "id": "nro5zEaiCaAs"
      },
      "outputs": [],
      "source": [
        "def randomized_search(model_class, param_distributions, X_train, y_train, X_val, y_val, n_iter=10, random_state=42):\n",
        "    \"\"\"\n",
        "    Custom randomized search for hyperparameter tuning.\n",
        "    \"\"\"\n",
        "\n",
        "    np.random.seed(random_state)\n",
        "    param_list = list(ParameterSampler(param_distributions, n_iter=n_iter, random_state=random_state))\n",
        "    best_score = -np.inf\n",
        "    best_model = None\n",
        "    all_results = []\n",
        "\n",
        "    for i, params in enumerate(tqdm(param_list)):\n",
        "        try:\n",
        "            model = model_class(**params)\n",
        "            model.fit(X_train, y_train)\n",
        "            preds = model.predict(X_val)\n",
        "\n",
        "            score = accuracy_score(y_val, preds)\n",
        "            all_results.append((params, score))\n",
        "\n",
        "            if score > best_score:\n",
        "                best_score = score\n",
        "                best_model = copy.deepcopy(model) # keeping track of the best perfomring model\n",
        "        except Exception as e:\n",
        "            print(f\"Error with params {params}: {e}\")\n",
        "            continue\n",
        "\n",
        "    print(f\"\\nBest: {best_score:.4f} with params: {all_results[np.argmax([s for _, s in all_results])][0]}\")\n",
        "    return best_model, best_score, all_results\n"
      ]
    },
    {
      "cell_type": "code",
      "execution_count": 25,
      "metadata": {
        "id": "7onkNLIGDtr1"
      },
      "outputs": [],
      "source": [
        "from sklearn.metrics import confusion_matrix, classification_report, roc_auc_score, roc_curve, auc\n",
        "import matplotlib.pyplot as plt\n",
        "import seaborn as sns"
      ]
    },
    {
      "cell_type": "code",
      "execution_count": 26,
      "metadata": {
        "id": "TPBTXGYsDU-A"
      },
      "outputs": [],
      "source": [
        "def perform_deep_test_analysis(y_test, test_preds: np.array, test_preds_proba: np.array, model_name: str) -> None:\n",
        "    \"\"\"\"\n",
        "    This function takes in a model object and model name, and performs a deep analysis on the model's performance on the test set.\n",
        "    It prints classification report, confusion matrix, ROC AUC score and plots the ROC curve.\n",
        "    \"\"\"\n",
        "    cm = confusion_matrix(y_test, test_preds)\n",
        "\n",
        "    plt.figure(figsize=(6, 6))\n",
        "    sns.heatmap(cm, annot=True, fmt='d', cmap='coolwarm', cbar=False)\n",
        "    plt.xlabel('Predicted')\n",
        "    plt.ylabel('Actual')\n",
        "    plt.title('Confusion Matrix')\n",
        "    plt.show()\n",
        "\n",
        "    print(\"\\n\")\n",
        "    print(\"FOR TESTING SET: \")\n",
        "    print(classification_report(y_test, test_preds))\n",
        "    print(\"\\n\")\n",
        "\n",
        "    print(f\"ROC AUC Score: {roc_auc_score(y_test, test_preds_proba):.2%}\")\n",
        "    print(\"\\n\")\n",
        "\n",
        "    fpr, tpr, _ = roc_curve(y_test, test_preds_proba)\n",
        "    roc_auc = auc(fpr, tpr)\n",
        "\n",
        "    plt.figure(figsize=(10, 6))\n",
        "    plt.plot(fpr, tpr, color='darkorange', lw=2, label=f'ROC curve (area = {roc_auc:.2f})')\n",
        "    plt.plot([0, 1], [0, 1], color='navy', lw=2, linestyle='--')\n",
        "    plt.xlim([0.0, 1.0])\n",
        "    plt.ylim([0.0, 1.05])\n",
        "    plt.xlabel('False Positive Rate')\n",
        "    plt.ylabel('True Positive Rate')\n",
        "    plt.title(f'Receiver Operating Characteristic Curve for {model_name}')\n",
        "    plt.legend(loc=\"lower right\")\n",
        "    plt.show()"
      ]
    },
    {
      "cell_type": "code",
      "execution_count": 27,
      "metadata": {
        "id": "R2glI-jzKlC5"
      },
      "outputs": [],
      "source": [
        "import pickle"
      ]
    },
    {
      "cell_type": "code",
      "execution_count": 28,
      "metadata": {
        "id": "0vS4ZhonKl4T"
      },
      "outputs": [],
      "source": [
        "def export_model(model, model_name):\n",
        "  with open(f\"{model_name}.pkl\", \"wb\") as f:\n",
        "    pickle.dump(model, f)\n",
        "\n",
        "  print(f\"Model {model_name} has been exported!!!\")"
      ]
    },
    {
      "cell_type": "markdown",
      "metadata": {
        "id": "Y3pYWi2XAR-S"
      },
      "source": [
        "# 4.2 Logistic Regression"
      ]
    },
    {
      "cell_type": "code",
      "execution_count": 29,
      "metadata": {
        "id": "-6O3ZvktAR-T"
      },
      "outputs": [],
      "source": [
        "from sklearn.linear_model import LogisticRegression"
      ]
    },
    {
      "cell_type": "code",
      "execution_count": 30,
      "metadata": {
        "colab": {
          "base_uri": "https://localhost:8080/"
        },
        "id": "p_6EnXPWAR-T",
        "outputId": "6aee2fea-db09-4234-db38-60498af5cd88"
      },
      "outputs": [
        {
          "name": "stderr",
          "output_type": "stream",
          "text": [
            "100%|██████████| 10/10 [00:30<00:00,  3.05s/it]"
          ]
        },
        {
          "name": "stdout",
          "output_type": "stream",
          "text": [
            "\n",
            "Best: 0.8358 with params: {'solver': 'liblinear', 'random_state': 42, 'penalty': 'l2', 'max_iter': 1000, 'C': np.float64(2.9763514416313193)}\n"
          ]
        },
        {
          "name": "stderr",
          "output_type": "stream",
          "text": [
            "\n"
          ]
        }
      ],
      "source": [
        "param_for_logistic_regression = {\n",
        "    'C': np.logspace(-4, 1, 20),\n",
        "    'penalty': ['l1', 'l2'],\n",
        "    'solver': ['liblinear', 'saga'],\n",
        "    'max_iter': [1000],\n",
        "    \"random_state\": [42]\n",
        "}\n",
        "\n",
        "logisticRegression_Model, best_score, search_results = randomized_search(\n",
        "    LogisticRegression,\n",
        "    param_distributions=param_for_logistic_regression,\n",
        "    X_train=X_train_embeddings,\n",
        "    y_train=Y_train,\n",
        "    X_val=X_val_embeddings,\n",
        "    y_val=Y_val,\n",
        "    n_iter=10,\n",
        ")\n"
      ]
    },
    {
      "cell_type": "code",
      "execution_count": 31,
      "metadata": {
        "colab": {
          "base_uri": "https://localhost:8080/",
          "height": 97
        },
        "id": "7z-ELP2rJdu4",
        "outputId": "17394895-ba4f-41da-f998-c253ca72f8d6"
      },
      "outputs": [
        {
          "data": {
            "text/html": [
              "<style>#sk-container-id-1 {\n",
              "  /* Definition of color scheme common for light and dark mode */\n",
              "  --sklearn-color-text: #000;\n",
              "  --sklearn-color-text-muted: #666;\n",
              "  --sklearn-color-line: gray;\n",
              "  /* Definition of color scheme for unfitted estimators */\n",
              "  --sklearn-color-unfitted-level-0: #fff5e6;\n",
              "  --sklearn-color-unfitted-level-1: #f6e4d2;\n",
              "  --sklearn-color-unfitted-level-2: #ffe0b3;\n",
              "  --sklearn-color-unfitted-level-3: chocolate;\n",
              "  /* Definition of color scheme for fitted estimators */\n",
              "  --sklearn-color-fitted-level-0: #f0f8ff;\n",
              "  --sklearn-color-fitted-level-1: #d4ebff;\n",
              "  --sklearn-color-fitted-level-2: #b3dbfd;\n",
              "  --sklearn-color-fitted-level-3: cornflowerblue;\n",
              "\n",
              "  /* Specific color for light theme */\n",
              "  --sklearn-color-text-on-default-background: var(--sg-text-color, var(--theme-code-foreground, var(--jp-content-font-color1, black)));\n",
              "  --sklearn-color-background: var(--sg-background-color, var(--theme-background, var(--jp-layout-color0, white)));\n",
              "  --sklearn-color-border-box: var(--sg-text-color, var(--theme-code-foreground, var(--jp-content-font-color1, black)));\n",
              "  --sklearn-color-icon: #696969;\n",
              "\n",
              "  @media (prefers-color-scheme: dark) {\n",
              "    /* Redefinition of color scheme for dark theme */\n",
              "    --sklearn-color-text-on-default-background: var(--sg-text-color, var(--theme-code-foreground, var(--jp-content-font-color1, white)));\n",
              "    --sklearn-color-background: var(--sg-background-color, var(--theme-background, var(--jp-layout-color0, #111)));\n",
              "    --sklearn-color-border-box: var(--sg-text-color, var(--theme-code-foreground, var(--jp-content-font-color1, white)));\n",
              "    --sklearn-color-icon: #878787;\n",
              "  }\n",
              "}\n",
              "\n",
              "#sk-container-id-1 {\n",
              "  color: var(--sklearn-color-text);\n",
              "}\n",
              "\n",
              "#sk-container-id-1 pre {\n",
              "  padding: 0;\n",
              "}\n",
              "\n",
              "#sk-container-id-1 input.sk-hidden--visually {\n",
              "  border: 0;\n",
              "  clip: rect(1px 1px 1px 1px);\n",
              "  clip: rect(1px, 1px, 1px, 1px);\n",
              "  height: 1px;\n",
              "  margin: -1px;\n",
              "  overflow: hidden;\n",
              "  padding: 0;\n",
              "  position: absolute;\n",
              "  width: 1px;\n",
              "}\n",
              "\n",
              "#sk-container-id-1 div.sk-dashed-wrapped {\n",
              "  border: 1px dashed var(--sklearn-color-line);\n",
              "  margin: 0 0.4em 0.5em 0.4em;\n",
              "  box-sizing: border-box;\n",
              "  padding-bottom: 0.4em;\n",
              "  background-color: var(--sklearn-color-background);\n",
              "}\n",
              "\n",
              "#sk-container-id-1 div.sk-container {\n",
              "  /* jupyter's `normalize.less` sets `[hidden] { display: none; }`\n",
              "     but bootstrap.min.css set `[hidden] { display: none !important; }`\n",
              "     so we also need the `!important` here to be able to override the\n",
              "     default hidden behavior on the sphinx rendered scikit-learn.org.\n",
              "     See: https://github.com/scikit-learn/scikit-learn/issues/21755 */\n",
              "  display: inline-block !important;\n",
              "  position: relative;\n",
              "}\n",
              "\n",
              "#sk-container-id-1 div.sk-text-repr-fallback {\n",
              "  display: none;\n",
              "}\n",
              "\n",
              "div.sk-parallel-item,\n",
              "div.sk-serial,\n",
              "div.sk-item {\n",
              "  /* draw centered vertical line to link estimators */\n",
              "  background-image: linear-gradient(var(--sklearn-color-text-on-default-background), var(--sklearn-color-text-on-default-background));\n",
              "  background-size: 2px 100%;\n",
              "  background-repeat: no-repeat;\n",
              "  background-position: center center;\n",
              "}\n",
              "\n",
              "/* Parallel-specific style estimator block */\n",
              "\n",
              "#sk-container-id-1 div.sk-parallel-item::after {\n",
              "  content: \"\";\n",
              "  width: 100%;\n",
              "  border-bottom: 2px solid var(--sklearn-color-text-on-default-background);\n",
              "  flex-grow: 1;\n",
              "}\n",
              "\n",
              "#sk-container-id-1 div.sk-parallel {\n",
              "  display: flex;\n",
              "  align-items: stretch;\n",
              "  justify-content: center;\n",
              "  background-color: var(--sklearn-color-background);\n",
              "  position: relative;\n",
              "}\n",
              "\n",
              "#sk-container-id-1 div.sk-parallel-item {\n",
              "  display: flex;\n",
              "  flex-direction: column;\n",
              "}\n",
              "\n",
              "#sk-container-id-1 div.sk-parallel-item:first-child::after {\n",
              "  align-self: flex-end;\n",
              "  width: 50%;\n",
              "}\n",
              "\n",
              "#sk-container-id-1 div.sk-parallel-item:last-child::after {\n",
              "  align-self: flex-start;\n",
              "  width: 50%;\n",
              "}\n",
              "\n",
              "#sk-container-id-1 div.sk-parallel-item:only-child::after {\n",
              "  width: 0;\n",
              "}\n",
              "\n",
              "/* Serial-specific style estimator block */\n",
              "\n",
              "#sk-container-id-1 div.sk-serial {\n",
              "  display: flex;\n",
              "  flex-direction: column;\n",
              "  align-items: center;\n",
              "  background-color: var(--sklearn-color-background);\n",
              "  padding-right: 1em;\n",
              "  padding-left: 1em;\n",
              "}\n",
              "\n",
              "\n",
              "/* Toggleable style: style used for estimator/Pipeline/ColumnTransformer box that is\n",
              "clickable and can be expanded/collapsed.\n",
              "- Pipeline and ColumnTransformer use this feature and define the default style\n",
              "- Estimators will overwrite some part of the style using the `sk-estimator` class\n",
              "*/\n",
              "\n",
              "/* Pipeline and ColumnTransformer style (default) */\n",
              "\n",
              "#sk-container-id-1 div.sk-toggleable {\n",
              "  /* Default theme specific background. It is overwritten whether we have a\n",
              "  specific estimator or a Pipeline/ColumnTransformer */\n",
              "  background-color: var(--sklearn-color-background);\n",
              "}\n",
              "\n",
              "/* Toggleable label */\n",
              "#sk-container-id-1 label.sk-toggleable__label {\n",
              "  cursor: pointer;\n",
              "  display: flex;\n",
              "  width: 100%;\n",
              "  margin-bottom: 0;\n",
              "  padding: 0.5em;\n",
              "  box-sizing: border-box;\n",
              "  text-align: center;\n",
              "  align-items: start;\n",
              "  justify-content: space-between;\n",
              "  gap: 0.5em;\n",
              "}\n",
              "\n",
              "#sk-container-id-1 label.sk-toggleable__label .caption {\n",
              "  font-size: 0.6rem;\n",
              "  font-weight: lighter;\n",
              "  color: var(--sklearn-color-text-muted);\n",
              "}\n",
              "\n",
              "#sk-container-id-1 label.sk-toggleable__label-arrow:before {\n",
              "  /* Arrow on the left of the label */\n",
              "  content: \"▸\";\n",
              "  float: left;\n",
              "  margin-right: 0.25em;\n",
              "  color: var(--sklearn-color-icon);\n",
              "}\n",
              "\n",
              "#sk-container-id-1 label.sk-toggleable__label-arrow:hover:before {\n",
              "  color: var(--sklearn-color-text);\n",
              "}\n",
              "\n",
              "/* Toggleable content - dropdown */\n",
              "\n",
              "#sk-container-id-1 div.sk-toggleable__content {\n",
              "  max-height: 0;\n",
              "  max-width: 0;\n",
              "  overflow: hidden;\n",
              "  text-align: left;\n",
              "  /* unfitted */\n",
              "  background-color: var(--sklearn-color-unfitted-level-0);\n",
              "}\n",
              "\n",
              "#sk-container-id-1 div.sk-toggleable__content.fitted {\n",
              "  /* fitted */\n",
              "  background-color: var(--sklearn-color-fitted-level-0);\n",
              "}\n",
              "\n",
              "#sk-container-id-1 div.sk-toggleable__content pre {\n",
              "  margin: 0.2em;\n",
              "  border-radius: 0.25em;\n",
              "  color: var(--sklearn-color-text);\n",
              "  /* unfitted */\n",
              "  background-color: var(--sklearn-color-unfitted-level-0);\n",
              "}\n",
              "\n",
              "#sk-container-id-1 div.sk-toggleable__content.fitted pre {\n",
              "  /* unfitted */\n",
              "  background-color: var(--sklearn-color-fitted-level-0);\n",
              "}\n",
              "\n",
              "#sk-container-id-1 input.sk-toggleable__control:checked~div.sk-toggleable__content {\n",
              "  /* Expand drop-down */\n",
              "  max-height: 200px;\n",
              "  max-width: 100%;\n",
              "  overflow: auto;\n",
              "}\n",
              "\n",
              "#sk-container-id-1 input.sk-toggleable__control:checked~label.sk-toggleable__label-arrow:before {\n",
              "  content: \"▾\";\n",
              "}\n",
              "\n",
              "/* Pipeline/ColumnTransformer-specific style */\n",
              "\n",
              "#sk-container-id-1 div.sk-label input.sk-toggleable__control:checked~label.sk-toggleable__label {\n",
              "  color: var(--sklearn-color-text);\n",
              "  background-color: var(--sklearn-color-unfitted-level-2);\n",
              "}\n",
              "\n",
              "#sk-container-id-1 div.sk-label.fitted input.sk-toggleable__control:checked~label.sk-toggleable__label {\n",
              "  background-color: var(--sklearn-color-fitted-level-2);\n",
              "}\n",
              "\n",
              "/* Estimator-specific style */\n",
              "\n",
              "/* Colorize estimator box */\n",
              "#sk-container-id-1 div.sk-estimator input.sk-toggleable__control:checked~label.sk-toggleable__label {\n",
              "  /* unfitted */\n",
              "  background-color: var(--sklearn-color-unfitted-level-2);\n",
              "}\n",
              "\n",
              "#sk-container-id-1 div.sk-estimator.fitted input.sk-toggleable__control:checked~label.sk-toggleable__label {\n",
              "  /* fitted */\n",
              "  background-color: var(--sklearn-color-fitted-level-2);\n",
              "}\n",
              "\n",
              "#sk-container-id-1 div.sk-label label.sk-toggleable__label,\n",
              "#sk-container-id-1 div.sk-label label {\n",
              "  /* The background is the default theme color */\n",
              "  color: var(--sklearn-color-text-on-default-background);\n",
              "}\n",
              "\n",
              "/* On hover, darken the color of the background */\n",
              "#sk-container-id-1 div.sk-label:hover label.sk-toggleable__label {\n",
              "  color: var(--sklearn-color-text);\n",
              "  background-color: var(--sklearn-color-unfitted-level-2);\n",
              "}\n",
              "\n",
              "/* Label box, darken color on hover, fitted */\n",
              "#sk-container-id-1 div.sk-label.fitted:hover label.sk-toggleable__label.fitted {\n",
              "  color: var(--sklearn-color-text);\n",
              "  background-color: var(--sklearn-color-fitted-level-2);\n",
              "}\n",
              "\n",
              "/* Estimator label */\n",
              "\n",
              "#sk-container-id-1 div.sk-label label {\n",
              "  font-family: monospace;\n",
              "  font-weight: bold;\n",
              "  display: inline-block;\n",
              "  line-height: 1.2em;\n",
              "}\n",
              "\n",
              "#sk-container-id-1 div.sk-label-container {\n",
              "  text-align: center;\n",
              "}\n",
              "\n",
              "/* Estimator-specific */\n",
              "#sk-container-id-1 div.sk-estimator {\n",
              "  font-family: monospace;\n",
              "  border: 1px dotted var(--sklearn-color-border-box);\n",
              "  border-radius: 0.25em;\n",
              "  box-sizing: border-box;\n",
              "  margin-bottom: 0.5em;\n",
              "  /* unfitted */\n",
              "  background-color: var(--sklearn-color-unfitted-level-0);\n",
              "}\n",
              "\n",
              "#sk-container-id-1 div.sk-estimator.fitted {\n",
              "  /* fitted */\n",
              "  background-color: var(--sklearn-color-fitted-level-0);\n",
              "}\n",
              "\n",
              "/* on hover */\n",
              "#sk-container-id-1 div.sk-estimator:hover {\n",
              "  /* unfitted */\n",
              "  background-color: var(--sklearn-color-unfitted-level-2);\n",
              "}\n",
              "\n",
              "#sk-container-id-1 div.sk-estimator.fitted:hover {\n",
              "  /* fitted */\n",
              "  background-color: var(--sklearn-color-fitted-level-2);\n",
              "}\n",
              "\n",
              "/* Specification for estimator info (e.g. \"i\" and \"?\") */\n",
              "\n",
              "/* Common style for \"i\" and \"?\" */\n",
              "\n",
              ".sk-estimator-doc-link,\n",
              "a:link.sk-estimator-doc-link,\n",
              "a:visited.sk-estimator-doc-link {\n",
              "  float: right;\n",
              "  font-size: smaller;\n",
              "  line-height: 1em;\n",
              "  font-family: monospace;\n",
              "  background-color: var(--sklearn-color-background);\n",
              "  border-radius: 1em;\n",
              "  height: 1em;\n",
              "  width: 1em;\n",
              "  text-decoration: none !important;\n",
              "  margin-left: 0.5em;\n",
              "  text-align: center;\n",
              "  /* unfitted */\n",
              "  border: var(--sklearn-color-unfitted-level-1) 1pt solid;\n",
              "  color: var(--sklearn-color-unfitted-level-1);\n",
              "}\n",
              "\n",
              ".sk-estimator-doc-link.fitted,\n",
              "a:link.sk-estimator-doc-link.fitted,\n",
              "a:visited.sk-estimator-doc-link.fitted {\n",
              "  /* fitted */\n",
              "  border: var(--sklearn-color-fitted-level-1) 1pt solid;\n",
              "  color: var(--sklearn-color-fitted-level-1);\n",
              "}\n",
              "\n",
              "/* On hover */\n",
              "div.sk-estimator:hover .sk-estimator-doc-link:hover,\n",
              ".sk-estimator-doc-link:hover,\n",
              "div.sk-label-container:hover .sk-estimator-doc-link:hover,\n",
              ".sk-estimator-doc-link:hover {\n",
              "  /* unfitted */\n",
              "  background-color: var(--sklearn-color-unfitted-level-3);\n",
              "  color: var(--sklearn-color-background);\n",
              "  text-decoration: none;\n",
              "}\n",
              "\n",
              "div.sk-estimator.fitted:hover .sk-estimator-doc-link.fitted:hover,\n",
              ".sk-estimator-doc-link.fitted:hover,\n",
              "div.sk-label-container:hover .sk-estimator-doc-link.fitted:hover,\n",
              ".sk-estimator-doc-link.fitted:hover {\n",
              "  /* fitted */\n",
              "  background-color: var(--sklearn-color-fitted-level-3);\n",
              "  color: var(--sklearn-color-background);\n",
              "  text-decoration: none;\n",
              "}\n",
              "\n",
              "/* Span, style for the box shown on hovering the info icon */\n",
              ".sk-estimator-doc-link span {\n",
              "  display: none;\n",
              "  z-index: 9999;\n",
              "  position: relative;\n",
              "  font-weight: normal;\n",
              "  right: .2ex;\n",
              "  padding: .5ex;\n",
              "  margin: .5ex;\n",
              "  width: min-content;\n",
              "  min-width: 20ex;\n",
              "  max-width: 50ex;\n",
              "  color: var(--sklearn-color-text);\n",
              "  box-shadow: 2pt 2pt 4pt #999;\n",
              "  /* unfitted */\n",
              "  background: var(--sklearn-color-unfitted-level-0);\n",
              "  border: .5pt solid var(--sklearn-color-unfitted-level-3);\n",
              "}\n",
              "\n",
              ".sk-estimator-doc-link.fitted span {\n",
              "  /* fitted */\n",
              "  background: var(--sklearn-color-fitted-level-0);\n",
              "  border: var(--sklearn-color-fitted-level-3);\n",
              "}\n",
              "\n",
              ".sk-estimator-doc-link:hover span {\n",
              "  display: block;\n",
              "}\n",
              "\n",
              "/* \"?\"-specific style due to the `<a>` HTML tag */\n",
              "\n",
              "#sk-container-id-1 a.estimator_doc_link {\n",
              "  float: right;\n",
              "  font-size: 1rem;\n",
              "  line-height: 1em;\n",
              "  font-family: monospace;\n",
              "  background-color: var(--sklearn-color-background);\n",
              "  border-radius: 1rem;\n",
              "  height: 1rem;\n",
              "  width: 1rem;\n",
              "  text-decoration: none;\n",
              "  /* unfitted */\n",
              "  color: var(--sklearn-color-unfitted-level-1);\n",
              "  border: var(--sklearn-color-unfitted-level-1) 1pt solid;\n",
              "}\n",
              "\n",
              "#sk-container-id-1 a.estimator_doc_link.fitted {\n",
              "  /* fitted */\n",
              "  border: var(--sklearn-color-fitted-level-1) 1pt solid;\n",
              "  color: var(--sklearn-color-fitted-level-1);\n",
              "}\n",
              "\n",
              "/* On hover */\n",
              "#sk-container-id-1 a.estimator_doc_link:hover {\n",
              "  /* unfitted */\n",
              "  background-color: var(--sklearn-color-unfitted-level-3);\n",
              "  color: var(--sklearn-color-background);\n",
              "  text-decoration: none;\n",
              "}\n",
              "\n",
              "#sk-container-id-1 a.estimator_doc_link.fitted:hover {\n",
              "  /* fitted */\n",
              "  background-color: var(--sklearn-color-fitted-level-3);\n",
              "}\n",
              "</style><div id=\"sk-container-id-1\" class=\"sk-top-container\"><div class=\"sk-text-repr-fallback\"><pre>LogisticRegression(C=np.float64(2.9763514416313193), max_iter=1000,\n",
              "                   random_state=42, solver=&#x27;liblinear&#x27;)</pre><b>In a Jupyter environment, please rerun this cell to show the HTML representation or trust the notebook. <br />On GitHub, the HTML representation is unable to render, please try loading this page with nbviewer.org.</b></div><div class=\"sk-container\" hidden><div class=\"sk-item\"><div class=\"sk-estimator fitted sk-toggleable\"><input class=\"sk-toggleable__control sk-hidden--visually\" id=\"sk-estimator-id-1\" type=\"checkbox\" checked><label for=\"sk-estimator-id-1\" class=\"sk-toggleable__label fitted sk-toggleable__label-arrow\"><div><div>LogisticRegression</div></div><div><a class=\"sk-estimator-doc-link fitted\" rel=\"noreferrer\" target=\"_blank\" href=\"https://scikit-learn.org/1.6/modules/generated/sklearn.linear_model.LogisticRegression.html\">?<span>Documentation for LogisticRegression</span></a><span class=\"sk-estimator-doc-link fitted\">i<span>Fitted</span></span></div></label><div class=\"sk-toggleable__content fitted\"><pre>LogisticRegression(C=np.float64(2.9763514416313193), max_iter=1000,\n",
              "                   random_state=42, solver=&#x27;liblinear&#x27;)</pre></div> </div></div></div></div>"
            ],
            "text/plain": [
              "LogisticRegression(C=np.float64(2.9763514416313193), max_iter=1000,\n",
              "                   random_state=42, solver='liblinear')"
            ]
          },
          "execution_count": 31,
          "metadata": {},
          "output_type": "execute_result"
        }
      ],
      "source": [
        "logisticRegression_Model"
      ]
    },
    {
      "cell_type": "code",
      "execution_count": 32,
      "metadata": {
        "colab": {
          "base_uri": "https://localhost:8080/"
        },
        "id": "06urib6qKwQU",
        "outputId": "3b6e3ed3-abb3-40c7-c631-bf8b3c35f69d"
      },
      "outputs": [
        {
          "name": "stdout",
          "output_type": "stream",
          "text": [
            "Model logisticRegression_Model has been exported!!!\n"
          ]
        }
      ],
      "source": [
        "export_model(logisticRegression_Model, \"logisticRegression_Model\")"
      ]
    },
    {
      "cell_type": "code",
      "execution_count": 33,
      "metadata": {
        "id": "k56a5SteAR-U"
      },
      "outputs": [],
      "source": [
        "train_preds_logReg = logisticRegression_Model.predict(X_train_embeddings)\n",
        "val_preds_logReg = logisticRegression_Model.predict(X_val_embeddings)\n",
        "test_preds_logReg = logisticRegression_Model.predict(X_test_embeddings)\n",
        "test_preds_proba_logReg = logisticRegression_Model.predict_proba(X_test_embeddings)[:, 1]"
      ]
    },
    {
      "cell_type": "code",
      "execution_count": 34,
      "metadata": {
        "colab": {
          "base_uri": "https://localhost:8080/"
        },
        "id": "01fBfsI2AR-U",
        "outputId": "fd5dad6f-7336-420d-f75d-4b81d5dbb8d2"
      },
      "outputs": [
        {
          "name": "stdout",
          "output_type": "stream",
          "text": [
            "Training performance for Logistic Regression\n",
            "              precision    recall  f1-score   support\n",
            "\n",
            "           0       0.85      0.84      0.85     25190\n",
            "           1       0.84      0.84      0.84     23853\n",
            "\n",
            "    accuracy                           0.84     49043\n",
            "   macro avg       0.84      0.84      0.84     49043\n",
            "weighted avg       0.84      0.84      0.84     49043\n",
            "\n"
          ]
        }
      ],
      "source": [
        "print(\"Training performance for Logistic Regression\")\n",
        "print(classification_report(Y_train, train_preds_logReg))"
      ]
    },
    {
      "cell_type": "code",
      "execution_count": 35,
      "metadata": {
        "colab": {
          "base_uri": "https://localhost:8080/"
        },
        "id": "U4RJT5tLAR-U",
        "outputId": "0ab09644-6514-46a3-be21-ca88fbf103e6"
      },
      "outputs": [
        {
          "name": "stdout",
          "output_type": "stream",
          "text": [
            "Val performance for Logistic Regression\n",
            "              precision    recall  f1-score   support\n",
            "\n",
            "           0       0.85      0.84      0.84      4558\n",
            "           1       0.82      0.84      0.83      4097\n",
            "\n",
            "    accuracy                           0.84      8655\n",
            "   macro avg       0.84      0.84      0.84      8655\n",
            "weighted avg       0.84      0.84      0.84      8655\n",
            "\n"
          ]
        }
      ],
      "source": [
        "print(\"Val performance for Logistic Regression\")\n",
        "print(classification_report(Y_val, val_preds_logReg))"
      ]
    },
    {
      "cell_type": "code",
      "execution_count": 36,
      "metadata": {
        "colab": {
          "base_uri": "https://localhost:8080/"
        },
        "id": "gbY0ZOHeAR-V",
        "outputId": "380b6d21-d771-4c03-e919-668f14bed822"
      },
      "outputs": [
        {
          "name": "stdout",
          "output_type": "stream",
          "text": [
            "Test performance for Logistic Regression\n",
            "              precision    recall  f1-score   support\n",
            "\n",
            "           0       0.85      0.84      0.84      7347\n",
            "           1       0.83      0.84      0.84      7078\n",
            "\n",
            "    accuracy                           0.84     14425\n",
            "   macro avg       0.84      0.84      0.84     14425\n",
            "weighted avg       0.84      0.84      0.84     14425\n",
            "\n"
          ]
        }
      ],
      "source": [
        "print(\"Test performance for Logistic Regression\")\n",
        "print(classification_report(Y_test, test_preds_logReg))"
      ]
    },
    {
      "cell_type": "code",
      "execution_count": 37,
      "metadata": {
        "colab": {
          "base_uri": "https://localhost:8080/",
          "height": 1000
        },
        "id": "g2kjek5AFJVm",
        "outputId": "d38db0a5-7648-4078-e9b0-7a10216d21d1"
      },
      "outputs": [
        {
          "data": {
            "image/png": "[encoded data removed]",
            "text/plain": [
              "<Figure size 600x600 with 1 Axes>"
            ]
          },
          "metadata": {},
          "output_type": "display_data"
        },
        {
          "name": "stdout",
          "output_type": "stream",
          "text": [
            "\n",
            "\n",
            "FOR TESTING SET: \n",
            "              precision    recall  f1-score   support\n",
            "\n",
            "           0       0.85      0.84      0.84      7347\n",
            "           1       0.83      0.84      0.84      7078\n",
            "\n",
            "    accuracy                           0.84     14425\n",
            "   macro avg       0.84      0.84      0.84     14425\n",
            "weighted avg       0.84      0.84      0.84     14425\n",
            "\n",
            "\n",
            "\n",
            "ROC AUC Score: 91.91%\n",
            "\n",
            "\n"
          ]
        },
        {
          "data": {
            "image/png": "[encoded data removed]",
            "text/plain": [
              "<Figure size 1000x600 with 1 Axes>"
            ]
          },
          "metadata": {},
          "output_type": "display_data"
        }
      ],
      "source": [
        "perform_deep_test_analysis(Y_test, test_preds_logReg, test_preds_proba_logReg, \"Logistic Regression\")"
      ]
    },
    {
      "cell_type": "markdown",
      "metadata": {
        "id": "2nqpWYFXFTNa"
      },
      "source": [
        "Logistic regression performs fairly well with accuracy and F1 scores of 0.84 on test set. Furthermore, the performance accross all 3 sets (train/val/test) is fairly similar, indicating that the model has pretty good generalization on detecting fake news on unseen data. This gives us some idea that we should probably increase complexity of this model to see if we can get more accuracy."
      ]
    },
    {
      "cell_type": "markdown",
      "metadata": {
        "id": "dHwa4Nb34K-1"
      },
      "source": [
        "## 4.2 XGBoost"
      ]
    },
    {
      "cell_type": "code",
      "execution_count": 38,
      "metadata": {
        "id": "mM3RKqgKAR-W"
      },
      "outputs": [],
      "source": [
        "from xgboost import XGBClassifier\n",
        "\n",
        "param_XGBoost = {\n",
        "    \"n_estimators\": [100, 200, 300, 500, 1000],\n",
        "    \"max_depth\": [3, 4, 5, 6],\n",
        "    \"learning_rate\": [0.01, 0.05, 0.1, 0.2, 0.3],\n",
        "    \"subsample\": [0.6, 0.7, 0.8, 0.9, 1.0],\n",
        "    \"colsample_bytree\": [0.6, 0.7, 0.8, 0.9, 1.0],\n",
        "    \"gamma\": [0, 0.1, 0.3, 0.5, 1],\n",
        "    \"reg_alpha\": [0, 0.01, 0.1, 1],\n",
        "    \"reg_lambda\": [0.1, 0.5, 1, 5],\n",
        "    \"min_child_weight\": [1, 3, 5, 7],\n",
        "    \"tree_method\": [\"gpu_hist\"],\n",
        "    \"predictor\": [\"gpu_predictor\"],\n",
        "    \"verbosity\": [0],\n",
        "    \"random_state\": [42],\n",
        "    \"early_stopping\": [30]\n",
        "}"
      ]
    },
    {
      "cell_type": "code",
      "execution_count": 48,
      "metadata": {
        "colab": {
          "base_uri": "https://localhost:8080/"
        },
        "id": "VgRPoXUE4lHH",
        "outputId": "e107d680-ff96-4e78-8ab1-43dbb9b41c1a"
      },
      "outputs": [
        {
          "name": "stderr",
          "output_type": "stream",
          "text": [
            "100%|██████████| 10/10 [01:30<00:00,  9.07s/it]"
          ]
        },
        {
          "name": "stdout",
          "output_type": "stream",
          "text": [
            "\n",
            "Best: 0.8818 with params: {'verbosity': 0, 'tree_method': 'gpu_hist', 'subsample': 0.6, 'reg_lambda': 5, 'reg_alpha': 0.01, 'random_state': 42, 'predictor': 'gpu_predictor', 'n_estimators': 1000, 'min_child_weight': 3, 'max_depth': 6, 'learning_rate': 0.3, 'gamma': 0, 'early_stopping': 30, 'colsample_bytree': 1.0}\n"
          ]
        },
        {
          "name": "stderr",
          "output_type": "stream",
          "text": [
            "\n"
          ]
        }
      ],
      "source": [
        "XGBoost_Model, _, _ = randomized_search(\n",
        "    XGBClassifier,\n",
        "    param_distributions=param_XGBoost,\n",
        "    X_train=X_train_embeddings,\n",
        "    y_train=Y_train,\n",
        "    X_val=X_val_embeddings,\n",
        "    y_val=Y_val,\n",
        "    n_iter=10,\n",
        ")"
      ]
    },
    {
      "cell_type": "code",
      "execution_count": 49,
      "metadata": {
        "colab": {
          "base_uri": "https://localhost:8080/"
        },
        "id": "fz31N658JT35",
        "outputId": "f5641591-3d86-4b26-aa99-d8375a3a224c"
      },
      "outputs": [
        {
          "name": "stdout",
          "output_type": "stream",
          "text": [
            "Model XGBoost_Model has been exported!!!\n"
          ]
        }
      ],
      "source": [
        "export_model(XGBoost_Model, \"XGBoost_Model\")"
      ]
    },
    {
      "cell_type": "code",
      "execution_count": 50,
      "metadata": {
        "id": "SrIdNQX3hrod"
      },
      "outputs": [],
      "source": [
        "# with open('XGBoost_Model.pkl', 'rb') as file:\n",
        "#     XGBoost_Model = pickle.load(file)"
      ]
    },
    {
      "cell_type": "code",
      "execution_count": 51,
      "metadata": {
        "colab": {
          "base_uri": "https://localhost:8080/"
        },
        "id": "uNk93MjWK7nZ",
        "outputId": "39553d0c-4841-443e-abd5-1899ea0f2e13"
      },
      "outputs": [
        {
          "name": "stdout",
          "output_type": "stream",
          "text": [
            "Name: xgboost\n",
            "Version: 2.1.4\n",
            "Summary: XGBoost Python Package\n",
            "Home-page: \n",
            "Author: \n",
            "Author-email: Hyunsu Cho <chohyu01@cs.washington.edu>, Jiaming Yuan <jm.yuan@outlook.com>\n",
            "License: Apache-2.0\n",
            "Location: /usr/local/lib/python3.11/dist-packages\n",
            "Requires: numpy, nvidia-nccl-cu12, scipy\n",
            "Required-by: \n"
          ]
        }
      ],
      "source": [
        "!pip show xgboost"
      ]
    },
    {
      "cell_type": "code",
      "execution_count": 52,
      "metadata": {
        "id": "yDS6TZHC7qDy"
      },
      "outputs": [],
      "source": [
        "train_preds_XGBOOST = XGBoost_Model.predict(X_train_embeddings)\n",
        "val_preds_XGBOOST = XGBoost_Model.predict(X_val_embeddings)\n",
        "test_preds_XGBOOST = XGBoost_Model.predict(X_test_embeddings)\n",
        "test_preds_proba_XGBOOST = XGBoost_Model.predict_proba(X_test_embeddings)[:, 1]"
      ]
    },
    {
      "cell_type": "code",
      "execution_count": 53,
      "metadata": {
        "colab": {
          "base_uri": "https://localhost:8080/"
        },
        "id": "0kqpFStV740z",
        "outputId": "ec4a5c62-012f-479a-c7c2-68fce7fce6a8"
      },
      "outputs": [
        {
          "name": "stdout",
          "output_type": "stream",
          "text": [
            "XGBoost Train\n",
            "              precision    recall  f1-score   support\n",
            "\n",
            "           0       1.00      1.00      1.00     25190\n",
            "           1       1.00      1.00      1.00     23853\n",
            "\n",
            "    accuracy                           1.00     49043\n",
            "   macro avg       1.00      1.00      1.00     49043\n",
            "weighted avg       1.00      1.00      1.00     49043\n",
            "\n"
          ]
        }
      ],
      "source": [
        "print(\"XGBoost Train\")\n",
        "print(classification_report(Y_train, train_preds_XGBOOST))"
      ]
    },
    {
      "cell_type": "code",
      "execution_count": 54,
      "metadata": {
        "colab": {
          "base_uri": "https://localhost:8080/"
        },
        "id": "Z38COo4O77gC",
        "outputId": "2a2576c0-bb0f-495c-c67b-510f05f0c74a"
      },
      "outputs": [
        {
          "name": "stdout",
          "output_type": "stream",
          "text": [
            "XGBoost Val\n",
            "              precision    recall  f1-score   support\n",
            "\n",
            "           0       0.89      0.89      0.89      4558\n",
            "           1       0.87      0.88      0.88      4097\n",
            "\n",
            "    accuracy                           0.88      8655\n",
            "   macro avg       0.88      0.88      0.88      8655\n",
            "weighted avg       0.88      0.88      0.88      8655\n",
            "\n"
          ]
        }
      ],
      "source": [
        "print(\"XGBoost Val\")\n",
        "print(classification_report(Y_val, val_preds_XGBOOST))"
      ]
    },
    {
      "cell_type": "code",
      "execution_count": 55,
      "metadata": {
        "colab": {
          "base_uri": "https://localhost:8080/"
        },
        "id": "HwREMKje7-VV",
        "outputId": "254ffd65-5479-47d6-f9d4-e30e80c50587"
      },
      "outputs": [
        {
          "name": "stdout",
          "output_type": "stream",
          "text": [
            "XGBoost Test\n",
            "              precision    recall  f1-score   support\n",
            "\n",
            "           0       0.88      0.89      0.88      7347\n",
            "           1       0.88      0.87      0.88      7078\n",
            "\n",
            "    accuracy                           0.88     14425\n",
            "   macro avg       0.88      0.88      0.88     14425\n",
            "weighted avg       0.88      0.88      0.88     14425\n",
            "\n"
          ]
        }
      ],
      "source": [
        "print(\"XGBoost Test\")\n",
        "print(classification_report(Y_test, test_preds_XGBOOST))"
      ]
    },
    {
      "cell_type": "markdown",
      "metadata": {
        "id": "tAxglkHUMYjj"
      },
      "source": [
        "With XGBoost, we get slightly better results. We will now experiment with CNN and with a multi-layered perceptron on the embeddings and see if we get any better results."
      ]
    },
    {
      "cell_type": "code",
      "execution_count": 79,
      "metadata": {
        "colab": {
          "base_uri": "https://localhost:8080/"
        },
        "id": "fLHrlahxr3g9",
        "outputId": "26106a60-7384-416e-a116-7139de62a3bc"
      },
      "outputs": [
        {
          "data": {
            "text/plain": [
              "array([8.8344994e-09, 5.7304226e-02, 9.9921203e-01, ..., 8.9004017e-02,\n",
              "       9.9240404e-01, 9.9995518e-01], dtype=float32)"
            ]
          },
          "execution_count": 79,
          "metadata": {},
          "output_type": "execute_result"
        }
      ],
      "source": [
        "test_preds_proba_XGBOOST"
      ]
    },
    {
      "cell_type": "code",
      "execution_count": 57,
      "metadata": {
        "colab": {
          "base_uri": "https://localhost:8080/",
          "height": 1000
        },
        "id": "mfqoTI1-aiLA",
        "outputId": "720d8c45-04e8-4937-da06-18a00f4614ad"
      },
      "outputs": [
        {
          "data": {
            "image/png": "[encoded data removed]",
            "text/plain": [
              "<Figure size 600x600 with 1 Axes>"
            ]
          },
          "metadata": {},
          "output_type": "display_data"
        },
        {
          "name": "stdout",
          "output_type": "stream",
          "text": [
            "\n",
            "\n",
            "FOR TESTING SET: \n",
            "              precision    recall  f1-score   support\n",
            "\n",
            "           0       0.88      0.89      0.88      7347\n",
            "           1       0.88      0.87      0.88      7078\n",
            "\n",
            "    accuracy                           0.88     14425\n",
            "   macro avg       0.88      0.88      0.88     14425\n",
            "weighted avg       0.88      0.88      0.88     14425\n",
            "\n",
            "\n",
            "\n",
            "ROC AUC Score: 95.27%\n",
            "\n",
            "\n"
          ]
        },
        {
          "data": {
            "image/png": "[encoded data removed]",
            "text/plain": [
              "<Figure size 1000x600 with 1 Axes>"
            ]
          },
          "metadata": {},
          "output_type": "display_data"
        }
      ],
      "source": [
        "perform_deep_test_analysis(Y_test, test_preds_XGBOOST, test_preds_proba_XGBOOST, \"XGBoost\")"
      ]
    },
    {
      "cell_type": "markdown",
      "metadata": {
        "id": "OvdZ5_IWAR-Y"
      },
      "source": [
        "## 4.3 1-d CNN"
      ]
    },
    {
      "cell_type": "code",
      "execution_count": 58,
      "metadata": {
        "id": "7305cWhSAR-k"
      },
      "outputs": [],
      "source": [
        "from torch.utils.data import Dataset, DataLoader\n",
        "import torch.nn as nn\n",
        "import torch.optim as optim"
      ]
    },
    {
      "cell_type": "code",
      "execution_count": null,
      "metadata": {
        "id": "YXVNo_wgAR-l"
      },
      "outputs": [],
      "source": [
        "class EmbeddingDataset(Dataset):\n",
        "    def __init__(self, X, Y):\n",
        "        self.X = torch.tensor(np.stack(X), dtype=torch.float32)\n",
        "        self.Y = torch.tensor(Y, dtype=torch.long)\n",
        "    def __len__(self):\n",
        "        return len(self.Y)\n",
        "    def __getitem__(self, idx):\n",
        "        return self.X[idx], self.Y[idx]"
      ]
    },
    {
      "cell_type": "code",
      "execution_count": 60,
      "metadata": {
        "colab": {
          "base_uri": "https://localhost:8080/"
        },
        "id": "mnZ0xw1vM0Sx",
        "outputId": "c54ad19b-36ba-4271-d7fc-ab3cf17b5e49"
      },
      "outputs": [
        {
          "data": {
            "text/plain": [
              "384"
            ]
          },
          "execution_count": 60,
          "metadata": {},
          "output_type": "execute_result"
        }
      ],
      "source": [
        "len(X_train_embeddings[0])"
      ]
    },
    {
      "cell_type": "code",
      "execution_count": 61,
      "metadata": {
        "id": "83IscEtbAR-l"
      },
      "outputs": [],
      "source": [
        "class VanillaCNN_1d(nn.Module):\n",
        "    def __init__(self, input_dim, num_classes=2):\n",
        "        super(VanillaCNN_1d, self).__init__()\n",
        "\n",
        "        self.conv1 = nn.Conv1d(1, 3, kernel_size=7, padding=3)\n",
        "        self.bn1 = nn.BatchNorm1d(3)\n",
        "        self.pool1 = nn.AvgPool1d(2)  # 384 -> 192\n",
        "\n",
        "        self.conv2 = nn.Conv1d(3, 6, kernel_size=5, padding=2)\n",
        "        self.bn2 = nn.BatchNorm1d(6)\n",
        "        self.pool2 = nn.AvgPool1d(2)  # 192 -> 96\n",
        "\n",
        "        self.conv3 = nn.Conv1d(6, 8, kernel_size=3, padding=1)\n",
        "        self.bn3 = nn.BatchNorm1d(8)\n",
        "        self.pool3 = nn.AvgPool1d(2)  # 96 -> 48\n",
        "\n",
        "        self.relu = nn.LeakyReLU()\n",
        "        self.dropout = nn.Dropout(0.001)\n",
        "\n",
        "        # after all pooling layers, we get 8 channels * 48 pixels\n",
        "        self.fc = nn.Linear(8 * 48, num_classes)\n",
        "\n",
        "    def forward(self, x):\n",
        "        x = x.unsqueeze(1)  # (Batch, 1, 384)\n",
        "        x = self.pool1(self.relu(self.bn1(self.conv1(x))))  # (B, 3, 192)\n",
        "        x = self.pool2(self.relu(self.bn2(self.conv2(x))))  # (B, 6, 96)\n",
        "        x = self.pool3(self.relu(self.bn3(self.conv3(x))))  # (B, 8, 48)\n",
        "        x = x.view(x.size(0), -1)  # (B, 8 * 48)\n",
        "        x = self.dropout(x)\n",
        "        x = self.fc(x)            # (B, 2)\n",
        "        return x"
      ]
    },
    {
      "cell_type": "code",
      "execution_count": 62,
      "metadata": {
        "id": "42kuAs8HAR-l"
      },
      "outputs": [],
      "source": [
        "batch_size = 1024\n",
        "train_ds = EmbeddingDataset(X_train_embeddings, Y_train)\n",
        "val_ds = EmbeddingDataset(X_val_embeddings, Y_val)\n",
        "train_loader = DataLoader(train_ds, batch_size=batch_size, shuffle=False)\n",
        "val_loader = DataLoader(val_ds, batch_size=batch_size)\n",
        "test_ds = EmbeddingDataset(X_test_embeddings, Y_test)\n",
        "test_loader = DataLoader(test_ds, batch_size=batch_size)"
      ]
    },
    {
      "cell_type": "code",
      "execution_count": 63,
      "metadata": {
        "colab": {
          "base_uri": "https://localhost:8080/"
        },
        "id": "GVLoQOT3AR-m",
        "outputId": "b8b3e1d1-5fdb-433f-cb91-b1a5edd66e04"
      },
      "outputs": [
        {
          "name": "stdout",
          "output_type": "stream",
          "text": [
            "cuda\n"
          ]
        }
      ],
      "source": [
        "device = torch.device(\"cuda\" if torch.cuda.is_available() else \"cpu\")\n",
        "print(device)\n",
        "input_dim = len(X_train_embeddings[0])\n",
        "num_classes = 2\n",
        "cnn = VanillaCNN_1d(input_dim, num_classes).to(device)"
      ]
    },
    {
      "cell_type": "markdown",
      "metadata": {
        "id": "oIjCEVZzOvng"
      },
      "source": [
        "<b> Lets verify forward pass actually works or not"
      ]
    },
    {
      "cell_type": "code",
      "execution_count": 64,
      "metadata": {
        "colab": {
          "base_uri": "https://localhost:8080/"
        },
        "id": "157AOzmMRRbr",
        "outputId": "3926c4f2-7183-42d5-b332-98c34690de2d"
      },
      "outputs": [
        {
          "data": {
            "text/plain": [
              "torch.Size([1, 2])"
            ]
          },
          "execution_count": 64,
          "metadata": {},
          "output_type": "execute_result"
        }
      ],
      "source": [
        "# Create a random input sample with 384 features\n",
        "single_input = torch.randn(384)\n",
        "single_input = single_input.unsqueeze(0).to(device)\n",
        "output = cnn(single_input)\n",
        "output.shape"
      ]
    },
    {
      "cell_type": "markdown",
      "metadata": {
        "id": "OQXyE1nRSocO"
      },
      "source": [
        "Perfect! Our model has proper output shape, given input of [batch, elements], we get [batch, predicted values for each class]. We can use BCELoss with sigmoid and set num_class to 1 as well but Cross entropy loss requires unchanged outputs (without softmax as it, by default, applies softmax internally)."
      ]
    },
    {
      "cell_type": "code",
      "execution_count": 65,
      "metadata": {
        "id": "FxRbploIOvFt"
      },
      "outputs": [],
      "source": [
        "criterion = nn.CrossEntropyLoss()\n",
        "optimizer = optim.Adam(cnn.parameters(), lr=0.001, weight_decay=0.001) # medium big learning rate and some additional regulariztaion\n",
        "num_epochs = 1000\n",
        "early_stopping_patience = 30"
      ]
    },
    {
      "cell_type": "code",
      "execution_count": 66,
      "metadata": {
        "id": "GG-XY3G1AR-m"
      },
      "outputs": [],
      "source": [
        "def train_model(model, train_loader, val_loader, criterion, optimizer, num_epochs, early_stopping_patience):\n",
        "    train_losses, train_accuracies = [], []\n",
        "    val_losses, val_accuracies = [], []\n",
        "\n",
        "    best_val_acc = 0.0\n",
        "    epochs_no_improve = 0\n",
        "    best_model_wts = model.state_dict()\n",
        "\n",
        "    for epoch in range(num_epochs):\n",
        "        model.train()\n",
        "        running_loss = 0.0\n",
        "        running_corrects = 0\n",
        "        running_total = 0\n",
        "\n",
        "        for xb, yb in train_loader:\n",
        "            xb, yb = xb.to(device), yb.to(device)\n",
        "            optimizer.zero_grad()\n",
        "            out = model(xb)\n",
        "            loss = criterion(out, yb)\n",
        "            loss.backward()\n",
        "            optimizer.step()\n",
        "\n",
        "            running_loss += loss.item() * xb.size(0)\n",
        "            preds = out.argmax(dim=1)\n",
        "            running_corrects += (preds == yb).sum().item()\n",
        "            running_total += yb.size(0)\n",
        "\n",
        "        epoch_train_loss = running_loss / running_total\n",
        "        epoch_train_acc = running_corrects / running_total\n",
        "        train_losses.append(epoch_train_loss)\n",
        "        train_accuracies.append(epoch_train_acc)\n",
        "\n",
        "        model.eval()\n",
        "        val_running_loss = 0.0\n",
        "        val_running_corrects = 0\n",
        "        val_running_total = 0\n",
        "        with torch.no_grad():\n",
        "            for xb, yb in val_loader:\n",
        "                xb, yb = xb.to(device), yb.to(device)\n",
        "                out = model(xb)\n",
        "                loss = criterion(out, yb)\n",
        "\n",
        "                val_running_loss += loss.item() * xb.size(0)\n",
        "                preds = out.argmax(dim=1)\n",
        "                val_running_corrects += (preds == yb).sum().item()\n",
        "                val_running_total += yb.size(0)\n",
        "\n",
        "        epoch_val_loss = val_running_loss / val_running_total\n",
        "        epoch_val_acc = val_running_corrects / val_running_total\n",
        "        val_losses.append(epoch_val_loss)\n",
        "        val_accuracies.append(epoch_val_acc)\n",
        "\n",
        "        print(f\"Epoch {epoch+1}: \"\n",
        "              f\"Train Loss={epoch_train_loss:.4f}, Train Acc={epoch_train_acc:.4f}, \"\n",
        "              f\"Val Loss={epoch_val_loss:.4f}, Val Acc={epoch_val_acc:.4f}\")\n",
        "\n",
        "        if epoch_val_acc > best_val_acc:\n",
        "            best_val_acc = epoch_val_acc\n",
        "            epochs_no_improve = 0\n",
        "            best_model_wts = model.state_dict()\n",
        "        else:\n",
        "            epochs_no_improve += 1\n",
        "            if epochs_no_improve >= early_stopping_patience:\n",
        "                print(f\"Early stopping at epoch {epoch+1}\")\n",
        "                break\n",
        "\n",
        "    return best_model_wts, model, train_losses, train_accuracies, val_losses, val_accuracies"
      ]
    },
    {
      "cell_type": "code",
      "execution_count": 67,
      "metadata": {
        "colab": {
          "base_uri": "https://localhost:8080/"
        },
        "id": "2stCoQOSYw3m",
        "outputId": "ea39a10e-d328-4f55-8db5-031b69b4ec70"
      },
      "outputs": [
        {
          "name": "stdout",
          "output_type": "stream",
          "text": [
            "Epoch 1: Train Loss=0.6094, Train Acc=0.6728, Val Loss=0.6367, Val Acc=0.6906\n",
            "Epoch 2: Train Loss=0.5443, Train Acc=0.7273, Val Loss=0.5536, Val Acc=0.7204\n",
            "Epoch 3: Train Loss=0.5218, Train Acc=0.7425, Val Loss=0.5368, Val Acc=0.7295\n",
            "Epoch 4: Train Loss=0.5060, Train Acc=0.7507, Val Loss=0.5236, Val Acc=0.7402\n",
            "Epoch 5: Train Loss=0.4935, Train Acc=0.7601, Val Loss=0.5132, Val Acc=0.7500\n",
            "Epoch 6: Train Loss=0.4839, Train Acc=0.7661, Val Loss=0.5047, Val Acc=0.7559\n",
            "Epoch 7: Train Loss=0.4767, Train Acc=0.7708, Val Loss=0.4975, Val Acc=0.7593\n",
            "Epoch 8: Train Loss=0.4709, Train Acc=0.7739, Val Loss=0.4905, Val Acc=0.7656\n",
            "Epoch 9: Train Loss=0.4662, Train Acc=0.7779, Val Loss=0.4853, Val Acc=0.7678\n",
            "Epoch 10: Train Loss=0.4620, Train Acc=0.7807, Val Loss=0.4808, Val Acc=0.7708\n",
            "Epoch 11: Train Loss=0.4583, Train Acc=0.7835, Val Loss=0.4774, Val Acc=0.7739\n",
            "Epoch 12: Train Loss=0.4551, Train Acc=0.7858, Val Loss=0.4737, Val Acc=0.7713\n",
            "Epoch 13: Train Loss=0.4519, Train Acc=0.7880, Val Loss=0.4708, Val Acc=0.7756\n",
            "Epoch 14: Train Loss=0.4494, Train Acc=0.7895, Val Loss=0.4685, Val Acc=0.7775\n",
            "Epoch 15: Train Loss=0.4471, Train Acc=0.7910, Val Loss=0.4661, Val Acc=0.7789\n",
            "Epoch 16: Train Loss=0.4445, Train Acc=0.7922, Val Loss=0.4641, Val Acc=0.7807\n",
            "Epoch 17: Train Loss=0.4423, Train Acc=0.7930, Val Loss=0.4623, Val Acc=0.7809\n",
            "Epoch 18: Train Loss=0.4405, Train Acc=0.7946, Val Loss=0.4609, Val Acc=0.7806\n",
            "Epoch 19: Train Loss=0.4384, Train Acc=0.7953, Val Loss=0.4591, Val Acc=0.7830\n",
            "Epoch 20: Train Loss=0.4366, Train Acc=0.7964, Val Loss=0.4578, Val Acc=0.7841\n",
            "Epoch 21: Train Loss=0.4349, Train Acc=0.7973, Val Loss=0.4564, Val Acc=0.7849\n",
            "Epoch 22: Train Loss=0.4331, Train Acc=0.7986, Val Loss=0.4552, Val Acc=0.7865\n",
            "Epoch 23: Train Loss=0.4317, Train Acc=0.7991, Val Loss=0.4542, Val Acc=0.7867\n",
            "Epoch 24: Train Loss=0.4299, Train Acc=0.8001, Val Loss=0.4531, Val Acc=0.7883\n",
            "Epoch 25: Train Loss=0.4287, Train Acc=0.8009, Val Loss=0.4522, Val Acc=0.7874\n",
            "Epoch 26: Train Loss=0.4270, Train Acc=0.8027, Val Loss=0.4515, Val Acc=0.7887\n",
            "Epoch 27: Train Loss=0.4258, Train Acc=0.8035, Val Loss=0.4510, Val Acc=0.7883\n",
            "Epoch 28: Train Loss=0.4247, Train Acc=0.8036, Val Loss=0.4501, Val Acc=0.7915\n",
            "Epoch 29: Train Loss=0.4235, Train Acc=0.8048, Val Loss=0.4507, Val Acc=0.7888\n",
            "Epoch 30: Train Loss=0.4225, Train Acc=0.8056, Val Loss=0.4487, Val Acc=0.7911\n",
            "Epoch 31: Train Loss=0.4213, Train Acc=0.8065, Val Loss=0.4485, Val Acc=0.7908\n",
            "Epoch 32: Train Loss=0.4202, Train Acc=0.8071, Val Loss=0.4472, Val Acc=0.7903\n",
            "Epoch 33: Train Loss=0.4195, Train Acc=0.8081, Val Loss=0.4468, Val Acc=0.7894\n",
            "Epoch 34: Train Loss=0.4183, Train Acc=0.8081, Val Loss=0.4462, Val Acc=0.7906\n",
            "Epoch 35: Train Loss=0.4178, Train Acc=0.8080, Val Loss=0.4452, Val Acc=0.7906\n",
            "Epoch 36: Train Loss=0.4170, Train Acc=0.8086, Val Loss=0.4447, Val Acc=0.7906\n",
            "Epoch 37: Train Loss=0.4162, Train Acc=0.8097, Val Loss=0.4439, Val Acc=0.7936\n",
            "Epoch 38: Train Loss=0.4155, Train Acc=0.8100, Val Loss=0.4447, Val Acc=0.7958\n",
            "Epoch 39: Train Loss=0.4149, Train Acc=0.8106, Val Loss=0.4432, Val Acc=0.7917\n",
            "Epoch 40: Train Loss=0.4146, Train Acc=0.8108, Val Loss=0.4449, Val Acc=0.7949\n",
            "Epoch 41: Train Loss=0.4143, Train Acc=0.8107, Val Loss=0.4416, Val Acc=0.7949\n",
            "Epoch 42: Train Loss=0.4133, Train Acc=0.8110, Val Loss=0.4409, Val Acc=0.7950\n",
            "Epoch 43: Train Loss=0.4129, Train Acc=0.8118, Val Loss=0.4408, Val Acc=0.7948\n",
            "Epoch 44: Train Loss=0.4122, Train Acc=0.8120, Val Loss=0.4409, Val Acc=0.7925\n",
            "Epoch 45: Train Loss=0.4117, Train Acc=0.8128, Val Loss=0.4398, Val Acc=0.7984\n",
            "Epoch 46: Train Loss=0.4112, Train Acc=0.8128, Val Loss=0.4419, Val Acc=0.7913\n",
            "Epoch 47: Train Loss=0.4107, Train Acc=0.8136, Val Loss=0.4381, Val Acc=0.7961\n",
            "Epoch 48: Train Loss=0.4100, Train Acc=0.8143, Val Loss=0.4412, Val Acc=0.7971\n",
            "Epoch 49: Train Loss=0.4099, Train Acc=0.8137, Val Loss=0.4374, Val Acc=0.7956\n",
            "Epoch 50: Train Loss=0.4093, Train Acc=0.8145, Val Loss=0.4373, Val Acc=0.7990\n",
            "Epoch 51: Train Loss=0.4091, Train Acc=0.8147, Val Loss=0.4365, Val Acc=0.7961\n",
            "Epoch 52: Train Loss=0.4084, Train Acc=0.8153, Val Loss=0.4365, Val Acc=0.7961\n",
            "Epoch 53: Train Loss=0.4079, Train Acc=0.8153, Val Loss=0.4347, Val Acc=0.7972\n",
            "Epoch 54: Train Loss=0.4075, Train Acc=0.8151, Val Loss=0.4358, Val Acc=0.7982\n",
            "Epoch 55: Train Loss=0.4070, Train Acc=0.8152, Val Loss=0.4338, Val Acc=0.7964\n",
            "Epoch 56: Train Loss=0.4067, Train Acc=0.8159, Val Loss=0.4331, Val Acc=0.7977\n",
            "Epoch 57: Train Loss=0.4063, Train Acc=0.8156, Val Loss=0.4341, Val Acc=0.7982\n",
            "Epoch 58: Train Loss=0.4058, Train Acc=0.8149, Val Loss=0.4325, Val Acc=0.7985\n",
            "Epoch 59: Train Loss=0.4055, Train Acc=0.8157, Val Loss=0.4341, Val Acc=0.7987\n",
            "Epoch 60: Train Loss=0.4046, Train Acc=0.8157, Val Loss=0.4335, Val Acc=0.7988\n",
            "Epoch 61: Train Loss=0.4041, Train Acc=0.8162, Val Loss=0.4349, Val Acc=0.7988\n",
            "Epoch 62: Train Loss=0.4038, Train Acc=0.8168, Val Loss=0.4300, Val Acc=0.7983\n",
            "Epoch 63: Train Loss=0.4035, Train Acc=0.8166, Val Loss=0.4307, Val Acc=0.7998\n",
            "Epoch 64: Train Loss=0.4030, Train Acc=0.8165, Val Loss=0.4322, Val Acc=0.7988\n",
            "Epoch 65: Train Loss=0.4028, Train Acc=0.8167, Val Loss=0.4291, Val Acc=0.8009\n",
            "Epoch 66: Train Loss=0.4022, Train Acc=0.8170, Val Loss=0.4295, Val Acc=0.7999\n",
            "Epoch 67: Train Loss=0.4020, Train Acc=0.8169, Val Loss=0.4337, Val Acc=0.7982\n",
            "Epoch 68: Train Loss=0.4015, Train Acc=0.8173, Val Loss=0.4296, Val Acc=0.8003\n",
            "Epoch 69: Train Loss=0.4011, Train Acc=0.8168, Val Loss=0.4268, Val Acc=0.8012\n",
            "Epoch 70: Train Loss=0.4008, Train Acc=0.8171, Val Loss=0.4298, Val Acc=0.8014\n",
            "Epoch 71: Train Loss=0.4006, Train Acc=0.8179, Val Loss=0.4261, Val Acc=0.8024\n",
            "Epoch 72: Train Loss=0.4000, Train Acc=0.8184, Val Loss=0.4300, Val Acc=0.8020\n",
            "Epoch 73: Train Loss=0.3998, Train Acc=0.8178, Val Loss=0.4286, Val Acc=0.8029\n",
            "Epoch 74: Train Loss=0.3996, Train Acc=0.8175, Val Loss=0.4258, Val Acc=0.8017\n",
            "Epoch 75: Train Loss=0.3995, Train Acc=0.8190, Val Loss=0.4258, Val Acc=0.8042\n",
            "Epoch 76: Train Loss=0.3993, Train Acc=0.8184, Val Loss=0.4252, Val Acc=0.8049\n",
            "Epoch 77: Train Loss=0.3989, Train Acc=0.8179, Val Loss=0.4253, Val Acc=0.8050\n",
            "Epoch 78: Train Loss=0.3985, Train Acc=0.8192, Val Loss=0.4259, Val Acc=0.8054\n",
            "Epoch 79: Train Loss=0.3981, Train Acc=0.8197, Val Loss=0.4243, Val Acc=0.8043\n",
            "Epoch 80: Train Loss=0.3979, Train Acc=0.8192, Val Loss=0.4251, Val Acc=0.8037\n",
            "Epoch 81: Train Loss=0.3980, Train Acc=0.8187, Val Loss=0.4245, Val Acc=0.8043\n",
            "Epoch 82: Train Loss=0.3976, Train Acc=0.8192, Val Loss=0.4296, Val Acc=0.8018\n",
            "Epoch 83: Train Loss=0.3972, Train Acc=0.8193, Val Loss=0.4240, Val Acc=0.8061\n",
            "Epoch 84: Train Loss=0.3975, Train Acc=0.8190, Val Loss=0.4234, Val Acc=0.8046\n",
            "Epoch 85: Train Loss=0.3969, Train Acc=0.8192, Val Loss=0.4235, Val Acc=0.8060\n",
            "Epoch 86: Train Loss=0.3969, Train Acc=0.8191, Val Loss=0.4237, Val Acc=0.8060\n",
            "Epoch 87: Train Loss=0.3967, Train Acc=0.8194, Val Loss=0.4284, Val Acc=0.8043\n",
            "Epoch 88: Train Loss=0.3965, Train Acc=0.8197, Val Loss=0.4248, Val Acc=0.8067\n",
            "Epoch 89: Train Loss=0.3959, Train Acc=0.8196, Val Loss=0.4234, Val Acc=0.8040\n",
            "Epoch 90: Train Loss=0.3961, Train Acc=0.8191, Val Loss=0.4228, Val Acc=0.8076\n",
            "Epoch 91: Train Loss=0.3959, Train Acc=0.8192, Val Loss=0.4225, Val Acc=0.8072\n",
            "Epoch 92: Train Loss=0.3954, Train Acc=0.8201, Val Loss=0.4223, Val Acc=0.8066\n",
            "Epoch 93: Train Loss=0.3952, Train Acc=0.8205, Val Loss=0.4221, Val Acc=0.8052\n",
            "Epoch 94: Train Loss=0.3954, Train Acc=0.8195, Val Loss=0.4232, Val Acc=0.8062\n",
            "Epoch 95: Train Loss=0.3948, Train Acc=0.8199, Val Loss=0.4205, Val Acc=0.8075\n",
            "Epoch 96: Train Loss=0.3947, Train Acc=0.8200, Val Loss=0.4377, Val Acc=0.7988\n",
            "Epoch 97: Train Loss=0.3948, Train Acc=0.8207, Val Loss=0.4236, Val Acc=0.8069\n",
            "Epoch 98: Train Loss=0.3946, Train Acc=0.8202, Val Loss=0.4264, Val Acc=0.8059\n",
            "Epoch 99: Train Loss=0.3945, Train Acc=0.8210, Val Loss=0.4209, Val Acc=0.8079\n",
            "Epoch 100: Train Loss=0.3942, Train Acc=0.8209, Val Loss=0.4259, Val Acc=0.8068\n",
            "Epoch 101: Train Loss=0.3940, Train Acc=0.8208, Val Loss=0.4200, Val Acc=0.8088\n",
            "Epoch 102: Train Loss=0.3939, Train Acc=0.8211, Val Loss=0.4214, Val Acc=0.8092\n",
            "Epoch 103: Train Loss=0.3936, Train Acc=0.8212, Val Loss=0.4210, Val Acc=0.8087\n",
            "Epoch 104: Train Loss=0.3935, Train Acc=0.8204, Val Loss=0.4269, Val Acc=0.8040\n",
            "Epoch 105: Train Loss=0.3933, Train Acc=0.8211, Val Loss=0.4322, Val Acc=0.8017\n",
            "Epoch 106: Train Loss=0.3931, Train Acc=0.8211, Val Loss=0.4297, Val Acc=0.8036\n",
            "Epoch 107: Train Loss=0.3930, Train Acc=0.8214, Val Loss=0.4188, Val Acc=0.8101\n",
            "Epoch 108: Train Loss=0.3928, Train Acc=0.8220, Val Loss=0.4243, Val Acc=0.8067\n",
            "Epoch 109: Train Loss=0.3928, Train Acc=0.8209, Val Loss=0.4253, Val Acc=0.8072\n",
            "Epoch 110: Train Loss=0.3927, Train Acc=0.8214, Val Loss=0.4203, Val Acc=0.8079\n",
            "Epoch 111: Train Loss=0.3925, Train Acc=0.8211, Val Loss=0.4316, Val Acc=0.8017\n",
            "Epoch 112: Train Loss=0.3923, Train Acc=0.8215, Val Loss=0.4262, Val Acc=0.8052\n",
            "Epoch 113: Train Loss=0.3925, Train Acc=0.8210, Val Loss=0.4205, Val Acc=0.8091\n",
            "Epoch 114: Train Loss=0.3919, Train Acc=0.8217, Val Loss=0.4297, Val Acc=0.8036\n",
            "Epoch 115: Train Loss=0.3924, Train Acc=0.8216, Val Loss=0.4220, Val Acc=0.8075\n",
            "Epoch 116: Train Loss=0.3920, Train Acc=0.8214, Val Loss=0.4166, Val Acc=0.8101\n",
            "Epoch 117: Train Loss=0.3918, Train Acc=0.8218, Val Loss=0.4296, Val Acc=0.8040\n",
            "Epoch 118: Train Loss=0.3915, Train Acc=0.8219, Val Loss=0.4609, Val Acc=0.7821\n",
            "Epoch 119: Train Loss=0.3915, Train Acc=0.8220, Val Loss=0.4385, Val Acc=0.7982\n",
            "Epoch 120: Train Loss=0.3914, Train Acc=0.8215, Val Loss=0.4795, Val Acc=0.7707\n",
            "Epoch 121: Train Loss=0.3910, Train Acc=0.8215, Val Loss=0.4235, Val Acc=0.8045\n",
            "Epoch 122: Train Loss=0.3911, Train Acc=0.8216, Val Loss=0.4172, Val Acc=0.8103\n",
            "Epoch 123: Train Loss=0.3907, Train Acc=0.8216, Val Loss=0.4180, Val Acc=0.8102\n",
            "Epoch 124: Train Loss=0.3907, Train Acc=0.8214, Val Loss=0.4971, Val Acc=0.7636\n",
            "Epoch 125: Train Loss=0.3903, Train Acc=0.8219, Val Loss=0.4146, Val Acc=0.8119\n",
            "Epoch 126: Train Loss=0.3900, Train Acc=0.8228, Val Loss=0.4264, Val Acc=0.8045\n",
            "Epoch 127: Train Loss=0.3902, Train Acc=0.8220, Val Loss=0.4181, Val Acc=0.8098\n",
            "Epoch 128: Train Loss=0.3901, Train Acc=0.8220, Val Loss=0.4204, Val Acc=0.8068\n",
            "Epoch 129: Train Loss=0.3899, Train Acc=0.8224, Val Loss=0.4335, Val Acc=0.7991\n",
            "Epoch 130: Train Loss=0.3894, Train Acc=0.8219, Val Loss=0.4262, Val Acc=0.8046\n",
            "Epoch 131: Train Loss=0.3893, Train Acc=0.8217, Val Loss=0.4172, Val Acc=0.8103\n",
            "Epoch 132: Train Loss=0.3891, Train Acc=0.8222, Val Loss=0.4167, Val Acc=0.8097\n",
            "Epoch 133: Train Loss=0.3891, Train Acc=0.8218, Val Loss=0.4320, Val Acc=0.8010\n",
            "Epoch 134: Train Loss=0.3889, Train Acc=0.8220, Val Loss=0.4174, Val Acc=0.8098\n",
            "Epoch 135: Train Loss=0.3889, Train Acc=0.8218, Val Loss=0.4218, Val Acc=0.8082\n",
            "Epoch 136: Train Loss=0.3885, Train Acc=0.8222, Val Loss=0.4150, Val Acc=0.8126\n",
            "Epoch 137: Train Loss=0.3884, Train Acc=0.8224, Val Loss=0.4153, Val Acc=0.8113\n",
            "Epoch 138: Train Loss=0.3883, Train Acc=0.8229, Val Loss=0.4300, Val Acc=0.8025\n",
            "Epoch 139: Train Loss=0.3885, Train Acc=0.8223, Val Loss=0.4147, Val Acc=0.8116\n",
            "Epoch 140: Train Loss=0.3877, Train Acc=0.8240, Val Loss=0.4149, Val Acc=0.8111\n",
            "Epoch 141: Train Loss=0.3883, Train Acc=0.8236, Val Loss=0.4311, Val Acc=0.7995\n",
            "Epoch 142: Train Loss=0.3875, Train Acc=0.8240, Val Loss=0.4120, Val Acc=0.8135\n",
            "Epoch 143: Train Loss=0.3876, Train Acc=0.8233, Val Loss=0.4321, Val Acc=0.7985\n",
            "Epoch 144: Train Loss=0.3876, Train Acc=0.8243, Val Loss=0.4779, Val Acc=0.7734\n",
            "Epoch 145: Train Loss=0.3872, Train Acc=0.8241, Val Loss=0.4146, Val Acc=0.8105\n",
            "Epoch 146: Train Loss=0.3869, Train Acc=0.8247, Val Loss=0.4234, Val Acc=0.8029\n",
            "Epoch 147: Train Loss=0.3866, Train Acc=0.8251, Val Loss=0.4120, Val Acc=0.8131\n",
            "Epoch 148: Train Loss=0.3866, Train Acc=0.8246, Val Loss=0.4327, Val Acc=0.8008\n",
            "Epoch 149: Train Loss=0.3864, Train Acc=0.8248, Val Loss=0.4360, Val Acc=0.7968\n",
            "Epoch 150: Train Loss=0.3862, Train Acc=0.8255, Val Loss=0.4333, Val Acc=0.7986\n",
            "Epoch 151: Train Loss=0.3861, Train Acc=0.8252, Val Loss=0.4238, Val Acc=0.8058\n",
            "Epoch 152: Train Loss=0.3862, Train Acc=0.8254, Val Loss=0.4128, Val Acc=0.8153\n",
            "Epoch 153: Train Loss=0.3856, Train Acc=0.8251, Val Loss=0.4101, Val Acc=0.8146\n",
            "Epoch 154: Train Loss=0.3850, Train Acc=0.8258, Val Loss=0.4168, Val Acc=0.8136\n",
            "Epoch 155: Train Loss=0.3856, Train Acc=0.8252, Val Loss=0.4087, Val Acc=0.8172\n",
            "Epoch 156: Train Loss=0.3847, Train Acc=0.8260, Val Loss=0.4193, Val Acc=0.8096\n",
            "Epoch 157: Train Loss=0.3845, Train Acc=0.8259, Val Loss=0.4084, Val Acc=0.8147\n",
            "Epoch 158: Train Loss=0.3843, Train Acc=0.8271, Val Loss=0.4099, Val Acc=0.8170\n",
            "Epoch 159: Train Loss=0.3839, Train Acc=0.8262, Val Loss=0.4087, Val Acc=0.8146\n",
            "Epoch 160: Train Loss=0.3846, Train Acc=0.8260, Val Loss=0.4124, Val Acc=0.8121\n",
            "Epoch 161: Train Loss=0.3841, Train Acc=0.8264, Val Loss=0.4107, Val Acc=0.8129\n",
            "Epoch 162: Train Loss=0.3834, Train Acc=0.8272, Val Loss=0.4076, Val Acc=0.8154\n",
            "Epoch 163: Train Loss=0.3831, Train Acc=0.8283, Val Loss=0.4150, Val Acc=0.8083\n",
            "Epoch 164: Train Loss=0.3831, Train Acc=0.8279, Val Loss=0.4142, Val Acc=0.8155\n",
            "Epoch 165: Train Loss=0.3830, Train Acc=0.8273, Val Loss=0.4187, Val Acc=0.8106\n",
            "Epoch 166: Train Loss=0.3827, Train Acc=0.8280, Val Loss=0.4097, Val Acc=0.8173\n",
            "Epoch 167: Train Loss=0.3822, Train Acc=0.8279, Val Loss=0.4271, Val Acc=0.8046\n",
            "Epoch 168: Train Loss=0.3825, Train Acc=0.8277, Val Loss=0.4070, Val Acc=0.8187\n",
            "Epoch 169: Train Loss=0.3825, Train Acc=0.8279, Val Loss=0.4104, Val Acc=0.8170\n",
            "Epoch 170: Train Loss=0.3818, Train Acc=0.8294, Val Loss=0.4256, Val Acc=0.8008\n",
            "Epoch 171: Train Loss=0.3817, Train Acc=0.8289, Val Loss=0.4298, Val Acc=0.8054\n",
            "Epoch 172: Train Loss=0.3818, Train Acc=0.8287, Val Loss=0.4535, Val Acc=0.7925\n",
            "Epoch 173: Train Loss=0.3813, Train Acc=0.8292, Val Loss=0.4138, Val Acc=0.8125\n",
            "Epoch 174: Train Loss=0.3810, Train Acc=0.8292, Val Loss=0.4328, Val Acc=0.7977\n",
            "Epoch 175: Train Loss=0.3809, Train Acc=0.8300, Val Loss=0.4053, Val Acc=0.8203\n",
            "Epoch 176: Train Loss=0.3810, Train Acc=0.8296, Val Loss=0.4266, Val Acc=0.8068\n",
            "Epoch 177: Train Loss=0.3809, Train Acc=0.8303, Val Loss=0.4087, Val Acc=0.8193\n",
            "Epoch 178: Train Loss=0.3807, Train Acc=0.8300, Val Loss=0.4253, Val Acc=0.8088\n",
            "Epoch 179: Train Loss=0.3802, Train Acc=0.8297, Val Loss=0.4236, Val Acc=0.8083\n",
            "Epoch 180: Train Loss=0.3804, Train Acc=0.8307, Val Loss=0.4052, Val Acc=0.8216\n",
            "Epoch 181: Train Loss=0.3801, Train Acc=0.8298, Val Loss=0.4280, Val Acc=0.8070\n",
            "Epoch 182: Train Loss=0.3796, Train Acc=0.8303, Val Loss=0.4075, Val Acc=0.8165\n",
            "Epoch 183: Train Loss=0.3796, Train Acc=0.8306, Val Loss=0.4070, Val Acc=0.8163\n",
            "Epoch 184: Train Loss=0.3795, Train Acc=0.8305, Val Loss=0.4128, Val Acc=0.8122\n",
            "Epoch 185: Train Loss=0.3791, Train Acc=0.8311, Val Loss=0.4093, Val Acc=0.8191\n",
            "Epoch 186: Train Loss=0.3787, Train Acc=0.8312, Val Loss=0.4892, Val Acc=0.7760\n",
            "Epoch 187: Train Loss=0.3792, Train Acc=0.8309, Val Loss=0.4063, Val Acc=0.8208\n",
            "Epoch 188: Train Loss=0.3791, Train Acc=0.8305, Val Loss=0.4079, Val Acc=0.8179\n",
            "Epoch 189: Train Loss=0.3785, Train Acc=0.8313, Val Loss=0.4281, Val Acc=0.8079\n",
            "Epoch 190: Train Loss=0.3787, Train Acc=0.8311, Val Loss=0.4145, Val Acc=0.8134\n",
            "Epoch 191: Train Loss=0.3785, Train Acc=0.8314, Val Loss=0.4371, Val Acc=0.8021\n",
            "Epoch 192: Train Loss=0.3785, Train Acc=0.8314, Val Loss=0.4088, Val Acc=0.8153\n",
            "Epoch 193: Train Loss=0.3783, Train Acc=0.8313, Val Loss=0.4105, Val Acc=0.8177\n",
            "Epoch 194: Train Loss=0.3781, Train Acc=0.8318, Val Loss=0.4085, Val Acc=0.8154\n",
            "Epoch 195: Train Loss=0.3779, Train Acc=0.8319, Val Loss=0.4174, Val Acc=0.8110\n",
            "Epoch 196: Train Loss=0.3784, Train Acc=0.8316, Val Loss=0.4045, Val Acc=0.8198\n",
            "Epoch 197: Train Loss=0.3777, Train Acc=0.8315, Val Loss=0.4157, Val Acc=0.8137\n",
            "Epoch 198: Train Loss=0.3775, Train Acc=0.8314, Val Loss=0.4032, Val Acc=0.8203\n",
            "Epoch 199: Train Loss=0.3773, Train Acc=0.8317, Val Loss=0.4042, Val Acc=0.8192\n",
            "Epoch 200: Train Loss=0.3770, Train Acc=0.8315, Val Loss=0.4165, Val Acc=0.8135\n",
            "Epoch 201: Train Loss=0.3773, Train Acc=0.8321, Val Loss=0.4024, Val Acc=0.8207\n",
            "Epoch 202: Train Loss=0.3771, Train Acc=0.8319, Val Loss=0.4063, Val Acc=0.8172\n",
            "Epoch 203: Train Loss=0.3772, Train Acc=0.8317, Val Loss=0.4063, Val Acc=0.8149\n",
            "Epoch 204: Train Loss=0.3774, Train Acc=0.8315, Val Loss=0.4126, Val Acc=0.8090\n",
            "Epoch 205: Train Loss=0.3769, Train Acc=0.8313, Val Loss=0.5144, Val Acc=0.7618\n",
            "Epoch 206: Train Loss=0.3767, Train Acc=0.8317, Val Loss=0.4077, Val Acc=0.8171\n",
            "Epoch 207: Train Loss=0.3766, Train Acc=0.8325, Val Loss=0.4101, Val Acc=0.8163\n",
            "Epoch 208: Train Loss=0.3765, Train Acc=0.8324, Val Loss=0.4022, Val Acc=0.8208\n",
            "Epoch 209: Train Loss=0.3766, Train Acc=0.8318, Val Loss=0.4224, Val Acc=0.8116\n",
            "Epoch 210: Train Loss=0.3762, Train Acc=0.8319, Val Loss=0.4028, Val Acc=0.8191\n",
            "Early stopping at epoch 210\n",
            "CPU times: user 2min 50s, sys: 1.34 s, total: 2min 51s\n",
            "Wall time: 3min 16s\n"
          ]
        }
      ],
      "source": [
        "%%time\n",
        "\n",
        "best_model_wts, CNN_1d_Best, train_losses, train_accuracies, val_losses, val_accuracies = train_model(cnn,\n",
        "                                                                                                      train_loader,\n",
        "                                                                                                      val_loader,\n",
        "                                                                                                      criterion,\n",
        "                                                                                                      optimizer,\n",
        "                                                                                                      num_epochs,\n",
        "                                                                                                      early_stopping_patience)"
      ]
    },
    {
      "cell_type": "code",
      "execution_count": 68,
      "metadata": {
        "id": "txS6Jv0tdCKR"
      },
      "outputs": [],
      "source": [
        "torch.save(best_model_wts, '1d_CNN_Best.pth')"
      ]
    },
    {
      "cell_type": "code",
      "execution_count": 69,
      "metadata": {
        "colab": {
          "base_uri": "https://localhost:8080/"
        },
        "id": "Bickg858dMaO",
        "outputId": "cea28976-4748-40cb-aed6-c4e7a61a69d0"
      },
      "outputs": [
        {
          "data": {
            "text/plain": [
              "<All keys matched successfully>"
            ]
          },
          "execution_count": 69,
          "metadata": {},
          "output_type": "execute_result"
        }
      ],
      "source": [
        "CNN_1d_Best.load_state_dict(torch.load('1d_CNN_Best.pth'))"
      ]
    },
    {
      "cell_type": "code",
      "execution_count": 70,
      "metadata": {
        "colab": {
          "base_uri": "https://localhost:8080/",
          "height": 546
        },
        "id": "BFRLdoMEcA6b",
        "outputId": "f6290a18-371b-4ea3-b501-e3559a6075d3"
      },
      "outputs": [
        {
          "data": {
            "image/png": "[encoded data removed]",
            "text/plain": [
              "<Figure size 1000x600 with 2 Axes>"
            ]
          },
          "metadata": {},
          "output_type": "display_data"
        }
      ],
      "source": [
        "epochs = list(range(1, len(train_losses) + 1))\n",
        "\n",
        "fig, ax1 = plt.subplots(figsize=(10, 6))\n",
        "color_loss = 'tab:red'\n",
        "ax1.set_xlabel('Epoch')\n",
        "ax1.set_ylabel('Loss', color=color_loss)\n",
        "ax1.plot(epochs, train_losses, label='Train Loss', color='red', linestyle='-')\n",
        "ax1.plot(epochs, val_losses, label='Val Loss', color='orange', linestyle='-')\n",
        "ax1.tick_params(axis='y', labelcolor=color_loss)\n",
        "ax1.legend(loc='upper left')\n",
        "\n",
        "ax2 = ax1.twinx()\n",
        "color_acc = 'tab:blue'\n",
        "ax2.set_ylabel('Accuracy', color=color_acc)\n",
        "ax2.plot(epochs, train_accuracies, label='Train Accuracy', color='blue', linestyle='--')\n",
        "ax2.plot(epochs, val_accuracies, label='Val Accuracy', color='cyan', linestyle='--')\n",
        "ax2.tick_params(axis='y', labelcolor=color_acc)\n",
        "ax2.legend(loc='upper right')\n",
        "\n",
        "plt.title('Training and Validation Loss & Accuracy')\n",
        "plt.show()"
      ]
    },
    {
      "cell_type": "code",
      "execution_count": 71,
      "metadata": {
        "id": "LN0eOYZKWJzT"
      },
      "outputs": [],
      "source": [
        "def make_predictions_using_NN(model, data_loader):\n",
        "    model.eval()\n",
        "    all_preds = []\n",
        "    all_probs = []\n",
        "\n",
        "    with torch.no_grad():\n",
        "        for xb, labels in data_loader:\n",
        "            xb = xb.to(device)\n",
        "            logits = model(xb)\n",
        "\n",
        "            probs = torch.softmax(logits, dim=1)\n",
        "            preds = torch.argmax(logits, dim=1)\n",
        "            all_preds.append(preds.cpu())\n",
        "            all_probs.append(probs.cpu())\n",
        "\n",
        "    all_preds = torch.cat(all_preds)\n",
        "    all_probs = torch.cat(all_probs)\n",
        "    return all_preds, all_probs"
      ]
    },
    {
      "cell_type": "code",
      "execution_count": 72,
      "metadata": {
        "id": "UcrEE1dvWh_u"
      },
      "outputs": [],
      "source": [
        "train_preds_1dCNN, train_probs_1dCNN = make_predictions_using_NN(CNN_1d_Best, train_loader)\n",
        "val_preds_1dCNN, val_probs_1dCNN = make_predictions_using_NN(CNN_1d_Best, val_loader)\n",
        "test_preds_1dCNN, test_probs_1dCNN = make_predictions_using_NN(CNN_1d_Best, test_loader)"
      ]
    },
    {
      "cell_type": "code",
      "execution_count": 73,
      "metadata": {
        "colab": {
          "base_uri": "https://localhost:8080/"
        },
        "id": "fOsWCxdfWjF3",
        "outputId": "578292a0-a40d-448f-a382-787af9b2658d"
      },
      "outputs": [
        {
          "name": "stdout",
          "output_type": "stream",
          "text": [
            "Training performance for 1-d CNN\n",
            "              precision    recall  f1-score   support\n",
            "\n",
            "           0       0.82      0.86      0.84     25190\n",
            "           1       0.84      0.80      0.82     23853\n",
            "\n",
            "    accuracy                           0.83     49043\n",
            "   macro avg       0.83      0.83      0.83     49043\n",
            "weighted avg       0.83      0.83      0.83     49043\n",
            "\n"
          ]
        }
      ],
      "source": [
        "print(\"Training performance for 1-d CNN\")\n",
        "print(classification_report(Y_train, train_preds_1dCNN))"
      ]
    },
    {
      "cell_type": "code",
      "execution_count": 74,
      "metadata": {
        "colab": {
          "base_uri": "https://localhost:8080/"
        },
        "id": "mbCrWa9hWu2B",
        "outputId": "a3f7fd38-a6eb-45e1-b630-2b6be3e9e202"
      },
      "outputs": [
        {
          "name": "stdout",
          "output_type": "stream",
          "text": [
            "Val performance for 1-d CNN\n",
            "              precision    recall  f1-score   support\n",
            "\n",
            "           0       0.82      0.84      0.83      4558\n",
            "           1       0.82      0.79      0.81      4097\n",
            "\n",
            "    accuracy                           0.82      8655\n",
            "   macro avg       0.82      0.82      0.82      8655\n",
            "weighted avg       0.82      0.82      0.82      8655\n",
            "\n"
          ]
        }
      ],
      "source": [
        "print(\"Val performance for 1-d CNN\")\n",
        "print(classification_report(Y_val, val_preds_1dCNN))"
      ]
    },
    {
      "cell_type": "code",
      "execution_count": 75,
      "metadata": {
        "colab": {
          "base_uri": "https://localhost:8080/"
        },
        "id": "0Eh3059EWgiS",
        "outputId": "da2ea510-f7e5-484c-ecfe-69bcdc55ea2b"
      },
      "outputs": [
        {
          "name": "stdout",
          "output_type": "stream",
          "text": [
            "Test performance for 1-d CNN\n",
            "              precision    recall  f1-score   support\n",
            "\n",
            "           0       0.81      0.85      0.83      7347\n",
            "           1       0.84      0.79      0.81      7078\n",
            "\n",
            "    accuracy                           0.82     14425\n",
            "   macro avg       0.82      0.82      0.82     14425\n",
            "weighted avg       0.82      0.82      0.82     14425\n",
            "\n"
          ]
        }
      ],
      "source": [
        "print(\"Test performance for 1-d CNN\")\n",
        "print(classification_report(Y_test, test_preds_1dCNN))"
      ]
    },
    {
      "cell_type": "code",
      "execution_count": 80,
      "metadata": {
        "colab": {
          "base_uri": "https://localhost:8080/",
          "height": 1000
        },
        "id": "fryBVAvkaeN9",
        "outputId": "16a82ce5-57c4-4a74-efec-34999065614c"
      },
      "outputs": [
        {
          "data": {
            "image/png": "[encoded data removed]",
            "text/plain": [
              "<Figure size 600x600 with 1 Axes>"
            ]
          },
          "metadata": {},
          "output_type": "display_data"
        },
        {
          "name": "stdout",
          "output_type": "stream",
          "text": [
            "\n",
            "\n",
            "FOR TESTING SET: \n",
            "              precision    recall  f1-score   support\n",
            "\n",
            "           0       0.81      0.85      0.83      7347\n",
            "           1       0.84      0.79      0.81      7078\n",
            "\n",
            "    accuracy                           0.82     14425\n",
            "   macro avg       0.82      0.82      0.82     14425\n",
            "weighted avg       0.82      0.82      0.82     14425\n",
            "\n",
            "\n",
            "\n",
            "ROC AUC Score: 90.17%\n",
            "\n",
            "\n"
          ]
        },
        {
          "data": {
            "image/png": "[encoded data removed]",
            "text/plain": [
              "<Figure size 1000x600 with 1 Axes>"
            ]
          },
          "metadata": {},
          "output_type": "display_data"
        }
      ],
      "source": [
        "perform_deep_test_analysis(Y_test, test_preds_1dCNN, test_probs_1dCNN[:, 1], \"1d CNN\")"
      ]
    },
    {
      "cell_type": "markdown",
      "metadata": {
        "id": "5FaImBKEau9P"
      },
      "source": [
        "Not bad at all given that we used a 1-d CNN (with batchnorm, average pooling, LeakyRelu and Dropout). Lets see if reshaping the input embeddings into 2d (to mimic a greyscale image) and retrying a 2d CNN works better or not."
      ]
    },
    {
      "cell_type": "markdown",
      "metadata": {
        "id": "SxOKYmkPTMUm"
      },
      "source": [
        "## 4.4 2-d CNN"
      ]
    },
    {
      "cell_type": "code",
      "execution_count": 81,
      "metadata": {
        "colab": {
          "base_uri": "https://localhost:8080/"
        },
        "id": "C-kZYxQCbJXZ",
        "outputId": "ae679c92-0858-40ed-ef15-741cb5126d3e"
      },
      "outputs": [
        {
          "data": {
            "text/plain": [
              "(384, 384)"
            ]
          },
          "execution_count": 81,
          "metadata": {},
          "output_type": "execute_result"
        }
      ],
      "source": [
        "input_dim, 16*24"
      ]
    },
    {
      "cell_type": "markdown",
      "metadata": {
        "id": "v0dob9brbM-f"
      },
      "source": [
        "Lets reshape input embeddings to 16*24 (total 384) so that it will mimic a greyscale image."
      ]
    },
    {
      "cell_type": "code",
      "execution_count": 82,
      "metadata": {
        "id": "mkQZa41FbCer"
      },
      "outputs": [],
      "source": [
        "import torch\n",
        "import torch.nn as nn\n",
        "\n",
        "class VanillaCNN_2d(nn.Module):\n",
        "    def __init__(self, num_classes=2):\n",
        "        super(VanillaCNN_2d, self).__init__()\n",
        "\n",
        "        self.conv1 = nn.Conv2d(1, 3, kernel_size=(3,3), padding=1) # input: 1 channel * 16 height * 24 height\n",
        "        self.bn1 = nn.BatchNorm2d(3)\n",
        "        self.pool1 = nn.AvgPool2d(2)  # 1 * 16 * 24 -> 3 * 8 * 12\n",
        "\n",
        "        self.conv2 = nn.Conv2d(3, 6, kernel_size=(3,3), padding=1)\n",
        "        self.bn2 = nn.BatchNorm2d(6)\n",
        "        self.pool2 = nn.AvgPool2d(2)  # 3 * 8  * 12 -> 6 * 4 * 6\n",
        "\n",
        "        self.conv3 = nn.Conv2d(6, 8, kernel_size=(3,3), padding=1)\n",
        "        self.bn3 = nn.BatchNorm2d(8)\n",
        "        self.pool3 = nn.AvgPool2d(2)  # 6 * 4 * 6 -> 8 * 2 * 3\n",
        "\n",
        "        self.relu = nn.LeakyReLU()\n",
        "        self.dropout = nn.Dropout(0.001)\n",
        "\n",
        "        # flattening the 3d array (8 channels * 2 * 3 = 48 input neurons in fully connected layer)\n",
        "        self.fc = nn.Linear(8 * 2 * 3, num_classes)\n",
        "\n",
        "    def forward(self, x):\n",
        "        # Reshape 384 -> 1x16x24 (channel, height, width); this way, it mimics a greyscale image\n",
        "        x = x.view(-1, 1, 16, 24)\n",
        "        x = self.pool1(self.relu(self.bn1(self.conv1(x))))  # (B, 3, 8, 12)\n",
        "        x = self.pool2(self.relu(self.bn2(self.conv2(x))))  # (B, 6, 4, 6)\n",
        "        x = self.pool3(self.relu(self.bn3(self.conv3(x))))  # (B, 8, 2, 3)\n",
        "        x = x.view(x.size(0), -1)\n",
        "        x = self.dropout(x)\n",
        "        x = self.fc(x)\n",
        "        return x"
      ]
    },
    {
      "cell_type": "code",
      "execution_count": 83,
      "metadata": {
        "colab": {
          "base_uri": "https://localhost:8080/"
        },
        "id": "Xz2CH5NTdvYo",
        "outputId": "5834cd76-fb81-4c87-f7e4-b1ec65be0b9b"
      },
      "outputs": [
        {
          "data": {
            "text/plain": [
              "torch.Size([1, 2])"
            ]
          },
          "execution_count": 83,
          "metadata": {},
          "output_type": "execute_result"
        }
      ],
      "source": [
        "cnn_2d = VanillaCNN_2d(num_classes).to(device)\n",
        "\n",
        "# Create a random input sample with 384 features\n",
        "single_input = torch.randn(384)\n",
        "single_input = single_input.unsqueeze(0).to(device)\n",
        "output = cnn_2d(single_input)\n",
        "output.shape"
      ]
    },
    {
      "cell_type": "markdown",
      "metadata": {
        "id": "mR1i4cXjeGPX"
      },
      "source": [
        "Perfect! The 2d cnn's forward pass is also proper. Lets train this model."
      ]
    },
    {
      "cell_type": "code",
      "execution_count": 84,
      "metadata": {
        "colab": {
          "base_uri": "https://localhost:8080/"
        },
        "id": "hqs0R1VSdfMx",
        "outputId": "5491c4d2-c726-4ec4-dc3e-8d44804bde67"
      },
      "outputs": [
        {
          "name": "stdout",
          "output_type": "stream",
          "text": [
            "Epoch 1: Train Loss=0.6585, Train Acc=0.6120, Val Loss=0.6814, Val Acc=0.5765\n",
            "Epoch 2: Train Loss=0.6049, Train Acc=0.6820, Val Loss=0.6112, Val Acc=0.6642\n",
            "Epoch 3: Train Loss=0.5635, Train Acc=0.7150, Val Loss=0.5720, Val Acc=0.6995\n",
            "Epoch 4: Train Loss=0.5400, Train Acc=0.7290, Val Loss=0.5515, Val Acc=0.7163\n",
            "Epoch 5: Train Loss=0.5249, Train Acc=0.7401, Val Loss=0.5371, Val Acc=0.7281\n",
            "Epoch 6: Train Loss=0.5139, Train Acc=0.7467, Val Loss=0.5272, Val Acc=0.7330\n",
            "Epoch 7: Train Loss=0.5048, Train Acc=0.7518, Val Loss=0.5201, Val Acc=0.7381\n",
            "Epoch 8: Train Loss=0.4975, Train Acc=0.7571, Val Loss=0.5145, Val Acc=0.7407\n",
            "Epoch 9: Train Loss=0.4917, Train Acc=0.7603, Val Loss=0.5097, Val Acc=0.7459\n",
            "Epoch 10: Train Loss=0.4869, Train Acc=0.7639, Val Loss=0.5057, Val Acc=0.7490\n",
            "Epoch 11: Train Loss=0.4828, Train Acc=0.7671, Val Loss=0.5020, Val Acc=0.7534\n",
            "Epoch 12: Train Loss=0.4796, Train Acc=0.7692, Val Loss=0.4983, Val Acc=0.7560\n",
            "Epoch 13: Train Loss=0.4764, Train Acc=0.7712, Val Loss=0.4949, Val Acc=0.7581\n",
            "Epoch 14: Train Loss=0.4738, Train Acc=0.7723, Val Loss=0.4917, Val Acc=0.7622\n",
            "Epoch 15: Train Loss=0.4710, Train Acc=0.7740, Val Loss=0.4889, Val Acc=0.7652\n",
            "Epoch 16: Train Loss=0.4686, Train Acc=0.7749, Val Loss=0.4869, Val Acc=0.7668\n",
            "Epoch 17: Train Loss=0.4663, Train Acc=0.7767, Val Loss=0.4849, Val Acc=0.7676\n",
            "Epoch 18: Train Loss=0.4645, Train Acc=0.7777, Val Loss=0.4824, Val Acc=0.7698\n",
            "Epoch 19: Train Loss=0.4624, Train Acc=0.7793, Val Loss=0.4820, Val Acc=0.7697\n",
            "Epoch 20: Train Loss=0.4609, Train Acc=0.7801, Val Loss=0.4805, Val Acc=0.7711\n",
            "Epoch 21: Train Loss=0.4593, Train Acc=0.7818, Val Loss=0.4776, Val Acc=0.7731\n",
            "Epoch 22: Train Loss=0.4578, Train Acc=0.7823, Val Loss=0.4771, Val Acc=0.7742\n",
            "Epoch 23: Train Loss=0.4561, Train Acc=0.7834, Val Loss=0.4748, Val Acc=0.7749\n",
            "Epoch 24: Train Loss=0.4548, Train Acc=0.7841, Val Loss=0.4727, Val Acc=0.7765\n",
            "Epoch 25: Train Loss=0.4536, Train Acc=0.7859, Val Loss=0.4708, Val Acc=0.7785\n",
            "Epoch 26: Train Loss=0.4523, Train Acc=0.7865, Val Loss=0.4695, Val Acc=0.7792\n",
            "Epoch 27: Train Loss=0.4513, Train Acc=0.7865, Val Loss=0.4693, Val Acc=0.7792\n",
            "Epoch 28: Train Loss=0.4499, Train Acc=0.7873, Val Loss=0.4677, Val Acc=0.7794\n",
            "Epoch 29: Train Loss=0.4491, Train Acc=0.7875, Val Loss=0.4692, Val Acc=0.7798\n",
            "Epoch 30: Train Loss=0.4480, Train Acc=0.7886, Val Loss=0.4670, Val Acc=0.7802\n",
            "Epoch 31: Train Loss=0.4471, Train Acc=0.7890, Val Loss=0.4649, Val Acc=0.7822\n",
            "Epoch 32: Train Loss=0.4463, Train Acc=0.7891, Val Loss=0.4637, Val Acc=0.7849\n",
            "Epoch 33: Train Loss=0.4454, Train Acc=0.7894, Val Loss=0.4630, Val Acc=0.7858\n",
            "Epoch 34: Train Loss=0.4446, Train Acc=0.7904, Val Loss=0.4627, Val Acc=0.7836\n",
            "Epoch 35: Train Loss=0.4438, Train Acc=0.7909, Val Loss=0.4639, Val Acc=0.7820\n",
            "Epoch 36: Train Loss=0.4435, Train Acc=0.7911, Val Loss=0.4614, Val Acc=0.7829\n",
            "Epoch 37: Train Loss=0.4427, Train Acc=0.7913, Val Loss=0.4618, Val Acc=0.7831\n",
            "Epoch 38: Train Loss=0.4421, Train Acc=0.7916, Val Loss=0.4612, Val Acc=0.7812\n",
            "Epoch 39: Train Loss=0.4413, Train Acc=0.7922, Val Loss=0.4612, Val Acc=0.7831\n",
            "Epoch 40: Train Loss=0.4408, Train Acc=0.7922, Val Loss=0.4603, Val Acc=0.7854\n",
            "Epoch 41: Train Loss=0.4402, Train Acc=0.7931, Val Loss=0.4603, Val Acc=0.7841\n",
            "Epoch 42: Train Loss=0.4393, Train Acc=0.7934, Val Loss=0.4596, Val Acc=0.7847\n",
            "Epoch 43: Train Loss=0.4388, Train Acc=0.7937, Val Loss=0.4605, Val Acc=0.7846\n",
            "Epoch 44: Train Loss=0.4382, Train Acc=0.7947, Val Loss=0.4587, Val Acc=0.7863\n",
            "Epoch 45: Train Loss=0.4377, Train Acc=0.7950, Val Loss=0.4585, Val Acc=0.7850\n",
            "Epoch 46: Train Loss=0.4372, Train Acc=0.7957, Val Loss=0.4569, Val Acc=0.7896\n",
            "Epoch 47: Train Loss=0.4367, Train Acc=0.7963, Val Loss=0.4572, Val Acc=0.7868\n",
            "Epoch 48: Train Loss=0.4360, Train Acc=0.7971, Val Loss=0.4583, Val Acc=0.7872\n",
            "Epoch 49: Train Loss=0.4357, Train Acc=0.7970, Val Loss=0.4558, Val Acc=0.7887\n",
            "Epoch 50: Train Loss=0.4353, Train Acc=0.7968, Val Loss=0.4554, Val Acc=0.7883\n",
            "Epoch 51: Train Loss=0.4349, Train Acc=0.7978, Val Loss=0.4556, Val Acc=0.7861\n",
            "Epoch 52: Train Loss=0.4342, Train Acc=0.7979, Val Loss=0.4548, Val Acc=0.7880\n",
            "Epoch 53: Train Loss=0.4340, Train Acc=0.7993, Val Loss=0.4549, Val Acc=0.7905\n",
            "Epoch 54: Train Loss=0.4333, Train Acc=0.7989, Val Loss=0.4539, Val Acc=0.7893\n",
            "Epoch 55: Train Loss=0.4330, Train Acc=0.7998, Val Loss=0.4558, Val Acc=0.7876\n",
            "Epoch 56: Train Loss=0.4328, Train Acc=0.7999, Val Loss=0.4569, Val Acc=0.7863\n",
            "Epoch 57: Train Loss=0.4322, Train Acc=0.7992, Val Loss=0.4523, Val Acc=0.7912\n",
            "Epoch 58: Train Loss=0.4317, Train Acc=0.8003, Val Loss=0.4525, Val Acc=0.7918\n",
            "Epoch 59: Train Loss=0.4313, Train Acc=0.8001, Val Loss=0.4516, Val Acc=0.7917\n",
            "Epoch 60: Train Loss=0.4311, Train Acc=0.8006, Val Loss=0.4526, Val Acc=0.7911\n",
            "Epoch 61: Train Loss=0.4306, Train Acc=0.8009, Val Loss=0.4524, Val Acc=0.7899\n",
            "Epoch 62: Train Loss=0.4301, Train Acc=0.8013, Val Loss=0.4507, Val Acc=0.7919\n",
            "Epoch 63: Train Loss=0.4294, Train Acc=0.8023, Val Loss=0.4514, Val Acc=0.7918\n",
            "Epoch 64: Train Loss=0.4292, Train Acc=0.8020, Val Loss=0.4519, Val Acc=0.7898\n",
            "Epoch 65: Train Loss=0.4290, Train Acc=0.8020, Val Loss=0.4508, Val Acc=0.7893\n",
            "Epoch 66: Train Loss=0.4283, Train Acc=0.8027, Val Loss=0.4503, Val Acc=0.7910\n",
            "Epoch 67: Train Loss=0.4279, Train Acc=0.8022, Val Loss=0.4487, Val Acc=0.7939\n",
            "Epoch 68: Train Loss=0.4275, Train Acc=0.8027, Val Loss=0.4474, Val Acc=0.7940\n",
            "Epoch 69: Train Loss=0.4270, Train Acc=0.8024, Val Loss=0.4474, Val Acc=0.7951\n",
            "Epoch 70: Train Loss=0.4265, Train Acc=0.8032, Val Loss=0.4481, Val Acc=0.7928\n",
            "Epoch 71: Train Loss=0.4264, Train Acc=0.8035, Val Loss=0.4464, Val Acc=0.7934\n",
            "Epoch 72: Train Loss=0.4256, Train Acc=0.8038, Val Loss=0.4463, Val Acc=0.7938\n",
            "Epoch 73: Train Loss=0.4252, Train Acc=0.8040, Val Loss=0.4457, Val Acc=0.7947\n",
            "Epoch 74: Train Loss=0.4248, Train Acc=0.8041, Val Loss=0.4451, Val Acc=0.7954\n",
            "Epoch 75: Train Loss=0.4244, Train Acc=0.8049, Val Loss=0.4449, Val Acc=0.7962\n",
            "Epoch 76: Train Loss=0.4236, Train Acc=0.8048, Val Loss=0.4487, Val Acc=0.7913\n",
            "Epoch 77: Train Loss=0.4234, Train Acc=0.8040, Val Loss=0.4441, Val Acc=0.7951\n",
            "Epoch 78: Train Loss=0.4233, Train Acc=0.8038, Val Loss=0.4438, Val Acc=0.7933\n",
            "Epoch 79: Train Loss=0.4225, Train Acc=0.8049, Val Loss=0.4488, Val Acc=0.7921\n",
            "Epoch 80: Train Loss=0.4222, Train Acc=0.8048, Val Loss=0.4428, Val Acc=0.7948\n",
            "Epoch 81: Train Loss=0.4217, Train Acc=0.8051, Val Loss=0.4458, Val Acc=0.7931\n",
            "Epoch 82: Train Loss=0.4216, Train Acc=0.8048, Val Loss=0.4421, Val Acc=0.7954\n",
            "Epoch 83: Train Loss=0.4212, Train Acc=0.8055, Val Loss=0.4425, Val Acc=0.7942\n",
            "Epoch 84: Train Loss=0.4209, Train Acc=0.8057, Val Loss=0.4415, Val Acc=0.7946\n",
            "Epoch 85: Train Loss=0.4204, Train Acc=0.8056, Val Loss=0.4443, Val Acc=0.7942\n",
            "Epoch 86: Train Loss=0.4201, Train Acc=0.8058, Val Loss=0.4428, Val Acc=0.7947\n",
            "Epoch 87: Train Loss=0.4199, Train Acc=0.8059, Val Loss=0.4456, Val Acc=0.7927\n",
            "Epoch 88: Train Loss=0.4189, Train Acc=0.8066, Val Loss=0.4412, Val Acc=0.7962\n",
            "Epoch 89: Train Loss=0.4189, Train Acc=0.8071, Val Loss=0.4440, Val Acc=0.7941\n",
            "Epoch 90: Train Loss=0.4186, Train Acc=0.8077, Val Loss=0.4459, Val Acc=0.7917\n",
            "Epoch 91: Train Loss=0.4183, Train Acc=0.8074, Val Loss=0.4540, Val Acc=0.7881\n",
            "Epoch 92: Train Loss=0.4178, Train Acc=0.8084, Val Loss=0.4545, Val Acc=0.7875\n",
            "Epoch 93: Train Loss=0.4172, Train Acc=0.8079, Val Loss=0.4404, Val Acc=0.7953\n",
            "Epoch 94: Train Loss=0.4170, Train Acc=0.8082, Val Loss=0.4388, Val Acc=0.7953\n",
            "Epoch 95: Train Loss=0.4167, Train Acc=0.8088, Val Loss=0.4426, Val Acc=0.7939\n",
            "Epoch 96: Train Loss=0.4165, Train Acc=0.8092, Val Loss=0.4518, Val Acc=0.7902\n",
            "Epoch 97: Train Loss=0.4163, Train Acc=0.8084, Val Loss=0.4450, Val Acc=0.7932\n",
            "Epoch 98: Train Loss=0.4156, Train Acc=0.8091, Val Loss=0.4419, Val Acc=0.7945\n",
            "Epoch 99: Train Loss=0.4152, Train Acc=0.8092, Val Loss=0.4393, Val Acc=0.7945\n",
            "Epoch 100: Train Loss=0.4147, Train Acc=0.8098, Val Loss=0.4483, Val Acc=0.7902\n",
            "Epoch 101: Train Loss=0.4143, Train Acc=0.8097, Val Loss=0.4517, Val Acc=0.7887\n",
            "Epoch 102: Train Loss=0.4142, Train Acc=0.8099, Val Loss=0.4465, Val Acc=0.7908\n",
            "Epoch 103: Train Loss=0.4134, Train Acc=0.8107, Val Loss=0.4565, Val Acc=0.7845\n",
            "Epoch 104: Train Loss=0.4134, Train Acc=0.8104, Val Loss=0.4674, Val Acc=0.7772\n",
            "Epoch 105: Train Loss=0.4131, Train Acc=0.8107, Val Loss=0.4501, Val Acc=0.7874\n",
            "Early stopping at epoch 105\n",
            "CPU times: user 1min 28s, sys: 534 ms, total: 1min 28s\n",
            "Wall time: 1min 43s\n"
          ]
        }
      ],
      "source": [
        "%%time\n",
        "\n",
        "optimizer = optim.Adam(cnn_2d.parameters(), lr=0.001, weight_decay=0.001)\n",
        "\n",
        "# every single parameter is the same as 1-d cnn model. the only difference is the model\n",
        "best_model_wts_2d, CNN_2d_Best, train_losses, train_accuracies, val_losses, val_accuracies = train_model(cnn_2d,\n",
        "                                                                                                      train_loader,\n",
        "                                                                                                      val_loader,\n",
        "                                                                                                      criterion,\n",
        "                                                                                                      optimizer,\n",
        "                                                                                                      num_epochs,\n",
        "                                                                                                      early_stopping_patience)"
      ]
    },
    {
      "cell_type": "markdown",
      "metadata": {
        "id": "ZCrtq6GOehTh"
      },
      "source": [
        "Interesting. Reshaping into a 2d matrix seems to work actually."
      ]
    },
    {
      "cell_type": "code",
      "execution_count": 85,
      "metadata": {
        "id": "fXmmVYhQc25T"
      },
      "outputs": [],
      "source": [
        "torch.save(best_model_wts_2d, '2d_CNN_Best.pth')"
      ]
    },
    {
      "cell_type": "code",
      "execution_count": 86,
      "metadata": {
        "colab": {
          "base_uri": "https://localhost:8080/"
        },
        "id": "uRQEKmw3k8wl",
        "outputId": "85c81c72-28b8-4a91-8cbe-88c59ff8e1cb"
      },
      "outputs": [
        {
          "data": {
            "text/plain": [
              "<All keys matched successfully>"
            ]
          },
          "execution_count": 86,
          "metadata": {},
          "output_type": "execute_result"
        }
      ],
      "source": [
        "cnn_2d.load_state_dict(torch.load('2d_CNN_Best.pth'))"
      ]
    },
    {
      "cell_type": "code",
      "execution_count": 88,
      "metadata": {
        "id": "bU-U1NFxe2r_"
      },
      "outputs": [],
      "source": [
        "train_preds_2dCNN, train_probs_2dCNN = make_predictions_using_NN(cnn_2d, train_loader)\n",
        "val_preds_2dCNN, val_probs_2dCNN = make_predictions_using_NN(cnn_2d, val_loader)\n",
        "test_preds_2dCNN, test_probs_2dCNN = make_predictions_using_NN(cnn_2d, test_loader)"
      ]
    },
    {
      "cell_type": "code",
      "execution_count": 89,
      "metadata": {
        "colab": {
          "base_uri": "https://localhost:8080/"
        },
        "id": "UuEdpoUJe66n",
        "outputId": "5cb6a1bb-af80-497d-9a69-fa58efd324e5"
      },
      "outputs": [
        {
          "name": "stdout",
          "output_type": "stream",
          "text": [
            "Training performance for 2-d CNN\n",
            "              precision    recall  f1-score   support\n",
            "\n",
            "           0       0.85      0.75      0.80     25190\n",
            "           1       0.77      0.86      0.81     23853\n",
            "\n",
            "    accuracy                           0.80     49043\n",
            "   macro avg       0.81      0.80      0.80     49043\n",
            "weighted avg       0.81      0.80      0.80     49043\n",
            "\n"
          ]
        }
      ],
      "source": [
        "print(\"Training performance for 2-d CNN\")\n",
        "print(classification_report(Y_train, train_preds_2dCNN))"
      ]
    },
    {
      "cell_type": "code",
      "execution_count": 90,
      "metadata": {
        "colab": {
          "base_uri": "https://localhost:8080/"
        },
        "id": "2AWGkuJYe-0z",
        "outputId": "1da23857-1cb8-4adf-c678-e2167f8f2fcf"
      },
      "outputs": [
        {
          "name": "stdout",
          "output_type": "stream",
          "text": [
            "Val performance for 2-d CNN\n",
            "              precision    recall  f1-score   support\n",
            "\n",
            "           0       0.84      0.74      0.78      4558\n",
            "           1       0.74      0.84      0.79      4097\n",
            "\n",
            "    accuracy                           0.79      8655\n",
            "   macro avg       0.79      0.79      0.79      8655\n",
            "weighted avg       0.79      0.79      0.79      8655\n",
            "\n"
          ]
        }
      ],
      "source": [
        "print(\"Val performance for 2-d CNN\")\n",
        "print(classification_report(Y_val, val_preds_2dCNN))"
      ]
    },
    {
      "cell_type": "code",
      "execution_count": 91,
      "metadata": {
        "colab": {
          "base_uri": "https://localhost:8080/"
        },
        "id": "qWk6H71VfANg",
        "outputId": "c6ce72f1-a41d-457d-eb53-d631bb6f85f0"
      },
      "outputs": [
        {
          "name": "stdout",
          "output_type": "stream",
          "text": [
            "Test performance for 2-d CNN\n",
            "              precision    recall  f1-score   support\n",
            "\n",
            "           0       0.83      0.74      0.79      7347\n",
            "           1       0.76      0.85      0.80      7078\n",
            "\n",
            "    accuracy                           0.79     14425\n",
            "   macro avg       0.80      0.79      0.79     14425\n",
            "weighted avg       0.80      0.79      0.79     14425\n",
            "\n"
          ]
        }
      ],
      "source": [
        "print(\"Test performance for 2-d CNN\")\n",
        "print(classification_report(Y_test, test_preds_2dCNN))"
      ]
    },
    {
      "cell_type": "markdown",
      "metadata": {
        "id": "ufkgvgNqiXky"
      },
      "source": [
        "Well. Not bad all all. The key will be to tune the convolution layers and shape of the matrix."
      ]
    },
    {
      "cell_type": "code",
      "execution_count": 92,
      "metadata": {
        "colab": {
          "base_uri": "https://localhost:8080/",
          "height": 1000
        },
        "id": "AZWfu35XlPXe",
        "outputId": "71a9c42d-e7a5-443d-f20c-d2294e9146b9"
      },
      "outputs": [
        {
          "data": {
            "image/png": "[encoded data removed]",
            "text/plain": [
              "<Figure size 600x600 with 1 Axes>"
            ]
          },
          "metadata": {},
          "output_type": "display_data"
        },
        {
          "name": "stdout",
          "output_type": "stream",
          "text": [
            "\n",
            "\n",
            "FOR TESTING SET: \n",
            "              precision    recall  f1-score   support\n",
            "\n",
            "           0       0.83      0.74      0.79      7347\n",
            "           1       0.76      0.85      0.80      7078\n",
            "\n",
            "    accuracy                           0.79     14425\n",
            "   macro avg       0.80      0.79      0.79     14425\n",
            "weighted avg       0.80      0.79      0.79     14425\n",
            "\n",
            "\n",
            "\n",
            "ROC AUC Score: 88.21%\n",
            "\n",
            "\n"
          ]
        },
        {
          "data": {
            "image/png": "[encoded data removed]",
            "text/plain": [
              "<Figure size 1000x600 with 1 Axes>"
            ]
          },
          "metadata": {},
          "output_type": "display_data"
        }
      ],
      "source": [
        "perform_deep_test_analysis(Y_test, test_preds_2dCNN, test_probs_2dCNN[:, 1], \"2d CNN\")"
      ]
    },
    {
      "cell_type": "markdown",
      "metadata": {
        "id": "Hm-0dyzDbC09"
      },
      "source": [
        "## 4.5 Multi-Layered Perceptron"
      ]
    },
    {
      "cell_type": "code",
      "execution_count": 93,
      "metadata": {
        "id": "Li_24RNW8AV-"
      },
      "outputs": [],
      "source": [
        "class SimpleMLP(nn.Module):\n",
        "    def __init__(self, input_dim, num_classes):\n",
        "        super(SimpleMLP, self).__init__()\n",
        "        self.fc1 = nn.Linear(input_dim, 128)\n",
        "        self.relu = nn.LeakyReLU()\n",
        "        self.fc2 = nn.Linear(128, num_classes)\n",
        "    def forward(self, x):\n",
        "        x = self.fc1(x)\n",
        "        x = self.relu(x)\n",
        "        x = self.fc2(x)\n",
        "        return x\n",
        "\n",
        "mlp = SimpleMLP(input_dim, num_classes).to(device)"
      ]
    },
    {
      "cell_type": "code",
      "execution_count": 94,
      "metadata": {
        "colab": {
          "base_uri": "https://localhost:8080/"
        },
        "id": "VWHA9mHoAR-m",
        "outputId": "d2810053-5d91-4e47-bba3-316769983494"
      },
      "outputs": [
        {
          "name": "stdout",
          "output_type": "stream",
          "text": [
            "Epoch 1: Train Loss=0.5919, Train Acc=0.7112, Val Loss=0.5056, Val Acc=0.7604\n",
            "Epoch 2: Train Loss=0.4547, Train Acc=0.7921, Val Loss=0.4409, Val Acc=0.7986\n",
            "Epoch 3: Train Loss=0.4164, Train Acc=0.8147, Val Loss=0.4204, Val Acc=0.8070\n",
            "Epoch 4: Train Loss=0.4008, Train Acc=0.8220, Val Loss=0.4095, Val Acc=0.8139\n",
            "Epoch 5: Train Loss=0.3912, Train Acc=0.8267, Val Loss=0.4017, Val Acc=0.8181\n",
            "Epoch 6: Train Loss=0.3841, Train Acc=0.8304, Val Loss=0.3953, Val Acc=0.8222\n",
            "Epoch 7: Train Loss=0.3783, Train Acc=0.8338, Val Loss=0.3899, Val Acc=0.8252\n",
            "Epoch 8: Train Loss=0.3734, Train Acc=0.8374, Val Loss=0.3853, Val Acc=0.8287\n",
            "Epoch 9: Train Loss=0.3691, Train Acc=0.8399, Val Loss=0.3812, Val Acc=0.8308\n",
            "Epoch 10: Train Loss=0.3652, Train Acc=0.8421, Val Loss=0.3776, Val Acc=0.8326\n",
            "Epoch 11: Train Loss=0.3617, Train Acc=0.8440, Val Loss=0.3744, Val Acc=0.8343\n",
            "Epoch 12: Train Loss=0.3585, Train Acc=0.8456, Val Loss=0.3716, Val Acc=0.8358\n",
            "Epoch 13: Train Loss=0.3556, Train Acc=0.8465, Val Loss=0.3690, Val Acc=0.8377\n",
            "Epoch 14: Train Loss=0.3529, Train Acc=0.8480, Val Loss=0.3667, Val Acc=0.8384\n",
            "Epoch 15: Train Loss=0.3505, Train Acc=0.8494, Val Loss=0.3646, Val Acc=0.8394\n",
            "Epoch 16: Train Loss=0.3483, Train Acc=0.8503, Val Loss=0.3627, Val Acc=0.8427\n",
            "Epoch 17: Train Loss=0.3463, Train Acc=0.8514, Val Loss=0.3610, Val Acc=0.8438\n",
            "Epoch 18: Train Loss=0.3444, Train Acc=0.8524, Val Loss=0.3594, Val Acc=0.8447\n",
            "Epoch 19: Train Loss=0.3427, Train Acc=0.8530, Val Loss=0.3579, Val Acc=0.8453\n",
            "Epoch 20: Train Loss=0.3411, Train Acc=0.8537, Val Loss=0.3565, Val Acc=0.8454\n",
            "Epoch 21: Train Loss=0.3396, Train Acc=0.8545, Val Loss=0.3553, Val Acc=0.8461\n",
            "Epoch 22: Train Loss=0.3382, Train Acc=0.8552, Val Loss=0.3541, Val Acc=0.8473\n",
            "Epoch 23: Train Loss=0.3368, Train Acc=0.8559, Val Loss=0.3530, Val Acc=0.8470\n",
            "Epoch 24: Train Loss=0.3356, Train Acc=0.8565, Val Loss=0.3520, Val Acc=0.8481\n",
            "Epoch 25: Train Loss=0.3344, Train Acc=0.8570, Val Loss=0.3510, Val Acc=0.8483\n",
            "Epoch 26: Train Loss=0.3333, Train Acc=0.8576, Val Loss=0.3500, Val Acc=0.8486\n",
            "Epoch 27: Train Loss=0.3322, Train Acc=0.8580, Val Loss=0.3492, Val Acc=0.8496\n",
            "Epoch 28: Train Loss=0.3312, Train Acc=0.8586, Val Loss=0.3483, Val Acc=0.8498\n",
            "Epoch 29: Train Loss=0.3302, Train Acc=0.8591, Val Loss=0.3476, Val Acc=0.8497\n",
            "Epoch 30: Train Loss=0.3293, Train Acc=0.8600, Val Loss=0.3468, Val Acc=0.8501\n",
            "Epoch 31: Train Loss=0.3283, Train Acc=0.8606, Val Loss=0.3461, Val Acc=0.8500\n",
            "Epoch 32: Train Loss=0.3275, Train Acc=0.8613, Val Loss=0.3454, Val Acc=0.8510\n",
            "Epoch 33: Train Loss=0.3266, Train Acc=0.8618, Val Loss=0.3447, Val Acc=0.8512\n",
            "Epoch 34: Train Loss=0.3258, Train Acc=0.8621, Val Loss=0.3440, Val Acc=0.8518\n",
            "Epoch 35: Train Loss=0.3250, Train Acc=0.8624, Val Loss=0.3433, Val Acc=0.8521\n",
            "Epoch 36: Train Loss=0.3242, Train Acc=0.8631, Val Loss=0.3427, Val Acc=0.8521\n",
            "Epoch 37: Train Loss=0.3234, Train Acc=0.8636, Val Loss=0.3421, Val Acc=0.8522\n",
            "Epoch 38: Train Loss=0.3226, Train Acc=0.8640, Val Loss=0.3415, Val Acc=0.8526\n",
            "Epoch 39: Train Loss=0.3219, Train Acc=0.8643, Val Loss=0.3409, Val Acc=0.8528\n",
            "Epoch 40: Train Loss=0.3211, Train Acc=0.8648, Val Loss=0.3403, Val Acc=0.8534\n",
            "Epoch 41: Train Loss=0.3204, Train Acc=0.8651, Val Loss=0.3397, Val Acc=0.8537\n",
            "Epoch 42: Train Loss=0.3197, Train Acc=0.8654, Val Loss=0.3392, Val Acc=0.8541\n",
            "Epoch 43: Train Loss=0.3190, Train Acc=0.8659, Val Loss=0.3386, Val Acc=0.8550\n",
            "Epoch 44: Train Loss=0.3183, Train Acc=0.8665, Val Loss=0.3380, Val Acc=0.8558\n",
            "Epoch 45: Train Loss=0.3177, Train Acc=0.8665, Val Loss=0.3375, Val Acc=0.8564\n",
            "Epoch 46: Train Loss=0.3170, Train Acc=0.8669, Val Loss=0.3370, Val Acc=0.8566\n",
            "Epoch 47: Train Loss=0.3164, Train Acc=0.8675, Val Loss=0.3364, Val Acc=0.8567\n",
            "Epoch 48: Train Loss=0.3157, Train Acc=0.8681, Val Loss=0.3359, Val Acc=0.8570\n",
            "Epoch 49: Train Loss=0.3151, Train Acc=0.8681, Val Loss=0.3355, Val Acc=0.8574\n",
            "Epoch 50: Train Loss=0.3145, Train Acc=0.8684, Val Loss=0.3350, Val Acc=0.8579\n",
            "Epoch 51: Train Loss=0.3140, Train Acc=0.8689, Val Loss=0.3346, Val Acc=0.8580\n",
            "Epoch 52: Train Loss=0.3134, Train Acc=0.8692, Val Loss=0.3341, Val Acc=0.8582\n",
            "Epoch 53: Train Loss=0.3129, Train Acc=0.8694, Val Loss=0.3337, Val Acc=0.8582\n",
            "Epoch 54: Train Loss=0.3123, Train Acc=0.8696, Val Loss=0.3333, Val Acc=0.8589\n",
            "Epoch 55: Train Loss=0.3118, Train Acc=0.8699, Val Loss=0.3329, Val Acc=0.8592\n",
            "Epoch 56: Train Loss=0.3113, Train Acc=0.8702, Val Loss=0.3325, Val Acc=0.8589\n",
            "Epoch 57: Train Loss=0.3108, Train Acc=0.8707, Val Loss=0.3321, Val Acc=0.8590\n",
            "Epoch 58: Train Loss=0.3103, Train Acc=0.8709, Val Loss=0.3318, Val Acc=0.8590\n",
            "Epoch 59: Train Loss=0.3098, Train Acc=0.8712, Val Loss=0.3314, Val Acc=0.8594\n",
            "Epoch 60: Train Loss=0.3094, Train Acc=0.8714, Val Loss=0.3311, Val Acc=0.8594\n",
            "Epoch 61: Train Loss=0.3089, Train Acc=0.8716, Val Loss=0.3307, Val Acc=0.8594\n",
            "Epoch 62: Train Loss=0.3085, Train Acc=0.8718, Val Loss=0.3304, Val Acc=0.8593\n",
            "Epoch 63: Train Loss=0.3081, Train Acc=0.8719, Val Loss=0.3301, Val Acc=0.8594\n",
            "Epoch 64: Train Loss=0.3077, Train Acc=0.8721, Val Loss=0.3298, Val Acc=0.8594\n",
            "Epoch 65: Train Loss=0.3073, Train Acc=0.8724, Val Loss=0.3295, Val Acc=0.8596\n",
            "Epoch 66: Train Loss=0.3069, Train Acc=0.8727, Val Loss=0.3292, Val Acc=0.8601\n",
            "Epoch 67: Train Loss=0.3066, Train Acc=0.8728, Val Loss=0.3290, Val Acc=0.8600\n",
            "Epoch 68: Train Loss=0.3062, Train Acc=0.8730, Val Loss=0.3287, Val Acc=0.8601\n",
            "Epoch 69: Train Loss=0.3058, Train Acc=0.8732, Val Loss=0.3284, Val Acc=0.8596\n",
            "Epoch 70: Train Loss=0.3055, Train Acc=0.8733, Val Loss=0.3282, Val Acc=0.8598\n",
            "Epoch 71: Train Loss=0.3052, Train Acc=0.8733, Val Loss=0.3280, Val Acc=0.8600\n",
            "Epoch 72: Train Loss=0.3049, Train Acc=0.8733, Val Loss=0.3277, Val Acc=0.8601\n",
            "Epoch 73: Train Loss=0.3045, Train Acc=0.8735, Val Loss=0.3275, Val Acc=0.8604\n",
            "Epoch 74: Train Loss=0.3042, Train Acc=0.8737, Val Loss=0.3273, Val Acc=0.8609\n",
            "Epoch 75: Train Loss=0.3039, Train Acc=0.8738, Val Loss=0.3271, Val Acc=0.8611\n",
            "Epoch 76: Train Loss=0.3036, Train Acc=0.8741, Val Loss=0.3269, Val Acc=0.8617\n",
            "Epoch 77: Train Loss=0.3034, Train Acc=0.8743, Val Loss=0.3267, Val Acc=0.8615\n",
            "Epoch 78: Train Loss=0.3031, Train Acc=0.8745, Val Loss=0.3265, Val Acc=0.8615\n",
            "Epoch 79: Train Loss=0.3028, Train Acc=0.8746, Val Loss=0.3264, Val Acc=0.8619\n",
            "Epoch 80: Train Loss=0.3025, Train Acc=0.8745, Val Loss=0.3261, Val Acc=0.8622\n",
            "Epoch 81: Train Loss=0.3023, Train Acc=0.8748, Val Loss=0.3260, Val Acc=0.8624\n",
            "Epoch 82: Train Loss=0.3020, Train Acc=0.8750, Val Loss=0.3258, Val Acc=0.8630\n",
            "Epoch 83: Train Loss=0.3017, Train Acc=0.8752, Val Loss=0.3256, Val Acc=0.8632\n",
            "Epoch 84: Train Loss=0.3015, Train Acc=0.8753, Val Loss=0.3254, Val Acc=0.8635\n",
            "Epoch 85: Train Loss=0.3013, Train Acc=0.8753, Val Loss=0.3253, Val Acc=0.8634\n",
            "Epoch 86: Train Loss=0.3010, Train Acc=0.8756, Val Loss=0.3251, Val Acc=0.8639\n",
            "Epoch 87: Train Loss=0.3008, Train Acc=0.8758, Val Loss=0.3250, Val Acc=0.8638\n",
            "Epoch 88: Train Loss=0.3005, Train Acc=0.8759, Val Loss=0.3248, Val Acc=0.8639\n",
            "Epoch 89: Train Loss=0.3003, Train Acc=0.8759, Val Loss=0.3247, Val Acc=0.8637\n",
            "Epoch 90: Train Loss=0.3001, Train Acc=0.8760, Val Loss=0.3245, Val Acc=0.8640\n",
            "Epoch 91: Train Loss=0.2999, Train Acc=0.8761, Val Loss=0.3244, Val Acc=0.8640\n",
            "Epoch 92: Train Loss=0.2997, Train Acc=0.8762, Val Loss=0.3243, Val Acc=0.8640\n",
            "Epoch 93: Train Loss=0.2995, Train Acc=0.8763, Val Loss=0.3242, Val Acc=0.8637\n",
            "Epoch 94: Train Loss=0.2993, Train Acc=0.8763, Val Loss=0.3240, Val Acc=0.8634\n",
            "Epoch 95: Train Loss=0.2991, Train Acc=0.8764, Val Loss=0.3239, Val Acc=0.8629\n",
            "Epoch 96: Train Loss=0.2990, Train Acc=0.8765, Val Loss=0.3238, Val Acc=0.8632\n",
            "Epoch 97: Train Loss=0.2988, Train Acc=0.8764, Val Loss=0.3237, Val Acc=0.8629\n",
            "Epoch 98: Train Loss=0.2986, Train Acc=0.8764, Val Loss=0.3237, Val Acc=0.8626\n",
            "Epoch 99: Train Loss=0.2985, Train Acc=0.8763, Val Loss=0.3236, Val Acc=0.8626\n",
            "Epoch 100: Train Loss=0.2983, Train Acc=0.8766, Val Loss=0.3236, Val Acc=0.8629\n",
            "Epoch 101: Train Loss=0.2982, Train Acc=0.8764, Val Loss=0.3235, Val Acc=0.8632\n",
            "Epoch 102: Train Loss=0.2980, Train Acc=0.8766, Val Loss=0.3235, Val Acc=0.8632\n",
            "Epoch 103: Train Loss=0.2979, Train Acc=0.8768, Val Loss=0.3235, Val Acc=0.8632\n",
            "Epoch 104: Train Loss=0.2978, Train Acc=0.8768, Val Loss=0.3235, Val Acc=0.8632\n",
            "Epoch 105: Train Loss=0.2976, Train Acc=0.8767, Val Loss=0.3236, Val Acc=0.8638\n",
            "Epoch 106: Train Loss=0.2975, Train Acc=0.8770, Val Loss=0.3237, Val Acc=0.8637\n",
            "Epoch 107: Train Loss=0.2974, Train Acc=0.8773, Val Loss=0.3238, Val Acc=0.8637\n",
            "Epoch 108: Train Loss=0.2973, Train Acc=0.8774, Val Loss=0.3239, Val Acc=0.8637\n",
            "Epoch 109: Train Loss=0.2972, Train Acc=0.8776, Val Loss=0.3240, Val Acc=0.8640\n",
            "Epoch 110: Train Loss=0.2970, Train Acc=0.8779, Val Loss=0.3241, Val Acc=0.8638\n",
            "Epoch 111: Train Loss=0.2969, Train Acc=0.8780, Val Loss=0.3241, Val Acc=0.8642\n",
            "Epoch 112: Train Loss=0.2968, Train Acc=0.8782, Val Loss=0.3242, Val Acc=0.8644\n",
            "Epoch 113: Train Loss=0.2967, Train Acc=0.8783, Val Loss=0.3242, Val Acc=0.8642\n",
            "Epoch 114: Train Loss=0.2965, Train Acc=0.8786, Val Loss=0.3241, Val Acc=0.8641\n",
            "Epoch 115: Train Loss=0.2964, Train Acc=0.8787, Val Loss=0.3240, Val Acc=0.8644\n",
            "Epoch 116: Train Loss=0.2962, Train Acc=0.8789, Val Loss=0.3239, Val Acc=0.8644\n",
            "Epoch 117: Train Loss=0.2960, Train Acc=0.8790, Val Loss=0.3238, Val Acc=0.8645\n",
            "Epoch 118: Train Loss=0.2959, Train Acc=0.8793, Val Loss=0.3236, Val Acc=0.8641\n",
            "Epoch 119: Train Loss=0.2957, Train Acc=0.8793, Val Loss=0.3234, Val Acc=0.8640\n",
            "Epoch 120: Train Loss=0.2956, Train Acc=0.8793, Val Loss=0.3232, Val Acc=0.8640\n",
            "Epoch 121: Train Loss=0.2954, Train Acc=0.8796, Val Loss=0.3231, Val Acc=0.8642\n",
            "Epoch 122: Train Loss=0.2953, Train Acc=0.8795, Val Loss=0.3230, Val Acc=0.8645\n",
            "Epoch 123: Train Loss=0.2951, Train Acc=0.8798, Val Loss=0.3228, Val Acc=0.8645\n",
            "Epoch 124: Train Loss=0.2950, Train Acc=0.8799, Val Loss=0.3227, Val Acc=0.8646\n",
            "Epoch 125: Train Loss=0.2949, Train Acc=0.8799, Val Loss=0.3225, Val Acc=0.8648\n",
            "Epoch 126: Train Loss=0.2947, Train Acc=0.8800, Val Loss=0.3224, Val Acc=0.8646\n",
            "Epoch 127: Train Loss=0.2946, Train Acc=0.8801, Val Loss=0.3223, Val Acc=0.8645\n",
            "Epoch 128: Train Loss=0.2945, Train Acc=0.8801, Val Loss=0.3221, Val Acc=0.8645\n",
            "Epoch 129: Train Loss=0.2943, Train Acc=0.8802, Val Loss=0.3221, Val Acc=0.8645\n",
            "Epoch 130: Train Loss=0.2942, Train Acc=0.8802, Val Loss=0.3220, Val Acc=0.8644\n",
            "Epoch 131: Train Loss=0.2941, Train Acc=0.8804, Val Loss=0.3219, Val Acc=0.8641\n",
            "Epoch 132: Train Loss=0.2940, Train Acc=0.8803, Val Loss=0.3218, Val Acc=0.8641\n",
            "Epoch 133: Train Loss=0.2939, Train Acc=0.8803, Val Loss=0.3216, Val Acc=0.8642\n",
            "Epoch 134: Train Loss=0.2938, Train Acc=0.8803, Val Loss=0.3216, Val Acc=0.8640\n",
            "Epoch 135: Train Loss=0.2937, Train Acc=0.8804, Val Loss=0.3215, Val Acc=0.8641\n",
            "Epoch 136: Train Loss=0.2936, Train Acc=0.8805, Val Loss=0.3214, Val Acc=0.8642\n",
            "Epoch 137: Train Loss=0.2934, Train Acc=0.8806, Val Loss=0.3214, Val Acc=0.8644\n",
            "Epoch 138: Train Loss=0.2933, Train Acc=0.8806, Val Loss=0.3213, Val Acc=0.8647\n",
            "Epoch 139: Train Loss=0.2932, Train Acc=0.8807, Val Loss=0.3212, Val Acc=0.8647\n",
            "Epoch 140: Train Loss=0.2931, Train Acc=0.8808, Val Loss=0.3211, Val Acc=0.8647\n",
            "Epoch 141: Train Loss=0.2931, Train Acc=0.8809, Val Loss=0.3211, Val Acc=0.8642\n",
            "Epoch 142: Train Loss=0.2930, Train Acc=0.8809, Val Loss=0.3210, Val Acc=0.8642\n",
            "Epoch 143: Train Loss=0.2929, Train Acc=0.8809, Val Loss=0.3209, Val Acc=0.8641\n",
            "Epoch 144: Train Loss=0.2928, Train Acc=0.8810, Val Loss=0.3209, Val Acc=0.8639\n",
            "Epoch 145: Train Loss=0.2927, Train Acc=0.8811, Val Loss=0.3208, Val Acc=0.8640\n",
            "Epoch 146: Train Loss=0.2926, Train Acc=0.8810, Val Loss=0.3207, Val Acc=0.8640\n",
            "Epoch 147: Train Loss=0.2925, Train Acc=0.8811, Val Loss=0.3207, Val Acc=0.8638\n",
            "Epoch 148: Train Loss=0.2925, Train Acc=0.8812, Val Loss=0.3206, Val Acc=0.8641\n",
            "Epoch 149: Train Loss=0.2924, Train Acc=0.8812, Val Loss=0.3206, Val Acc=0.8642\n",
            "Epoch 150: Train Loss=0.2923, Train Acc=0.8812, Val Loss=0.3205, Val Acc=0.8642\n",
            "Epoch 151: Train Loss=0.2922, Train Acc=0.8813, Val Loss=0.3204, Val Acc=0.8644\n",
            "Epoch 152: Train Loss=0.2921, Train Acc=0.8813, Val Loss=0.3204, Val Acc=0.8644\n",
            "Epoch 153: Train Loss=0.2921, Train Acc=0.8813, Val Loss=0.3203, Val Acc=0.8645\n",
            "Epoch 154: Train Loss=0.2920, Train Acc=0.8814, Val Loss=0.3203, Val Acc=0.8646\n",
            "Epoch 155: Train Loss=0.2919, Train Acc=0.8815, Val Loss=0.3202, Val Acc=0.8645\n",
            "Early stopping at epoch 155\n",
            "CPU times: user 1min 32s, sys: 580 ms, total: 1min 33s\n",
            "Wall time: 1min 47s\n"
          ]
        }
      ],
      "source": [
        "%%time\n",
        "\n",
        "optimizer = optim.Adam(mlp.parameters(), lr=0.001, weight_decay=0.001)\n",
        "\n",
        "# every single parameter is the same as 1-d cnn model. the only difference is the model\n",
        "best_model_wts_mlp, mlp_Best, train_losses, train_accuracies, val_losses, val_accuracies = train_model(mlp,\n",
        "                                                                                                      train_loader,\n",
        "                                                                                                      val_loader,\n",
        "                                                                                                      criterion,\n",
        "                                                                                                      optimizer,\n",
        "                                                                                                      num_epochs,\n",
        "                                                                                                      early_stopping_patience)"
      ]
    },
    {
      "cell_type": "code",
      "execution_count": 95,
      "metadata": {
        "colab": {
          "base_uri": "https://localhost:8080/"
        },
        "id": "uOir2NdfimWo",
        "outputId": "3e6ce0c7-ab82-4b22-9eae-154aa6904ef0"
      },
      "outputs": [
        {
          "data": {
            "text/plain": [
              "<All keys matched successfully>"
            ]
          },
          "execution_count": 95,
          "metadata": {},
          "output_type": "execute_result"
        }
      ],
      "source": [
        "torch.save(best_model_wts_mlp, 'MLP_Best.pth')\n",
        "mlp.load_state_dict(torch.load('MLP_Best.pth'))"
      ]
    },
    {
      "cell_type": "code",
      "execution_count": 96,
      "metadata": {
        "id": "dnbY-Yxelw24"
      },
      "outputs": [],
      "source": [
        "train_preds_MLP, train_probs_MLP = make_predictions_using_NN(mlp, train_loader)\n",
        "val_preds_MLP, val_probs_MLP = make_predictions_using_NN(mlp, val_loader)\n",
        "test_preds_MLP, test_probs_MLP = make_predictions_using_NN(mlp, test_loader)"
      ]
    },
    {
      "cell_type": "code",
      "execution_count": 97,
      "metadata": {
        "colab": {
          "base_uri": "https://localhost:8080/"
        },
        "id": "9tz0hz9rlwzj",
        "outputId": "f8cd180f-23a1-42a0-fe8f-5d6a4d32be09"
      },
      "outputs": [
        {
          "name": "stdout",
          "output_type": "stream",
          "text": [
            "Training performance for MLP\n",
            "              precision    recall  f1-score   support\n",
            "\n",
            "           0       0.90      0.88      0.89     25190\n",
            "           1       0.87      0.89      0.88     23853\n",
            "\n",
            "    accuracy                           0.88     49043\n",
            "   macro avg       0.88      0.88      0.88     49043\n",
            "weighted avg       0.88      0.88      0.88     49043\n",
            "\n"
          ]
        }
      ],
      "source": [
        "print(\"Training performance for MLP\")\n",
        "print(classification_report(Y_train, train_preds_MLP))"
      ]
    },
    {
      "cell_type": "code",
      "execution_count": 98,
      "metadata": {
        "colab": {
          "base_uri": "https://localhost:8080/"
        },
        "id": "xzgax48xlwx9",
        "outputId": "b4fcfd95-d034-41f9-8beb-d430387b329c"
      },
      "outputs": [
        {
          "name": "stdout",
          "output_type": "stream",
          "text": [
            "Val performance for MLP\n",
            "              precision    recall  f1-score   support\n",
            "\n",
            "           0       0.88      0.86      0.87      4558\n",
            "           1       0.85      0.87      0.86      4097\n",
            "\n",
            "    accuracy                           0.86      8655\n",
            "   macro avg       0.86      0.86      0.86      8655\n",
            "weighted avg       0.86      0.86      0.86      8655\n",
            "\n"
          ]
        }
      ],
      "source": [
        "print(\"Val performance for MLP\")\n",
        "print(classification_report(Y_val, val_preds_MLP))"
      ]
    },
    {
      "cell_type": "code",
      "execution_count": 99,
      "metadata": {
        "colab": {
          "base_uri": "https://localhost:8080/"
        },
        "id": "3AwJ1AjHlwu8",
        "outputId": "d91ece72-fc6f-4e63-9898-2fd35ca5167e"
      },
      "outputs": [
        {
          "name": "stdout",
          "output_type": "stream",
          "text": [
            "Test performance for MLP\n",
            "              precision    recall  f1-score   support\n",
            "\n",
            "           0       0.88      0.86      0.87      7347\n",
            "           1       0.86      0.87      0.87      7078\n",
            "\n",
            "    accuracy                           0.87     14425\n",
            "   macro avg       0.87      0.87      0.87     14425\n",
            "weighted avg       0.87      0.87      0.87     14425\n",
            "\n"
          ]
        }
      ],
      "source": [
        "print(\"Test performance for MLP\")\n",
        "print(classification_report(Y_test, test_preds_MLP))"
      ]
    },
    {
      "cell_type": "code",
      "execution_count": 100,
      "metadata": {
        "colab": {
          "base_uri": "https://localhost:8080/",
          "height": 1000
        },
        "id": "DZDgMIZam6hG",
        "outputId": "96236096-f22c-4254-c44f-87b16e2c6d2a"
      },
      "outputs": [
        {
          "data": {
            "image/png": "[encoded data removed]",
            "text/plain": [
              "<Figure size 600x600 with 1 Axes>"
            ]
          },
          "metadata": {},
          "output_type": "display_data"
        },
        {
          "name": "stdout",
          "output_type": "stream",
          "text": [
            "\n",
            "\n",
            "FOR TESTING SET: \n",
            "              precision    recall  f1-score   support\n",
            "\n",
            "           0       0.88      0.86      0.87      7347\n",
            "           1       0.86      0.87      0.87      7078\n",
            "\n",
            "    accuracy                           0.87     14425\n",
            "   macro avg       0.87      0.87      0.87     14425\n",
            "weighted avg       0.87      0.87      0.87     14425\n",
            "\n",
            "\n",
            "\n",
            "ROC AUC Score: 94.30%\n",
            "\n",
            "\n"
          ]
        },
        {
          "data": {
            "image/png": "[encoded data removed]",
            "text/plain": [
              "<Figure size 1000x600 with 1 Axes>"
            ]
          },
          "metadata": {},
          "output_type": "display_data"
        }
      ],
      "source": [
        "perform_deep_test_analysis(Y_test, test_preds_MLP, test_probs_MLP[:, 1], \"MLP\")"
      ]
    },
    {
      "cell_type": "code",
      "execution_count": null,
      "metadata": {
        "id": "p_AcjTRYm6dl"
      },
      "outputs": [],
      "source": []
    }
  ],
  "metadata": {
    "accelerator": "GPU",
    "colab": {
      "gpuType": "T4",
      "provenance": []
    },
    "kernelspec": {
      "display_name": "capstone",
      "language": "python",
      "name": "python3"
    },
    "language_info": {
      "codemirror_mode": {
        "name": "ipython",
        "version": 3
      },
      "file_extension": ".py",
      "mimetype": "text/x-python",
      "name": "python",
      "nbconvert_exporter": "python",
      "pygments_lexer": "ipython3",
      "version": "3.11.13"
    }
  },
  "nbformat": 4,
  "nbformat_minor": 0
}
