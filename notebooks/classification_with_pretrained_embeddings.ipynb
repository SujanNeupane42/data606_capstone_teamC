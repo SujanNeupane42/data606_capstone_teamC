{
 "cells": [
  {
   "cell_type": "code",
   "execution_count": 1,
   "metadata": {},
   "outputs": [],
   "source": [
    "import os\n",
    "import pandas as pd\n",
    "import numpy as np\n",
    "\n",
    "import warnings\n",
    "warnings.filterwarnings(\"ignore\")"
   ]
  },
  {
   "cell_type": "code",
   "execution_count": 2,
   "metadata": {},
   "outputs": [
    {
     "name": "stdout",
     "output_type": "stream",
     "text": [
      "GPU is available!\n",
      "Using device: Tesla T4\n"
     ]
    }
   ],
   "source": [
    "import torch\n",
    "\n",
    "if torch.cuda.is_available():\n",
    "    print(\"GPU is available!\")\n",
    "    print(f\"Using device: {torch.cuda.get_device_name(0)}\")\n",
    "else:\n",
    "    print(\"No GPU. Using CPU.\")"
   ]
  },
  {
   "cell_type": "code",
   "execution_count": 3,
   "metadata": {},
   "outputs": [
    {
     "name": "stdout",
     "output_type": "stream",
     "text": [
      "Downloading...\n",
      "From (original): https://drive.google.com/uc?id=1bzTrvDtnVOeL9Ft_6omSKumvU8qaO3vw\n",
      "From (redirected): https://drive.google.com/uc?id=1bzTrvDtnVOeL9Ft_6omSKumvU8qaO3vw&confirm=t&uuid=7692c5f3-7292-4198-899b-a3a79aa07d54\n",
      "To: /content/final_data_with_summarization.csv\n",
      "100% 288M/288M [00:05<00:00, 49.2MB/s]\n"
     ]
    }
   ],
   "source": [
    "!pip install gdown --quiet\n",
    "!gdown '1bzTrvDtnVOeL9Ft_6omSKumvU8qaO3vw'"
   ]
  },
  {
   "cell_type": "markdown",
   "metadata": {
    "id": "jH1vhAMdAR-L"
   },
   "source": [
    "# 1. Loading the Data"
   ]
  },
  {
   "cell_type": "code",
   "execution_count": 4,
   "metadata": {},
   "outputs": [],
   "source": [
    "df = pd.read_csv(r\"final_data_with_summarization.csv\")"
   ]
  },
  {
   "cell_type": "code",
   "execution_count": 5,
   "metadata": {},
   "outputs": [
    {
     "data": {
      "application/vnd.google.colaboratory.intrinsic+json": {
       "summary": "{\n  \"name\": \"df\",\n  \"rows\": 72123,\n  \"fields\": [\n    {\n      \"column\": \"title\",\n      \"properties\": {\n        \"dtype\": \"string\",\n        \"num_unique_values\": 62339,\n        \"samples\": [\n          \"CLASSIC! GREG GUTFELD Rips Comey Memo Disclosure As \\u201cVery Mean Girls\\u201d\\u2026You Will Love This! [Video]\",\n          \" Trump\\u2019s Approval Rating Makes SHOCKING Change With His Own Supporters (IMAGE)\",\n          \"The News From Trump Changed. The Main Story Was Slow to Catch Up. - The New York Times\"\n        ],\n        \"semantic_type\": \"\",\n        \"description\": \"\"\n      }\n    },\n    {\n      \"column\": \"text\",\n      \"properties\": {\n        \"dtype\": \"string\",\n        \"num_unique_values\": 62710,\n        \"samples\": [\n          \"Danney Williams has been begging for Bill Clinton to acknowledge him for decades. In the video below, he tells a heartbreaking story of living in poverty and being moved from foster care home to foster care home. He also tells of a time when Bill Clinton secretly sent money to his mother and state troopers delivered Christmas gifts to their home. His mother was a prostitute during the time that Bill Clinton was Governor of the state of Arkansas. Williams says he was told he was conceived after Bill Clinton and his mother were  together  13 times. I guess this is one  black life  that the Clinton s didn t think mattered so much \",\n          \"WASHINGTON (Reuters) - U.S. Vice President Mike Pence and Jordan\\u2019s King Abdullah on Monday discussed a range of issues from speeding up the fight against Islamic State, the crisis in Syria, and efforts to reach an agreement between Israelis and Palestinians, the White House said. Abdullah, the first Arab leader to hold talks with the new administration, also raised the issue of potential changes to the U.S. embassy in Israel, the White House said in a statement.  President Donald Trump is expected to greet Abdullah at a prayer event in Washington on Thursday, White House spokesman Sean Spicer separately told reporters in a daily briefing.  \",\n          \" WASHINGTON (Reuters) - The United States issued about 40 percent fewer temporary visas in March to citizens of seven countries covered by President Donald Trump\\u2019s temporary travel bans than it did in an average month last year, according to a Reuters analysis of preliminary government data released on Thursday.  At the same time, the data showed that the total of U.S. non-immigrant visas issued to people from all countries was up by nearly 5 percent in March compared to the 2016 monthly average.  Citizens of the seven Muslim-majority nations under the bans - Iran, Iraq, Libya, Somalia, Sudan, Syria and Yemen - received about 3,200 non-immigrant visas in March 2017, compared to about 5,700 on average per month during the 2016 fiscal year and more than 6,000 on average per month in 2015 and 2014. Trump's travel bans were later blocked by the courts.\\u00a0  \\u00a0\\u00a0  The State Department released the data to comply with a directive from Trump asking it to publish monthly breakdowns of the number of visas issued around the world.  The department did not release data on the total number of all types of visa applications, so it is unclear whether the lower number of temporary visas for citizens of the seven countries is because of a higher rate of rejections or other factors, such as fewer applicants or slower processing times.  A State Department official noted that \\u201cvisa demand is cyclical, not uniform throughout the year, and affected by various factors at the local and international level. Visa issuance numbers tend to increase during peak travel seasons, such as during the summer and the winter holidays.\\u201d  The White House did not immediately respond to a request for comment.  March is neither a busy nor slow time for temporary visa issuances to people from the seven countries, several immigration lawyers said. Therefore, the significant drops are notable, they said.  The data is preliminary and numbers could be subject to minor revision, the State Department said.  Previously, such data was only available in aggregate by fiscal year, and the department declined to break out March visa data from previous years.  Nevertheless, some immigration attorneys said the numbers released on Thursday provide a glimpse into how Trump\\u2019s policies are affecting visa decisions.  \\u201cEither there are many fewer people applying because they believe they will be denied, or a much higher rate of denials is already happening even though the executive orders have been blocked,\\u201d said William Stock, president of the American Immigration Lawyers Association.  \\u00a0\\u00a0\\u00a0  Trump, who has said the travel bans were intended to make Americans safer from attacks by terrorists, signed an executive order on Jan. 27 barring people from the seven countries from entering the United States for 90 days.  The order was blocked by federal courts and the Trump administration replaced it with a revised, narrower travel ban effective March 16 which dropped Iraq from the list. Courts have also halted parts of the second order.  The number of non-immigrant visas issued to Iranians dropped to 1,572 in March from 2,450 per month on average in 2016 according to the data. Iraqis received 684 such visas in March, compared to nearly twice that number per month on average in 2016, the data showed.  Iranians also received fewer immigrant visas, which are granted to family members of U.S. citizens or those with jobs in the United States,\\u00a0than the average in previous years - 393 received immigrant visas in March, compared to 644 on average per month in 2016 and nearly 600 on average per month in 2015 and 2014.  Although visitor visas were down across the board for the seven targeted countries, two of them saw the number of immigrant visas issued tick up slightly. Forty-one Libyans received immigrant visas in March, compared to 32 per month on average in 2016. Somalians received 171 visas in March compared to 150 on average in 2016.\\u00a0  Immigration lawyers said that although the travel bans have been halted by courts for now, the administration\\u2019s vow to put stricter controls on immigration is likely to have changed how U.S. consulates evaluate visa applicants.  Stephen Pattison, a former State Department consular official now working as an immigration attorney, said consulates \\u201care going to probably err more on the side of denying some people that they\\u2019d be on the fence about.\\u201d  Anecdotally, several U.S.-based lawyers with Iranian clients say their visa applications are taking longer to process and are being rejected more often since Trump took office on Jan. 20.  They cite shortages of interview appointments for Iranians, interviews canceled at the last minute and longer \\u201cadministrative processing\\u201d periods than they are accustomed to.  \\u201cIf you can\\u2019t get an interview, you can\\u2019t get a visa,\\u201d said Babak Yousefzadeh, a San Francisco-based attorney and member of the board of directors of the Iranian American Bar Association.  Some Iranians have decided that for now, it is not worth it to risk the expense and time of making U.S. visa applications, said Kiyanoush Razaghi, a Maryland-based immigration attorney.  In addition to paying a standard $160 visa application fee, Iranians must typically travel to Turkey, Armenia or the United Arab Emirates for their interviews, since there is no U.S. diplomatic presence in Iran.  \\u201cThat\\u2019s a fundamental change that I am seeing, at least in the community and among the clients that I have,\\u201d Razaghi said. \\u201cThey have a general feeling that now is not a good time to apply for a visa.\\u201d  \"\n        ],\n        \"semantic_type\": \"\",\n        \"description\": \"\"\n      }\n    },\n    {\n      \"column\": \"label\",\n      \"properties\": {\n        \"dtype\": \"number\",\n        \"std\": 0,\n        \"min\": 0,\n        \"max\": 1,\n        \"num_unique_values\": 2,\n        \"samples\": [\n          0,\n          1\n        ],\n        \"semantic_type\": \"\",\n        \"description\": \"\"\n      }\n    },\n    {\n      \"column\": \"title_tokens\",\n      \"properties\": {\n        \"dtype\": \"number\",\n        \"std\": 6,\n        \"min\": 2,\n        \"max\": 109,\n        \"num_unique_values\": 83,\n        \"samples\": [\n          41,\n          2\n        ],\n        \"semantic_type\": \"\",\n        \"description\": \"\"\n      }\n    },\n    {\n      \"column\": \"text_tokens\",\n      \"properties\": {\n        \"dtype\": \"number\",\n        \"std\": 757,\n        \"min\": 2,\n        \"max\": 18293,\n        \"num_unique_values\": 3487,\n        \"samples\": [\n          210,\n          2069\n        ],\n        \"semantic_type\": \"\",\n        \"description\": \"\"\n      }\n    },\n    {\n      \"column\": \"text_summary\",\n      \"properties\": {\n        \"dtype\": \"string\",\n        \"num_unique_values\": 36747,\n        \"samples\": [\n          \"Eastern Libyan military commander Khalifa Haftar said the U.N.-backed government is obsolete and hinted at possibly running in elections next year. Haftar, who controls parts of the country, styles himself as a strongman capable of ending the chaos of armed factions since the overthrow of Muammar Gaddafi in 2011. His comments recall those of Egyptian General Abdel Fattah al-Sisi before he became a presidential candidate. Haftar's forces, the Libyan National Army, could only be placed under an authority elected by the Libyan people, a hint he might take part in the election. The U.N. has tried to find a solution including Haftar, who said his command had been threatened with sanctions if he sought a deal outside the dialogue. Some 1,000 Haftar supporters rallied in Benghazi, demanding the general take over after a U.N. deal for a political solution missed a self-imposed deadline. The U.N. says no such timeline exists and its mediation will continue. In Tripoli, an unknown armed faction opened fire in the air to disperse some 150 Haftar supporters. The U.N. launched talks in September but they broke off after one month without a deal, with Haftar's own rule being a formidable obstacle to progress.\",\n          \"When Corey Lewandowski appeared on Fox News, Chris Wallace put the screws to him about the Trump agenda. Trump has been launching attacks on the media, calling them the enemy of the American people and banning several news organizations from White House press briefings. Lewandowski responded by attacking the media, accusing them of writing 100 percent factually inaccurate reports. Trump demands the media report what he tells them to report instead of investigating and digging for the truth. Wallace shot back, asking how many jobs this creates. In fact, Trump is too busy focusing on the media than working on behalf of the American people, causing him to lag behind his predecessors. Trump made a promise to create jobs but is too busy worrying about what the media is saying about him to care about keeping it.\"\n        ],\n        \"semantic_type\": \"\",\n        \"description\": \"\"\n      }\n    }\n  ]\n}",
       "type": "dataframe",
       "variable_name": "df"
      },
      "text/html": [
       "\n",
       "  <div id=\"df-0fe8ebae-710f-425c-95f9-0a0f3d0d2e78\" class=\"colab-df-container\">\n",
       "    <div>\n",
       "<style scoped>\n",
       "    .dataframe tbody tr th:only-of-type {\n",
       "        vertical-align: middle;\n",
       "    }\n",
       "\n",
       "    .dataframe tbody tr th {\n",
       "        vertical-align: top;\n",
       "    }\n",
       "\n",
       "    .dataframe thead th {\n",
       "        text-align: right;\n",
       "    }\n",
       "</style>\n",
       "<table border=\"1\" class=\"dataframe\">\n",
       "  <thead>\n",
       "    <tr style=\"text-align: right;\">\n",
       "      <th></th>\n",
       "      <th>title</th>\n",
       "      <th>text</th>\n",
       "      <th>label</th>\n",
       "      <th>title_tokens</th>\n",
       "      <th>text_tokens</th>\n",
       "      <th>text_summary</th>\n",
       "    </tr>\n",
       "  </thead>\n",
       "  <tbody>\n",
       "    <tr>\n",
       "      <th>0</th>\n",
       "      <td>NaN</td>\n",
       "      <td>Did they post their votes for Hillary already?</td>\n",
       "      <td>1</td>\n",
       "      <td>2</td>\n",
       "      <td>11</td>\n",
       "      <td>NaN</td>\n",
       "    </tr>\n",
       "    <tr>\n",
       "      <th>1</th>\n",
       "      <td>UNBELIEVABLE! OBAMA’S ATTORNEY GENERAL SAYS MO...</td>\n",
       "      <td>Now, most of the demonstrators gathered last ...</td>\n",
       "      <td>1</td>\n",
       "      <td>30</td>\n",
       "      <td>38</td>\n",
       "      <td>NaN</td>\n",
       "    </tr>\n",
       "    <tr>\n",
       "      <th>2</th>\n",
       "      <td>SATAN 2: Russia unvelis an image of its terrif...</td>\n",
       "      <td>The RS-28 Sarmat missile, dubbed Satan 2, will...</td>\n",
       "      <td>1</td>\n",
       "      <td>25</td>\n",
       "      <td>425</td>\n",
       "      <td>NaN</td>\n",
       "    </tr>\n",
       "    <tr>\n",
       "      <th>3</th>\n",
       "      <td>About Time! Christian Group Sues Amazon and SP...</td>\n",
       "      <td>All we can say on this one is it s about time ...</td>\n",
       "      <td>1</td>\n",
       "      <td>18</td>\n",
       "      <td>325</td>\n",
       "      <td>NaN</td>\n",
       "    </tr>\n",
       "    <tr>\n",
       "      <th>4</th>\n",
       "      <td>DR BEN CARSON TARGETED BY THE IRS: “I never ha...</td>\n",
       "      <td>DR. BEN CARSON TELLS THE STORY OF WHAT HAPPENE...</td>\n",
       "      <td>1</td>\n",
       "      <td>26</td>\n",
       "      <td>19</td>\n",
       "      <td>NaN</td>\n",
       "    </tr>\n",
       "    <tr>\n",
       "      <th>...</th>\n",
       "      <td>...</td>\n",
       "      <td>...</td>\n",
       "      <td>...</td>\n",
       "      <td>...</td>\n",
       "      <td>...</td>\n",
       "      <td>...</td>\n",
       "    </tr>\n",
       "    <tr>\n",
       "      <th>72118</th>\n",
       "      <td>Russians steal research on Trump in hack of U....</td>\n",
       "      <td>WASHINGTON (Reuters) - Hackers believed to be ...</td>\n",
       "      <td>0</td>\n",
       "      <td>16</td>\n",
       "      <td>972</td>\n",
       "      <td>Hackers believed to be working for the Russian...</td>\n",
       "    </tr>\n",
       "    <tr>\n",
       "      <th>72119</th>\n",
       "      <td>WATCH: Giuliani Demands That Democrats Apolog...</td>\n",
       "      <td>You know, because in fantasyland Republicans n...</td>\n",
       "      <td>1</td>\n",
       "      <td>19</td>\n",
       "      <td>724</td>\n",
       "      <td>Giuliani demands that Democrats apologize for ...</td>\n",
       "    </tr>\n",
       "    <tr>\n",
       "      <th>72120</th>\n",
       "      <td>Migrants Refuse To Leave Train At Refugee Camp...</td>\n",
       "      <td>Migrants Refuse To Leave Train At Refugee Camp...</td>\n",
       "      <td>0</td>\n",
       "      <td>12</td>\n",
       "      <td>593</td>\n",
       "      <td>Thousands of migrants flooded into a train sta...</td>\n",
       "    </tr>\n",
       "    <tr>\n",
       "      <th>72121</th>\n",
       "      <td>Trump tussle gives unpopular Mexican leader mu...</td>\n",
       "      <td>MEXICO CITY (Reuters) - Donald Trump’s combati...</td>\n",
       "      <td>0</td>\n",
       "      <td>16</td>\n",
       "      <td>730</td>\n",
       "      <td>Donald Trump's combative style has buffeted Me...</td>\n",
       "    </tr>\n",
       "    <tr>\n",
       "      <th>72122</th>\n",
       "      <td>Goldman Sachs Endorses Hillary Clinton For Pre...</td>\n",
       "      <td>Goldman Sachs Endorses Hillary Clinton For Pre...</td>\n",
       "      <td>1</td>\n",
       "      <td>11</td>\n",
       "      <td>568</td>\n",
       "      <td>Goldman Sachs CEO Lloyd Blankfein endorsed Hil...</td>\n",
       "    </tr>\n",
       "  </tbody>\n",
       "</table>\n",
       "<p>72123 rows × 6 columns</p>\n",
       "</div>\n",
       "    <div class=\"colab-df-buttons\">\n",
       "\n",
       "  <div class=\"colab-df-container\">\n",
       "    <button class=\"colab-df-convert\" onclick=\"convertToInteractive('df-0fe8ebae-710f-425c-95f9-0a0f3d0d2e78')\"\n",
       "            title=\"Convert this dataframe to an interactive table.\"\n",
       "            style=\"display:none;\">\n",
       "\n",
       "  <svg xmlns=\"http://www.w3.org/2000/svg\" height=\"24px\" viewBox=\"0 -960 960 960\">\n",
       "    <path d=\"M120-120v-720h720v720H120Zm60-500h600v-160H180v160Zm220 220h160v-160H400v160Zm0 220h160v-160H400v160ZM180-400h160v-160H180v160Zm440 0h160v-160H620v160ZM180-180h160v-160H180v160Zm440 0h160v-160H620v160Z\"/>\n",
       "  </svg>\n",
       "    </button>\n",
       "\n",
       "  <style>\n",
       "    .colab-df-container {\n",
       "      display:flex;\n",
       "      gap: 12px;\n",
       "    }\n",
       "\n",
       "    .colab-df-convert {\n",
       "      background-color: #E8F0FE;\n",
       "      border: none;\n",
       "      border-radius: 50%;\n",
       "      cursor: pointer;\n",
       "      display: none;\n",
       "      fill: #1967D2;\n",
       "      height: 32px;\n",
       "      padding: 0 0 0 0;\n",
       "      width: 32px;\n",
       "    }\n",
       "\n",
       "    .colab-df-convert:hover {\n",
       "      background-color: #E2EBFA;\n",
       "      box-shadow: 0px 1px 2px rgba(60, 64, 67, 0.3), 0px 1px 3px 1px rgba(60, 64, 67, 0.15);\n",
       "      fill: #174EA6;\n",
       "    }\n",
       "\n",
       "    .colab-df-buttons div {\n",
       "      margin-bottom: 4px;\n",
       "    }\n",
       "\n",
       "    [theme=dark] .colab-df-convert {\n",
       "      background-color: #3B4455;\n",
       "      fill: #D2E3FC;\n",
       "    }\n",
       "\n",
       "    [theme=dark] .colab-df-convert:hover {\n",
       "      background-color: #434B5C;\n",
       "      box-shadow: 0px 1px 3px 1px rgba(0, 0, 0, 0.15);\n",
       "      filter: drop-shadow(0px 1px 2px rgba(0, 0, 0, 0.3));\n",
       "      fill: #FFFFFF;\n",
       "    }\n",
       "  </style>\n",
       "\n",
       "    <script>\n",
       "      const buttonEl =\n",
       "        document.querySelector('#df-0fe8ebae-710f-425c-95f9-0a0f3d0d2e78 button.colab-df-convert');\n",
       "      buttonEl.style.display =\n",
       "        google.colab.kernel.accessAllowed ? 'block' : 'none';\n",
       "\n",
       "      async function convertToInteractive(key) {\n",
       "        const element = document.querySelector('#df-0fe8ebae-710f-425c-95f9-0a0f3d0d2e78');\n",
       "        const dataTable =\n",
       "          await google.colab.kernel.invokeFunction('convertToInteractive',\n",
       "                                                    [key], {});\n",
       "        if (!dataTable) return;\n",
       "\n",
       "        const docLinkHtml = 'Like what you see? Visit the ' +\n",
       "          '<a target=\"_blank\" href=https://colab.research.google.com/notebooks/data_table.ipynb>data table notebook</a>'\n",
       "          + ' to learn more about interactive tables.';\n",
       "        element.innerHTML = '';\n",
       "        dataTable['output_type'] = 'display_data';\n",
       "        await google.colab.output.renderOutput(dataTable, element);\n",
       "        const docLink = document.createElement('div');\n",
       "        docLink.innerHTML = docLinkHtml;\n",
       "        element.appendChild(docLink);\n",
       "      }\n",
       "    </script>\n",
       "  </div>\n",
       "\n",
       "\n",
       "    <div id=\"df-234c9b2f-597e-4ac9-b11a-8aefd34d9a72\">\n",
       "      <button class=\"colab-df-quickchart\" onclick=\"quickchart('df-234c9b2f-597e-4ac9-b11a-8aefd34d9a72')\"\n",
       "                title=\"Suggest charts\"\n",
       "                style=\"display:none;\">\n",
       "\n",
       "<svg xmlns=\"http://www.w3.org/2000/svg\" height=\"24px\"viewBox=\"0 0 24 24\"\n",
       "     width=\"24px\">\n",
       "    <g>\n",
       "        <path d=\"M19 3H5c-1.1 0-2 .9-2 2v14c0 1.1.9 2 2 2h14c1.1 0 2-.9 2-2V5c0-1.1-.9-2-2-2zM9 17H7v-7h2v7zm4 0h-2V7h2v10zm4 0h-2v-4h2v4z\"/>\n",
       "    </g>\n",
       "</svg>\n",
       "      </button>\n",
       "\n",
       "<style>\n",
       "  .colab-df-quickchart {\n",
       "      --bg-color: #E8F0FE;\n",
       "      --fill-color: #1967D2;\n",
       "      --hover-bg-color: #E2EBFA;\n",
       "      --hover-fill-color: #174EA6;\n",
       "      --disabled-fill-color: #AAA;\n",
       "      --disabled-bg-color: #DDD;\n",
       "  }\n",
       "\n",
       "  [theme=dark] .colab-df-quickchart {\n",
       "      --bg-color: #3B4455;\n",
       "      --fill-color: #D2E3FC;\n",
       "      --hover-bg-color: #434B5C;\n",
       "      --hover-fill-color: #FFFFFF;\n",
       "      --disabled-bg-color: #3B4455;\n",
       "      --disabled-fill-color: #666;\n",
       "  }\n",
       "\n",
       "  .colab-df-quickchart {\n",
       "    background-color: var(--bg-color);\n",
       "    border: none;\n",
       "    border-radius: 50%;\n",
       "    cursor: pointer;\n",
       "    display: none;\n",
       "    fill: var(--fill-color);\n",
       "    height: 32px;\n",
       "    padding: 0;\n",
       "    width: 32px;\n",
       "  }\n",
       "\n",
       "  .colab-df-quickchart:hover {\n",
       "    background-color: var(--hover-bg-color);\n",
       "    box-shadow: 0 1px 2px rgba(60, 64, 67, 0.3), 0 1px 3px 1px rgba(60, 64, 67, 0.15);\n",
       "    fill: var(--button-hover-fill-color);\n",
       "  }\n",
       "\n",
       "  .colab-df-quickchart-complete:disabled,\n",
       "  .colab-df-quickchart-complete:disabled:hover {\n",
       "    background-color: var(--disabled-bg-color);\n",
       "    fill: var(--disabled-fill-color);\n",
       "    box-shadow: none;\n",
       "  }\n",
       "\n",
       "  .colab-df-spinner {\n",
       "    border: 2px solid var(--fill-color);\n",
       "    border-color: transparent;\n",
       "    border-bottom-color: var(--fill-color);\n",
       "    animation:\n",
       "      spin 1s steps(1) infinite;\n",
       "  }\n",
       "\n",
       "  @keyframes spin {\n",
       "    0% {\n",
       "      border-color: transparent;\n",
       "      border-bottom-color: var(--fill-color);\n",
       "      border-left-color: var(--fill-color);\n",
       "    }\n",
       "    20% {\n",
       "      border-color: transparent;\n",
       "      border-left-color: var(--fill-color);\n",
       "      border-top-color: var(--fill-color);\n",
       "    }\n",
       "    30% {\n",
       "      border-color: transparent;\n",
       "      border-left-color: var(--fill-color);\n",
       "      border-top-color: var(--fill-color);\n",
       "      border-right-color: var(--fill-color);\n",
       "    }\n",
       "    40% {\n",
       "      border-color: transparent;\n",
       "      border-right-color: var(--fill-color);\n",
       "      border-top-color: var(--fill-color);\n",
       "    }\n",
       "    60% {\n",
       "      border-color: transparent;\n",
       "      border-right-color: var(--fill-color);\n",
       "    }\n",
       "    80% {\n",
       "      border-color: transparent;\n",
       "      border-right-color: var(--fill-color);\n",
       "      border-bottom-color: var(--fill-color);\n",
       "    }\n",
       "    90% {\n",
       "      border-color: transparent;\n",
       "      border-bottom-color: var(--fill-color);\n",
       "    }\n",
       "  }\n",
       "</style>\n",
       "\n",
       "      <script>\n",
       "        async function quickchart(key) {\n",
       "          const quickchartButtonEl =\n",
       "            document.querySelector('#' + key + ' button');\n",
       "          quickchartButtonEl.disabled = true;  // To prevent multiple clicks.\n",
       "          quickchartButtonEl.classList.add('colab-df-spinner');\n",
       "          try {\n",
       "            const charts = await google.colab.kernel.invokeFunction(\n",
       "                'suggestCharts', [key], {});\n",
       "          } catch (error) {\n",
       "            console.error('Error during call to suggestCharts:', error);\n",
       "          }\n",
       "          quickchartButtonEl.classList.remove('colab-df-spinner');\n",
       "          quickchartButtonEl.classList.add('colab-df-quickchart-complete');\n",
       "        }\n",
       "        (() => {\n",
       "          let quickchartButtonEl =\n",
       "            document.querySelector('#df-234c9b2f-597e-4ac9-b11a-8aefd34d9a72 button');\n",
       "          quickchartButtonEl.style.display =\n",
       "            google.colab.kernel.accessAllowed ? 'block' : 'none';\n",
       "        })();\n",
       "      </script>\n",
       "    </div>\n",
       "\n",
       "  <div id=\"id_8e7083d1-7d31-4c87-80bb-21071467ae9d\">\n",
       "    <style>\n",
       "      .colab-df-generate {\n",
       "        background-color: #E8F0FE;\n",
       "        border: none;\n",
       "        border-radius: 50%;\n",
       "        cursor: pointer;\n",
       "        display: none;\n",
       "        fill: #1967D2;\n",
       "        height: 32px;\n",
       "        padding: 0 0 0 0;\n",
       "        width: 32px;\n",
       "      }\n",
       "\n",
       "      .colab-df-generate:hover {\n",
       "        background-color: #E2EBFA;\n",
       "        box-shadow: 0px 1px 2px rgba(60, 64, 67, 0.3), 0px 1px 3px 1px rgba(60, 64, 67, 0.15);\n",
       "        fill: #174EA6;\n",
       "      }\n",
       "\n",
       "      [theme=dark] .colab-df-generate {\n",
       "        background-color: #3B4455;\n",
       "        fill: #D2E3FC;\n",
       "      }\n",
       "\n",
       "      [theme=dark] .colab-df-generate:hover {\n",
       "        background-color: #434B5C;\n",
       "        box-shadow: 0px 1px 3px 1px rgba(0, 0, 0, 0.15);\n",
       "        filter: drop-shadow(0px 1px 2px rgba(0, 0, 0, 0.3));\n",
       "        fill: #FFFFFF;\n",
       "      }\n",
       "    </style>\n",
       "    <button class=\"colab-df-generate\" onclick=\"generateWithVariable('df')\"\n",
       "            title=\"Generate code using this dataframe.\"\n",
       "            style=\"display:none;\">\n",
       "\n",
       "  <svg xmlns=\"http://www.w3.org/2000/svg\" height=\"24px\"viewBox=\"0 0 24 24\"\n",
       "       width=\"24px\">\n",
       "    <path d=\"M7,19H8.4L18.45,9,17,7.55,7,17.6ZM5,21V16.75L18.45,3.32a2,2,0,0,1,2.83,0l1.4,1.43a1.91,1.91,0,0,1,.58,1.4,1.91,1.91,0,0,1-.58,1.4L9.25,21ZM18.45,9,17,7.55Zm-12,3A5.31,5.31,0,0,0,4.9,8.1,5.31,5.31,0,0,0,1,6.5,5.31,5.31,0,0,0,4.9,4.9,5.31,5.31,0,0,0,6.5,1,5.31,5.31,0,0,0,8.1,4.9,5.31,5.31,0,0,0,12,6.5,5.46,5.46,0,0,0,6.5,12Z\"/>\n",
       "  </svg>\n",
       "    </button>\n",
       "    <script>\n",
       "      (() => {\n",
       "      const buttonEl =\n",
       "        document.querySelector('#id_8e7083d1-7d31-4c87-80bb-21071467ae9d button.colab-df-generate');\n",
       "      buttonEl.style.display =\n",
       "        google.colab.kernel.accessAllowed ? 'block' : 'none';\n",
       "\n",
       "      buttonEl.onclick = () => {\n",
       "        google.colab.notebook.generateWithVariable('df');\n",
       "      }\n",
       "      })();\n",
       "    </script>\n",
       "  </div>\n",
       "\n",
       "    </div>\n",
       "  </div>\n"
      ],
      "text/plain": [
       "                                                   title  \\\n",
       "0                                                    NaN   \n",
       "1      UNBELIEVABLE! OBAMA’S ATTORNEY GENERAL SAYS MO...   \n",
       "2      SATAN 2: Russia unvelis an image of its terrif...   \n",
       "3      About Time! Christian Group Sues Amazon and SP...   \n",
       "4      DR BEN CARSON TARGETED BY THE IRS: “I never ha...   \n",
       "...                                                  ...   \n",
       "72118  Russians steal research on Trump in hack of U....   \n",
       "72119   WATCH: Giuliani Demands That Democrats Apolog...   \n",
       "72120  Migrants Refuse To Leave Train At Refugee Camp...   \n",
       "72121  Trump tussle gives unpopular Mexican leader mu...   \n",
       "72122  Goldman Sachs Endorses Hillary Clinton For Pre...   \n",
       "\n",
       "                                                    text  label  title_tokens  \\\n",
       "0         Did they post their votes for Hillary already?      1             2   \n",
       "1       Now, most of the demonstrators gathered last ...      1            30   \n",
       "2      The RS-28 Sarmat missile, dubbed Satan 2, will...      1            25   \n",
       "3      All we can say on this one is it s about time ...      1            18   \n",
       "4      DR. BEN CARSON TELLS THE STORY OF WHAT HAPPENE...      1            26   \n",
       "...                                                  ...    ...           ...   \n",
       "72118  WASHINGTON (Reuters) - Hackers believed to be ...      0            16   \n",
       "72119  You know, because in fantasyland Republicans n...      1            19   \n",
       "72120  Migrants Refuse To Leave Train At Refugee Camp...      0            12   \n",
       "72121  MEXICO CITY (Reuters) - Donald Trump’s combati...      0            16   \n",
       "72122  Goldman Sachs Endorses Hillary Clinton For Pre...      1            11   \n",
       "\n",
       "       text_tokens                                       text_summary  \n",
       "0               11                                                NaN  \n",
       "1               38                                                NaN  \n",
       "2              425                                                NaN  \n",
       "3              325                                                NaN  \n",
       "4               19                                                NaN  \n",
       "...            ...                                                ...  \n",
       "72118          972  Hackers believed to be working for the Russian...  \n",
       "72119          724  Giuliani demands that Democrats apologize for ...  \n",
       "72120          593  Thousands of migrants flooded into a train sta...  \n",
       "72121          730  Donald Trump's combative style has buffeted Me...  \n",
       "72122          568  Goldman Sachs CEO Lloyd Blankfein endorsed Hil...  \n",
       "\n",
       "[72123 rows x 6 columns]"
      ]
     },
     "execution_count": 5,
     "metadata": {},
     "output_type": "execute_result"
    }
   ],
   "source": [
    "df"
   ]
  },
  {
   "cell_type": "code",
   "execution_count": 6,
   "metadata": {},
   "outputs": [],
   "source": [
    "df[\"input\"] = df[\"text_summary\"].fillna(df[\"text\"])"
   ]
  },
  {
   "cell_type": "code",
   "execution_count": 7,
   "metadata": {},
   "outputs": [
    {
     "data": {
      "text/plain": [
       "np.int64(39)"
      ]
     },
     "execution_count": 7,
     "metadata": {},
     "output_type": "execute_result"
    }
   ],
   "source": [
    "df[\"input\"].isnull().sum()"
   ]
  },
  {
   "cell_type": "code",
   "execution_count": 8,
   "metadata": {},
   "outputs": [],
   "source": [
    "X = df[\"title\"].fillna(\"\") + \" \" + df[\"input\"].fillna(\"\")"
   ]
  },
  {
   "cell_type": "code",
   "execution_count": 9,
   "metadata": {},
   "outputs": [],
   "source": [
    "Y = df[\"label\"]"
   ]
  },
  {
   "cell_type": "code",
   "execution_count": 10,
   "metadata": {},
   "outputs": [],
   "source": [
    "from sklearn.model_selection import train_test_split\n",
    "X_train, X_test, Y_train, Y_test = train_test_split(X, Y, test_size=0.2, random_state=42)\n",
    "\n",
    "X_train, X_val, Y_train, Y_val = train_test_split(X_train, Y_train, test_size=0.15, random_state=42)"
   ]
  },
  {
   "cell_type": "code",
   "execution_count": 11,
   "metadata": {},
   "outputs": [
    {
     "data": {
      "text/plain": [
       "((49043,), (8655,), (14425,))"
      ]
     },
     "execution_count": 11,
     "metadata": {},
     "output_type": "execute_result"
    }
   ],
   "source": [
    "X_train.shape, X_val.shape, X_test.shape"
   ]
  },
  {
   "cell_type": "markdown",
   "metadata": {
    "id": "ikf7x2ztyDn4"
   },
   "source": [
    "<b> 1 is Fake and 0 is real."
   ]
  },
  {
   "cell_type": "markdown",
   "metadata": {
    "id": "2j8dJZ0BAR-P"
   },
   "source": [
    "# 2. Tokenization\n",
    "\n",
    "We use the [sentence-transformers/all-MiniLM-L6-v2](https://huggingface.co/sentence-transformers/all-MiniLM-L6-v2) embedding model from huggingface.\n",
    "\n",
    "This embedding model is relatively lightweight, one of the most popular ones, and converts an input text (max 512 tokens) into a 384 dimensional dense vector embedding.\n",
    "\n",
    "\n",
    "The produced embedding can be used for checking sentence similarity, clustering, information retrieval, or text classification by passing in the embeddings as input features."
   ]
  },
  {
   "cell_type": "code",
   "execution_count": 12,
   "metadata": {},
   "outputs": [],
   "source": [
    "from sentence_transformers import SentenceTransformer\n",
    "from transformers import AutoTokenizer, AutoModel"
   ]
  },
  {
   "cell_type": "code",
   "execution_count": 13,
   "metadata": {},
   "outputs": [
    {
     "data": {
      "application/vnd.jupyter.widget-view+json": {
       "model_id": "110c8601b8244d63908d190f69b698d1",
       "version_major": 2,
       "version_minor": 0
      },
      "text/plain": [
       "modules.json:   0%|          | 0.00/349 [00:00<?, ?B/s]"
      ]
     },
     "metadata": {},
     "output_type": "display_data"
    },
    {
     "data": {
      "application/vnd.jupyter.widget-view+json": {
       "model_id": "c38d0bbd5c9c4fe19dd1d0015f630ecb",
       "version_major": 2,
       "version_minor": 0
      },
      "text/plain": [
       "config_sentence_transformers.json:   0%|          | 0.00/116 [00:00<?, ?B/s]"
      ]
     },
     "metadata": {},
     "output_type": "display_data"
    },
    {
     "data": {
      "application/vnd.jupyter.widget-view+json": {
       "model_id": "bb439eb0e61e49dfa99cf18161b75004",
       "version_major": 2,
       "version_minor": 0
      },
      "text/plain": [
       "README.md: 0.00B [00:00, ?B/s]"
      ]
     },
     "metadata": {},
     "output_type": "display_data"
    },
    {
     "data": {
      "application/vnd.jupyter.widget-view+json": {
       "model_id": "35f79552763c435c9ba203b8917a8ae3",
       "version_major": 2,
       "version_minor": 0
      },
      "text/plain": [
       "sentence_bert_config.json:   0%|          | 0.00/53.0 [00:00<?, ?B/s]"
      ]
     },
     "metadata": {},
     "output_type": "display_data"
    },
    {
     "data": {
      "application/vnd.jupyter.widget-view+json": {
       "model_id": "d13f15b86ce14aadbf1f993c22f9efee",
       "version_major": 2,
       "version_minor": 0
      },
      "text/plain": [
       "config.json:   0%|          | 0.00/612 [00:00<?, ?B/s]"
      ]
     },
     "metadata": {},
     "output_type": "display_data"
    },
    {
     "data": {
      "application/vnd.jupyter.widget-view+json": {
       "model_id": "7309c31b5e33483d880d77d4a4f1c1c9",
       "version_major": 2,
       "version_minor": 0
      },
      "text/plain": [
       "model.safetensors:   0%|          | 0.00/90.9M [00:00<?, ?B/s]"
      ]
     },
     "metadata": {},
     "output_type": "display_data"
    },
    {
     "data": {
      "application/vnd.jupyter.widget-view+json": {
       "model_id": "cdd7bd27b085424cb505e9734ef74204",
       "version_major": 2,
       "version_minor": 0
      },
      "text/plain": [
       "tokenizer_config.json:   0%|          | 0.00/350 [00:00<?, ?B/s]"
      ]
     },
     "metadata": {},
     "output_type": "display_data"
    },
    {
     "data": {
      "application/vnd.jupyter.widget-view+json": {
       "model_id": "3f29d21f41e84f09a342997f0c80234c",
       "version_major": 2,
       "version_minor": 0
      },
      "text/plain": [
       "vocab.txt: 0.00B [00:00, ?B/s]"
      ]
     },
     "metadata": {},
     "output_type": "display_data"
    },
    {
     "data": {
      "application/vnd.jupyter.widget-view+json": {
       "model_id": "476f87633669498599d6f1a72d1198e0",
       "version_major": 2,
       "version_minor": 0
      },
      "text/plain": [
       "tokenizer.json: 0.00B [00:00, ?B/s]"
      ]
     },
     "metadata": {},
     "output_type": "display_data"
    },
    {
     "data": {
      "application/vnd.jupyter.widget-view+json": {
       "model_id": "907ad7b6f50342ffabac9bbbc796fba5",
       "version_major": 2,
       "version_minor": 0
      },
      "text/plain": [
       "special_tokens_map.json:   0%|          | 0.00/112 [00:00<?, ?B/s]"
      ]
     },
     "metadata": {},
     "output_type": "display_data"
    },
    {
     "data": {
      "application/vnd.jupyter.widget-view+json": {
       "model_id": "2522c47b849245a79d270082c4fa000a",
       "version_major": 2,
       "version_minor": 0
      },
      "text/plain": [
       "config.json:   0%|          | 0.00/190 [00:00<?, ?B/s]"
      ]
     },
     "metadata": {},
     "output_type": "display_data"
    }
   ],
   "source": [
    "model = SentenceTransformer('sentence-transformers/all-MiniLM-L6-v2')"
   ]
  },
  {
   "cell_type": "code",
   "execution_count": 14,
   "metadata": {},
   "outputs": [
    {
     "data": {
      "text/plain": [
       "SentenceTransformer(\n",
       "  (0): Transformer({'max_seq_length': 256, 'do_lower_case': False}) with Transformer model: BertModel \n",
       "  (1): Pooling({'word_embedding_dimension': 384, 'pooling_mode_cls_token': False, 'pooling_mode_mean_tokens': True, 'pooling_mode_max_tokens': False, 'pooling_mode_mean_sqrt_len_tokens': False, 'pooling_mode_weightedmean_tokens': False, 'pooling_mode_lasttoken': False, 'include_prompt': True})\n",
       "  (2): Normalize()\n",
       ")"
      ]
     },
     "execution_count": 14,
     "metadata": {},
     "output_type": "execute_result"
    }
   ],
   "source": [
    "model"
   ]
  },
  {
   "cell_type": "code",
   "execution_count": 15,
   "metadata": {},
   "outputs": [
    {
     "data": {
      "text/plain": [
       "device(type='cuda', index=0)"
      ]
     },
     "execution_count": 15,
     "metadata": {},
     "output_type": "execute_result"
    }
   ],
   "source": [
    "model.device"
   ]
  },
  {
   "cell_type": "markdown",
   "metadata": {
    "id": "6Gnb5eUSAR-Q"
   },
   "source": [
    "# 3. Generating Embeddings"
   ]
  },
  {
   "cell_type": "code",
   "execution_count": 16,
   "metadata": {},
   "outputs": [],
   "source": [
    "X_train = X_train.values.tolist()\n",
    "X_val = X_val.values.tolist()\n",
    "X_test = X_test.values.tolist()\n",
    "\n",
    "Y_train = Y_train.values.tolist()\n",
    "Y_val = Y_val.values.tolist()\n",
    "Y_test = Y_test.values.tolist()"
   ]
  },
  {
   "cell_type": "code",
   "execution_count": 17,
   "metadata": {},
   "outputs": [
    {
     "data": {
      "text/plain": [
       "(49043, 8655, 14425)"
      ]
     },
     "execution_count": 17,
     "metadata": {},
     "output_type": "execute_result"
    }
   ],
   "source": [
    "len(X_train), len(X_val), len(X_test)"
   ]
  },
  {
   "cell_type": "code",
   "execution_count": 18,
   "metadata": {},
   "outputs": [],
   "source": [
    "from tqdm import tqdm"
   ]
  },
  {
   "cell_type": "code",
   "execution_count": 19,
   "metadata": {},
   "outputs": [],
   "source": [
    "def batch_encode(text_list, model, batch_size=2048*3):\n",
    "    embeddings = []\n",
    "    for i in tqdm(range(0, len(text_list), batch_size)):\n",
    "        batch = text_list[i:i+batch_size]\n",
    "        batch_emb = model.encode(batch)\n",
    "        embeddings.extend(batch_emb)\n",
    "    return embeddings"
   ]
  },
  {
   "cell_type": "code",
   "execution_count": 20,
   "metadata": {},
   "outputs": [
    {
     "name": "stderr",
     "output_type": "stream",
     "text": [
      "100%|██████████| 2/2 [00:22<00:00, 11.06s/it]\n"
     ]
    }
   ],
   "source": [
    "X_val_embeddings = batch_encode(X_val, model)"
   ]
  },
  {
   "cell_type": "code",
   "execution_count": 21,
   "metadata": {},
   "outputs": [
    {
     "name": "stderr",
     "output_type": "stream",
     "text": [
      "100%|██████████| 8/8 [02:12<00:00, 16.50s/it]\n"
     ]
    }
   ],
   "source": [
    "X_train_embeddings = batch_encode(X_train, model)"
   ]
  },
  {
   "cell_type": "code",
   "execution_count": 22,
   "metadata": {},
   "outputs": [
    {
     "name": "stderr",
     "output_type": "stream",
     "text": [
      "100%|██████████| 3/3 [00:37<00:00, 12.43s/it]\n"
     ]
    }
   ],
   "source": [
    "X_test_embeddings = batch_encode(X_test, model)"
   ]
  },
  {
   "cell_type": "markdown",
   "metadata": {
    "id": "Gx_iy_MBAR-S"
   },
   "source": [
    "# 4. Model Training, Optimization and Evaluation"
   ]
  },
  {
   "cell_type": "markdown",
   "metadata": {
    "id": "eCyEbXFOCaVz"
   },
   "source": [
    "## 4.1 Custom Helper Functions"
   ]
  },
  {
   "cell_type": "code",
   "execution_count": 23,
   "metadata": {},
   "outputs": [],
   "source": [
    "from sklearn.metrics import accuracy_score\n",
    "from sklearn.model_selection import ParameterSampler\n",
    "from tqdm import tqdm\n",
    "import copy"
   ]
  },
  {
   "cell_type": "code",
   "execution_count": 24,
   "metadata": {},
   "outputs": [],
   "source": [
    "def randomized_search(model_class, param_distributions, X_train, y_train, X_val, y_val, n_iter=10, random_state=42):\n",
    "    \"\"\"\n",
    "    Custom randomized search for hyperparameter tuning.\n",
    "    \"\"\"\n",
    "\n",
    "    np.random.seed(random_state)\n",
    "    param_list = list(ParameterSampler(param_distributions, n_iter=n_iter, random_state=random_state))\n",
    "    best_score = -np.inf\n",
    "    best_model = None\n",
    "    all_results = []\n",
    "\n",
    "    for i, params in enumerate(tqdm(param_list)):\n",
    "        try:\n",
    "            model = model_class(**params)\n",
    "            model.fit(X_train, y_train)\n",
    "            preds = model.predict(X_val)\n",
    "\n",
    "            score = accuracy_score(y_val, preds)\n",
    "            all_results.append((params, score))\n",
    "\n",
    "            if score > best_score:\n",
    "                best_score = score\n",
    "                best_model = copy.deepcopy(model) # keeping track of the best perfomring model\n",
    "        except Exception as e:\n",
    "            print(f\"Error with params {params}: {e}\")\n",
    "            continue\n",
    "\n",
    "    print(f\"\\nBest: {best_score:.4f} with params: {all_results[np.argmax([s for _, s in all_results])][0]}\")\n",
    "    return best_model, best_score, all_results\n"
   ]
  },
  {
   "cell_type": "code",
   "execution_count": 25,
   "metadata": {},
   "outputs": [],
   "source": [
    "from sklearn.metrics import confusion_matrix, classification_report, roc_auc_score, roc_curve, auc\n",
    "import matplotlib.pyplot as plt\n",
    "import seaborn as sns"
   ]
  },
  {
   "cell_type": "code",
   "execution_count": 26,
   "metadata": {},
   "outputs": [],
   "source": [
    "def perform_deep_test_analysis(y_test, test_preds: np.array, test_preds_proba: np.array, model_name: str) -> None:\n",
    "    \"\"\"\"\n",
    "    This function takes in a model object and model name, and performs a deep analysis on the model's performance on the test set.\n",
    "    It prints classification report, confusion matrix, ROC AUC score and plots the ROC curve.\n",
    "    \"\"\"\n",
    "    cm = confusion_matrix(y_test, test_preds)\n",
    "\n",
    "    plt.figure(figsize=(6, 6))\n",
    "    sns.heatmap(cm, annot=True, fmt='d', cmap='coolwarm', cbar=False)\n",
    "    plt.xlabel('Predicted')\n",
    "    plt.ylabel('Actual')\n",
    "    plt.title('Confusion Matrix')\n",
    "    plt.show()\n",
    "\n",
    "    print(\"\\n\")\n",
    "    print(\"FOR TESTING SET: \")\n",
    "    print(classification_report(y_test, test_preds))\n",
    "    print(\"\\n\")\n",
    "\n",
    "    print(f\"ROC AUC Score: {roc_auc_score(y_test, test_preds_proba):.2%}\")\n",
    "    print(\"\\n\")\n",
    "\n",
    "    fpr, tpr, _ = roc_curve(y_test, test_preds_proba)\n",
    "    roc_auc = auc(fpr, tpr)\n",
    "\n",
    "    plt.figure(figsize=(10, 6))\n",
    "    plt.plot(fpr, tpr, color='darkorange', lw=2, label=f'ROC curve (area = {roc_auc:.2f})')\n",
    "    plt.plot([0, 1], [0, 1], color='navy', lw=2, linestyle='--')\n",
    "    plt.xlim([0.0, 1.0])\n",
    "    plt.ylim([0.0, 1.05])\n",
    "    plt.xlabel('False Positive Rate')\n",
    "    plt.ylabel('True Positive Rate')\n",
    "    plt.title(f'Receiver Operating Characteristic Curve for {model_name}')\n",
    "    plt.legend(loc=\"lower right\")\n",
    "    plt.show()"
   ]
  },
  {
   "cell_type": "code",
   "execution_count": 27,
   "metadata": {},
   "outputs": [],
   "source": [
    "import pickle"
   ]
  },
  {
   "cell_type": "code",
   "execution_count": 28,
   "metadata": {},
   "outputs": [],
   "source": [
    "def export_model(model, model_name):\n",
    "  with open(f\"{model_name}.pkl\", \"wb\") as f:\n",
    "    pickle.dump(model, f)\n",
    "\n",
    "  print(f\"Model {model_name} has been exported!!!\")"
   ]
  },
  {
   "cell_type": "markdown",
   "metadata": {
    "id": "Y3pYWi2XAR-S"
   },
   "source": [
    "# 4.2 Logistic Regression"
   ]
  },
  {
   "cell_type": "code",
   "execution_count": 29,
   "metadata": {},
   "outputs": [],
   "source": [
    "from sklearn.linear_model import LogisticRegression"
   ]
  },
  {
   "cell_type": "code",
   "execution_count": 30,
   "metadata": {},
   "outputs": [
    {
     "name": "stderr",
     "output_type": "stream",
     "text": [
      "100%|██████████| 10/10 [00:24<00:00,  2.43s/it]"
     ]
    },
    {
     "name": "stdout",
     "output_type": "stream",
     "text": [
      "\n",
      "Best: 0.8358 with params: {'solver': 'liblinear', 'random_state': 42, 'penalty': 'l2', 'max_iter': 1000, 'C': np.float64(2.9763514416313193)}\n"
     ]
    },
    {
     "name": "stderr",
     "output_type": "stream",
     "text": [
      "\n"
     ]
    }
   ],
   "source": [
    "param_for_logistic_regression = {\n",
    "    'C': np.logspace(-4, 1, 20),\n",
    "    'penalty': ['l1', 'l2'],\n",
    "    'solver': ['liblinear', 'saga'],\n",
    "    'max_iter': [1000],\n",
    "    \"random_state\": [42]\n",
    "}\n",
    "\n",
    "logisticRegression_Model, best_score, search_results = randomized_search(\n",
    "    LogisticRegression,\n",
    "    param_distributions=param_for_logistic_regression,\n",
    "    X_train=X_train_embeddings,\n",
    "    y_train=Y_train,\n",
    "    X_val=X_val_embeddings,\n",
    "    y_val=Y_val,\n",
    "    n_iter=10,\n",
    ")\n"
   ]
  },
  {
   "cell_type": "code",
   "execution_count": 31,
   "metadata": {},
   "outputs": [
    {
     "data": {
      "text/html": [
       "<style>#sk-container-id-1 {\n",
       "  /* Definition of color scheme common for light and dark mode */\n",
       "  --sklearn-color-text: #000;\n",
       "  --sklearn-color-text-muted: #666;\n",
       "  --sklearn-color-line: gray;\n",
       "  /* Definition of color scheme for unfitted estimators */\n",
       "  --sklearn-color-unfitted-level-0: #fff5e6;\n",
       "  --sklearn-color-unfitted-level-1: #f6e4d2;\n",
       "  --sklearn-color-unfitted-level-2: #ffe0b3;\n",
       "  --sklearn-color-unfitted-level-3: chocolate;\n",
       "  /* Definition of color scheme for fitted estimators */\n",
       "  --sklearn-color-fitted-level-0: #f0f8ff;\n",
       "  --sklearn-color-fitted-level-1: #d4ebff;\n",
       "  --sklearn-color-fitted-level-2: #b3dbfd;\n",
       "  --sklearn-color-fitted-level-3: cornflowerblue;\n",
       "\n",
       "  /* Specific color for light theme */\n",
       "  --sklearn-color-text-on-default-background: var(--sg-text-color, var(--theme-code-foreground, var(--jp-content-font-color1, black)));\n",
       "  --sklearn-color-background: var(--sg-background-color, var(--theme-background, var(--jp-layout-color0, white)));\n",
       "  --sklearn-color-border-box: var(--sg-text-color, var(--theme-code-foreground, var(--jp-content-font-color1, black)));\n",
       "  --sklearn-color-icon: #696969;\n",
       "\n",
       "  @media (prefers-color-scheme: dark) {\n",
       "    /* Redefinition of color scheme for dark theme */\n",
       "    --sklearn-color-text-on-default-background: var(--sg-text-color, var(--theme-code-foreground, var(--jp-content-font-color1, white)));\n",
       "    --sklearn-color-background: var(--sg-background-color, var(--theme-background, var(--jp-layout-color0, #111)));\n",
       "    --sklearn-color-border-box: var(--sg-text-color, var(--theme-code-foreground, var(--jp-content-font-color1, white)));\n",
       "    --sklearn-color-icon: #878787;\n",
       "  }\n",
       "}\n",
       "\n",
       "#sk-container-id-1 {\n",
       "  color: var(--sklearn-color-text);\n",
       "}\n",
       "\n",
       "#sk-container-id-1 pre {\n",
       "  padding: 0;\n",
       "}\n",
       "\n",
       "#sk-container-id-1 input.sk-hidden--visually {\n",
       "  border: 0;\n",
       "  clip: rect(1px 1px 1px 1px);\n",
       "  clip: rect(1px, 1px, 1px, 1px);\n",
       "  height: 1px;\n",
       "  margin: -1px;\n",
       "  overflow: hidden;\n",
       "  padding: 0;\n",
       "  position: absolute;\n",
       "  width: 1px;\n",
       "}\n",
       "\n",
       "#sk-container-id-1 div.sk-dashed-wrapped {\n",
       "  border: 1px dashed var(--sklearn-color-line);\n",
       "  margin: 0 0.4em 0.5em 0.4em;\n",
       "  box-sizing: border-box;\n",
       "  padding-bottom: 0.4em;\n",
       "  background-color: var(--sklearn-color-background);\n",
       "}\n",
       "\n",
       "#sk-container-id-1 div.sk-container {\n",
       "  /* jupyter's `normalize.less` sets `[hidden] { display: none; }`\n",
       "     but bootstrap.min.css set `[hidden] { display: none !important; }`\n",
       "     so we also need the `!important` here to be able to override the\n",
       "     default hidden behavior on the sphinx rendered scikit-learn.org.\n",
       "     See: https://github.com/scikit-learn/scikit-learn/issues/21755 */\n",
       "  display: inline-block !important;\n",
       "  position: relative;\n",
       "}\n",
       "\n",
       "#sk-container-id-1 div.sk-text-repr-fallback {\n",
       "  display: none;\n",
       "}\n",
       "\n",
       "div.sk-parallel-item,\n",
       "div.sk-serial,\n",
       "div.sk-item {\n",
       "  /* draw centered vertical line to link estimators */\n",
       "  background-image: linear-gradient(var(--sklearn-color-text-on-default-background), var(--sklearn-color-text-on-default-background));\n",
       "  background-size: 2px 100%;\n",
       "  background-repeat: no-repeat;\n",
       "  background-position: center center;\n",
       "}\n",
       "\n",
       "/* Parallel-specific style estimator block */\n",
       "\n",
       "#sk-container-id-1 div.sk-parallel-item::after {\n",
       "  content: \"\";\n",
       "  width: 100%;\n",
       "  border-bottom: 2px solid var(--sklearn-color-text-on-default-background);\n",
       "  flex-grow: 1;\n",
       "}\n",
       "\n",
       "#sk-container-id-1 div.sk-parallel {\n",
       "  display: flex;\n",
       "  align-items: stretch;\n",
       "  justify-content: center;\n",
       "  background-color: var(--sklearn-color-background);\n",
       "  position: relative;\n",
       "}\n",
       "\n",
       "#sk-container-id-1 div.sk-parallel-item {\n",
       "  display: flex;\n",
       "  flex-direction: column;\n",
       "}\n",
       "\n",
       "#sk-container-id-1 div.sk-parallel-item:first-child::after {\n",
       "  align-self: flex-end;\n",
       "  width: 50%;\n",
       "}\n",
       "\n",
       "#sk-container-id-1 div.sk-parallel-item:last-child::after {\n",
       "  align-self: flex-start;\n",
       "  width: 50%;\n",
       "}\n",
       "\n",
       "#sk-container-id-1 div.sk-parallel-item:only-child::after {\n",
       "  width: 0;\n",
       "}\n",
       "\n",
       "/* Serial-specific style estimator block */\n",
       "\n",
       "#sk-container-id-1 div.sk-serial {\n",
       "  display: flex;\n",
       "  flex-direction: column;\n",
       "  align-items: center;\n",
       "  background-color: var(--sklearn-color-background);\n",
       "  padding-right: 1em;\n",
       "  padding-left: 1em;\n",
       "}\n",
       "\n",
       "\n",
       "/* Toggleable style: style used for estimator/Pipeline/ColumnTransformer box that is\n",
       "clickable and can be expanded/collapsed.\n",
       "- Pipeline and ColumnTransformer use this feature and define the default style\n",
       "- Estimators will overwrite some part of the style using the `sk-estimator` class\n",
       "*/\n",
       "\n",
       "/* Pipeline and ColumnTransformer style (default) */\n",
       "\n",
       "#sk-container-id-1 div.sk-toggleable {\n",
       "  /* Default theme specific background. It is overwritten whether we have a\n",
       "  specific estimator or a Pipeline/ColumnTransformer */\n",
       "  background-color: var(--sklearn-color-background);\n",
       "}\n",
       "\n",
       "/* Toggleable label */\n",
       "#sk-container-id-1 label.sk-toggleable__label {\n",
       "  cursor: pointer;\n",
       "  display: flex;\n",
       "  width: 100%;\n",
       "  margin-bottom: 0;\n",
       "  padding: 0.5em;\n",
       "  box-sizing: border-box;\n",
       "  text-align: center;\n",
       "  align-items: start;\n",
       "  justify-content: space-between;\n",
       "  gap: 0.5em;\n",
       "}\n",
       "\n",
       "#sk-container-id-1 label.sk-toggleable__label .caption {\n",
       "  font-size: 0.6rem;\n",
       "  font-weight: lighter;\n",
       "  color: var(--sklearn-color-text-muted);\n",
       "}\n",
       "\n",
       "#sk-container-id-1 label.sk-toggleable__label-arrow:before {\n",
       "  /* Arrow on the left of the label */\n",
       "  content: \"▸\";\n",
       "  float: left;\n",
       "  margin-right: 0.25em;\n",
       "  color: var(--sklearn-color-icon);\n",
       "}\n",
       "\n",
       "#sk-container-id-1 label.sk-toggleable__label-arrow:hover:before {\n",
       "  color: var(--sklearn-color-text);\n",
       "}\n",
       "\n",
       "/* Toggleable content - dropdown */\n",
       "\n",
       "#sk-container-id-1 div.sk-toggleable__content {\n",
       "  max-height: 0;\n",
       "  max-width: 0;\n",
       "  overflow: hidden;\n",
       "  text-align: left;\n",
       "  /* unfitted */\n",
       "  background-color: var(--sklearn-color-unfitted-level-0);\n",
       "}\n",
       "\n",
       "#sk-container-id-1 div.sk-toggleable__content.fitted {\n",
       "  /* fitted */\n",
       "  background-color: var(--sklearn-color-fitted-level-0);\n",
       "}\n",
       "\n",
       "#sk-container-id-1 div.sk-toggleable__content pre {\n",
       "  margin: 0.2em;\n",
       "  border-radius: 0.25em;\n",
       "  color: var(--sklearn-color-text);\n",
       "  /* unfitted */\n",
       "  background-color: var(--sklearn-color-unfitted-level-0);\n",
       "}\n",
       "\n",
       "#sk-container-id-1 div.sk-toggleable__content.fitted pre {\n",
       "  /* unfitted */\n",
       "  background-color: var(--sklearn-color-fitted-level-0);\n",
       "}\n",
       "\n",
       "#sk-container-id-1 input.sk-toggleable__control:checked~div.sk-toggleable__content {\n",
       "  /* Expand drop-down */\n",
       "  max-height: 200px;\n",
       "  max-width: 100%;\n",
       "  overflow: auto;\n",
       "}\n",
       "\n",
       "#sk-container-id-1 input.sk-toggleable__control:checked~label.sk-toggleable__label-arrow:before {\n",
       "  content: \"▾\";\n",
       "}\n",
       "\n",
       "/* Pipeline/ColumnTransformer-specific style */\n",
       "\n",
       "#sk-container-id-1 div.sk-label input.sk-toggleable__control:checked~label.sk-toggleable__label {\n",
       "  color: var(--sklearn-color-text);\n",
       "  background-color: var(--sklearn-color-unfitted-level-2);\n",
       "}\n",
       "\n",
       "#sk-container-id-1 div.sk-label.fitted input.sk-toggleable__control:checked~label.sk-toggleable__label {\n",
       "  background-color: var(--sklearn-color-fitted-level-2);\n",
       "}\n",
       "\n",
       "/* Estimator-specific style */\n",
       "\n",
       "/* Colorize estimator box */\n",
       "#sk-container-id-1 div.sk-estimator input.sk-toggleable__control:checked~label.sk-toggleable__label {\n",
       "  /* unfitted */\n",
       "  background-color: var(--sklearn-color-unfitted-level-2);\n",
       "}\n",
       "\n",
       "#sk-container-id-1 div.sk-estimator.fitted input.sk-toggleable__control:checked~label.sk-toggleable__label {\n",
       "  /* fitted */\n",
       "  background-color: var(--sklearn-color-fitted-level-2);\n",
       "}\n",
       "\n",
       "#sk-container-id-1 div.sk-label label.sk-toggleable__label,\n",
       "#sk-container-id-1 div.sk-label label {\n",
       "  /* The background is the default theme color */\n",
       "  color: var(--sklearn-color-text-on-default-background);\n",
       "}\n",
       "\n",
       "/* On hover, darken the color of the background */\n",
       "#sk-container-id-1 div.sk-label:hover label.sk-toggleable__label {\n",
       "  color: var(--sklearn-color-text);\n",
       "  background-color: var(--sklearn-color-unfitted-level-2);\n",
       "}\n",
       "\n",
       "/* Label box, darken color on hover, fitted */\n",
       "#sk-container-id-1 div.sk-label.fitted:hover label.sk-toggleable__label.fitted {\n",
       "  color: var(--sklearn-color-text);\n",
       "  background-color: var(--sklearn-color-fitted-level-2);\n",
       "}\n",
       "\n",
       "/* Estimator label */\n",
       "\n",
       "#sk-container-id-1 div.sk-label label {\n",
       "  font-family: monospace;\n",
       "  font-weight: bold;\n",
       "  display: inline-block;\n",
       "  line-height: 1.2em;\n",
       "}\n",
       "\n",
       "#sk-container-id-1 div.sk-label-container {\n",
       "  text-align: center;\n",
       "}\n",
       "\n",
       "/* Estimator-specific */\n",
       "#sk-container-id-1 div.sk-estimator {\n",
       "  font-family: monospace;\n",
       "  border: 1px dotted var(--sklearn-color-border-box);\n",
       "  border-radius: 0.25em;\n",
       "  box-sizing: border-box;\n",
       "  margin-bottom: 0.5em;\n",
       "  /* unfitted */\n",
       "  background-color: var(--sklearn-color-unfitted-level-0);\n",
       "}\n",
       "\n",
       "#sk-container-id-1 div.sk-estimator.fitted {\n",
       "  /* fitted */\n",
       "  background-color: var(--sklearn-color-fitted-level-0);\n",
       "}\n",
       "\n",
       "/* on hover */\n",
       "#sk-container-id-1 div.sk-estimator:hover {\n",
       "  /* unfitted */\n",
       "  background-color: var(--sklearn-color-unfitted-level-2);\n",
       "}\n",
       "\n",
       "#sk-container-id-1 div.sk-estimator.fitted:hover {\n",
       "  /* fitted */\n",
       "  background-color: var(--sklearn-color-fitted-level-2);\n",
       "}\n",
       "\n",
       "/* Specification for estimator info (e.g. \"i\" and \"?\") */\n",
       "\n",
       "/* Common style for \"i\" and \"?\" */\n",
       "\n",
       ".sk-estimator-doc-link,\n",
       "a:link.sk-estimator-doc-link,\n",
       "a:visited.sk-estimator-doc-link {\n",
       "  float: right;\n",
       "  font-size: smaller;\n",
       "  line-height: 1em;\n",
       "  font-family: monospace;\n",
       "  background-color: var(--sklearn-color-background);\n",
       "  border-radius: 1em;\n",
       "  height: 1em;\n",
       "  width: 1em;\n",
       "  text-decoration: none !important;\n",
       "  margin-left: 0.5em;\n",
       "  text-align: center;\n",
       "  /* unfitted */\n",
       "  border: var(--sklearn-color-unfitted-level-1) 1pt solid;\n",
       "  color: var(--sklearn-color-unfitted-level-1);\n",
       "}\n",
       "\n",
       ".sk-estimator-doc-link.fitted,\n",
       "a:link.sk-estimator-doc-link.fitted,\n",
       "a:visited.sk-estimator-doc-link.fitted {\n",
       "  /* fitted */\n",
       "  border: var(--sklearn-color-fitted-level-1) 1pt solid;\n",
       "  color: var(--sklearn-color-fitted-level-1);\n",
       "}\n",
       "\n",
       "/* On hover */\n",
       "div.sk-estimator:hover .sk-estimator-doc-link:hover,\n",
       ".sk-estimator-doc-link:hover,\n",
       "div.sk-label-container:hover .sk-estimator-doc-link:hover,\n",
       ".sk-estimator-doc-link:hover {\n",
       "  /* unfitted */\n",
       "  background-color: var(--sklearn-color-unfitted-level-3);\n",
       "  color: var(--sklearn-color-background);\n",
       "  text-decoration: none;\n",
       "}\n",
       "\n",
       "div.sk-estimator.fitted:hover .sk-estimator-doc-link.fitted:hover,\n",
       ".sk-estimator-doc-link.fitted:hover,\n",
       "div.sk-label-container:hover .sk-estimator-doc-link.fitted:hover,\n",
       ".sk-estimator-doc-link.fitted:hover {\n",
       "  /* fitted */\n",
       "  background-color: var(--sklearn-color-fitted-level-3);\n",
       "  color: var(--sklearn-color-background);\n",
       "  text-decoration: none;\n",
       "}\n",
       "\n",
       "/* Span, style for the box shown on hovering the info icon */\n",
       ".sk-estimator-doc-link span {\n",
       "  display: none;\n",
       "  z-index: 9999;\n",
       "  position: relative;\n",
       "  font-weight: normal;\n",
       "  right: .2ex;\n",
       "  padding: .5ex;\n",
       "  margin: .5ex;\n",
       "  width: min-content;\n",
       "  min-width: 20ex;\n",
       "  max-width: 50ex;\n",
       "  color: var(--sklearn-color-text);\n",
       "  box-shadow: 2pt 2pt 4pt #999;\n",
       "  /* unfitted */\n",
       "  background: var(--sklearn-color-unfitted-level-0);\n",
       "  border: .5pt solid var(--sklearn-color-unfitted-level-3);\n",
       "}\n",
       "\n",
       ".sk-estimator-doc-link.fitted span {\n",
       "  /* fitted */\n",
       "  background: var(--sklearn-color-fitted-level-0);\n",
       "  border: var(--sklearn-color-fitted-level-3);\n",
       "}\n",
       "\n",
       ".sk-estimator-doc-link:hover span {\n",
       "  display: block;\n",
       "}\n",
       "\n",
       "/* \"?\"-specific style due to the `<a>` HTML tag */\n",
       "\n",
       "#sk-container-id-1 a.estimator_doc_link {\n",
       "  float: right;\n",
       "  font-size: 1rem;\n",
       "  line-height: 1em;\n",
       "  font-family: monospace;\n",
       "  background-color: var(--sklearn-color-background);\n",
       "  border-radius: 1rem;\n",
       "  height: 1rem;\n",
       "  width: 1rem;\n",
       "  text-decoration: none;\n",
       "  /* unfitted */\n",
       "  color: var(--sklearn-color-unfitted-level-1);\n",
       "  border: var(--sklearn-color-unfitted-level-1) 1pt solid;\n",
       "}\n",
       "\n",
       "#sk-container-id-1 a.estimator_doc_link.fitted {\n",
       "  /* fitted */\n",
       "  border: var(--sklearn-color-fitted-level-1) 1pt solid;\n",
       "  color: var(--sklearn-color-fitted-level-1);\n",
       "}\n",
       "\n",
       "/* On hover */\n",
       "#sk-container-id-1 a.estimator_doc_link:hover {\n",
       "  /* unfitted */\n",
       "  background-color: var(--sklearn-color-unfitted-level-3);\n",
       "  color: var(--sklearn-color-background);\n",
       "  text-decoration: none;\n",
       "}\n",
       "\n",
       "#sk-container-id-1 a.estimator_doc_link.fitted:hover {\n",
       "  /* fitted */\n",
       "  background-color: var(--sklearn-color-fitted-level-3);\n",
       "}\n",
       "</style><div id=\"sk-container-id-1\" class=\"sk-top-container\"><div class=\"sk-text-repr-fallback\"><pre>LogisticRegression(C=np.float64(2.9763514416313193), max_iter=1000,\n",
       "                   random_state=42, solver=&#x27;liblinear&#x27;)</pre><b>In a Jupyter environment, please rerun this cell to show the HTML representation or trust the notebook. <br />On GitHub, the HTML representation is unable to render, please try loading this page with nbviewer.org.</b></div><div class=\"sk-container\" hidden><div class=\"sk-item\"><div class=\"sk-estimator fitted sk-toggleable\"><input class=\"sk-toggleable__control sk-hidden--visually\" id=\"sk-estimator-id-1\" type=\"checkbox\" checked><label for=\"sk-estimator-id-1\" class=\"sk-toggleable__label fitted sk-toggleable__label-arrow\"><div><div>LogisticRegression</div></div><div><a class=\"sk-estimator-doc-link fitted\" rel=\"noreferrer\" target=\"_blank\" href=\"https://scikit-learn.org/1.6/modules/generated/sklearn.linear_model.LogisticRegression.html\">?<span>Documentation for LogisticRegression</span></a><span class=\"sk-estimator-doc-link fitted\">i<span>Fitted</span></span></div></label><div class=\"sk-toggleable__content fitted\"><pre>LogisticRegression(C=np.float64(2.9763514416313193), max_iter=1000,\n",
       "                   random_state=42, solver=&#x27;liblinear&#x27;)</pre></div> </div></div></div></div>"
      ],
      "text/plain": [
       "LogisticRegression(C=np.float64(2.9763514416313193), max_iter=1000,\n",
       "                   random_state=42, solver='liblinear')"
      ]
     },
     "execution_count": 31,
     "metadata": {},
     "output_type": "execute_result"
    }
   ],
   "source": [
    "logisticRegression_Model"
   ]
  },
  {
   "cell_type": "code",
   "execution_count": 32,
   "metadata": {},
   "outputs": [
    {
     "name": "stdout",
     "output_type": "stream",
     "text": [
      "Model logisticRegression_Model has been exported!!!\n"
     ]
    }
   ],
   "source": [
    "export_model(logisticRegression_Model, \"logisticRegression_Model\")"
   ]
  },
  {
   "cell_type": "code",
   "execution_count": 33,
   "metadata": {},
   "outputs": [],
   "source": [
    "train_preds_logReg = logisticRegression_Model.predict(X_train_embeddings)\n",
    "val_preds_logReg = logisticRegression_Model.predict(X_val_embeddings)\n",
    "test_preds_logReg = logisticRegression_Model.predict(X_test_embeddings)\n",
    "test_preds_proba_logReg = logisticRegression_Model.predict_proba(X_test_embeddings)[:, 1]"
   ]
  },
  {
   "cell_type": "code",
   "execution_count": 34,
   "metadata": {},
   "outputs": [
    {
     "name": "stdout",
     "output_type": "stream",
     "text": [
      "Training performance for Logistic Regression\n",
      "              precision    recall  f1-score   support\n",
      "\n",
      "           0       0.84      0.84      0.84     23853\n",
      "           1       0.85      0.84      0.85     25190\n",
      "\n",
      "    accuracy                           0.84     49043\n",
      "   macro avg       0.84      0.84      0.84     49043\n",
      "weighted avg       0.84      0.84      0.84     49043\n",
      "\n"
     ]
    }
   ],
   "source": [
    "print(\"Training performance for Logistic Regression\")\n",
    "print(classification_report(Y_train, train_preds_logReg))"
   ]
  },
  {
   "cell_type": "code",
   "execution_count": 35,
   "metadata": {},
   "outputs": [
    {
     "name": "stdout",
     "output_type": "stream",
     "text": [
      "Val performance for Logistic Regression\n",
      "              precision    recall  f1-score   support\n",
      "\n",
      "           0       0.82      0.84      0.83      4097\n",
      "           1       0.85      0.84      0.84      4558\n",
      "\n",
      "    accuracy                           0.84      8655\n",
      "   macro avg       0.84      0.84      0.84      8655\n",
      "weighted avg       0.84      0.84      0.84      8655\n",
      "\n"
     ]
    }
   ],
   "source": [
    "print(\"Val performance for Logistic Regression\")\n",
    "print(classification_report(Y_val, val_preds_logReg))"
   ]
  },
  {
   "cell_type": "code",
   "execution_count": 36,
   "metadata": {},
   "outputs": [
    {
     "name": "stdout",
     "output_type": "stream",
     "text": [
      "Test performance for Logistic Regression\n",
      "              precision    recall  f1-score   support\n",
      "\n",
      "           0       0.83      0.84      0.84      7078\n",
      "           1       0.85      0.84      0.84      7347\n",
      "\n",
      "    accuracy                           0.84     14425\n",
      "   macro avg       0.84      0.84      0.84     14425\n",
      "weighted avg       0.84      0.84      0.84     14425\n",
      "\n"
     ]
    }
   ],
   "source": [
    "print(\"Test performance for Logistic Regression\")\n",
    "print(classification_report(Y_test, test_preds_logReg))"
   ]
  },
  {
   "cell_type": "code",
   "execution_count": 37,
   "metadata": {},
   "outputs": [
    {
     "data": {
      "image/png": "[encoded data removed]",
      "text/plain": [
       "<Figure size 600x600 with 1 Axes>"
      ]
     },
     "metadata": {},
     "output_type": "display_data"
    },
    {
     "name": "stdout",
     "output_type": "stream",
     "text": [
      "\n",
      "\n",
      "FOR TESTING SET: \n",
      "              precision    recall  f1-score   support\n",
      "\n",
      "           0       0.83      0.84      0.84      7078\n",
      "           1       0.85      0.84      0.84      7347\n",
      "\n",
      "    accuracy                           0.84     14425\n",
      "   macro avg       0.84      0.84      0.84     14425\n",
      "weighted avg       0.84      0.84      0.84     14425\n",
      "\n",
      "\n",
      "\n",
      "ROC AUC Score: 91.91%\n",
      "\n",
      "\n"
     ]
    },
    {
     "data": {
      "image/png": "[encoded data removed]",
      "text/plain": [
       "<Figure size 1000x600 with 1 Axes>"
      ]
     },
     "metadata": {},
     "output_type": "display_data"
    }
   ],
   "source": [
    "perform_deep_test_analysis(Y_test, test_preds_logReg, test_preds_proba_logReg, \"Logistic Regression\")"
   ]
  },
  {
   "cell_type": "markdown",
   "metadata": {
    "id": "2nqpWYFXFTNa"
   },
   "source": [
    "Logistic regression performs fairly well with accuracy and F1 scores of 0.84 on test set. Furthermore, the performance accross all 3 sets (train/val/test) is fairly similar, indicating that the model has pretty good generalization on detecting fake news on unseen data. This gives us some idea that we should probably increase complexity of this model to see if we can get more accuracy."
   ]
  },
  {
   "cell_type": "markdown",
   "metadata": {
    "id": "dHwa4Nb34K-1"
   },
   "source": [
    "## 4.2 XGBoost"
   ]
  },
  {
   "cell_type": "code",
   "execution_count": 38,
   "metadata": {},
   "outputs": [],
   "source": [
    "from xgboost import XGBClassifier\n",
    "\n",
    "param_XGBoost = {\n",
    "    \"n_estimators\": [100, 200, 300, 500, 1000],\n",
    "    \"max_depth\": [3, 4, 5, 6],\n",
    "    \"learning_rate\": [0.01, 0.05, 0.1, 0.2, 0.3],\n",
    "    \"subsample\": [0.6, 0.7, 0.8, 0.9, 1.0],\n",
    "    \"colsample_bytree\": [0.6, 0.7, 0.8, 0.9, 1.0],\n",
    "    \"gamma\": [0, 0.1, 0.3, 0.5, 1],\n",
    "    \"reg_alpha\": [0, 0.01, 0.1, 1],\n",
    "    \"reg_lambda\": [0.1, 0.5, 1, 5],\n",
    "    \"min_child_weight\": [1, 3, 5, 7],\n",
    "    \"tree_method\": [\"gpu_hist\"],\n",
    "    \"predictor\": [\"gpu_predictor\"],\n",
    "    \"verbosity\": [0],\n",
    "    \"random_state\": [42],\n",
    "    \"early_stopping\": [30]\n",
    "}"
   ]
  },
  {
   "cell_type": "code",
   "execution_count": 39,
   "metadata": {},
   "outputs": [
    {
     "name": "stderr",
     "output_type": "stream",
     "text": [
      "100%|██████████| 10/10 [01:22<00:00,  8.28s/it]"
     ]
    },
    {
     "name": "stdout",
     "output_type": "stream",
     "text": [
      "\n",
      "Best: 0.8818 with params: {'verbosity': 0, 'tree_method': 'gpu_hist', 'subsample': 0.6, 'reg_lambda': 5, 'reg_alpha': 0.01, 'random_state': 42, 'predictor': 'gpu_predictor', 'n_estimators': 1000, 'min_child_weight': 3, 'max_depth': 6, 'learning_rate': 0.3, 'gamma': 0, 'early_stopping': 30, 'colsample_bytree': 1.0}\n"
     ]
    },
    {
     "name": "stderr",
     "output_type": "stream",
     "text": [
      "\n"
     ]
    }
   ],
   "source": [
    "XGBoost_Model, _, _ = randomized_search(\n",
    "    XGBClassifier,\n",
    "    param_distributions=param_XGBoost,\n",
    "    X_train=X_train_embeddings,\n",
    "    y_train=Y_train,\n",
    "    X_val=X_val_embeddings,\n",
    "    y_val=Y_val,\n",
    "    n_iter=10,\n",
    ")"
   ]
  },
  {
   "cell_type": "code",
   "execution_count": 40,
   "metadata": {},
   "outputs": [
    {
     "name": "stdout",
     "output_type": "stream",
     "text": [
      "Model XGBoost_Model has been exported!!!\n"
     ]
    }
   ],
   "source": [
    "export_model(XGBoost_Model, \"XGBoost_Model\")"
   ]
  },
  {
   "cell_type": "code",
   "execution_count": 41,
   "metadata": {},
   "outputs": [],
   "source": [
    "# with open('XGBoost_Model.pkl', 'rb') as file:\n",
    "#     XGBoost_Model = pickle.load(file)"
   ]
  },
  {
   "cell_type": "code",
   "execution_count": 42,
   "metadata": {},
   "outputs": [
    {
     "name": "stdout",
     "output_type": "stream",
     "text": [
      "Name: xgboost\n",
      "Version: 2.1.4\n",
      "Summary: XGBoost Python Package\n",
      "Home-page: \n",
      "Author: \n",
      "Author-email: Hyunsu Cho <chohyu01@cs.washington.edu>, Jiaming Yuan <jm.yuan@outlook.com>\n",
      "License: Apache-2.0\n",
      "Location: /usr/local/lib/python3.11/dist-packages\n",
      "Requires: numpy, nvidia-nccl-cu12, scipy\n",
      "Required-by: \n"
     ]
    }
   ],
   "source": [
    "!pip show xgboost"
   ]
  },
  {
   "cell_type": "code",
   "execution_count": 43,
   "metadata": {},
   "outputs": [],
   "source": [
    "train_preds_XGBOOST = XGBoost_Model.predict(X_train_embeddings)\n",
    "val_preds_XGBOOST = XGBoost_Model.predict(X_val_embeddings)\n",
    "test_preds_XGBOOST = XGBoost_Model.predict(X_test_embeddings)\n",
    "test_preds_proba_XGBOOST = XGBoost_Model.predict_proba(X_test_embeddings)[:, 1]"
   ]
  },
  {
   "cell_type": "code",
   "execution_count": 44,
   "metadata": {},
   "outputs": [
    {
     "name": "stdout",
     "output_type": "stream",
     "text": [
      "XGBoost Train\n",
      "              precision    recall  f1-score   support\n",
      "\n",
      "           0       1.00      1.00      1.00     23853\n",
      "           1       1.00      1.00      1.00     25190\n",
      "\n",
      "    accuracy                           1.00     49043\n",
      "   macro avg       1.00      1.00      1.00     49043\n",
      "weighted avg       1.00      1.00      1.00     49043\n",
      "\n"
     ]
    }
   ],
   "source": [
    "print(\"XGBoost Train\")\n",
    "print(classification_report(Y_train, train_preds_XGBOOST))"
   ]
  },
  {
   "cell_type": "code",
   "execution_count": 45,
   "metadata": {},
   "outputs": [
    {
     "name": "stdout",
     "output_type": "stream",
     "text": [
      "XGBoost Val\n",
      "              precision    recall  f1-score   support\n",
      "\n",
      "           0       0.87      0.88      0.88      4097\n",
      "           1       0.89      0.89      0.89      4558\n",
      "\n",
      "    accuracy                           0.88      8655\n",
      "   macro avg       0.88      0.88      0.88      8655\n",
      "weighted avg       0.88      0.88      0.88      8655\n",
      "\n"
     ]
    }
   ],
   "source": [
    "print(\"XGBoost Val\")\n",
    "print(classification_report(Y_val, val_preds_XGBOOST))"
   ]
  },
  {
   "cell_type": "code",
   "execution_count": 46,
   "metadata": {},
   "outputs": [
    {
     "name": "stdout",
     "output_type": "stream",
     "text": [
      "XGBoost Test\n",
      "              precision    recall  f1-score   support\n",
      "\n",
      "           0       0.88      0.87      0.88      7078\n",
      "           1       0.88      0.89      0.88      7347\n",
      "\n",
      "    accuracy                           0.88     14425\n",
      "   macro avg       0.88      0.88      0.88     14425\n",
      "weighted avg       0.88      0.88      0.88     14425\n",
      "\n"
     ]
    }
   ],
   "source": [
    "print(\"XGBoost Test\")\n",
    "print(classification_report(Y_test, test_preds_XGBOOST))"
   ]
  },
  {
   "cell_type": "markdown",
   "metadata": {
    "id": "tAxglkHUMYjj"
   },
   "source": [
    "With XGBoost, we get slightly better results. We will now experiment with CNN and with a multi-layered perceptron on the embeddings and see if we get any better results."
   ]
  },
  {
   "cell_type": "code",
   "execution_count": 47,
   "metadata": {},
   "outputs": [
    {
     "data": {
      "text/plain": [
       "array([1.000000e+00, 9.426958e-01, 7.879854e-04, ..., 9.109960e-01,\n",
       "       7.595903e-03, 4.482567e-05], dtype=float32)"
      ]
     },
     "execution_count": 47,
     "metadata": {},
     "output_type": "execute_result"
    }
   ],
   "source": [
    "test_preds_proba_XGBOOST"
   ]
  },
  {
   "cell_type": "code",
   "execution_count": 48,
   "metadata": {},
   "outputs": [
    {
     "data": {
      "image/png": "[encoded data removed]",
      "text/plain": [
       "<Figure size 600x600 with 1 Axes>"
      ]
     },
     "metadata": {},
     "output_type": "display_data"
    },
    {
     "name": "stdout",
     "output_type": "stream",
     "text": [
      "\n",
      "\n",
      "FOR TESTING SET: \n",
      "              precision    recall  f1-score   support\n",
      "\n",
      "           0       0.88      0.87      0.88      7078\n",
      "           1       0.88      0.89      0.88      7347\n",
      "\n",
      "    accuracy                           0.88     14425\n",
      "   macro avg       0.88      0.88      0.88     14425\n",
      "weighted avg       0.88      0.88      0.88     14425\n",
      "\n",
      "\n",
      "\n",
      "ROC AUC Score: 95.27%\n",
      "\n",
      "\n"
     ]
    },
    {
     "data": {
      "image/png": "[encoded data removed]",
      "text/plain": [
       "<Figure size 1000x600 with 1 Axes>"
      ]
     },
     "metadata": {},
     "output_type": "display_data"
    }
   ],
   "source": [
    "perform_deep_test_analysis(Y_test, test_preds_XGBOOST, test_preds_proba_XGBOOST, \"XGBoost\")"
   ]
  },
  {
   "cell_type": "markdown",
   "metadata": {
    "id": "OvdZ5_IWAR-Y"
   },
   "source": [
    "## 4.3 1-d CNN"
   ]
  },
  {
   "cell_type": "code",
   "execution_count": 93,
   "metadata": {},
   "outputs": [],
   "source": [
    "from torch.utils.data import Dataset, DataLoader\n",
    "import torch.nn as nn\n",
    "import torch.optim as optim"
   ]
  },
  {
   "cell_type": "code",
   "execution_count": 94,
   "metadata": {},
   "outputs": [],
   "source": [
    "class EmbeddingDataset(Dataset):\n",
    "    def __init__(self, X, Y):\n",
    "        self.X = torch.tensor(np.stack(X), dtype=torch.float32)\n",
    "        self.Y = torch.tensor(Y, dtype=torch.long)\n",
    "    def __len__(self):\n",
    "        return len(self.Y)\n",
    "    def __getitem__(self, idx):\n",
    "        return self.X[idx], self.Y[idx]"
   ]
  },
  {
   "cell_type": "code",
   "execution_count": 95,
   "metadata": {},
   "outputs": [
    {
     "data": {
      "text/plain": [
       "384"
      ]
     },
     "execution_count": 95,
     "metadata": {},
     "output_type": "execute_result"
    }
   ],
   "source": [
    "len(X_train_embeddings[0])"
   ]
  },
  {
   "cell_type": "code",
   "execution_count": 96,
   "metadata": {},
   "outputs": [],
   "source": [
    "class VanillaCNN_1d(nn.Module):\n",
    "    def __init__(self, input_dim, num_classes=2):\n",
    "        super(VanillaCNN_1d, self).__init__()\n",
    "\n",
    "        self.conv1 = nn.Conv1d(1, 3, kernel_size=7, padding=3)\n",
    "        self.bn1 = nn.BatchNorm1d(3)\n",
    "        self.pool1 = nn.AvgPool1d(2)  # 384 -> 192\n",
    "\n",
    "        self.conv2 = nn.Conv1d(3, 6, kernel_size=5, padding=2)\n",
    "        self.bn2 = nn.BatchNorm1d(6)\n",
    "        self.pool2 = nn.AvgPool1d(2)  # 192 -> 96\n",
    "\n",
    "        self.conv3 = nn.Conv1d(6, 8, kernel_size=3, padding=1)\n",
    "        self.bn3 = nn.BatchNorm1d(8)\n",
    "        self.pool3 = nn.AvgPool1d(2)  # 96 -> 48\n",
    "\n",
    "        self.relu = nn.LeakyReLU()\n",
    "        self.dropout = nn.Dropout(0.001)\n",
    "\n",
    "        # after all pooling layers, we get 8 channels * 48 pixels\n",
    "        self.fc = nn.Linear(8 * 48, num_classes)\n",
    "\n",
    "    def forward(self, x):\n",
    "        x = x.unsqueeze(1)  # (Batch, 1, 384)\n",
    "        x = self.pool1(self.relu(self.bn1(self.conv1(x))))  # (B, 3, 192)\n",
    "        x = self.pool2(self.relu(self.bn2(self.conv2(x))))  # (B, 6, 96)\n",
    "        x = self.pool3(self.relu(self.bn3(self.conv3(x))))  # (B, 8, 48)\n",
    "        x = x.view(x.size(0), -1)  # (B, 8 * 48)\n",
    "        x = self.dropout(x)\n",
    "        x = self.fc(x)            # (B, 2)\n",
    "        return x"
   ]
  },
  {
   "cell_type": "code",
   "execution_count": 97,
   "metadata": {},
   "outputs": [],
   "source": [
    "batch_size = 1024\n",
    "train_ds = EmbeddingDataset(X_train_embeddings, Y_train)\n",
    "val_ds = EmbeddingDataset(X_val_embeddings, Y_val)\n",
    "train_loader = DataLoader(train_ds, batch_size=batch_size, shuffle=False)\n",
    "val_loader = DataLoader(val_ds, batch_size=batch_size)\n",
    "test_ds = EmbeddingDataset(X_test_embeddings, Y_test)\n",
    "test_loader = DataLoader(test_ds, batch_size=batch_size)"
   ]
  },
  {
   "cell_type": "code",
   "execution_count": 98,
   "metadata": {},
   "outputs": [
    {
     "name": "stdout",
     "output_type": "stream",
     "text": [
      "cuda\n"
     ]
    }
   ],
   "source": [
    "device = torch.device(\"cuda\" if torch.cuda.is_available() else \"cpu\")\n",
    "print(device)\n",
    "input_dim = len(X_train_embeddings[0])\n",
    "num_classes = 2\n",
    "cnn = VanillaCNN_1d(input_dim, num_classes).to(device)"
   ]
  },
  {
   "cell_type": "markdown",
   "metadata": {
    "id": "oIjCEVZzOvng"
   },
   "source": [
    "<b> Lets verify forward pass actually works or not"
   ]
  },
  {
   "cell_type": "code",
   "execution_count": 99,
   "metadata": {},
   "outputs": [
    {
     "data": {
      "text/plain": [
       "torch.Size([1, 2])"
      ]
     },
     "execution_count": 99,
     "metadata": {},
     "output_type": "execute_result"
    }
   ],
   "source": [
    "# Create a random input sample with 384 features\n",
    "single_input = torch.randn(384)\n",
    "single_input = single_input.unsqueeze(0).to(device)\n",
    "output = cnn(single_input)\n",
    "output.shape"
   ]
  },
  {
   "cell_type": "markdown",
   "metadata": {
    "id": "OQXyE1nRSocO"
   },
   "source": [
    "Perfect! Our model has proper output shape, given input of [batch, elements], we get [batch, predicted values for each class]. We can use BCELoss with sigmoid and set num_class to 1 as well but Cross entropy loss requires unchanged outputs (without softmax as it, by default, applies softmax internally)."
   ]
  },
  {
   "cell_type": "code",
   "execution_count": 100,
   "metadata": {},
   "outputs": [],
   "source": [
    "criterion = nn.CrossEntropyLoss()\n",
    "optimizer = optim.Adam(cnn.parameters(), lr=0.001, weight_decay=0.001) # medium big learning rate and some additional regulariztaion\n",
    "num_epochs = 1000\n",
    "early_stopping_patience = 30"
   ]
  },
  {
   "cell_type": "code",
   "execution_count": 101,
   "metadata": {},
   "outputs": [],
   "source": [
    "def train_model(model, train_loader, val_loader, criterion, optimizer, num_epochs, early_stopping_patience):\n",
    "    train_losses, train_accuracies = [], []\n",
    "    val_losses, val_accuracies = [], []\n",
    "\n",
    "    best_val_loss = float('inf')\n",
    "    best_val_acc_at_best_loss = 0.0\n",
    "    best_epoch = -1\n",
    "    epochs_no_improve = 0\n",
    "    best_model_wts = model.state_dict()\n",
    "\n",
    "    for epoch in range(num_epochs):\n",
    "        model.train()\n",
    "        running_loss = 0.0\n",
    "        running_corrects = 0\n",
    "        running_total = 0\n",
    "\n",
    "        for xb, yb in train_loader:\n",
    "            xb, yb = xb.to(device), yb.to(device)\n",
    "            optimizer.zero_grad()\n",
    "            out = model(xb)\n",
    "            loss = criterion(out, yb)\n",
    "            loss.backward()\n",
    "            optimizer.step()\n",
    "\n",
    "            running_loss += loss.item() * xb.size(0)\n",
    "            preds = out.argmax(dim=1)\n",
    "            running_corrects += (preds == yb).sum().item()\n",
    "            running_total += yb.size(0)\n",
    "\n",
    "        epoch_train_loss = running_loss / running_total\n",
    "        epoch_train_acc = running_corrects / running_total\n",
    "        train_losses.append(epoch_train_loss)\n",
    "        train_accuracies.append(epoch_train_acc)\n",
    "\n",
    "        model.eval()\n",
    "        val_running_loss = 0.0\n",
    "        val_running_corrects = 0\n",
    "        val_running_total = 0\n",
    "        with torch.no_grad():\n",
    "            for xb, yb in val_loader:\n",
    "                xb, yb = xb.to(device), yb.to(device)\n",
    "                out = model(xb)\n",
    "                loss = criterion(out, yb)\n",
    "\n",
    "                val_running_loss += loss.item() * xb.size(0)\n",
    "                preds = out.argmax(dim=1)\n",
    "                val_running_corrects += (preds == yb).sum().item()\n",
    "                val_running_total += yb.size(0)\n",
    "\n",
    "        epoch_val_loss = val_running_loss / val_running_total\n",
    "        epoch_val_acc = val_running_corrects / val_running_total\n",
    "        val_losses.append(epoch_val_loss)\n",
    "        val_accuracies.append(epoch_val_acc)\n",
    "\n",
    "        print(f\"Epoch {epoch+1}: \"\n",
    "              f\"Train Loss={epoch_train_loss:.4f}, Train Acc={epoch_train_acc:.4f}, \"\n",
    "              f\"Val Loss={epoch_val_loss:.4f}, Val Acc={epoch_val_acc:.4f}\")\n",
    "\n",
    "        # Early stopping based on lowest validation loss\n",
    "        if epoch_val_loss < best_val_loss:\n",
    "            best_val_loss = epoch_val_loss\n",
    "            best_val_acc_at_best_loss = epoch_val_acc\n",
    "            best_epoch = epoch + 1\n",
    "            best_model_wts = model.state_dict()\n",
    "            epochs_no_improve = 0\n",
    "        else:\n",
    "            epochs_no_improve += 1\n",
    "            if epochs_no_improve >= early_stopping_patience:\n",
    "                print(f\"Early stopping at epoch {epoch+1}\")\n",
    "                break\n",
    "\n",
    "    print(f\"\\nBest model saved at epoch {best_epoch} with \"\n",
    "          f\"Val Loss={best_val_loss:.4f} and Val Acc={best_val_acc_at_best_loss:.4f} \"\n",
    "          f\"(Early Stopping Patience = {early_stopping_patience})\")\n",
    "\n",
    "    return best_model_wts, model, train_losses, train_accuracies, val_losses, val_accuracies"
   ]
  },
  {
   "cell_type": "code",
   "execution_count": 102,
   "metadata": {},
   "outputs": [
    {
     "name": "stdout",
     "output_type": "stream",
     "text": [
      "Epoch 1: Train Loss=0.5989, Train Acc=0.6798, Val Loss=0.6186, Val Acc=0.6969\n",
      "Epoch 2: Train Loss=0.5387, Train Acc=0.7329, Val Loss=0.5462, Val Acc=0.7254\n",
      "Epoch 3: Train Loss=0.5170, Train Acc=0.7470, Val Loss=0.5255, Val Acc=0.7361\n",
      "Epoch 4: Train Loss=0.5023, Train Acc=0.7567, Val Loss=0.5142, Val Acc=0.7455\n",
      "Epoch 5: Train Loss=0.4913, Train Acc=0.7632, Val Loss=0.5063, Val Acc=0.7519\n",
      "Epoch 6: Train Loss=0.4823, Train Acc=0.7694, Val Loss=0.5002, Val Acc=0.7559\n",
      "Epoch 7: Train Loss=0.4751, Train Acc=0.7748, Val Loss=0.4950, Val Acc=0.7606\n",
      "Epoch 8: Train Loss=0.4693, Train Acc=0.7794, Val Loss=0.4909, Val Acc=0.7640\n",
      "Epoch 9: Train Loss=0.4647, Train Acc=0.7833, Val Loss=0.4875, Val Acc=0.7646\n",
      "Epoch 10: Train Loss=0.4606, Train Acc=0.7850, Val Loss=0.4847, Val Acc=0.7682\n",
      "Epoch 11: Train Loss=0.4573, Train Acc=0.7863, Val Loss=0.4822, Val Acc=0.7698\n",
      "Epoch 12: Train Loss=0.4543, Train Acc=0.7886, Val Loss=0.4799, Val Acc=0.7686\n",
      "Epoch 13: Train Loss=0.4516, Train Acc=0.7901, Val Loss=0.4777, Val Acc=0.7711\n",
      "Epoch 14: Train Loss=0.4491, Train Acc=0.7910, Val Loss=0.4757, Val Acc=0.7733\n",
      "Epoch 15: Train Loss=0.4471, Train Acc=0.7920, Val Loss=0.4736, Val Acc=0.7749\n",
      "Epoch 16: Train Loss=0.4448, Train Acc=0.7925, Val Loss=0.4715, Val Acc=0.7774\n",
      "Epoch 17: Train Loss=0.4431, Train Acc=0.7943, Val Loss=0.4699, Val Acc=0.7772\n",
      "Epoch 18: Train Loss=0.4416, Train Acc=0.7948, Val Loss=0.4683, Val Acc=0.7782\n",
      "Epoch 19: Train Loss=0.4399, Train Acc=0.7957, Val Loss=0.4669, Val Acc=0.7799\n",
      "Epoch 20: Train Loss=0.4383, Train Acc=0.7966, Val Loss=0.4657, Val Acc=0.7801\n",
      "Epoch 21: Train Loss=0.4370, Train Acc=0.7978, Val Loss=0.4642, Val Acc=0.7809\n",
      "Epoch 22: Train Loss=0.4356, Train Acc=0.7989, Val Loss=0.4626, Val Acc=0.7808\n",
      "Epoch 23: Train Loss=0.4341, Train Acc=0.7993, Val Loss=0.4613, Val Acc=0.7811\n",
      "Epoch 24: Train Loss=0.4328, Train Acc=0.8003, Val Loss=0.4599, Val Acc=0.7817\n",
      "Epoch 25: Train Loss=0.4318, Train Acc=0.8004, Val Loss=0.4587, Val Acc=0.7826\n",
      "Epoch 26: Train Loss=0.4307, Train Acc=0.8014, Val Loss=0.4576, Val Acc=0.7839\n",
      "Epoch 27: Train Loss=0.4295, Train Acc=0.8017, Val Loss=0.4565, Val Acc=0.7836\n",
      "Epoch 28: Train Loss=0.4285, Train Acc=0.8022, Val Loss=0.4556, Val Acc=0.7842\n",
      "Epoch 29: Train Loss=0.4272, Train Acc=0.8035, Val Loss=0.4546, Val Acc=0.7838\n",
      "Epoch 30: Train Loss=0.4262, Train Acc=0.8037, Val Loss=0.4539, Val Acc=0.7854\n",
      "Epoch 31: Train Loss=0.4254, Train Acc=0.8044, Val Loss=0.4532, Val Acc=0.7854\n",
      "Epoch 32: Train Loss=0.4243, Train Acc=0.8050, Val Loss=0.4520, Val Acc=0.7871\n",
      "Epoch 33: Train Loss=0.4233, Train Acc=0.8055, Val Loss=0.4513, Val Acc=0.7875\n",
      "Epoch 34: Train Loss=0.4223, Train Acc=0.8056, Val Loss=0.4507, Val Acc=0.7876\n",
      "Epoch 35: Train Loss=0.4214, Train Acc=0.8065, Val Loss=0.4498, Val Acc=0.7882\n",
      "Epoch 36: Train Loss=0.4205, Train Acc=0.8069, Val Loss=0.4490, Val Acc=0.7890\n",
      "Epoch 37: Train Loss=0.4196, Train Acc=0.8075, Val Loss=0.4481, Val Acc=0.7902\n",
      "Epoch 38: Train Loss=0.4185, Train Acc=0.8086, Val Loss=0.4471, Val Acc=0.7920\n",
      "Epoch 39: Train Loss=0.4177, Train Acc=0.8088, Val Loss=0.4464, Val Acc=0.7926\n",
      "Epoch 40: Train Loss=0.4170, Train Acc=0.8102, Val Loss=0.4455, Val Acc=0.7942\n",
      "Epoch 41: Train Loss=0.4163, Train Acc=0.8101, Val Loss=0.4452, Val Acc=0.7938\n",
      "Epoch 42: Train Loss=0.4156, Train Acc=0.8102, Val Loss=0.4445, Val Acc=0.7932\n",
      "Epoch 43: Train Loss=0.4148, Train Acc=0.8107, Val Loss=0.4440, Val Acc=0.7946\n",
      "Epoch 44: Train Loss=0.4144, Train Acc=0.8108, Val Loss=0.4435, Val Acc=0.7941\n",
      "Epoch 45: Train Loss=0.4137, Train Acc=0.8117, Val Loss=0.4431, Val Acc=0.7954\n",
      "Epoch 46: Train Loss=0.4130, Train Acc=0.8121, Val Loss=0.4426, Val Acc=0.7951\n",
      "Epoch 47: Train Loss=0.4123, Train Acc=0.8117, Val Loss=0.4422, Val Acc=0.7964\n",
      "Epoch 48: Train Loss=0.4118, Train Acc=0.8123, Val Loss=0.4418, Val Acc=0.7975\n",
      "Epoch 49: Train Loss=0.4114, Train Acc=0.8129, Val Loss=0.4417, Val Acc=0.7970\n",
      "Epoch 50: Train Loss=0.4112, Train Acc=0.8130, Val Loss=0.4415, Val Acc=0.7966\n",
      "Epoch 51: Train Loss=0.4105, Train Acc=0.8122, Val Loss=0.4417, Val Acc=0.7968\n",
      "Epoch 52: Train Loss=0.4102, Train Acc=0.8127, Val Loss=0.4412, Val Acc=0.7968\n",
      "Epoch 53: Train Loss=0.4095, Train Acc=0.8135, Val Loss=0.4411, Val Acc=0.7976\n",
      "Epoch 54: Train Loss=0.4090, Train Acc=0.8139, Val Loss=0.4409, Val Acc=0.7960\n",
      "Epoch 55: Train Loss=0.4084, Train Acc=0.8133, Val Loss=0.4405, Val Acc=0.7961\n",
      "Epoch 56: Train Loss=0.4082, Train Acc=0.8132, Val Loss=0.4407, Val Acc=0.7954\n",
      "Epoch 57: Train Loss=0.4077, Train Acc=0.8139, Val Loss=0.4406, Val Acc=0.7966\n",
      "Epoch 58: Train Loss=0.4076, Train Acc=0.8140, Val Loss=0.4398, Val Acc=0.7969\n",
      "Epoch 59: Train Loss=0.4071, Train Acc=0.8144, Val Loss=0.4402, Val Acc=0.7961\n",
      "Epoch 60: Train Loss=0.4070, Train Acc=0.8141, Val Loss=0.4401, Val Acc=0.7968\n",
      "Epoch 61: Train Loss=0.4064, Train Acc=0.8148, Val Loss=0.4391, Val Acc=0.7982\n",
      "Epoch 62: Train Loss=0.4057, Train Acc=0.8152, Val Loss=0.4394, Val Acc=0.7971\n",
      "Epoch 63: Train Loss=0.4057, Train Acc=0.8157, Val Loss=0.4395, Val Acc=0.7977\n",
      "Epoch 64: Train Loss=0.4049, Train Acc=0.8157, Val Loss=0.4396, Val Acc=0.7977\n",
      "Epoch 65: Train Loss=0.4047, Train Acc=0.8160, Val Loss=0.4390, Val Acc=0.7979\n",
      "Epoch 66: Train Loss=0.4045, Train Acc=0.8162, Val Loss=0.4384, Val Acc=0.7979\n",
      "Epoch 67: Train Loss=0.4042, Train Acc=0.8159, Val Loss=0.4385, Val Acc=0.7980\n",
      "Epoch 68: Train Loss=0.4043, Train Acc=0.8159, Val Loss=0.4383, Val Acc=0.7980\n",
      "Epoch 69: Train Loss=0.4036, Train Acc=0.8162, Val Loss=0.4378, Val Acc=0.7973\n",
      "Epoch 70: Train Loss=0.4033, Train Acc=0.8166, Val Loss=0.4373, Val Acc=0.7972\n",
      "Epoch 71: Train Loss=0.4031, Train Acc=0.8174, Val Loss=0.4374, Val Acc=0.7969\n",
      "Epoch 72: Train Loss=0.4027, Train Acc=0.8171, Val Loss=0.4367, Val Acc=0.7969\n",
      "Epoch 73: Train Loss=0.4027, Train Acc=0.8165, Val Loss=0.4372, Val Acc=0.7976\n",
      "Epoch 74: Train Loss=0.4021, Train Acc=0.8171, Val Loss=0.4364, Val Acc=0.7977\n",
      "Epoch 75: Train Loss=0.4018, Train Acc=0.8178, Val Loss=0.4365, Val Acc=0.7986\n",
      "Epoch 76: Train Loss=0.4013, Train Acc=0.8177, Val Loss=0.4361, Val Acc=0.7977\n",
      "Epoch 77: Train Loss=0.4014, Train Acc=0.8176, Val Loss=0.4359, Val Acc=0.7976\n",
      "Epoch 78: Train Loss=0.4012, Train Acc=0.8179, Val Loss=0.4371, Val Acc=0.7975\n",
      "Epoch 79: Train Loss=0.4009, Train Acc=0.8183, Val Loss=0.4360, Val Acc=0.7998\n",
      "Epoch 80: Train Loss=0.4011, Train Acc=0.8187, Val Loss=0.4370, Val Acc=0.7976\n",
      "Epoch 81: Train Loss=0.4003, Train Acc=0.8183, Val Loss=0.4352, Val Acc=0.7998\n",
      "Epoch 82: Train Loss=0.4001, Train Acc=0.8191, Val Loss=0.4362, Val Acc=0.7988\n",
      "Epoch 83: Train Loss=0.3999, Train Acc=0.8194, Val Loss=0.4357, Val Acc=0.7984\n",
      "Epoch 84: Train Loss=0.3997, Train Acc=0.8194, Val Loss=0.4349, Val Acc=0.8012\n",
      "Epoch 85: Train Loss=0.3996, Train Acc=0.8192, Val Loss=0.4347, Val Acc=0.7992\n",
      "Epoch 86: Train Loss=0.3994, Train Acc=0.8190, Val Loss=0.4352, Val Acc=0.7995\n",
      "Epoch 87: Train Loss=0.3991, Train Acc=0.8198, Val Loss=0.4353, Val Acc=0.8002\n",
      "Epoch 88: Train Loss=0.3991, Train Acc=0.8194, Val Loss=0.4345, Val Acc=0.7998\n",
      "Epoch 89: Train Loss=0.3991, Train Acc=0.8201, Val Loss=0.4354, Val Acc=0.7997\n",
      "Epoch 90: Train Loss=0.3991, Train Acc=0.8195, Val Loss=0.4346, Val Acc=0.8003\n",
      "Epoch 91: Train Loss=0.3982, Train Acc=0.8202, Val Loss=0.4342, Val Acc=0.7997\n",
      "Epoch 92: Train Loss=0.3983, Train Acc=0.8203, Val Loss=0.4337, Val Acc=0.8015\n",
      "Epoch 93: Train Loss=0.3981, Train Acc=0.8201, Val Loss=0.4346, Val Acc=0.7997\n",
      "Epoch 94: Train Loss=0.3981, Train Acc=0.8195, Val Loss=0.4341, Val Acc=0.7999\n",
      "Epoch 95: Train Loss=0.3979, Train Acc=0.8200, Val Loss=0.4335, Val Acc=0.8012\n",
      "Epoch 96: Train Loss=0.3978, Train Acc=0.8207, Val Loss=0.4332, Val Acc=0.8003\n",
      "Epoch 97: Train Loss=0.3973, Train Acc=0.8205, Val Loss=0.4330, Val Acc=0.8028\n",
      "Epoch 98: Train Loss=0.3974, Train Acc=0.8201, Val Loss=0.4339, Val Acc=0.8002\n",
      "Epoch 99: Train Loss=0.3973, Train Acc=0.8215, Val Loss=0.4333, Val Acc=0.7999\n",
      "Epoch 100: Train Loss=0.3971, Train Acc=0.8209, Val Loss=0.4349, Val Acc=0.7994\n",
      "Epoch 101: Train Loss=0.3968, Train Acc=0.8203, Val Loss=0.4326, Val Acc=0.8015\n",
      "Epoch 102: Train Loss=0.3968, Train Acc=0.8215, Val Loss=0.4338, Val Acc=0.7995\n",
      "Epoch 103: Train Loss=0.3969, Train Acc=0.8197, Val Loss=0.4324, Val Acc=0.8027\n",
      "Epoch 104: Train Loss=0.3968, Train Acc=0.8208, Val Loss=0.4337, Val Acc=0.7997\n",
      "Epoch 105: Train Loss=0.3967, Train Acc=0.8209, Val Loss=0.4323, Val Acc=0.8009\n",
      "Epoch 106: Train Loss=0.3965, Train Acc=0.8210, Val Loss=0.4317, Val Acc=0.8029\n",
      "Epoch 107: Train Loss=0.3968, Train Acc=0.8207, Val Loss=0.4317, Val Acc=0.8022\n",
      "Epoch 108: Train Loss=0.3963, Train Acc=0.8201, Val Loss=0.4345, Val Acc=0.8003\n",
      "Epoch 109: Train Loss=0.3964, Train Acc=0.8200, Val Loss=0.4319, Val Acc=0.8020\n",
      "Epoch 110: Train Loss=0.3962, Train Acc=0.8207, Val Loss=0.4316, Val Acc=0.8010\n",
      "Epoch 111: Train Loss=0.3959, Train Acc=0.8213, Val Loss=0.4318, Val Acc=0.8013\n",
      "Epoch 112: Train Loss=0.3963, Train Acc=0.8204, Val Loss=0.4315, Val Acc=0.8014\n",
      "Epoch 113: Train Loss=0.3958, Train Acc=0.8213, Val Loss=0.4312, Val Acc=0.8014\n",
      "Epoch 114: Train Loss=0.3958, Train Acc=0.8216, Val Loss=0.4308, Val Acc=0.8032\n",
      "Epoch 115: Train Loss=0.3957, Train Acc=0.8215, Val Loss=0.4319, Val Acc=0.8025\n",
      "Epoch 116: Train Loss=0.3956, Train Acc=0.8209, Val Loss=0.4315, Val Acc=0.8015\n",
      "Epoch 117: Train Loss=0.3957, Train Acc=0.8215, Val Loss=0.4309, Val Acc=0.8010\n",
      "Epoch 118: Train Loss=0.3955, Train Acc=0.8214, Val Loss=0.4318, Val Acc=0.8016\n",
      "Epoch 119: Train Loss=0.3955, Train Acc=0.8215, Val Loss=0.4301, Val Acc=0.8032\n",
      "Epoch 120: Train Loss=0.3955, Train Acc=0.8215, Val Loss=0.4302, Val Acc=0.8036\n",
      "Epoch 121: Train Loss=0.3950, Train Acc=0.8220, Val Loss=0.4316, Val Acc=0.8020\n",
      "Epoch 122: Train Loss=0.3951, Train Acc=0.8217, Val Loss=0.4329, Val Acc=0.8034\n",
      "Epoch 123: Train Loss=0.3953, Train Acc=0.8218, Val Loss=0.4305, Val Acc=0.8042\n",
      "Epoch 124: Train Loss=0.3951, Train Acc=0.8221, Val Loss=0.4311, Val Acc=0.8034\n",
      "Epoch 125: Train Loss=0.3950, Train Acc=0.8221, Val Loss=0.4311, Val Acc=0.8036\n",
      "Epoch 126: Train Loss=0.3951, Train Acc=0.8221, Val Loss=0.4306, Val Acc=0.8038\n",
      "Epoch 127: Train Loss=0.3947, Train Acc=0.8229, Val Loss=0.4298, Val Acc=0.8040\n",
      "Epoch 128: Train Loss=0.3946, Train Acc=0.8223, Val Loss=0.4301, Val Acc=0.8050\n",
      "Epoch 129: Train Loss=0.3949, Train Acc=0.8219, Val Loss=0.4305, Val Acc=0.8039\n",
      "Epoch 130: Train Loss=0.3948, Train Acc=0.8219, Val Loss=0.4292, Val Acc=0.8045\n",
      "Epoch 131: Train Loss=0.3942, Train Acc=0.8230, Val Loss=0.4294, Val Acc=0.8047\n",
      "Epoch 132: Train Loss=0.3943, Train Acc=0.8224, Val Loss=0.4296, Val Acc=0.8047\n",
      "Epoch 133: Train Loss=0.3946, Train Acc=0.8219, Val Loss=0.4287, Val Acc=0.8062\n",
      "Epoch 134: Train Loss=0.3942, Train Acc=0.8222, Val Loss=0.4286, Val Acc=0.8046\n",
      "Epoch 135: Train Loss=0.3939, Train Acc=0.8222, Val Loss=0.4289, Val Acc=0.8051\n",
      "Epoch 136: Train Loss=0.3942, Train Acc=0.8224, Val Loss=0.4325, Val Acc=0.8039\n",
      "Epoch 137: Train Loss=0.3936, Train Acc=0.8232, Val Loss=0.4279, Val Acc=0.8045\n",
      "Epoch 138: Train Loss=0.3937, Train Acc=0.8225, Val Loss=0.4298, Val Acc=0.8049\n",
      "Epoch 139: Train Loss=0.3937, Train Acc=0.8221, Val Loss=0.4273, Val Acc=0.8058\n",
      "Epoch 140: Train Loss=0.3932, Train Acc=0.8228, Val Loss=0.4273, Val Acc=0.8051\n",
      "Epoch 141: Train Loss=0.3932, Train Acc=0.8226, Val Loss=0.4283, Val Acc=0.8066\n",
      "Epoch 142: Train Loss=0.3934, Train Acc=0.8224, Val Loss=0.4273, Val Acc=0.8080\n",
      "Epoch 143: Train Loss=0.3932, Train Acc=0.8226, Val Loss=0.4277, Val Acc=0.8066\n",
      "Epoch 144: Train Loss=0.3929, Train Acc=0.8233, Val Loss=0.4312, Val Acc=0.8049\n",
      "Epoch 145: Train Loss=0.3927, Train Acc=0.8233, Val Loss=0.4278, Val Acc=0.8070\n",
      "Epoch 146: Train Loss=0.3926, Train Acc=0.8231, Val Loss=0.4277, Val Acc=0.8065\n",
      "Epoch 147: Train Loss=0.3927, Train Acc=0.8235, Val Loss=0.4266, Val Acc=0.8052\n",
      "Epoch 148: Train Loss=0.3927, Train Acc=0.8238, Val Loss=0.4264, Val Acc=0.8066\n",
      "Epoch 149: Train Loss=0.3925, Train Acc=0.8233, Val Loss=0.4292, Val Acc=0.8052\n",
      "Epoch 150: Train Loss=0.3924, Train Acc=0.8229, Val Loss=0.4261, Val Acc=0.8062\n",
      "Epoch 151: Train Loss=0.3924, Train Acc=0.8236, Val Loss=0.4288, Val Acc=0.8045\n",
      "Epoch 152: Train Loss=0.3923, Train Acc=0.8240, Val Loss=0.4256, Val Acc=0.8065\n",
      "Epoch 153: Train Loss=0.3918, Train Acc=0.8238, Val Loss=0.4263, Val Acc=0.8060\n",
      "Epoch 154: Train Loss=0.3922, Train Acc=0.8236, Val Loss=0.4260, Val Acc=0.8052\n",
      "Epoch 155: Train Loss=0.3919, Train Acc=0.8228, Val Loss=0.4275, Val Acc=0.8043\n",
      "Epoch 156: Train Loss=0.3918, Train Acc=0.8229, Val Loss=0.4278, Val Acc=0.8059\n",
      "Epoch 157: Train Loss=0.3922, Train Acc=0.8229, Val Loss=0.4264, Val Acc=0.8070\n",
      "Epoch 158: Train Loss=0.3920, Train Acc=0.8241, Val Loss=0.4258, Val Acc=0.8081\n",
      "Epoch 159: Train Loss=0.3917, Train Acc=0.8231, Val Loss=0.4253, Val Acc=0.8059\n",
      "Epoch 160: Train Loss=0.3917, Train Acc=0.8245, Val Loss=0.4252, Val Acc=0.8064\n",
      "Epoch 161: Train Loss=0.3915, Train Acc=0.8240, Val Loss=0.4244, Val Acc=0.8072\n",
      "Epoch 162: Train Loss=0.3915, Train Acc=0.8234, Val Loss=0.4242, Val Acc=0.8073\n",
      "Epoch 163: Train Loss=0.3915, Train Acc=0.8246, Val Loss=0.4259, Val Acc=0.8070\n",
      "Epoch 164: Train Loss=0.3912, Train Acc=0.8246, Val Loss=0.4240, Val Acc=0.8072\n",
      "Epoch 165: Train Loss=0.3913, Train Acc=0.8241, Val Loss=0.4238, Val Acc=0.8081\n",
      "Epoch 166: Train Loss=0.3913, Train Acc=0.8242, Val Loss=0.4246, Val Acc=0.8077\n",
      "Epoch 167: Train Loss=0.3910, Train Acc=0.8238, Val Loss=0.4244, Val Acc=0.8068\n",
      "Epoch 168: Train Loss=0.3908, Train Acc=0.8239, Val Loss=0.4256, Val Acc=0.8046\n",
      "Epoch 169: Train Loss=0.3908, Train Acc=0.8244, Val Loss=0.4246, Val Acc=0.8069\n",
      "Epoch 170: Train Loss=0.3906, Train Acc=0.8242, Val Loss=0.4231, Val Acc=0.8069\n",
      "Epoch 171: Train Loss=0.3906, Train Acc=0.8238, Val Loss=0.4240, Val Acc=0.8062\n",
      "Epoch 172: Train Loss=0.3906, Train Acc=0.8238, Val Loss=0.4235, Val Acc=0.8061\n",
      "Epoch 173: Train Loss=0.3904, Train Acc=0.8244, Val Loss=0.4226, Val Acc=0.8090\n",
      "Epoch 174: Train Loss=0.3904, Train Acc=0.8243, Val Loss=0.4236, Val Acc=0.8058\n",
      "Epoch 175: Train Loss=0.3900, Train Acc=0.8241, Val Loss=0.4224, Val Acc=0.8073\n",
      "Epoch 176: Train Loss=0.3901, Train Acc=0.8242, Val Loss=0.4225, Val Acc=0.8072\n",
      "Epoch 177: Train Loss=0.3898, Train Acc=0.8251, Val Loss=0.4227, Val Acc=0.8060\n",
      "Epoch 178: Train Loss=0.3900, Train Acc=0.8250, Val Loss=0.4233, Val Acc=0.8057\n",
      "Epoch 179: Train Loss=0.3899, Train Acc=0.8255, Val Loss=0.4234, Val Acc=0.8055\n",
      "Epoch 180: Train Loss=0.3900, Train Acc=0.8247, Val Loss=0.4236, Val Acc=0.8054\n",
      "Epoch 181: Train Loss=0.3899, Train Acc=0.8253, Val Loss=0.4235, Val Acc=0.8049\n",
      "Epoch 182: Train Loss=0.3899, Train Acc=0.8248, Val Loss=0.4213, Val Acc=0.8079\n",
      "Epoch 183: Train Loss=0.3895, Train Acc=0.8253, Val Loss=0.4215, Val Acc=0.8072\n",
      "Epoch 184: Train Loss=0.3897, Train Acc=0.8245, Val Loss=0.4239, Val Acc=0.8066\n",
      "Epoch 185: Train Loss=0.3893, Train Acc=0.8249, Val Loss=0.4219, Val Acc=0.8060\n",
      "Epoch 186: Train Loss=0.3893, Train Acc=0.8256, Val Loss=0.4218, Val Acc=0.8073\n",
      "Epoch 187: Train Loss=0.3893, Train Acc=0.8252, Val Loss=0.4228, Val Acc=0.8064\n",
      "Epoch 188: Train Loss=0.3891, Train Acc=0.8250, Val Loss=0.4207, Val Acc=0.8080\n",
      "Epoch 189: Train Loss=0.3887, Train Acc=0.8254, Val Loss=0.4218, Val Acc=0.8065\n",
      "Epoch 190: Train Loss=0.3892, Train Acc=0.8256, Val Loss=0.4223, Val Acc=0.8075\n",
      "Epoch 191: Train Loss=0.3889, Train Acc=0.8258, Val Loss=0.4224, Val Acc=0.8066\n",
      "Epoch 192: Train Loss=0.3888, Train Acc=0.8259, Val Loss=0.4218, Val Acc=0.8046\n",
      "Epoch 193: Train Loss=0.3886, Train Acc=0.8256, Val Loss=0.4227, Val Acc=0.8058\n",
      "Epoch 194: Train Loss=0.3886, Train Acc=0.8261, Val Loss=0.4209, Val Acc=0.8084\n",
      "Epoch 195: Train Loss=0.3884, Train Acc=0.8256, Val Loss=0.4202, Val Acc=0.8092\n",
      "Epoch 196: Train Loss=0.3884, Train Acc=0.8256, Val Loss=0.4212, Val Acc=0.8077\n",
      "Epoch 197: Train Loss=0.3885, Train Acc=0.8259, Val Loss=0.4207, Val Acc=0.8094\n",
      "Epoch 198: Train Loss=0.3882, Train Acc=0.8256, Val Loss=0.4204, Val Acc=0.8069\n",
      "Epoch 199: Train Loss=0.3883, Train Acc=0.8255, Val Loss=0.4214, Val Acc=0.8069\n",
      "Epoch 200: Train Loss=0.3880, Train Acc=0.8259, Val Loss=0.4213, Val Acc=0.8074\n",
      "Epoch 201: Train Loss=0.3880, Train Acc=0.8265, Val Loss=0.4264, Val Acc=0.8035\n",
      "Epoch 202: Train Loss=0.3879, Train Acc=0.8258, Val Loss=0.4211, Val Acc=0.8081\n",
      "Epoch 203: Train Loss=0.3874, Train Acc=0.8255, Val Loss=0.4199, Val Acc=0.8074\n",
      "Epoch 204: Train Loss=0.3878, Train Acc=0.8260, Val Loss=0.4203, Val Acc=0.8073\n",
      "Epoch 205: Train Loss=0.3877, Train Acc=0.8265, Val Loss=0.4195, Val Acc=0.8088\n",
      "Epoch 206: Train Loss=0.3879, Train Acc=0.8261, Val Loss=0.4216, Val Acc=0.8067\n",
      "Epoch 207: Train Loss=0.3877, Train Acc=0.8264, Val Loss=0.4216, Val Acc=0.8072\n",
      "Epoch 208: Train Loss=0.3874, Train Acc=0.8267, Val Loss=0.4245, Val Acc=0.8081\n",
      "Epoch 209: Train Loss=0.3871, Train Acc=0.8270, Val Loss=0.4189, Val Acc=0.8091\n",
      "Epoch 210: Train Loss=0.3872, Train Acc=0.8268, Val Loss=0.4204, Val Acc=0.8087\n",
      "Epoch 211: Train Loss=0.3870, Train Acc=0.8270, Val Loss=0.4203, Val Acc=0.8090\n",
      "Epoch 212: Train Loss=0.3870, Train Acc=0.8276, Val Loss=0.4210, Val Acc=0.8083\n",
      "Epoch 213: Train Loss=0.3870, Train Acc=0.8270, Val Loss=0.4209, Val Acc=0.8069\n",
      "Epoch 214: Train Loss=0.3868, Train Acc=0.8269, Val Loss=0.4190, Val Acc=0.8091\n",
      "Epoch 215: Train Loss=0.3868, Train Acc=0.8268, Val Loss=0.4208, Val Acc=0.8082\n",
      "Epoch 216: Train Loss=0.3871, Train Acc=0.8273, Val Loss=0.4187, Val Acc=0.8097\n",
      "Epoch 217: Train Loss=0.3866, Train Acc=0.8271, Val Loss=0.4191, Val Acc=0.8088\n",
      "Epoch 218: Train Loss=0.3866, Train Acc=0.8275, Val Loss=0.4199, Val Acc=0.8075\n",
      "Epoch 219: Train Loss=0.3864, Train Acc=0.8270, Val Loss=0.4196, Val Acc=0.8101\n",
      "Epoch 220: Train Loss=0.3863, Train Acc=0.8270, Val Loss=0.4196, Val Acc=0.8076\n",
      "Epoch 221: Train Loss=0.3863, Train Acc=0.8277, Val Loss=0.4193, Val Acc=0.8083\n",
      "Epoch 222: Train Loss=0.3866, Train Acc=0.8267, Val Loss=0.4197, Val Acc=0.8070\n",
      "Epoch 223: Train Loss=0.3859, Train Acc=0.8280, Val Loss=0.4201, Val Acc=0.8082\n",
      "Epoch 224: Train Loss=0.3861, Train Acc=0.8274, Val Loss=0.4196, Val Acc=0.8092\n",
      "Epoch 225: Train Loss=0.3858, Train Acc=0.8275, Val Loss=0.4213, Val Acc=0.8073\n",
      "Epoch 226: Train Loss=0.3860, Train Acc=0.8277, Val Loss=0.4214, Val Acc=0.8057\n",
      "Epoch 227: Train Loss=0.3854, Train Acc=0.8277, Val Loss=0.4198, Val Acc=0.8094\n",
      "Epoch 228: Train Loss=0.3854, Train Acc=0.8274, Val Loss=0.4193, Val Acc=0.8122\n",
      "Epoch 229: Train Loss=0.3858, Train Acc=0.8274, Val Loss=0.4194, Val Acc=0.8098\n",
      "Epoch 230: Train Loss=0.3851, Train Acc=0.8285, Val Loss=0.4189, Val Acc=0.8088\n",
      "Epoch 231: Train Loss=0.3852, Train Acc=0.8268, Val Loss=0.4183, Val Acc=0.8097\n",
      "Epoch 232: Train Loss=0.3851, Train Acc=0.8279, Val Loss=0.4195, Val Acc=0.8080\n",
      "Epoch 233: Train Loss=0.3849, Train Acc=0.8279, Val Loss=0.4185, Val Acc=0.8104\n",
      "Epoch 234: Train Loss=0.3853, Train Acc=0.8273, Val Loss=0.4205, Val Acc=0.8075\n",
      "Epoch 235: Train Loss=0.3849, Train Acc=0.8278, Val Loss=0.4219, Val Acc=0.8085\n",
      "Epoch 236: Train Loss=0.3849, Train Acc=0.8279, Val Loss=0.4178, Val Acc=0.8101\n",
      "Epoch 237: Train Loss=0.3848, Train Acc=0.8287, Val Loss=0.4199, Val Acc=0.8085\n",
      "Epoch 238: Train Loss=0.3844, Train Acc=0.8288, Val Loss=0.4203, Val Acc=0.8084\n",
      "Epoch 239: Train Loss=0.3846, Train Acc=0.8281, Val Loss=0.4162, Val Acc=0.8106\n",
      "Epoch 240: Train Loss=0.3845, Train Acc=0.8278, Val Loss=0.4201, Val Acc=0.8104\n",
      "Epoch 241: Train Loss=0.3840, Train Acc=0.8285, Val Loss=0.4197, Val Acc=0.8099\n",
      "Epoch 242: Train Loss=0.3840, Train Acc=0.8282, Val Loss=0.4235, Val Acc=0.8054\n",
      "Epoch 243: Train Loss=0.3840, Train Acc=0.8282, Val Loss=0.4208, Val Acc=0.8077\n",
      "Epoch 244: Train Loss=0.3838, Train Acc=0.8283, Val Loss=0.4200, Val Acc=0.8083\n",
      "Epoch 245: Train Loss=0.3839, Train Acc=0.8282, Val Loss=0.4163, Val Acc=0.8122\n",
      "Epoch 246: Train Loss=0.3835, Train Acc=0.8284, Val Loss=0.4200, Val Acc=0.8064\n",
      "Epoch 247: Train Loss=0.3834, Train Acc=0.8282, Val Loss=0.4266, Val Acc=0.8036\n",
      "Epoch 248: Train Loss=0.3832, Train Acc=0.8284, Val Loss=0.4154, Val Acc=0.8120\n",
      "Epoch 249: Train Loss=0.3831, Train Acc=0.8282, Val Loss=0.4179, Val Acc=0.8095\n",
      "Epoch 250: Train Loss=0.3831, Train Acc=0.8282, Val Loss=0.4249, Val Acc=0.8040\n",
      "Epoch 251: Train Loss=0.3832, Train Acc=0.8291, Val Loss=0.4233, Val Acc=0.8065\n",
      "Epoch 252: Train Loss=0.3830, Train Acc=0.8284, Val Loss=0.4163, Val Acc=0.8131\n",
      "Epoch 253: Train Loss=0.3830, Train Acc=0.8286, Val Loss=0.4165, Val Acc=0.8117\n",
      "Epoch 254: Train Loss=0.3828, Train Acc=0.8280, Val Loss=0.4174, Val Acc=0.8104\n",
      "Epoch 255: Train Loss=0.3826, Train Acc=0.8281, Val Loss=0.4186, Val Acc=0.8097\n",
      "Epoch 256: Train Loss=0.3827, Train Acc=0.8280, Val Loss=0.4193, Val Acc=0.8099\n",
      "Epoch 257: Train Loss=0.3829, Train Acc=0.8284, Val Loss=0.4145, Val Acc=0.8137\n",
      "Epoch 258: Train Loss=0.3824, Train Acc=0.8283, Val Loss=0.4170, Val Acc=0.8129\n",
      "Epoch 259: Train Loss=0.3824, Train Acc=0.8285, Val Loss=0.4302, Val Acc=0.8016\n",
      "Epoch 260: Train Loss=0.3821, Train Acc=0.8284, Val Loss=0.4161, Val Acc=0.8124\n",
      "Epoch 261: Train Loss=0.3823, Train Acc=0.8286, Val Loss=0.4172, Val Acc=0.8119\n",
      "Epoch 262: Train Loss=0.3818, Train Acc=0.8284, Val Loss=0.4179, Val Acc=0.8116\n",
      "Epoch 263: Train Loss=0.3820, Train Acc=0.8289, Val Loss=0.4147, Val Acc=0.8137\n",
      "Epoch 264: Train Loss=0.3814, Train Acc=0.8290, Val Loss=0.4180, Val Acc=0.8104\n",
      "Epoch 265: Train Loss=0.3813, Train Acc=0.8293, Val Loss=0.4152, Val Acc=0.8139\n",
      "Epoch 266: Train Loss=0.3816, Train Acc=0.8295, Val Loss=0.4138, Val Acc=0.8125\n",
      "Epoch 267: Train Loss=0.3814, Train Acc=0.8290, Val Loss=0.4141, Val Acc=0.8137\n",
      "Epoch 268: Train Loss=0.3809, Train Acc=0.8296, Val Loss=0.4150, Val Acc=0.8126\n",
      "Epoch 269: Train Loss=0.3814, Train Acc=0.8287, Val Loss=0.4267, Val Acc=0.8016\n",
      "Epoch 270: Train Loss=0.3809, Train Acc=0.8298, Val Loss=0.4171, Val Acc=0.8116\n",
      "Epoch 271: Train Loss=0.3808, Train Acc=0.8296, Val Loss=0.4150, Val Acc=0.8143\n",
      "Epoch 272: Train Loss=0.3809, Train Acc=0.8294, Val Loss=0.4189, Val Acc=0.8095\n",
      "Epoch 273: Train Loss=0.3807, Train Acc=0.8286, Val Loss=0.4150, Val Acc=0.8136\n",
      "Epoch 274: Train Loss=0.3805, Train Acc=0.8293, Val Loss=0.4147, Val Acc=0.8135\n",
      "Epoch 275: Train Loss=0.3803, Train Acc=0.8294, Val Loss=0.4206, Val Acc=0.8079\n",
      "Epoch 276: Train Loss=0.3805, Train Acc=0.8290, Val Loss=0.4197, Val Acc=0.8098\n",
      "Epoch 277: Train Loss=0.3800, Train Acc=0.8296, Val Loss=0.4167, Val Acc=0.8114\n",
      "Epoch 278: Train Loss=0.3804, Train Acc=0.8292, Val Loss=0.4155, Val Acc=0.8121\n",
      "Epoch 279: Train Loss=0.3803, Train Acc=0.8296, Val Loss=0.4136, Val Acc=0.8146\n",
      "Epoch 280: Train Loss=0.3802, Train Acc=0.8289, Val Loss=0.4134, Val Acc=0.8143\n",
      "Epoch 281: Train Loss=0.3802, Train Acc=0.8294, Val Loss=0.4139, Val Acc=0.8140\n",
      "Epoch 282: Train Loss=0.3799, Train Acc=0.8294, Val Loss=0.4132, Val Acc=0.8132\n",
      "Epoch 283: Train Loss=0.3795, Train Acc=0.8293, Val Loss=0.4208, Val Acc=0.8069\n",
      "Epoch 284: Train Loss=0.3798, Train Acc=0.8298, Val Loss=0.4134, Val Acc=0.8132\n",
      "Epoch 285: Train Loss=0.3799, Train Acc=0.8292, Val Loss=0.4161, Val Acc=0.8120\n",
      "Epoch 286: Train Loss=0.3795, Train Acc=0.8297, Val Loss=0.4148, Val Acc=0.8126\n",
      "Epoch 287: Train Loss=0.3795, Train Acc=0.8302, Val Loss=0.4193, Val Acc=0.8088\n",
      "Epoch 288: Train Loss=0.3793, Train Acc=0.8301, Val Loss=0.4197, Val Acc=0.8097\n",
      "Epoch 289: Train Loss=0.3795, Train Acc=0.8291, Val Loss=0.4143, Val Acc=0.8128\n",
      "Epoch 290: Train Loss=0.3791, Train Acc=0.8297, Val Loss=0.4130, Val Acc=0.8148\n",
      "Epoch 291: Train Loss=0.3791, Train Acc=0.8295, Val Loss=0.4136, Val Acc=0.8134\n",
      "Epoch 292: Train Loss=0.3791, Train Acc=0.8299, Val Loss=0.4244, Val Acc=0.8057\n",
      "Epoch 293: Train Loss=0.3789, Train Acc=0.8295, Val Loss=0.4137, Val Acc=0.8147\n",
      "Epoch 294: Train Loss=0.3786, Train Acc=0.8301, Val Loss=0.4156, Val Acc=0.8119\n",
      "Epoch 295: Train Loss=0.3787, Train Acc=0.8299, Val Loss=0.4124, Val Acc=0.8150\n",
      "Epoch 296: Train Loss=0.3786, Train Acc=0.8302, Val Loss=0.4150, Val Acc=0.8122\n",
      "Epoch 297: Train Loss=0.3783, Train Acc=0.8309, Val Loss=0.4140, Val Acc=0.8132\n",
      "Epoch 298: Train Loss=0.3783, Train Acc=0.8299, Val Loss=0.4240, Val Acc=0.8064\n",
      "Epoch 299: Train Loss=0.3787, Train Acc=0.8302, Val Loss=0.4195, Val Acc=0.8081\n",
      "Epoch 300: Train Loss=0.3782, Train Acc=0.8297, Val Loss=0.4210, Val Acc=0.8083\n",
      "Epoch 301: Train Loss=0.3779, Train Acc=0.8298, Val Loss=0.4181, Val Acc=0.8103\n",
      "Epoch 302: Train Loss=0.3783, Train Acc=0.8301, Val Loss=0.4163, Val Acc=0.8110\n",
      "Epoch 303: Train Loss=0.3781, Train Acc=0.8305, Val Loss=0.4148, Val Acc=0.8146\n",
      "Epoch 304: Train Loss=0.3780, Train Acc=0.8300, Val Loss=0.4121, Val Acc=0.8149\n",
      "Epoch 305: Train Loss=0.3779, Train Acc=0.8302, Val Loss=0.4152, Val Acc=0.8120\n",
      "Epoch 306: Train Loss=0.3780, Train Acc=0.8295, Val Loss=0.4259, Val Acc=0.8054\n",
      "Epoch 307: Train Loss=0.3778, Train Acc=0.8297, Val Loss=0.4186, Val Acc=0.8107\n",
      "Epoch 308: Train Loss=0.3774, Train Acc=0.8304, Val Loss=0.4134, Val Acc=0.8125\n",
      "Epoch 309: Train Loss=0.3773, Train Acc=0.8300, Val Loss=0.4216, Val Acc=0.8074\n",
      "Epoch 310: Train Loss=0.3771, Train Acc=0.8306, Val Loss=0.4158, Val Acc=0.8114\n",
      "Epoch 311: Train Loss=0.3771, Train Acc=0.8301, Val Loss=0.4123, Val Acc=0.8153\n",
      "Epoch 312: Train Loss=0.3773, Train Acc=0.8304, Val Loss=0.4160, Val Acc=0.8149\n",
      "Epoch 313: Train Loss=0.3770, Train Acc=0.8309, Val Loss=0.4126, Val Acc=0.8131\n",
      "Epoch 314: Train Loss=0.3770, Train Acc=0.8306, Val Loss=0.4224, Val Acc=0.8044\n",
      "Epoch 315: Train Loss=0.3771, Train Acc=0.8299, Val Loss=0.4163, Val Acc=0.8096\n",
      "Epoch 316: Train Loss=0.3766, Train Acc=0.8311, Val Loss=0.4172, Val Acc=0.8089\n",
      "Epoch 317: Train Loss=0.3768, Train Acc=0.8305, Val Loss=0.4144, Val Acc=0.8119\n",
      "Epoch 318: Train Loss=0.3767, Train Acc=0.8306, Val Loss=0.4138, Val Acc=0.8116\n",
      "Epoch 319: Train Loss=0.3765, Train Acc=0.8306, Val Loss=0.4134, Val Acc=0.8112\n",
      "Epoch 320: Train Loss=0.3762, Train Acc=0.8310, Val Loss=0.4192, Val Acc=0.8073\n",
      "Epoch 321: Train Loss=0.3765, Train Acc=0.8313, Val Loss=0.4147, Val Acc=0.8111\n",
      "Epoch 322: Train Loss=0.3763, Train Acc=0.8318, Val Loss=0.4127, Val Acc=0.8107\n",
      "Epoch 323: Train Loss=0.3766, Train Acc=0.8309, Val Loss=0.4248, Val Acc=0.8066\n",
      "Epoch 324: Train Loss=0.3764, Train Acc=0.8316, Val Loss=0.4141, Val Acc=0.8128\n",
      "Epoch 325: Train Loss=0.3762, Train Acc=0.8308, Val Loss=0.4225, Val Acc=0.8058\n",
      "Epoch 326: Train Loss=0.3757, Train Acc=0.8311, Val Loss=0.4203, Val Acc=0.8050\n",
      "Epoch 327: Train Loss=0.3760, Train Acc=0.8311, Val Loss=0.4246, Val Acc=0.8042\n",
      "Epoch 328: Train Loss=0.3762, Train Acc=0.8308, Val Loss=0.4255, Val Acc=0.8055\n",
      "Epoch 329: Train Loss=0.3760, Train Acc=0.8314, Val Loss=0.4106, Val Acc=0.8125\n",
      "Epoch 330: Train Loss=0.3758, Train Acc=0.8314, Val Loss=0.4172, Val Acc=0.8085\n",
      "Epoch 331: Train Loss=0.3754, Train Acc=0.8319, Val Loss=0.4152, Val Acc=0.8109\n",
      "Epoch 332: Train Loss=0.3755, Train Acc=0.8318, Val Loss=0.4165, Val Acc=0.8114\n",
      "Epoch 333: Train Loss=0.3754, Train Acc=0.8320, Val Loss=0.4197, Val Acc=0.8073\n",
      "Epoch 334: Train Loss=0.3753, Train Acc=0.8320, Val Loss=0.4139, Val Acc=0.8119\n",
      "Epoch 335: Train Loss=0.3754, Train Acc=0.8321, Val Loss=0.4319, Val Acc=0.8034\n",
      "Epoch 336: Train Loss=0.3755, Train Acc=0.8311, Val Loss=0.4123, Val Acc=0.8107\n",
      "Epoch 337: Train Loss=0.3752, Train Acc=0.8316, Val Loss=0.4176, Val Acc=0.8068\n",
      "Epoch 338: Train Loss=0.3753, Train Acc=0.8317, Val Loss=0.4100, Val Acc=0.8127\n",
      "Epoch 339: Train Loss=0.3753, Train Acc=0.8318, Val Loss=0.4267, Val Acc=0.8051\n",
      "Epoch 340: Train Loss=0.3751, Train Acc=0.8318, Val Loss=0.4263, Val Acc=0.8013\n",
      "Epoch 341: Train Loss=0.3754, Train Acc=0.8317, Val Loss=0.4154, Val Acc=0.8096\n",
      "Epoch 342: Train Loss=0.3750, Train Acc=0.8321, Val Loss=0.4278, Val Acc=0.8015\n",
      "Epoch 343: Train Loss=0.3750, Train Acc=0.8318, Val Loss=0.4107, Val Acc=0.8136\n",
      "Epoch 344: Train Loss=0.3747, Train Acc=0.8318, Val Loss=0.4199, Val Acc=0.8052\n",
      "Epoch 345: Train Loss=0.3748, Train Acc=0.8322, Val Loss=0.4131, Val Acc=0.8099\n",
      "Epoch 346: Train Loss=0.3753, Train Acc=0.8316, Val Loss=0.4268, Val Acc=0.8039\n",
      "Epoch 347: Train Loss=0.3748, Train Acc=0.8320, Val Loss=0.4151, Val Acc=0.8112\n",
      "Epoch 348: Train Loss=0.3744, Train Acc=0.8318, Val Loss=0.4252, Val Acc=0.8061\n",
      "Epoch 349: Train Loss=0.3748, Train Acc=0.8321, Val Loss=0.4190, Val Acc=0.8087\n",
      "Epoch 350: Train Loss=0.3743, Train Acc=0.8321, Val Loss=0.4163, Val Acc=0.8102\n",
      "Epoch 351: Train Loss=0.3745, Train Acc=0.8317, Val Loss=0.4178, Val Acc=0.8089\n",
      "Epoch 352: Train Loss=0.3742, Train Acc=0.8313, Val Loss=0.4230, Val Acc=0.8052\n",
      "Epoch 353: Train Loss=0.3744, Train Acc=0.8320, Val Loss=0.4160, Val Acc=0.8097\n",
      "Epoch 354: Train Loss=0.3744, Train Acc=0.8322, Val Loss=0.4366, Val Acc=0.8008\n",
      "Epoch 355: Train Loss=0.3742, Train Acc=0.8328, Val Loss=0.4132, Val Acc=0.8121\n",
      "Epoch 356: Train Loss=0.3746, Train Acc=0.8322, Val Loss=0.4216, Val Acc=0.8057\n",
      "Epoch 357: Train Loss=0.3746, Train Acc=0.8313, Val Loss=0.4603, Val Acc=0.7887\n",
      "Epoch 358: Train Loss=0.3746, Train Acc=0.8314, Val Loss=0.4157, Val Acc=0.8069\n",
      "Epoch 359: Train Loss=0.3743, Train Acc=0.8322, Val Loss=0.4112, Val Acc=0.8126\n",
      "Epoch 360: Train Loss=0.3741, Train Acc=0.8317, Val Loss=0.4160, Val Acc=0.8096\n",
      "Epoch 361: Train Loss=0.3746, Train Acc=0.8318, Val Loss=0.4188, Val Acc=0.8079\n",
      "Epoch 362: Train Loss=0.3739, Train Acc=0.8322, Val Loss=0.4135, Val Acc=0.8124\n",
      "Epoch 363: Train Loss=0.3739, Train Acc=0.8315, Val Loss=0.4247, Val Acc=0.8053\n",
      "Epoch 364: Train Loss=0.3741, Train Acc=0.8317, Val Loss=0.4175, Val Acc=0.8054\n",
      "Epoch 365: Train Loss=0.3743, Train Acc=0.8317, Val Loss=0.4187, Val Acc=0.8101\n",
      "Epoch 366: Train Loss=0.3740, Train Acc=0.8322, Val Loss=0.4166, Val Acc=0.8089\n",
      "Epoch 367: Train Loss=0.3739, Train Acc=0.8315, Val Loss=0.4094, Val Acc=0.8128\n",
      "Epoch 368: Train Loss=0.3739, Train Acc=0.8316, Val Loss=0.4184, Val Acc=0.8096\n",
      "Epoch 369: Train Loss=0.3740, Train Acc=0.8312, Val Loss=0.4134, Val Acc=0.8106\n",
      "Epoch 370: Train Loss=0.3741, Train Acc=0.8317, Val Loss=0.4937, Val Acc=0.7710\n",
      "Epoch 371: Train Loss=0.3741, Train Acc=0.8316, Val Loss=0.4108, Val Acc=0.8151\n",
      "Epoch 372: Train Loss=0.3738, Train Acc=0.8325, Val Loss=0.4136, Val Acc=0.8107\n",
      "Epoch 373: Train Loss=0.3734, Train Acc=0.8324, Val Loss=0.4271, Val Acc=0.8017\n",
      "Epoch 374: Train Loss=0.3737, Train Acc=0.8327, Val Loss=0.4247, Val Acc=0.8068\n",
      "Epoch 375: Train Loss=0.3736, Train Acc=0.8321, Val Loss=0.4089, Val Acc=0.8143\n",
      "Epoch 376: Train Loss=0.3736, Train Acc=0.8321, Val Loss=0.4101, Val Acc=0.8142\n",
      "Epoch 377: Train Loss=0.3733, Train Acc=0.8328, Val Loss=0.4844, Val Acc=0.7753\n",
      "Epoch 378: Train Loss=0.3734, Train Acc=0.8323, Val Loss=0.4108, Val Acc=0.8129\n",
      "Epoch 379: Train Loss=0.3730, Train Acc=0.8331, Val Loss=0.4081, Val Acc=0.8148\n",
      "Epoch 380: Train Loss=0.3732, Train Acc=0.8326, Val Loss=0.4261, Val Acc=0.8027\n",
      "Epoch 381: Train Loss=0.3737, Train Acc=0.8322, Val Loss=0.4153, Val Acc=0.8099\n",
      "Epoch 382: Train Loss=0.3737, Train Acc=0.8321, Val Loss=0.4106, Val Acc=0.8116\n",
      "Epoch 383: Train Loss=0.3734, Train Acc=0.8319, Val Loss=0.4259, Val Acc=0.8028\n",
      "Epoch 384: Train Loss=0.3735, Train Acc=0.8322, Val Loss=0.4151, Val Acc=0.8107\n",
      "Epoch 385: Train Loss=0.3733, Train Acc=0.8324, Val Loss=0.4167, Val Acc=0.8097\n",
      "Epoch 386: Train Loss=0.3732, Train Acc=0.8323, Val Loss=0.4065, Val Acc=0.8141\n",
      "Epoch 387: Train Loss=0.3731, Train Acc=0.8321, Val Loss=0.4145, Val Acc=0.8101\n",
      "Epoch 388: Train Loss=0.3732, Train Acc=0.8328, Val Loss=0.4108, Val Acc=0.8118\n",
      "Epoch 389: Train Loss=0.3733, Train Acc=0.8328, Val Loss=0.4149, Val Acc=0.8095\n",
      "Epoch 390: Train Loss=0.3728, Train Acc=0.8333, Val Loss=0.4309, Val Acc=0.8007\n",
      "Epoch 391: Train Loss=0.3732, Train Acc=0.8328, Val Loss=0.4173, Val Acc=0.8077\n",
      "Epoch 392: Train Loss=0.3730, Train Acc=0.8325, Val Loss=0.4247, Val Acc=0.8070\n",
      "Epoch 393: Train Loss=0.3734, Train Acc=0.8328, Val Loss=0.4182, Val Acc=0.8074\n",
      "Epoch 394: Train Loss=0.3733, Train Acc=0.8332, Val Loss=0.4227, Val Acc=0.8084\n",
      "Epoch 395: Train Loss=0.3733, Train Acc=0.8327, Val Loss=0.4154, Val Acc=0.8082\n",
      "Epoch 396: Train Loss=0.3729, Train Acc=0.8333, Val Loss=0.4268, Val Acc=0.8009\n",
      "Epoch 397: Train Loss=0.3730, Train Acc=0.8331, Val Loss=0.4099, Val Acc=0.8155\n",
      "Epoch 398: Train Loss=0.3730, Train Acc=0.8327, Val Loss=0.4230, Val Acc=0.8087\n",
      "Epoch 399: Train Loss=0.3725, Train Acc=0.8333, Val Loss=0.4123, Val Acc=0.8125\n",
      "Epoch 400: Train Loss=0.3729, Train Acc=0.8327, Val Loss=0.4121, Val Acc=0.8116\n",
      "Epoch 401: Train Loss=0.3725, Train Acc=0.8324, Val Loss=0.4092, Val Acc=0.8135\n",
      "Epoch 402: Train Loss=0.3730, Train Acc=0.8327, Val Loss=0.4139, Val Acc=0.8125\n",
      "Epoch 403: Train Loss=0.3729, Train Acc=0.8325, Val Loss=0.4164, Val Acc=0.8082\n",
      "Epoch 404: Train Loss=0.3729, Train Acc=0.8333, Val Loss=0.4115, Val Acc=0.8110\n",
      "Epoch 405: Train Loss=0.3727, Train Acc=0.8323, Val Loss=0.4089, Val Acc=0.8143\n",
      "Epoch 406: Train Loss=0.3727, Train Acc=0.8329, Val Loss=0.4080, Val Acc=0.8153\n",
      "Epoch 407: Train Loss=0.3734, Train Acc=0.8324, Val Loss=0.5090, Val Acc=0.7620\n",
      "Epoch 408: Train Loss=0.3731, Train Acc=0.8327, Val Loss=0.4292, Val Acc=0.8013\n",
      "Epoch 409: Train Loss=0.3727, Train Acc=0.8330, Val Loss=0.4110, Val Acc=0.8135\n",
      "Epoch 410: Train Loss=0.3730, Train Acc=0.8323, Val Loss=0.4294, Val Acc=0.8069\n",
      "Epoch 411: Train Loss=0.3730, Train Acc=0.8324, Val Loss=0.4372, Val Acc=0.8015\n",
      "Epoch 412: Train Loss=0.3725, Train Acc=0.8326, Val Loss=0.4138, Val Acc=0.8128\n",
      "Epoch 413: Train Loss=0.3727, Train Acc=0.8328, Val Loss=0.4108, Val Acc=0.8133\n",
      "Epoch 414: Train Loss=0.3727, Train Acc=0.8331, Val Loss=0.4091, Val Acc=0.8127\n",
      "Epoch 415: Train Loss=0.3727, Train Acc=0.8326, Val Loss=0.4168, Val Acc=0.8090\n",
      "Epoch 416: Train Loss=0.3728, Train Acc=0.8323, Val Loss=0.4142, Val Acc=0.8104\n",
      "Early stopping at epoch 416\n",
      "\n",
      "Best model saved at epoch 386 with Val Loss=0.4065 and Val Acc=0.8141 (Early Stopping Patience = 30)\n",
      "CPU times: user 4min 54s, sys: 1.32 s, total: 4min 55s\n",
      "Wall time: 4min 57s\n"
     ]
    }
   ],
   "source": [
    "%%time\n",
    "\n",
    "best_model_wts, CNN_1d_Best, train_losses, train_accuracies, val_losses, val_accuracies = train_model(cnn,\n",
    "                                                                                                      train_loader,\n",
    "                                                                                                      val_loader,\n",
    "                                                                                                      criterion,\n",
    "                                                                                                      optimizer,\n",
    "                                                                                                      num_epochs,\n",
    "                                                                                                      early_stopping_patience)"
   ]
  },
  {
   "cell_type": "code",
   "execution_count": 108,
   "metadata": {},
   "outputs": [],
   "source": [
    "torch.save(best_model_wts, '1d_CNN_Best.pth')"
   ]
  },
  {
   "cell_type": "code",
   "execution_count": 109,
   "metadata": {},
   "outputs": [],
   "source": [
    "CNN_1d_Best.load_state_dict(torch.load('1d_CNN_Best.pth'))"
   ]
  },
  {
   "cell_type": "code",
   "execution_count": 110,
   "metadata": {},
   "outputs": [
    {
     "data": {
      "image/png": "[encoded data removed]",
      "text/plain": [
       "<Figure size 1000x600 with 2 Axes>"
      ]
     },
     "metadata": {},
     "output_type": "display_data"
    }
   ],
   "source": [
    "epochs = list(range(1, len(train_losses) + 1))\n",
    "\n",
    "fig, ax1 = plt.subplots(figsize=(10, 6))\n",
    "color_loss = 'tab:red'\n",
    "ax1.set_xlabel('Epoch')\n",
    "ax1.set_ylabel('Loss', color=color_loss)\n",
    "ax1.plot(epochs, train_losses, label='Train Loss', color='red', linestyle='-')\n",
    "ax1.plot(epochs, val_losses, label='Val Loss', color='orange', linestyle='-')\n",
    "ax1.tick_params(axis='y', labelcolor=color_loss)\n",
    "ax1.legend(loc='upper left')\n",
    "\n",
    "ax2 = ax1.twinx()\n",
    "color_acc = 'tab:blue'\n",
    "ax2.set_ylabel('Accuracy', color=color_acc)\n",
    "ax2.plot(epochs, train_accuracies, label='Train Accuracy', color='blue', linestyle='--')\n",
    "ax2.plot(epochs, val_accuracies, label='Val Accuracy', color='cyan', linestyle='--')\n",
    "ax2.tick_params(axis='y', labelcolor=color_acc)\n",
    "ax2.legend(loc='upper right')\n",
    "\n",
    "plt.title('Training and Validation Loss & Accuracy')\n",
    "plt.show()"
   ]
  },
  {
   "cell_type": "code",
   "execution_count": 111,
   "metadata": {},
   "outputs": [],
   "source": [
    "def make_predictions_using_NN(model, data_loader):\n",
    "    model.eval()\n",
    "    all_preds = []\n",
    "    all_probs = []\n",
    "\n",
    "    with torch.no_grad():\n",
    "        for xb, labels in data_loader:\n",
    "            xb = xb.to(device)\n",
    "            logits = model(xb)\n",
    "\n",
    "            probs = torch.softmax(logits, dim=1)\n",
    "            preds = torch.argmax(logits, dim=1)\n",
    "            all_preds.append(preds.cpu())\n",
    "            all_probs.append(probs.cpu())\n",
    "\n",
    "    all_preds = torch.cat(all_preds)\n",
    "    all_probs = torch.cat(all_probs)\n",
    "    return all_preds, all_probs"
   ]
  },
  {
   "cell_type": "code",
   "execution_count": 112,
   "metadata": {},
   "outputs": [],
   "source": [
    "train_preds_1dCNN, train_probs_1dCNN = make_predictions_using_NN(CNN_1d_Best, train_loader)\n",
    "val_preds_1dCNN, val_probs_1dCNN = make_predictions_using_NN(CNN_1d_Best, val_loader)\n",
    "test_preds_1dCNN, test_probs_1dCNN = make_predictions_using_NN(CNN_1d_Best, test_loader)"
   ]
  },
  {
   "cell_type": "code",
   "execution_count": 113,
   "metadata": {},
   "outputs": [
    {
     "name": "stdout",
     "output_type": "stream",
     "text": [
      "Training performance for 1-d CNN\n",
      "              precision    recall  f1-score   support\n",
      "\n",
      "           0       0.81      0.85      0.83     23853\n",
      "           1       0.85      0.81      0.83     25190\n",
      "\n",
      "    accuracy                           0.83     49043\n",
      "   macro avg       0.83      0.83      0.83     49043\n",
      "weighted avg       0.83      0.83      0.83     49043\n",
      "\n"
     ]
    }
   ],
   "source": [
    "print(\"Training performance for 1-d CNN\")\n",
    "print(classification_report(Y_train, train_preds_1dCNN))"
   ]
  },
  {
   "cell_type": "code",
   "execution_count": 114,
   "metadata": {},
   "outputs": [
    {
     "name": "stdout",
     "output_type": "stream",
     "text": [
      "Val performance for 1-d CNN\n",
      "              precision    recall  f1-score   support\n",
      "\n",
      "           0       0.78      0.83      0.81      4097\n",
      "           1       0.84      0.79      0.81      4558\n",
      "\n",
      "    accuracy                           0.81      8655\n",
      "   macro avg       0.81      0.81      0.81      8655\n",
      "weighted avg       0.81      0.81      0.81      8655\n",
      "\n"
     ]
    }
   ],
   "source": [
    "print(\"Val performance for 1-d CNN\")\n",
    "print(classification_report(Y_val, val_preds_1dCNN))"
   ]
  },
  {
   "cell_type": "code",
   "execution_count": 115,
   "metadata": {},
   "outputs": [
    {
     "name": "stdout",
     "output_type": "stream",
     "text": [
      "Test performance for 1-d CNN\n",
      "              precision    recall  f1-score   support\n",
      "\n",
      "           0       0.80      0.84      0.82      7078\n",
      "           1       0.84      0.80      0.82      7347\n",
      "\n",
      "    accuracy                           0.82     14425\n",
      "   macro avg       0.82      0.82      0.82     14425\n",
      "weighted avg       0.82      0.82      0.82     14425\n",
      "\n"
     ]
    }
   ],
   "source": [
    "print(\"Test performance for 1-d CNN\")\n",
    "print(classification_report(Y_test, test_preds_1dCNN))"
   ]
  },
  {
   "cell_type": "code",
   "execution_count": 116,
   "metadata": {},
   "outputs": [
    {
     "data": {
      "image/png": "[encoded data removed]",
      "text/plain": [
       "<Figure size 600x600 with 1 Axes>"
      ]
     },
     "metadata": {},
     "output_type": "display_data"
    },
    {
     "name": "stdout",
     "output_type": "stream",
     "text": [
      "\n",
      "\n",
      "FOR TESTING SET: \n",
      "              precision    recall  f1-score   support\n",
      "\n",
      "           0       0.80      0.84      0.82      7078\n",
      "           1       0.84      0.80      0.82      7347\n",
      "\n",
      "    accuracy                           0.82     14425\n",
      "   macro avg       0.82      0.82      0.82     14425\n",
      "weighted avg       0.82      0.82      0.82     14425\n",
      "\n",
      "\n",
      "\n",
      "ROC AUC Score: 90.19%\n",
      "\n",
      "\n"
     ]
    },
    {
     "data": {
      "image/png": "[encoded data removed]",
      "text/plain": [
       "<Figure size 1000x600 with 1 Axes>"
      ]
     },
     "metadata": {},
     "output_type": "display_data"
    }
   ],
   "source": [
    "perform_deep_test_analysis(Y_test, test_preds_1dCNN, test_probs_1dCNN[:, 1], \"1d CNN\")"
   ]
  },
  {
   "cell_type": "markdown",
   "metadata": {
    "id": "5FaImBKEau9P"
   },
   "source": [
    "Not bad at all given that we used a 1-d CNN (with batchnorm, average pooling, LeakyRelu and Dropout). Lets see if reshaping the input embeddings into 2d (to mimic a greyscale image) and retrying a 2d CNN works better or not."
   ]
  },
  {
   "cell_type": "markdown",
   "metadata": {
    "id": "SxOKYmkPTMUm"
   },
   "source": [
    "## 4.4 2-d CNN"
   ]
  },
  {
   "cell_type": "code",
   "execution_count": 117,
   "metadata": {},
   "outputs": [
    {
     "data": {
      "text/plain": [
       "(384, 384)"
      ]
     },
     "execution_count": 117,
     "metadata": {},
     "output_type": "execute_result"
    }
   ],
   "source": [
    "input_dim, 16*24"
   ]
  },
  {
   "cell_type": "markdown",
   "metadata": {
    "id": "v0dob9brbM-f"
   },
   "source": [
    "Lets reshape input embeddings to 16*24 (total 384) so that it will mimic a greyscale image."
   ]
  },
  {
   "cell_type": "code",
   "execution_count": 119,
   "metadata": {},
   "outputs": [],
   "source": [
    "import torch\n",
    "import torch.nn as nn\n",
    "\n",
    "class VanillaCNN_2d(nn.Module):\n",
    "    def __init__(self, num_classes=2):\n",
    "        super(VanillaCNN_2d, self).__init__()\n",
    "\n",
    "        self.conv1 = nn.Conv2d(1, 3, kernel_size=(3,3), padding=1) # input: 1 channel * 16 height * 24 height\n",
    "        self.bn1 = nn.BatchNorm2d(3)\n",
    "        self.pool1 = nn.AvgPool2d(2)  # 1 * 16 * 24 -> 3 * 8 * 12\n",
    "\n",
    "        self.conv2 = nn.Conv2d(3, 6, kernel_size=(3,3), padding=1)\n",
    "        self.bn2 = nn.BatchNorm2d(6)\n",
    "        self.pool2 = nn.AvgPool2d(2)  # 3 * 8  * 12 -> 6 * 4 * 6\n",
    "\n",
    "        self.conv3 = nn.Conv2d(6, 8, kernel_size=(3,3), padding=1)\n",
    "        self.bn3 = nn.BatchNorm2d(8)\n",
    "        self.pool3 = nn.AvgPool2d(2)  # 6 * 4 * 6 -> 8 * 2 * 3\n",
    "\n",
    "        self.relu = nn.LeakyReLU()\n",
    "        self.dropout = nn.Dropout(0.001)\n",
    "\n",
    "        # flattening the 3d array (8 channels * 2 * 3 = 48 input neurons in fully connected layer)\n",
    "        self.fc = nn.Linear(8 * 2 * 3, num_classes)\n",
    "\n",
    "    def forward(self, x):\n",
    "        # Reshape 384 -> 1x16x24 (channel, height, width); this way, it mimics a greyscale image\n",
    "        x = x.view(-1, 1, 16, 24)\n",
    "        x = self.pool1(self.relu(self.bn1(self.conv1(x))))  # (B, 3, 8, 12)\n",
    "        x = self.pool2(self.relu(self.bn2(self.conv2(x))))  # (B, 6, 4, 6)\n",
    "        x = self.pool3(self.relu(self.bn3(self.conv3(x))))  # (B, 8, 2, 3)\n",
    "        x = x.view(x.size(0), -1)\n",
    "        x = self.dropout(x)\n",
    "        x = self.fc(x)\n",
    "        return x"
   ]
  },
  {
   "cell_type": "code",
   "execution_count": 120,
   "metadata": {},
   "outputs": [
    {
     "data": {
      "text/plain": [
       "torch.Size([1, 2])"
      ]
     },
     "execution_count": 120,
     "metadata": {},
     "output_type": "execute_result"
    }
   ],
   "source": [
    "cnn_2d = VanillaCNN_2d(num_classes).to(device)\n",
    "\n",
    "# Create a random input sample with 384 features\n",
    "single_input = torch.randn(384)\n",
    "single_input = single_input.unsqueeze(0).to(device)\n",
    "output = cnn_2d(single_input)\n",
    "output.shape"
   ]
  },
  {
   "cell_type": "markdown",
   "metadata": {
    "id": "mR1i4cXjeGPX"
   },
   "source": [
    "Perfect! The 2d cnn's forward pass is also proper. Lets train this model."
   ]
  },
  {
   "cell_type": "code",
   "execution_count": 121,
   "metadata": {},
   "outputs": [
    {
     "name": "stdout",
     "output_type": "stream",
     "text": [
      "Epoch 1: Train Loss=0.6413, Train Acc=0.6393, Val Loss=0.6653, Val Acc=0.6143\n",
      "Epoch 2: Train Loss=0.5937, Train Acc=0.6883, Val Loss=0.5874, Val Acc=0.6910\n",
      "Epoch 3: Train Loss=0.5630, Train Acc=0.7133, Val Loss=0.5680, Val Acc=0.7076\n",
      "Epoch 4: Train Loss=0.5425, Train Acc=0.7284, Val Loss=0.5573, Val Acc=0.7169\n",
      "Epoch 5: Train Loss=0.5280, Train Acc=0.7373, Val Loss=0.5474, Val Acc=0.7229\n",
      "Epoch 6: Train Loss=0.5171, Train Acc=0.7445, Val Loss=0.5375, Val Acc=0.7277\n",
      "Epoch 7: Train Loss=0.5085, Train Acc=0.7502, Val Loss=0.5252, Val Acc=0.7376\n",
      "Epoch 8: Train Loss=0.5015, Train Acc=0.7551, Val Loss=0.5175, Val Acc=0.7421\n",
      "Epoch 9: Train Loss=0.4954, Train Acc=0.7597, Val Loss=0.5107, Val Acc=0.7456\n",
      "Epoch 10: Train Loss=0.4903, Train Acc=0.7636, Val Loss=0.5060, Val Acc=0.7502\n",
      "Epoch 11: Train Loss=0.4857, Train Acc=0.7675, Val Loss=0.5008, Val Acc=0.7547\n",
      "Epoch 12: Train Loss=0.4817, Train Acc=0.7700, Val Loss=0.4963, Val Acc=0.7566\n",
      "Epoch 13: Train Loss=0.4779, Train Acc=0.7727, Val Loss=0.4933, Val Acc=0.7585\n",
      "Epoch 14: Train Loss=0.4741, Train Acc=0.7756, Val Loss=0.4907, Val Acc=0.7575\n",
      "Epoch 15: Train Loss=0.4711, Train Acc=0.7772, Val Loss=0.4883, Val Acc=0.7604\n",
      "Epoch 16: Train Loss=0.4681, Train Acc=0.7780, Val Loss=0.4861, Val Acc=0.7615\n",
      "Epoch 17: Train Loss=0.4654, Train Acc=0.7792, Val Loss=0.4840, Val Acc=0.7623\n",
      "Epoch 18: Train Loss=0.4629, Train Acc=0.7807, Val Loss=0.4827, Val Acc=0.7661\n",
      "Epoch 19: Train Loss=0.4604, Train Acc=0.7825, Val Loss=0.4812, Val Acc=0.7668\n",
      "Epoch 20: Train Loss=0.4580, Train Acc=0.7837, Val Loss=0.4793, Val Acc=0.7696\n",
      "Epoch 21: Train Loss=0.4561, Train Acc=0.7850, Val Loss=0.4773, Val Acc=0.7688\n",
      "Epoch 22: Train Loss=0.4538, Train Acc=0.7869, Val Loss=0.4757, Val Acc=0.7692\n",
      "Epoch 23: Train Loss=0.4519, Train Acc=0.7877, Val Loss=0.4742, Val Acc=0.7707\n",
      "Epoch 24: Train Loss=0.4503, Train Acc=0.7887, Val Loss=0.4732, Val Acc=0.7722\n",
      "Epoch 25: Train Loss=0.4486, Train Acc=0.7893, Val Loss=0.4722, Val Acc=0.7757\n",
      "Epoch 26: Train Loss=0.4473, Train Acc=0.7897, Val Loss=0.4716, Val Acc=0.7761\n",
      "Epoch 27: Train Loss=0.4459, Train Acc=0.7907, Val Loss=0.4703, Val Acc=0.7761\n",
      "Epoch 28: Train Loss=0.4446, Train Acc=0.7917, Val Loss=0.4691, Val Acc=0.7762\n",
      "Epoch 29: Train Loss=0.4436, Train Acc=0.7918, Val Loss=0.4682, Val Acc=0.7768\n",
      "Epoch 30: Train Loss=0.4426, Train Acc=0.7925, Val Loss=0.4676, Val Acc=0.7782\n",
      "Epoch 31: Train Loss=0.4414, Train Acc=0.7933, Val Loss=0.4671, Val Acc=0.7778\n",
      "Epoch 32: Train Loss=0.4408, Train Acc=0.7930, Val Loss=0.4661, Val Acc=0.7780\n",
      "Epoch 33: Train Loss=0.4394, Train Acc=0.7938, Val Loss=0.4653, Val Acc=0.7794\n",
      "Epoch 34: Train Loss=0.4385, Train Acc=0.7951, Val Loss=0.4651, Val Acc=0.7789\n",
      "Epoch 35: Train Loss=0.4378, Train Acc=0.7947, Val Loss=0.4644, Val Acc=0.7800\n",
      "Epoch 36: Train Loss=0.4369, Train Acc=0.7951, Val Loss=0.4643, Val Acc=0.7807\n",
      "Epoch 37: Train Loss=0.4361, Train Acc=0.7952, Val Loss=0.4643, Val Acc=0.7807\n",
      "Epoch 38: Train Loss=0.4354, Train Acc=0.7966, Val Loss=0.4637, Val Acc=0.7817\n",
      "Epoch 39: Train Loss=0.4347, Train Acc=0.7970, Val Loss=0.4632, Val Acc=0.7826\n",
      "Epoch 40: Train Loss=0.4344, Train Acc=0.7970, Val Loss=0.4631, Val Acc=0.7815\n",
      "Epoch 41: Train Loss=0.4336, Train Acc=0.7969, Val Loss=0.4626, Val Acc=0.7811\n",
      "Epoch 42: Train Loss=0.4330, Train Acc=0.7973, Val Loss=0.4628, Val Acc=0.7798\n",
      "Epoch 43: Train Loss=0.4322, Train Acc=0.7980, Val Loss=0.4622, Val Acc=0.7813\n",
      "Epoch 44: Train Loss=0.4312, Train Acc=0.7989, Val Loss=0.4628, Val Acc=0.7814\n",
      "Epoch 45: Train Loss=0.4309, Train Acc=0.7994, Val Loss=0.4624, Val Acc=0.7799\n",
      "Epoch 46: Train Loss=0.4303, Train Acc=0.8000, Val Loss=0.4618, Val Acc=0.7806\n",
      "Epoch 47: Train Loss=0.4297, Train Acc=0.7997, Val Loss=0.4612, Val Acc=0.7827\n",
      "Epoch 48: Train Loss=0.4290, Train Acc=0.8005, Val Loss=0.4617, Val Acc=0.7820\n",
      "Epoch 49: Train Loss=0.4286, Train Acc=0.8000, Val Loss=0.4601, Val Acc=0.7830\n",
      "Epoch 50: Train Loss=0.4283, Train Acc=0.7999, Val Loss=0.4598, Val Acc=0.7824\n",
      "Epoch 51: Train Loss=0.4275, Train Acc=0.8006, Val Loss=0.4592, Val Acc=0.7821\n",
      "Epoch 52: Train Loss=0.4271, Train Acc=0.8013, Val Loss=0.4594, Val Acc=0.7828\n",
      "Epoch 53: Train Loss=0.4268, Train Acc=0.8016, Val Loss=0.4587, Val Acc=0.7836\n",
      "Epoch 54: Train Loss=0.4264, Train Acc=0.8018, Val Loss=0.4585, Val Acc=0.7837\n",
      "Epoch 55: Train Loss=0.4259, Train Acc=0.8026, Val Loss=0.4582, Val Acc=0.7839\n",
      "Epoch 56: Train Loss=0.4253, Train Acc=0.8024, Val Loss=0.4583, Val Acc=0.7851\n",
      "Epoch 57: Train Loss=0.4249, Train Acc=0.8028, Val Loss=0.4574, Val Acc=0.7846\n",
      "Epoch 58: Train Loss=0.4246, Train Acc=0.8033, Val Loss=0.4580, Val Acc=0.7826\n",
      "Epoch 59: Train Loss=0.4240, Train Acc=0.8038, Val Loss=0.4585, Val Acc=0.7807\n",
      "Epoch 60: Train Loss=0.4241, Train Acc=0.8036, Val Loss=0.4583, Val Acc=0.7805\n",
      "Epoch 61: Train Loss=0.4234, Train Acc=0.8047, Val Loss=0.4592, Val Acc=0.7783\n",
      "Epoch 62: Train Loss=0.4237, Train Acc=0.8041, Val Loss=0.4585, Val Acc=0.7785\n",
      "Epoch 63: Train Loss=0.4227, Train Acc=0.8046, Val Loss=0.4559, Val Acc=0.7823\n",
      "Epoch 64: Train Loss=0.4222, Train Acc=0.8048, Val Loss=0.4568, Val Acc=0.7814\n",
      "Epoch 65: Train Loss=0.4223, Train Acc=0.8043, Val Loss=0.4552, Val Acc=0.7826\n",
      "Epoch 66: Train Loss=0.4220, Train Acc=0.8047, Val Loss=0.4557, Val Acc=0.7827\n",
      "Epoch 67: Train Loss=0.4218, Train Acc=0.8047, Val Loss=0.4568, Val Acc=0.7823\n",
      "Epoch 68: Train Loss=0.4216, Train Acc=0.8046, Val Loss=0.4551, Val Acc=0.7823\n",
      "Epoch 69: Train Loss=0.4211, Train Acc=0.8053, Val Loss=0.4543, Val Acc=0.7841\n",
      "Epoch 70: Train Loss=0.4209, Train Acc=0.8053, Val Loss=0.4539, Val Acc=0.7832\n",
      "Epoch 71: Train Loss=0.4207, Train Acc=0.8054, Val Loss=0.4557, Val Acc=0.7832\n",
      "Epoch 72: Train Loss=0.4204, Train Acc=0.8056, Val Loss=0.4530, Val Acc=0.7845\n",
      "Epoch 73: Train Loss=0.4199, Train Acc=0.8054, Val Loss=0.4583, Val Acc=0.7814\n",
      "Epoch 74: Train Loss=0.4199, Train Acc=0.8063, Val Loss=0.4528, Val Acc=0.7856\n",
      "Epoch 75: Train Loss=0.4198, Train Acc=0.8062, Val Loss=0.4525, Val Acc=0.7861\n",
      "Epoch 76: Train Loss=0.4193, Train Acc=0.8063, Val Loss=0.4517, Val Acc=0.7859\n",
      "Epoch 77: Train Loss=0.4193, Train Acc=0.8066, Val Loss=0.4513, Val Acc=0.7860\n",
      "Epoch 78: Train Loss=0.4189, Train Acc=0.8070, Val Loss=0.4521, Val Acc=0.7851\n",
      "Epoch 79: Train Loss=0.4187, Train Acc=0.8073, Val Loss=0.4531, Val Acc=0.7841\n",
      "Epoch 80: Train Loss=0.4183, Train Acc=0.8071, Val Loss=0.4505, Val Acc=0.7860\n",
      "Epoch 81: Train Loss=0.4184, Train Acc=0.8069, Val Loss=0.4508, Val Acc=0.7863\n",
      "Epoch 82: Train Loss=0.4178, Train Acc=0.8078, Val Loss=0.4573, Val Acc=0.7824\n",
      "Epoch 83: Train Loss=0.4177, Train Acc=0.8075, Val Loss=0.4507, Val Acc=0.7871\n",
      "Epoch 84: Train Loss=0.4177, Train Acc=0.8072, Val Loss=0.4511, Val Acc=0.7866\n",
      "Epoch 85: Train Loss=0.4172, Train Acc=0.8078, Val Loss=0.4528, Val Acc=0.7869\n",
      "Epoch 86: Train Loss=0.4172, Train Acc=0.8083, Val Loss=0.4510, Val Acc=0.7876\n",
      "Epoch 87: Train Loss=0.4172, Train Acc=0.8077, Val Loss=0.4555, Val Acc=0.7844\n",
      "Epoch 88: Train Loss=0.4167, Train Acc=0.8088, Val Loss=0.4504, Val Acc=0.7861\n",
      "Epoch 89: Train Loss=0.4168, Train Acc=0.8082, Val Loss=0.4499, Val Acc=0.7859\n",
      "Epoch 90: Train Loss=0.4165, Train Acc=0.8086, Val Loss=0.4499, Val Acc=0.7872\n",
      "Epoch 91: Train Loss=0.4163, Train Acc=0.8094, Val Loss=0.4493, Val Acc=0.7887\n",
      "Epoch 92: Train Loss=0.4159, Train Acc=0.8093, Val Loss=0.4487, Val Acc=0.7875\n",
      "Epoch 93: Train Loss=0.4162, Train Acc=0.8096, Val Loss=0.4488, Val Acc=0.7893\n",
      "Epoch 94: Train Loss=0.4157, Train Acc=0.8093, Val Loss=0.4491, Val Acc=0.7889\n",
      "Epoch 95: Train Loss=0.4159, Train Acc=0.8095, Val Loss=0.4493, Val Acc=0.7863\n",
      "Epoch 96: Train Loss=0.4155, Train Acc=0.8095, Val Loss=0.4483, Val Acc=0.7889\n",
      "Epoch 97: Train Loss=0.4153, Train Acc=0.8100, Val Loss=0.4488, Val Acc=0.7902\n",
      "Epoch 98: Train Loss=0.4153, Train Acc=0.8091, Val Loss=0.4511, Val Acc=0.7847\n",
      "Epoch 99: Train Loss=0.4149, Train Acc=0.8101, Val Loss=0.4494, Val Acc=0.7895\n",
      "Epoch 100: Train Loss=0.4146, Train Acc=0.8096, Val Loss=0.4488, Val Acc=0.7906\n",
      "Epoch 101: Train Loss=0.4146, Train Acc=0.8094, Val Loss=0.4489, Val Acc=0.7898\n",
      "Epoch 102: Train Loss=0.4144, Train Acc=0.8093, Val Loss=0.4523, Val Acc=0.7865\n",
      "Epoch 103: Train Loss=0.4146, Train Acc=0.8099, Val Loss=0.4492, Val Acc=0.7895\n",
      "Epoch 104: Train Loss=0.4144, Train Acc=0.8102, Val Loss=0.4479, Val Acc=0.7884\n",
      "Epoch 105: Train Loss=0.4141, Train Acc=0.8106, Val Loss=0.4488, Val Acc=0.7893\n",
      "Epoch 106: Train Loss=0.4140, Train Acc=0.8100, Val Loss=0.4490, Val Acc=0.7898\n",
      "Epoch 107: Train Loss=0.4140, Train Acc=0.8106, Val Loss=0.4479, Val Acc=0.7891\n",
      "Epoch 108: Train Loss=0.4139, Train Acc=0.8105, Val Loss=0.4476, Val Acc=0.7896\n",
      "Epoch 109: Train Loss=0.4138, Train Acc=0.8106, Val Loss=0.4491, Val Acc=0.7908\n",
      "Epoch 110: Train Loss=0.4134, Train Acc=0.8112, Val Loss=0.4495, Val Acc=0.7889\n",
      "Epoch 111: Train Loss=0.4132, Train Acc=0.8112, Val Loss=0.4486, Val Acc=0.7908\n",
      "Epoch 112: Train Loss=0.4133, Train Acc=0.8100, Val Loss=0.4510, Val Acc=0.7886\n",
      "Epoch 113: Train Loss=0.4132, Train Acc=0.8105, Val Loss=0.4474, Val Acc=0.7902\n",
      "Epoch 114: Train Loss=0.4125, Train Acc=0.8113, Val Loss=0.4467, Val Acc=0.7895\n",
      "Epoch 115: Train Loss=0.4125, Train Acc=0.8114, Val Loss=0.4467, Val Acc=0.7902\n",
      "Epoch 116: Train Loss=0.4130, Train Acc=0.8111, Val Loss=0.4468, Val Acc=0.7913\n",
      "Epoch 117: Train Loss=0.4129, Train Acc=0.8111, Val Loss=0.4468, Val Acc=0.7903\n",
      "Epoch 118: Train Loss=0.4124, Train Acc=0.8115, Val Loss=0.4480, Val Acc=0.7897\n",
      "Epoch 119: Train Loss=0.4126, Train Acc=0.8112, Val Loss=0.4468, Val Acc=0.7909\n",
      "Epoch 120: Train Loss=0.4123, Train Acc=0.8114, Val Loss=0.4519, Val Acc=0.7878\n",
      "Epoch 121: Train Loss=0.4119, Train Acc=0.8114, Val Loss=0.4470, Val Acc=0.7923\n",
      "Epoch 122: Train Loss=0.4123, Train Acc=0.8110, Val Loss=0.4462, Val Acc=0.7904\n",
      "Epoch 123: Train Loss=0.4118, Train Acc=0.8109, Val Loss=0.4458, Val Acc=0.7913\n",
      "Epoch 124: Train Loss=0.4120, Train Acc=0.8113, Val Loss=0.4467, Val Acc=0.7924\n",
      "Epoch 125: Train Loss=0.4118, Train Acc=0.8122, Val Loss=0.4480, Val Acc=0.7921\n",
      "Epoch 126: Train Loss=0.4118, Train Acc=0.8115, Val Loss=0.4457, Val Acc=0.7930\n",
      "Epoch 127: Train Loss=0.4117, Train Acc=0.8115, Val Loss=0.4465, Val Acc=0.7940\n",
      "Epoch 128: Train Loss=0.4112, Train Acc=0.8118, Val Loss=0.4460, Val Acc=0.7923\n",
      "Epoch 129: Train Loss=0.4111, Train Acc=0.8119, Val Loss=0.4450, Val Acc=0.7936\n",
      "Epoch 130: Train Loss=0.4112, Train Acc=0.8119, Val Loss=0.4448, Val Acc=0.7923\n",
      "Epoch 131: Train Loss=0.4109, Train Acc=0.8117, Val Loss=0.4534, Val Acc=0.7868\n",
      "Epoch 132: Train Loss=0.4111, Train Acc=0.8126, Val Loss=0.4446, Val Acc=0.7930\n",
      "Epoch 133: Train Loss=0.4107, Train Acc=0.8126, Val Loss=0.4452, Val Acc=0.7918\n",
      "Epoch 134: Train Loss=0.4108, Train Acc=0.8123, Val Loss=0.4487, Val Acc=0.7871\n",
      "Epoch 135: Train Loss=0.4106, Train Acc=0.8119, Val Loss=0.4453, Val Acc=0.7954\n",
      "Epoch 136: Train Loss=0.4109, Train Acc=0.8125, Val Loss=0.4440, Val Acc=0.7913\n",
      "Epoch 137: Train Loss=0.4102, Train Acc=0.8125, Val Loss=0.4439, Val Acc=0.7918\n",
      "Epoch 138: Train Loss=0.4107, Train Acc=0.8128, Val Loss=0.4447, Val Acc=0.7909\n",
      "Epoch 139: Train Loss=0.4103, Train Acc=0.8130, Val Loss=0.4434, Val Acc=0.7935\n",
      "Epoch 140: Train Loss=0.4107, Train Acc=0.8123, Val Loss=0.4443, Val Acc=0.7913\n",
      "Epoch 141: Train Loss=0.4102, Train Acc=0.8130, Val Loss=0.4432, Val Acc=0.7927\n",
      "Epoch 142: Train Loss=0.4100, Train Acc=0.8131, Val Loss=0.4431, Val Acc=0.7943\n",
      "Epoch 143: Train Loss=0.4101, Train Acc=0.8129, Val Loss=0.4436, Val Acc=0.7920\n",
      "Epoch 144: Train Loss=0.4101, Train Acc=0.8129, Val Loss=0.4438, Val Acc=0.7919\n",
      "Epoch 145: Train Loss=0.4098, Train Acc=0.8130, Val Loss=0.4440, Val Acc=0.7968\n",
      "Epoch 146: Train Loss=0.4099, Train Acc=0.8133, Val Loss=0.4457, Val Acc=0.7954\n",
      "Epoch 147: Train Loss=0.4094, Train Acc=0.8131, Val Loss=0.4454, Val Acc=0.7966\n",
      "Epoch 148: Train Loss=0.4095, Train Acc=0.8140, Val Loss=0.4544, Val Acc=0.7906\n",
      "Epoch 149: Train Loss=0.4094, Train Acc=0.8136, Val Loss=0.4470, Val Acc=0.7926\n",
      "Epoch 150: Train Loss=0.4096, Train Acc=0.8137, Val Loss=0.4440, Val Acc=0.7956\n",
      "Epoch 151: Train Loss=0.4097, Train Acc=0.8137, Val Loss=0.4427, Val Acc=0.7972\n",
      "Epoch 152: Train Loss=0.4098, Train Acc=0.8139, Val Loss=0.4438, Val Acc=0.7976\n",
      "Epoch 153: Train Loss=0.4094, Train Acc=0.8135, Val Loss=0.4432, Val Acc=0.7931\n",
      "Epoch 154: Train Loss=0.4093, Train Acc=0.8138, Val Loss=0.4478, Val Acc=0.7960\n",
      "Epoch 155: Train Loss=0.4093, Train Acc=0.8129, Val Loss=0.4427, Val Acc=0.7969\n",
      "Epoch 156: Train Loss=0.4090, Train Acc=0.8138, Val Loss=0.4514, Val Acc=0.7895\n",
      "Epoch 157: Train Loss=0.4089, Train Acc=0.8134, Val Loss=0.4421, Val Acc=0.7986\n",
      "Epoch 158: Train Loss=0.4088, Train Acc=0.8130, Val Loss=0.4430, Val Acc=0.7972\n",
      "Epoch 159: Train Loss=0.4089, Train Acc=0.8131, Val Loss=0.4417, Val Acc=0.7984\n",
      "Epoch 160: Train Loss=0.4087, Train Acc=0.8134, Val Loss=0.4466, Val Acc=0.7888\n",
      "Epoch 161: Train Loss=0.4085, Train Acc=0.8132, Val Loss=0.4429, Val Acc=0.7979\n",
      "Epoch 162: Train Loss=0.4085, Train Acc=0.8133, Val Loss=0.4450, Val Acc=0.7962\n",
      "Epoch 163: Train Loss=0.4086, Train Acc=0.8130, Val Loss=0.4590, Val Acc=0.7881\n",
      "Epoch 164: Train Loss=0.4084, Train Acc=0.8136, Val Loss=0.4567, Val Acc=0.7881\n",
      "Epoch 165: Train Loss=0.4083, Train Acc=0.8140, Val Loss=0.4616, Val Acc=0.7835\n",
      "Epoch 166: Train Loss=0.4083, Train Acc=0.8140, Val Loss=0.4502, Val Acc=0.7915\n",
      "Epoch 167: Train Loss=0.4084, Train Acc=0.8138, Val Loss=0.4411, Val Acc=0.7956\n",
      "Epoch 168: Train Loss=0.4080, Train Acc=0.8139, Val Loss=0.4427, Val Acc=0.7946\n",
      "Epoch 169: Train Loss=0.4083, Train Acc=0.8138, Val Loss=0.4420, Val Acc=0.7964\n",
      "Epoch 170: Train Loss=0.4078, Train Acc=0.8140, Val Loss=0.4548, Val Acc=0.7887\n",
      "Epoch 171: Train Loss=0.4079, Train Acc=0.8142, Val Loss=0.4426, Val Acc=0.7964\n",
      "Epoch 172: Train Loss=0.4076, Train Acc=0.8145, Val Loss=0.4492, Val Acc=0.7918\n",
      "Epoch 173: Train Loss=0.4078, Train Acc=0.8137, Val Loss=0.4445, Val Acc=0.7972\n",
      "Epoch 174: Train Loss=0.4074, Train Acc=0.8142, Val Loss=0.4409, Val Acc=0.7966\n",
      "Epoch 175: Train Loss=0.4078, Train Acc=0.8138, Val Loss=0.4512, Val Acc=0.7923\n",
      "Epoch 176: Train Loss=0.4074, Train Acc=0.8138, Val Loss=0.4619, Val Acc=0.7858\n",
      "Epoch 177: Train Loss=0.4072, Train Acc=0.8139, Val Loss=0.4563, Val Acc=0.7888\n",
      "Epoch 178: Train Loss=0.4075, Train Acc=0.8142, Val Loss=0.4555, Val Acc=0.7887\n",
      "Epoch 179: Train Loss=0.4074, Train Acc=0.8140, Val Loss=0.4442, Val Acc=0.7939\n",
      "Epoch 180: Train Loss=0.4073, Train Acc=0.8138, Val Loss=0.4460, Val Acc=0.7955\n",
      "Epoch 181: Train Loss=0.4073, Train Acc=0.8142, Val Loss=0.4482, Val Acc=0.7942\n",
      "Epoch 182: Train Loss=0.4074, Train Acc=0.8138, Val Loss=0.4434, Val Acc=0.7938\n",
      "Epoch 183: Train Loss=0.4071, Train Acc=0.8144, Val Loss=0.4502, Val Acc=0.7933\n",
      "Epoch 184: Train Loss=0.4066, Train Acc=0.8146, Val Loss=0.4422, Val Acc=0.7953\n",
      "Epoch 185: Train Loss=0.4068, Train Acc=0.8143, Val Loss=0.4563, Val Acc=0.7886\n",
      "Epoch 186: Train Loss=0.4073, Train Acc=0.8143, Val Loss=0.4421, Val Acc=0.7983\n",
      "Epoch 187: Train Loss=0.4066, Train Acc=0.8147, Val Loss=0.4523, Val Acc=0.7908\n",
      "Epoch 188: Train Loss=0.4065, Train Acc=0.8145, Val Loss=0.4419, Val Acc=0.7963\n",
      "Epoch 189: Train Loss=0.4070, Train Acc=0.8147, Val Loss=0.4510, Val Acc=0.7912\n",
      "Epoch 190: Train Loss=0.4064, Train Acc=0.8150, Val Loss=0.4419, Val Acc=0.7943\n",
      "Epoch 191: Train Loss=0.4065, Train Acc=0.8143, Val Loss=0.4409, Val Acc=0.7964\n",
      "Epoch 192: Train Loss=0.4066, Train Acc=0.8141, Val Loss=0.4492, Val Acc=0.7924\n",
      "Epoch 193: Train Loss=0.4064, Train Acc=0.8147, Val Loss=0.4476, Val Acc=0.7939\n",
      "Epoch 194: Train Loss=0.4066, Train Acc=0.8144, Val Loss=0.4704, Val Acc=0.7819\n",
      "Epoch 195: Train Loss=0.4066, Train Acc=0.8143, Val Loss=0.4423, Val Acc=0.7969\n",
      "Epoch 196: Train Loss=0.4065, Train Acc=0.8147, Val Loss=0.4407, Val Acc=0.7982\n",
      "Epoch 197: Train Loss=0.4064, Train Acc=0.8146, Val Loss=0.4516, Val Acc=0.7916\n",
      "Epoch 198: Train Loss=0.4066, Train Acc=0.8146, Val Loss=0.4436, Val Acc=0.7923\n",
      "Epoch 199: Train Loss=0.4066, Train Acc=0.8145, Val Loss=0.4406, Val Acc=0.7969\n",
      "Epoch 200: Train Loss=0.4067, Train Acc=0.8148, Val Loss=0.4524, Val Acc=0.7908\n",
      "Epoch 201: Train Loss=0.4066, Train Acc=0.8145, Val Loss=0.4461, Val Acc=0.7962\n",
      "Epoch 202: Train Loss=0.4065, Train Acc=0.8148, Val Loss=0.4516, Val Acc=0.7923\n",
      "Epoch 203: Train Loss=0.4068, Train Acc=0.8143, Val Loss=0.4404, Val Acc=0.7978\n",
      "Epoch 204: Train Loss=0.4066, Train Acc=0.8148, Val Loss=0.4581, Val Acc=0.7860\n",
      "Epoch 205: Train Loss=0.4063, Train Acc=0.8149, Val Loss=0.4501, Val Acc=0.7928\n",
      "Epoch 206: Train Loss=0.4061, Train Acc=0.8152, Val Loss=0.4421, Val Acc=0.7946\n",
      "Epoch 207: Train Loss=0.4065, Train Acc=0.8152, Val Loss=0.4401, Val Acc=0.7964\n",
      "Epoch 208: Train Loss=0.4062, Train Acc=0.8148, Val Loss=0.4518, Val Acc=0.7919\n",
      "Epoch 209: Train Loss=0.4061, Train Acc=0.8149, Val Loss=0.4445, Val Acc=0.7953\n",
      "Epoch 210: Train Loss=0.4062, Train Acc=0.8152, Val Loss=0.4416, Val Acc=0.7961\n",
      "Epoch 211: Train Loss=0.4061, Train Acc=0.8148, Val Loss=0.4431, Val Acc=0.7958\n",
      "Epoch 212: Train Loss=0.4060, Train Acc=0.8149, Val Loss=0.4466, Val Acc=0.7955\n",
      "Epoch 213: Train Loss=0.4059, Train Acc=0.8149, Val Loss=0.4697, Val Acc=0.7850\n",
      "Epoch 214: Train Loss=0.4058, Train Acc=0.8146, Val Loss=0.4414, Val Acc=0.7975\n",
      "Epoch 215: Train Loss=0.4058, Train Acc=0.8144, Val Loss=0.4389, Val Acc=0.7979\n",
      "Epoch 216: Train Loss=0.4061, Train Acc=0.8151, Val Loss=0.4496, Val Acc=0.7935\n",
      "Epoch 217: Train Loss=0.4059, Train Acc=0.8149, Val Loss=0.4386, Val Acc=0.7964\n",
      "Epoch 218: Train Loss=0.4062, Train Acc=0.8143, Val Loss=0.4403, Val Acc=0.7940\n",
      "Epoch 219: Train Loss=0.4058, Train Acc=0.8150, Val Loss=0.4408, Val Acc=0.7966\n",
      "Epoch 220: Train Loss=0.4058, Train Acc=0.8149, Val Loss=0.4403, Val Acc=0.7982\n",
      "Epoch 221: Train Loss=0.4053, Train Acc=0.8154, Val Loss=0.4436, Val Acc=0.7970\n",
      "Epoch 222: Train Loss=0.4054, Train Acc=0.8149, Val Loss=0.4406, Val Acc=0.7966\n",
      "Epoch 223: Train Loss=0.4057, Train Acc=0.8148, Val Loss=0.4453, Val Acc=0.7917\n",
      "Epoch 224: Train Loss=0.4054, Train Acc=0.8150, Val Loss=0.4459, Val Acc=0.7935\n",
      "Epoch 225: Train Loss=0.4060, Train Acc=0.8150, Val Loss=0.4389, Val Acc=0.7987\n",
      "Epoch 226: Train Loss=0.4052, Train Acc=0.8156, Val Loss=0.4425, Val Acc=0.7956\n",
      "Epoch 227: Train Loss=0.4053, Train Acc=0.8154, Val Loss=0.4497, Val Acc=0.7912\n",
      "Epoch 228: Train Loss=0.4051, Train Acc=0.8159, Val Loss=0.4409, Val Acc=0.7975\n",
      "Epoch 229: Train Loss=0.4055, Train Acc=0.8151, Val Loss=0.4390, Val Acc=0.7977\n",
      "Epoch 230: Train Loss=0.4054, Train Acc=0.8151, Val Loss=0.4432, Val Acc=0.7942\n",
      "Epoch 231: Train Loss=0.4051, Train Acc=0.8161, Val Loss=0.4410, Val Acc=0.7935\n",
      "Epoch 232: Train Loss=0.4050, Train Acc=0.8161, Val Loss=0.4435, Val Acc=0.7965\n",
      "Epoch 233: Train Loss=0.4055, Train Acc=0.8154, Val Loss=0.4409, Val Acc=0.7954\n",
      "Epoch 234: Train Loss=0.4057, Train Acc=0.8153, Val Loss=0.4397, Val Acc=0.7960\n",
      "Epoch 235: Train Loss=0.4053, Train Acc=0.8154, Val Loss=0.4512, Val Acc=0.7905\n",
      "Epoch 236: Train Loss=0.4054, Train Acc=0.8152, Val Loss=0.4451, Val Acc=0.7940\n",
      "Epoch 237: Train Loss=0.4055, Train Acc=0.8152, Val Loss=0.4388, Val Acc=0.7970\n",
      "Epoch 238: Train Loss=0.4057, Train Acc=0.8152, Val Loss=0.4449, Val Acc=0.7955\n",
      "Epoch 239: Train Loss=0.4053, Train Acc=0.8151, Val Loss=0.4393, Val Acc=0.7973\n",
      "Epoch 240: Train Loss=0.4052, Train Acc=0.8150, Val Loss=0.4384, Val Acc=0.7971\n",
      "Epoch 241: Train Loss=0.4051, Train Acc=0.8153, Val Loss=0.4436, Val Acc=0.7936\n",
      "Epoch 242: Train Loss=0.4051, Train Acc=0.8156, Val Loss=0.4381, Val Acc=0.7972\n",
      "Epoch 243: Train Loss=0.4051, Train Acc=0.8154, Val Loss=0.4405, Val Acc=0.7969\n",
      "Epoch 244: Train Loss=0.4052, Train Acc=0.8155, Val Loss=0.4437, Val Acc=0.7950\n",
      "Epoch 245: Train Loss=0.4051, Train Acc=0.8157, Val Loss=0.4483, Val Acc=0.7945\n",
      "Epoch 246: Train Loss=0.4051, Train Acc=0.8154, Val Loss=0.4553, Val Acc=0.7904\n",
      "Epoch 247: Train Loss=0.4052, Train Acc=0.8153, Val Loss=0.4405, Val Acc=0.7986\n",
      "Epoch 248: Train Loss=0.4050, Train Acc=0.8159, Val Loss=0.4572, Val Acc=0.7893\n",
      "Epoch 249: Train Loss=0.4052, Train Acc=0.8162, Val Loss=0.4393, Val Acc=0.7971\n",
      "Epoch 250: Train Loss=0.4050, Train Acc=0.8161, Val Loss=0.4895, Val Acc=0.7764\n",
      "Epoch 251: Train Loss=0.4052, Train Acc=0.8162, Val Loss=0.4393, Val Acc=0.7975\n",
      "Epoch 252: Train Loss=0.4050, Train Acc=0.8159, Val Loss=0.4555, Val Acc=0.7895\n",
      "Epoch 253: Train Loss=0.4050, Train Acc=0.8165, Val Loss=0.4459, Val Acc=0.7941\n",
      "Epoch 254: Train Loss=0.4050, Train Acc=0.8160, Val Loss=0.4387, Val Acc=0.7958\n",
      "Epoch 255: Train Loss=0.4048, Train Acc=0.8169, Val Loss=0.4477, Val Acc=0.7919\n",
      "Epoch 256: Train Loss=0.4048, Train Acc=0.8167, Val Loss=0.4725, Val Acc=0.7819\n",
      "Epoch 257: Train Loss=0.4043, Train Acc=0.8168, Val Loss=0.4379, Val Acc=0.7960\n",
      "Epoch 258: Train Loss=0.4047, Train Acc=0.8165, Val Loss=0.4490, Val Acc=0.7933\n",
      "Epoch 259: Train Loss=0.4042, Train Acc=0.8171, Val Loss=0.4408, Val Acc=0.7976\n",
      "Epoch 260: Train Loss=0.4047, Train Acc=0.8165, Val Loss=0.4375, Val Acc=0.7983\n",
      "Epoch 261: Train Loss=0.4045, Train Acc=0.8166, Val Loss=0.4382, Val Acc=0.7977\n",
      "Epoch 262: Train Loss=0.4046, Train Acc=0.8163, Val Loss=0.4417, Val Acc=0.7962\n",
      "Epoch 263: Train Loss=0.4045, Train Acc=0.8166, Val Loss=0.4417, Val Acc=0.7947\n",
      "Epoch 264: Train Loss=0.4043, Train Acc=0.8174, Val Loss=0.4381, Val Acc=0.7972\n",
      "Epoch 265: Train Loss=0.4045, Train Acc=0.8168, Val Loss=0.4416, Val Acc=0.7941\n",
      "Epoch 266: Train Loss=0.4041, Train Acc=0.8168, Val Loss=0.4391, Val Acc=0.7976\n",
      "Epoch 267: Train Loss=0.4045, Train Acc=0.8169, Val Loss=0.4439, Val Acc=0.7978\n",
      "Epoch 268: Train Loss=0.4041, Train Acc=0.8172, Val Loss=0.4397, Val Acc=0.7958\n",
      "Epoch 269: Train Loss=0.4040, Train Acc=0.8170, Val Loss=0.4444, Val Acc=0.7928\n",
      "Epoch 270: Train Loss=0.4042, Train Acc=0.8170, Val Loss=0.4374, Val Acc=0.7987\n",
      "Epoch 271: Train Loss=0.4044, Train Acc=0.8171, Val Loss=0.4406, Val Acc=0.7941\n",
      "Epoch 272: Train Loss=0.4040, Train Acc=0.8171, Val Loss=0.4579, Val Acc=0.7887\n",
      "Epoch 273: Train Loss=0.4037, Train Acc=0.8175, Val Loss=0.4421, Val Acc=0.7917\n",
      "Epoch 274: Train Loss=0.4043, Train Acc=0.8168, Val Loss=0.4405, Val Acc=0.7928\n",
      "Epoch 275: Train Loss=0.4039, Train Acc=0.8171, Val Loss=0.4381, Val Acc=0.7966\n",
      "Epoch 276: Train Loss=0.4038, Train Acc=0.8169, Val Loss=0.4414, Val Acc=0.7978\n",
      "Epoch 277: Train Loss=0.4038, Train Acc=0.8172, Val Loss=0.4409, Val Acc=0.7973\n",
      "Epoch 278: Train Loss=0.4039, Train Acc=0.8175, Val Loss=0.4396, Val Acc=0.7954\n",
      "Epoch 279: Train Loss=0.4039, Train Acc=0.8172, Val Loss=0.4391, Val Acc=0.7976\n",
      "Epoch 280: Train Loss=0.4038, Train Acc=0.8172, Val Loss=0.4459, Val Acc=0.7910\n",
      "Epoch 281: Train Loss=0.4036, Train Acc=0.8175, Val Loss=0.4383, Val Acc=0.7965\n",
      "Epoch 282: Train Loss=0.4033, Train Acc=0.8174, Val Loss=0.4403, Val Acc=0.7987\n",
      "Epoch 283: Train Loss=0.4034, Train Acc=0.8171, Val Loss=0.4419, Val Acc=0.7969\n",
      "Epoch 284: Train Loss=0.4036, Train Acc=0.8170, Val Loss=0.4432, Val Acc=0.7910\n",
      "Epoch 285: Train Loss=0.4034, Train Acc=0.8167, Val Loss=0.4379, Val Acc=0.7948\n",
      "Epoch 286: Train Loss=0.4033, Train Acc=0.8172, Val Loss=0.4385, Val Acc=0.7943\n",
      "Epoch 287: Train Loss=0.4036, Train Acc=0.8168, Val Loss=0.4399, Val Acc=0.7980\n",
      "Epoch 288: Train Loss=0.4035, Train Acc=0.8169, Val Loss=0.4403, Val Acc=0.7968\n",
      "Epoch 289: Train Loss=0.4033, Train Acc=0.8173, Val Loss=0.4406, Val Acc=0.7951\n",
      "Epoch 290: Train Loss=0.4034, Train Acc=0.8171, Val Loss=0.4398, Val Acc=0.7991\n",
      "Epoch 291: Train Loss=0.4030, Train Acc=0.8173, Val Loss=0.4420, Val Acc=0.7935\n",
      "Epoch 292: Train Loss=0.4030, Train Acc=0.8170, Val Loss=0.4456, Val Acc=0.7932\n",
      "Epoch 293: Train Loss=0.4034, Train Acc=0.8173, Val Loss=0.4456, Val Acc=0.7916\n",
      "Epoch 294: Train Loss=0.4029, Train Acc=0.8176, Val Loss=0.4432, Val Acc=0.7954\n",
      "Epoch 295: Train Loss=0.4030, Train Acc=0.8176, Val Loss=0.4377, Val Acc=0.7976\n",
      "Epoch 296: Train Loss=0.4030, Train Acc=0.8179, Val Loss=0.4395, Val Acc=0.7936\n",
      "Epoch 297: Train Loss=0.4028, Train Acc=0.8179, Val Loss=0.4403, Val Acc=0.7960\n",
      "Epoch 298: Train Loss=0.4028, Train Acc=0.8178, Val Loss=0.4403, Val Acc=0.7972\n",
      "Epoch 299: Train Loss=0.4029, Train Acc=0.8177, Val Loss=0.4409, Val Acc=0.7923\n",
      "Epoch 300: Train Loss=0.4026, Train Acc=0.8180, Val Loss=0.4398, Val Acc=0.7945\n",
      "Early stopping at epoch 300\n",
      "\n",
      "Best model saved at epoch 270 with Val Loss=0.4374 and Val Acc=0.7987 (Early Stopping Patience = 30)\n",
      "CPU times: user 3min 35s, sys: 913 ms, total: 3min 35s\n",
      "Wall time: 3min 36s\n"
     ]
    }
   ],
   "source": [
    "%%time\n",
    "\n",
    "optimizer = optim.Adam(cnn_2d.parameters(), lr=0.001, weight_decay=0.001)\n",
    "\n",
    "# every single parameter is the same as 1-d cnn model. the only difference is the model\n",
    "best_model_wts_2d, CNN_2d_Best, train_losses, train_accuracies, val_losses, val_accuracies = train_model(cnn_2d,\n",
    "                                                                                                      train_loader,\n",
    "                                                                                                      val_loader,\n",
    "                                                                                                      criterion,\n",
    "                                                                                                      optimizer,\n",
    "                                                                                                      num_epochs,\n",
    "                                                                                                      early_stopping_patience)"
   ]
  },
  {
   "cell_type": "markdown",
   "metadata": {
    "id": "ZCrtq6GOehTh"
   },
   "source": [
    "Interesting. Reshaping into a 2d matrix seems to work actually."
   ]
  },
  {
   "cell_type": "code",
   "execution_count": 122,
   "metadata": {},
   "outputs": [],
   "source": [
    "torch.save(best_model_wts_2d, '2d_CNN_Best.pth')"
   ]
  },
  {
   "cell_type": "code",
   "execution_count": 123,
   "metadata": {},
   "outputs": [
    {
     "data": {
      "text/plain": [
       "<All keys matched successfully>"
      ]
     },
     "execution_count": 123,
     "metadata": {},
     "output_type": "execute_result"
    }
   ],
   "source": [
    "cnn_2d.load_state_dict(torch.load('2d_CNN_Best.pth'))"
   ]
  },
  {
   "cell_type": "code",
   "execution_count": 124,
   "metadata": {},
   "outputs": [],
   "source": [
    "train_preds_2dCNN, train_probs_2dCNN = make_predictions_using_NN(cnn_2d, train_loader)\n",
    "val_preds_2dCNN, val_probs_2dCNN = make_predictions_using_NN(cnn_2d, val_loader)\n",
    "test_preds_2dCNN, test_probs_2dCNN = make_predictions_using_NN(cnn_2d, test_loader)"
   ]
  },
  {
   "cell_type": "code",
   "execution_count": 125,
   "metadata": {},
   "outputs": [],
   "source": [
    "from sklearn.metrics import f1_score, precision_score, recall_score, accuracy_score, classification_report"
   ]
  },
  {
   "cell_type": "code",
   "execution_count": 127,
   "metadata": {},
   "outputs": [
    {
     "name": "stdout",
     "output_type": "stream",
     "text": [
      "Training performance for 2-d CNN\n",
      "              precision    recall  f1-score   support\n",
      "\n",
      "           0       0.82      0.79      0.80     23853\n",
      "           1       0.81      0.84      0.82     25190\n",
      "\n",
      "    accuracy                           0.81     49043\n",
      "   macro avg       0.81      0.81      0.81     49043\n",
      "weighted avg       0.81      0.81      0.81     49043\n",
      "\n"
     ]
    }
   ],
   "source": [
    "print(\"Training performance for 2-d CNN\")\n",
    "print(classification_report(Y_train, train_preds_2dCNN))"
   ]
  },
  {
   "cell_type": "code",
   "execution_count": 130,
   "metadata": {},
   "outputs": [
    {
     "name": "stdout",
     "output_type": "stream",
     "text": [
      "Val performance for 2-d CNN\n",
      "              precision    recall  f1-score   support\n",
      "\n",
      "           0       0.79      0.77      0.78      4097\n",
      "           1       0.80      0.81      0.81      4558\n",
      "\n",
      "    accuracy                           0.79      8655\n",
      "   macro avg       0.79      0.79      0.79      8655\n",
      "weighted avg       0.79      0.79      0.79      8655\n",
      "\n"
     ]
    }
   ],
   "source": [
    "print(\"Val performance for 2-d CNN\")\n",
    "print(classification_report(Y_val, val_preds_2dCNN))"
   ]
  },
  {
   "cell_type": "code",
   "execution_count": 131,
   "metadata": {},
   "outputs": [
    {
     "name": "stdout",
     "output_type": "stream",
     "text": [
      "Test performance for 2-d CNN\n",
      "              precision    recall  f1-score   support\n",
      "\n",
      "           0       0.81      0.78      0.80      7078\n",
      "           1       0.79      0.83      0.81      7347\n",
      "\n",
      "    accuracy                           0.80     14425\n",
      "   macro avg       0.80      0.80      0.80     14425\n",
      "weighted avg       0.80      0.80      0.80     14425\n",
      "\n"
     ]
    }
   ],
   "source": [
    "print(\"Test performance for 2-d CNN\")\n",
    "print(classification_report(Y_test, test_preds_2dCNN))"
   ]
  },
  {
   "cell_type": "markdown",
   "metadata": {
    "id": "ufkgvgNqiXky"
   },
   "source": [
    "Well. Not bad all all. The key will be to tune the convolution layers and shape of the matrix."
   ]
  },
  {
   "cell_type": "code",
   "execution_count": 132,
   "metadata": {},
   "outputs": [
    {
     "data": {
      "image/png": "[encoded data removed]",
      "text/plain": [
       "<Figure size 600x600 with 1 Axes>"
      ]
     },
     "metadata": {},
     "output_type": "display_data"
    },
    {
     "name": "stdout",
     "output_type": "stream",
     "text": [
      "\n",
      "\n",
      "FOR TESTING SET: \n",
      "              precision    recall  f1-score   support\n",
      "\n",
      "           0       0.81      0.78      0.80      7078\n",
      "           1       0.79      0.83      0.81      7347\n",
      "\n",
      "    accuracy                           0.80     14425\n",
      "   macro avg       0.80      0.80      0.80     14425\n",
      "weighted avg       0.80      0.80      0.80     14425\n",
      "\n",
      "\n",
      "\n",
      "ROC AUC Score: 88.52%\n",
      "\n",
      "\n"
     ]
    },
    {
     "data": {
      "image/png": "[encoded data removed]",
      "text/plain": [
       "<Figure size 1000x600 with 1 Axes>"
      ]
     },
     "metadata": {},
     "output_type": "display_data"
    }
   ],
   "source": [
    "perform_deep_test_analysis(Y_test, test_preds_2dCNN, test_probs_2dCNN[:, 1], \"2d CNN\")"
   ]
  },
  {
   "cell_type": "markdown",
   "metadata": {
    "id": "Hm-0dyzDbC09"
   },
   "source": [
    "## 4.5 Multi-Layered Perceptron"
   ]
  },
  {
   "cell_type": "code",
   "execution_count": 133,
   "metadata": {},
   "outputs": [],
   "source": [
    "class SimpleMLP(nn.Module):\n",
    "    def __init__(self, input_dim, num_classes):\n",
    "        super(SimpleMLP, self).__init__()\n",
    "        self.fc1 = nn.Linear(input_dim, 128)\n",
    "        self.relu = nn.LeakyReLU()\n",
    "        self.fc2 = nn.Linear(128, num_classes)\n",
    "    def forward(self, x):\n",
    "        x = self.fc1(x)\n",
    "        x = self.relu(x)\n",
    "        x = self.fc2(x)\n",
    "        return x\n",
    "\n",
    "mlp = SimpleMLP(input_dim, num_classes).to(device)"
   ]
  },
  {
   "cell_type": "code",
   "execution_count": 134,
   "metadata": {},
   "outputs": [
    {
     "name": "stdout",
     "output_type": "stream",
     "text": [
      "Epoch 1: Train Loss=0.6008, Train Acc=0.7196, Val Loss=0.5128, Val Acc=0.7567\n",
      "Epoch 2: Train Loss=0.4592, Train Acc=0.7902, Val Loss=0.4433, Val Acc=0.7964\n",
      "Epoch 3: Train Loss=0.4183, Train Acc=0.8138, Val Loss=0.4217, Val Acc=0.8069\n",
      "Epoch 4: Train Loss=0.4023, Train Acc=0.8214, Val Loss=0.4109, Val Acc=0.8121\n",
      "Epoch 5: Train Loss=0.3929, Train Acc=0.8261, Val Loss=0.4035, Val Acc=0.8164\n",
      "Epoch 6: Train Loss=0.3861, Train Acc=0.8297, Val Loss=0.3977, Val Acc=0.8200\n",
      "Epoch 7: Train Loss=0.3807, Train Acc=0.8326, Val Loss=0.3928, Val Acc=0.8244\n",
      "Epoch 8: Train Loss=0.3763, Train Acc=0.8352, Val Loss=0.3887, Val Acc=0.8267\n",
      "Epoch 9: Train Loss=0.3725, Train Acc=0.8375, Val Loss=0.3851, Val Acc=0.8292\n",
      "Epoch 10: Train Loss=0.3692, Train Acc=0.8393, Val Loss=0.3819, Val Acc=0.8296\n",
      "Epoch 11: Train Loss=0.3662, Train Acc=0.8410, Val Loss=0.3791, Val Acc=0.8305\n",
      "Epoch 12: Train Loss=0.3635, Train Acc=0.8429, Val Loss=0.3766, Val Acc=0.8324\n",
      "Epoch 13: Train Loss=0.3610, Train Acc=0.8438, Val Loss=0.3744, Val Acc=0.8329\n",
      "Epoch 14: Train Loss=0.3588, Train Acc=0.8448, Val Loss=0.3724, Val Acc=0.8356\n",
      "Epoch 15: Train Loss=0.3567, Train Acc=0.8462, Val Loss=0.3706, Val Acc=0.8373\n",
      "Epoch 16: Train Loss=0.3548, Train Acc=0.8472, Val Loss=0.3688, Val Acc=0.8372\n",
      "Epoch 17: Train Loss=0.3529, Train Acc=0.8481, Val Loss=0.3671, Val Acc=0.8384\n",
      "Epoch 18: Train Loss=0.3511, Train Acc=0.8491, Val Loss=0.3655, Val Acc=0.8400\n",
      "Epoch 19: Train Loss=0.3494, Train Acc=0.8499, Val Loss=0.3639, Val Acc=0.8411\n",
      "Epoch 20: Train Loss=0.3478, Train Acc=0.8506, Val Loss=0.3624, Val Acc=0.8422\n",
      "Epoch 21: Train Loss=0.3462, Train Acc=0.8515, Val Loss=0.3611, Val Acc=0.8425\n",
      "Epoch 22: Train Loss=0.3447, Train Acc=0.8518, Val Loss=0.3598, Val Acc=0.8434\n",
      "Epoch 23: Train Loss=0.3433, Train Acc=0.8525, Val Loss=0.3586, Val Acc=0.8446\n",
      "Epoch 24: Train Loss=0.3419, Train Acc=0.8534, Val Loss=0.3574, Val Acc=0.8454\n",
      "Epoch 25: Train Loss=0.3406, Train Acc=0.8541, Val Loss=0.3563, Val Acc=0.8464\n",
      "Epoch 26: Train Loss=0.3394, Train Acc=0.8548, Val Loss=0.3553, Val Acc=0.8468\n",
      "Epoch 27: Train Loss=0.3382, Train Acc=0.8554, Val Loss=0.3543, Val Acc=0.8473\n",
      "Epoch 28: Train Loss=0.3371, Train Acc=0.8557, Val Loss=0.3534, Val Acc=0.8479\n",
      "Epoch 29: Train Loss=0.3361, Train Acc=0.8564, Val Loss=0.3525, Val Acc=0.8486\n",
      "Epoch 30: Train Loss=0.3351, Train Acc=0.8570, Val Loss=0.3517, Val Acc=0.8488\n",
      "Epoch 31: Train Loss=0.3341, Train Acc=0.8572, Val Loss=0.3509, Val Acc=0.8488\n",
      "Epoch 32: Train Loss=0.3332, Train Acc=0.8579, Val Loss=0.3502, Val Acc=0.8490\n",
      "Epoch 33: Train Loss=0.3323, Train Acc=0.8586, Val Loss=0.3494, Val Acc=0.8491\n",
      "Epoch 34: Train Loss=0.3314, Train Acc=0.8589, Val Loss=0.3487, Val Acc=0.8496\n",
      "Epoch 35: Train Loss=0.3305, Train Acc=0.8596, Val Loss=0.3480, Val Acc=0.8500\n",
      "Epoch 36: Train Loss=0.3297, Train Acc=0.8600, Val Loss=0.3473, Val Acc=0.8500\n",
      "Epoch 37: Train Loss=0.3289, Train Acc=0.8604, Val Loss=0.3467, Val Acc=0.8506\n",
      "Epoch 38: Train Loss=0.3281, Train Acc=0.8607, Val Loss=0.3461, Val Acc=0.8507\n",
      "Epoch 39: Train Loss=0.3274, Train Acc=0.8612, Val Loss=0.3455, Val Acc=0.8507\n",
      "Epoch 40: Train Loss=0.3267, Train Acc=0.8618, Val Loss=0.3449, Val Acc=0.8513\n",
      "Epoch 41: Train Loss=0.3260, Train Acc=0.8621, Val Loss=0.3444, Val Acc=0.8515\n",
      "Epoch 42: Train Loss=0.3253, Train Acc=0.8626, Val Loss=0.3438, Val Acc=0.8516\n",
      "Epoch 43: Train Loss=0.3246, Train Acc=0.8630, Val Loss=0.3433, Val Acc=0.8525\n",
      "Epoch 44: Train Loss=0.3239, Train Acc=0.8634, Val Loss=0.3428, Val Acc=0.8525\n",
      "Epoch 45: Train Loss=0.3233, Train Acc=0.8637, Val Loss=0.3422, Val Acc=0.8533\n",
      "Epoch 46: Train Loss=0.3226, Train Acc=0.8642, Val Loss=0.3417, Val Acc=0.8537\n",
      "Epoch 47: Train Loss=0.3220, Train Acc=0.8644, Val Loss=0.3412, Val Acc=0.8542\n",
      "Epoch 48: Train Loss=0.3214, Train Acc=0.8650, Val Loss=0.3407, Val Acc=0.8542\n",
      "Epoch 49: Train Loss=0.3208, Train Acc=0.8652, Val Loss=0.3402, Val Acc=0.8542\n",
      "Epoch 50: Train Loss=0.3202, Train Acc=0.8656, Val Loss=0.3397, Val Acc=0.8547\n",
      "Epoch 51: Train Loss=0.3196, Train Acc=0.8660, Val Loss=0.3392, Val Acc=0.8550\n",
      "Epoch 52: Train Loss=0.3190, Train Acc=0.8664, Val Loss=0.3388, Val Acc=0.8551\n",
      "Epoch 53: Train Loss=0.3184, Train Acc=0.8669, Val Loss=0.3383, Val Acc=0.8555\n",
      "Epoch 54: Train Loss=0.3179, Train Acc=0.8670, Val Loss=0.3378, Val Acc=0.8559\n",
      "Epoch 55: Train Loss=0.3173, Train Acc=0.8674, Val Loss=0.3374, Val Acc=0.8563\n",
      "Epoch 56: Train Loss=0.3167, Train Acc=0.8679, Val Loss=0.3370, Val Acc=0.8562\n",
      "Epoch 57: Train Loss=0.3162, Train Acc=0.8681, Val Loss=0.3365, Val Acc=0.8564\n",
      "Epoch 58: Train Loss=0.3156, Train Acc=0.8684, Val Loss=0.3360, Val Acc=0.8568\n",
      "Epoch 59: Train Loss=0.3150, Train Acc=0.8686, Val Loss=0.3356, Val Acc=0.8574\n",
      "Epoch 60: Train Loss=0.3144, Train Acc=0.8690, Val Loss=0.3351, Val Acc=0.8577\n",
      "Epoch 61: Train Loss=0.3139, Train Acc=0.8695, Val Loss=0.3347, Val Acc=0.8577\n",
      "Epoch 62: Train Loss=0.3134, Train Acc=0.8697, Val Loss=0.3343, Val Acc=0.8578\n",
      "Epoch 63: Train Loss=0.3129, Train Acc=0.8700, Val Loss=0.3339, Val Acc=0.8580\n",
      "Epoch 64: Train Loss=0.3124, Train Acc=0.8701, Val Loss=0.3335, Val Acc=0.8580\n",
      "Epoch 65: Train Loss=0.3119, Train Acc=0.8706, Val Loss=0.3331, Val Acc=0.8585\n",
      "Epoch 66: Train Loss=0.3114, Train Acc=0.8708, Val Loss=0.3328, Val Acc=0.8588\n",
      "Epoch 67: Train Loss=0.3109, Train Acc=0.8711, Val Loss=0.3324, Val Acc=0.8589\n",
      "Epoch 68: Train Loss=0.3105, Train Acc=0.8713, Val Loss=0.3320, Val Acc=0.8587\n",
      "Epoch 69: Train Loss=0.3100, Train Acc=0.8717, Val Loss=0.3317, Val Acc=0.8595\n",
      "Epoch 70: Train Loss=0.3096, Train Acc=0.8717, Val Loss=0.3313, Val Acc=0.8598\n",
      "Epoch 71: Train Loss=0.3092, Train Acc=0.8720, Val Loss=0.3310, Val Acc=0.8601\n",
      "Epoch 72: Train Loss=0.3087, Train Acc=0.8723, Val Loss=0.3307, Val Acc=0.8603\n",
      "Epoch 73: Train Loss=0.3083, Train Acc=0.8725, Val Loss=0.3304, Val Acc=0.8605\n",
      "Epoch 74: Train Loss=0.3079, Train Acc=0.8726, Val Loss=0.3301, Val Acc=0.8608\n",
      "Epoch 75: Train Loss=0.3075, Train Acc=0.8730, Val Loss=0.3298, Val Acc=0.8608\n",
      "Epoch 76: Train Loss=0.3071, Train Acc=0.8733, Val Loss=0.3295, Val Acc=0.8611\n",
      "Epoch 77: Train Loss=0.3068, Train Acc=0.8734, Val Loss=0.3292, Val Acc=0.8610\n",
      "Epoch 78: Train Loss=0.3064, Train Acc=0.8736, Val Loss=0.3289, Val Acc=0.8616\n",
      "Epoch 79: Train Loss=0.3061, Train Acc=0.8738, Val Loss=0.3287, Val Acc=0.8615\n",
      "Epoch 80: Train Loss=0.3057, Train Acc=0.8738, Val Loss=0.3284, Val Acc=0.8616\n",
      "Epoch 81: Train Loss=0.3054, Train Acc=0.8741, Val Loss=0.3281, Val Acc=0.8617\n",
      "Epoch 82: Train Loss=0.3050, Train Acc=0.8743, Val Loss=0.3279, Val Acc=0.8620\n",
      "Epoch 83: Train Loss=0.3047, Train Acc=0.8745, Val Loss=0.3277, Val Acc=0.8618\n",
      "Epoch 84: Train Loss=0.3044, Train Acc=0.8746, Val Loss=0.3275, Val Acc=0.8617\n",
      "Epoch 85: Train Loss=0.3041, Train Acc=0.8747, Val Loss=0.3273, Val Acc=0.8622\n",
      "Epoch 86: Train Loss=0.3038, Train Acc=0.8748, Val Loss=0.3271, Val Acc=0.8625\n",
      "Epoch 87: Train Loss=0.3035, Train Acc=0.8749, Val Loss=0.3269, Val Acc=0.8630\n",
      "Epoch 88: Train Loss=0.3032, Train Acc=0.8750, Val Loss=0.3267, Val Acc=0.8625\n",
      "Epoch 89: Train Loss=0.3029, Train Acc=0.8752, Val Loss=0.3265, Val Acc=0.8631\n",
      "Epoch 90: Train Loss=0.3026, Train Acc=0.8754, Val Loss=0.3263, Val Acc=0.8637\n",
      "Epoch 91: Train Loss=0.3024, Train Acc=0.8754, Val Loss=0.3261, Val Acc=0.8640\n",
      "Epoch 92: Train Loss=0.3021, Train Acc=0.8756, Val Loss=0.3260, Val Acc=0.8640\n",
      "Epoch 93: Train Loss=0.3018, Train Acc=0.8757, Val Loss=0.3258, Val Acc=0.8646\n",
      "Epoch 94: Train Loss=0.3016, Train Acc=0.8759, Val Loss=0.3257, Val Acc=0.8647\n",
      "Epoch 95: Train Loss=0.3014, Train Acc=0.8760, Val Loss=0.3255, Val Acc=0.8645\n",
      "Epoch 96: Train Loss=0.3011, Train Acc=0.8763, Val Loss=0.3253, Val Acc=0.8649\n",
      "Epoch 97: Train Loss=0.3009, Train Acc=0.8763, Val Loss=0.3252, Val Acc=0.8646\n",
      "Epoch 98: Train Loss=0.3007, Train Acc=0.8764, Val Loss=0.3251, Val Acc=0.8650\n",
      "Epoch 99: Train Loss=0.3005, Train Acc=0.8765, Val Loss=0.3250, Val Acc=0.8650\n",
      "Epoch 100: Train Loss=0.3003, Train Acc=0.8765, Val Loss=0.3248, Val Acc=0.8656\n",
      "Epoch 101: Train Loss=0.3001, Train Acc=0.8767, Val Loss=0.3247, Val Acc=0.8656\n",
      "Epoch 102: Train Loss=0.2999, Train Acc=0.8769, Val Loss=0.3247, Val Acc=0.8659\n",
      "Epoch 103: Train Loss=0.2997, Train Acc=0.8770, Val Loss=0.3246, Val Acc=0.8657\n",
      "Epoch 104: Train Loss=0.2995, Train Acc=0.8771, Val Loss=0.3245, Val Acc=0.8657\n",
      "Epoch 105: Train Loss=0.2994, Train Acc=0.8771, Val Loss=0.3244, Val Acc=0.8659\n",
      "Epoch 106: Train Loss=0.2992, Train Acc=0.8773, Val Loss=0.3243, Val Acc=0.8656\n",
      "Epoch 107: Train Loss=0.2991, Train Acc=0.8773, Val Loss=0.3243, Val Acc=0.8661\n",
      "Epoch 108: Train Loss=0.2989, Train Acc=0.8774, Val Loss=0.3243, Val Acc=0.8657\n",
      "Epoch 109: Train Loss=0.2988, Train Acc=0.8775, Val Loss=0.3242, Val Acc=0.8655\n",
      "Epoch 110: Train Loss=0.2986, Train Acc=0.8775, Val Loss=0.3243, Val Acc=0.8659\n",
      "Epoch 111: Train Loss=0.2985, Train Acc=0.8777, Val Loss=0.3243, Val Acc=0.8657\n",
      "Epoch 112: Train Loss=0.2984, Train Acc=0.8778, Val Loss=0.3243, Val Acc=0.8660\n",
      "Epoch 113: Train Loss=0.2982, Train Acc=0.8779, Val Loss=0.3243, Val Acc=0.8656\n",
      "Epoch 114: Train Loss=0.2981, Train Acc=0.8779, Val Loss=0.3243, Val Acc=0.8657\n",
      "Epoch 115: Train Loss=0.2980, Train Acc=0.8782, Val Loss=0.3244, Val Acc=0.8654\n",
      "Epoch 116: Train Loss=0.2979, Train Acc=0.8781, Val Loss=0.3244, Val Acc=0.8654\n",
      "Epoch 117: Train Loss=0.2978, Train Acc=0.8782, Val Loss=0.3245, Val Acc=0.8652\n",
      "Epoch 118: Train Loss=0.2977, Train Acc=0.8786, Val Loss=0.3245, Val Acc=0.8647\n",
      "Epoch 119: Train Loss=0.2976, Train Acc=0.8785, Val Loss=0.3246, Val Acc=0.8645\n",
      "Epoch 120: Train Loss=0.2974, Train Acc=0.8783, Val Loss=0.3246, Val Acc=0.8648\n",
      "Epoch 121: Train Loss=0.2973, Train Acc=0.8784, Val Loss=0.3245, Val Acc=0.8647\n",
      "Epoch 122: Train Loss=0.2972, Train Acc=0.8783, Val Loss=0.3245, Val Acc=0.8647\n",
      "Epoch 123: Train Loss=0.2970, Train Acc=0.8785, Val Loss=0.3244, Val Acc=0.8644\n",
      "Epoch 124: Train Loss=0.2969, Train Acc=0.8786, Val Loss=0.3243, Val Acc=0.8652\n",
      "Epoch 125: Train Loss=0.2967, Train Acc=0.8787, Val Loss=0.3242, Val Acc=0.8650\n",
      "Epoch 126: Train Loss=0.2966, Train Acc=0.8788, Val Loss=0.3241, Val Acc=0.8650\n",
      "Epoch 127: Train Loss=0.2964, Train Acc=0.8788, Val Loss=0.3240, Val Acc=0.8647\n",
      "Epoch 128: Train Loss=0.2962, Train Acc=0.8789, Val Loss=0.3238, Val Acc=0.8653\n",
      "Epoch 129: Train Loss=0.2961, Train Acc=0.8789, Val Loss=0.3236, Val Acc=0.8648\n",
      "Epoch 130: Train Loss=0.2959, Train Acc=0.8790, Val Loss=0.3235, Val Acc=0.8650\n",
      "Epoch 131: Train Loss=0.2957, Train Acc=0.8791, Val Loss=0.3233, Val Acc=0.8652\n",
      "Epoch 132: Train Loss=0.2956, Train Acc=0.8793, Val Loss=0.3232, Val Acc=0.8656\n",
      "Epoch 133: Train Loss=0.2954, Train Acc=0.8793, Val Loss=0.3230, Val Acc=0.8657\n",
      "Epoch 134: Train Loss=0.2952, Train Acc=0.8793, Val Loss=0.3229, Val Acc=0.8659\n",
      "Epoch 135: Train Loss=0.2951, Train Acc=0.8795, Val Loss=0.3227, Val Acc=0.8661\n",
      "Epoch 136: Train Loss=0.2949, Train Acc=0.8796, Val Loss=0.3226, Val Acc=0.8661\n",
      "Epoch 137: Train Loss=0.2948, Train Acc=0.8797, Val Loss=0.3224, Val Acc=0.8663\n",
      "Epoch 138: Train Loss=0.2946, Train Acc=0.8798, Val Loss=0.3223, Val Acc=0.8666\n",
      "Epoch 139: Train Loss=0.2945, Train Acc=0.8799, Val Loss=0.3222, Val Acc=0.8666\n",
      "Epoch 140: Train Loss=0.2943, Train Acc=0.8799, Val Loss=0.3221, Val Acc=0.8666\n",
      "Epoch 141: Train Loss=0.2942, Train Acc=0.8799, Val Loss=0.3219, Val Acc=0.8667\n",
      "Epoch 142: Train Loss=0.2941, Train Acc=0.8801, Val Loss=0.3218, Val Acc=0.8669\n",
      "Epoch 143: Train Loss=0.2939, Train Acc=0.8800, Val Loss=0.3217, Val Acc=0.8666\n",
      "Epoch 144: Train Loss=0.2938, Train Acc=0.8802, Val Loss=0.3216, Val Acc=0.8669\n",
      "Epoch 145: Train Loss=0.2937, Train Acc=0.8801, Val Loss=0.3216, Val Acc=0.8670\n",
      "Epoch 146: Train Loss=0.2936, Train Acc=0.8802, Val Loss=0.3214, Val Acc=0.8672\n",
      "Epoch 147: Train Loss=0.2934, Train Acc=0.8802, Val Loss=0.3214, Val Acc=0.8672\n",
      "Epoch 148: Train Loss=0.2933, Train Acc=0.8804, Val Loss=0.3213, Val Acc=0.8674\n",
      "Epoch 149: Train Loss=0.2932, Train Acc=0.8805, Val Loss=0.3212, Val Acc=0.8675\n",
      "Epoch 150: Train Loss=0.2931, Train Acc=0.8806, Val Loss=0.3211, Val Acc=0.8674\n",
      "Epoch 151: Train Loss=0.2930, Train Acc=0.8806, Val Loss=0.3210, Val Acc=0.8674\n",
      "Epoch 152: Train Loss=0.2928, Train Acc=0.8806, Val Loss=0.3209, Val Acc=0.8672\n",
      "Epoch 153: Train Loss=0.2927, Train Acc=0.8807, Val Loss=0.3209, Val Acc=0.8674\n",
      "Epoch 154: Train Loss=0.2926, Train Acc=0.8808, Val Loss=0.3208, Val Acc=0.8674\n",
      "Epoch 155: Train Loss=0.2925, Train Acc=0.8811, Val Loss=0.3207, Val Acc=0.8675\n",
      "Epoch 156: Train Loss=0.2924, Train Acc=0.8812, Val Loss=0.3206, Val Acc=0.8672\n",
      "Epoch 157: Train Loss=0.2923, Train Acc=0.8811, Val Loss=0.3205, Val Acc=0.8676\n",
      "Epoch 158: Train Loss=0.2922, Train Acc=0.8813, Val Loss=0.3205, Val Acc=0.8675\n",
      "Epoch 159: Train Loss=0.2921, Train Acc=0.8814, Val Loss=0.3204, Val Acc=0.8676\n",
      "Epoch 160: Train Loss=0.2919, Train Acc=0.8815, Val Loss=0.3203, Val Acc=0.8675\n",
      "Epoch 161: Train Loss=0.2918, Train Acc=0.8815, Val Loss=0.3202, Val Acc=0.8675\n",
      "Epoch 162: Train Loss=0.2917, Train Acc=0.8817, Val Loss=0.3202, Val Acc=0.8672\n",
      "Epoch 163: Train Loss=0.2916, Train Acc=0.8817, Val Loss=0.3201, Val Acc=0.8674\n",
      "Epoch 164: Train Loss=0.2915, Train Acc=0.8819, Val Loss=0.3201, Val Acc=0.8674\n",
      "Epoch 165: Train Loss=0.2914, Train Acc=0.8820, Val Loss=0.3200, Val Acc=0.8674\n",
      "Epoch 166: Train Loss=0.2913, Train Acc=0.8820, Val Loss=0.3199, Val Acc=0.8672\n",
      "Epoch 167: Train Loss=0.2912, Train Acc=0.8821, Val Loss=0.3198, Val Acc=0.8678\n",
      "Epoch 168: Train Loss=0.2911, Train Acc=0.8822, Val Loss=0.3198, Val Acc=0.8676\n",
      "Epoch 169: Train Loss=0.2910, Train Acc=0.8822, Val Loss=0.3197, Val Acc=0.8676\n",
      "Epoch 170: Train Loss=0.2909, Train Acc=0.8822, Val Loss=0.3196, Val Acc=0.8674\n",
      "Epoch 171: Train Loss=0.2908, Train Acc=0.8823, Val Loss=0.3196, Val Acc=0.8675\n",
      "Epoch 172: Train Loss=0.2907, Train Acc=0.8824, Val Loss=0.3195, Val Acc=0.8675\n",
      "Epoch 173: Train Loss=0.2907, Train Acc=0.8824, Val Loss=0.3194, Val Acc=0.8672\n",
      "Epoch 174: Train Loss=0.2906, Train Acc=0.8826, Val Loss=0.3194, Val Acc=0.8675\n",
      "Epoch 175: Train Loss=0.2905, Train Acc=0.8826, Val Loss=0.3193, Val Acc=0.8676\n",
      "Epoch 176: Train Loss=0.2904, Train Acc=0.8827, Val Loss=0.3192, Val Acc=0.8674\n",
      "Epoch 177: Train Loss=0.2903, Train Acc=0.8827, Val Loss=0.3192, Val Acc=0.8671\n",
      "Epoch 178: Train Loss=0.2902, Train Acc=0.8828, Val Loss=0.3191, Val Acc=0.8674\n",
      "Epoch 179: Train Loss=0.2901, Train Acc=0.8829, Val Loss=0.3191, Val Acc=0.8672\n",
      "Epoch 180: Train Loss=0.2901, Train Acc=0.8829, Val Loss=0.3190, Val Acc=0.8670\n",
      "Epoch 181: Train Loss=0.2900, Train Acc=0.8830, Val Loss=0.3190, Val Acc=0.8667\n",
      "Epoch 182: Train Loss=0.2899, Train Acc=0.8832, Val Loss=0.3189, Val Acc=0.8670\n",
      "Epoch 183: Train Loss=0.2898, Train Acc=0.8832, Val Loss=0.3189, Val Acc=0.8670\n",
      "Epoch 184: Train Loss=0.2898, Train Acc=0.8832, Val Loss=0.3188, Val Acc=0.8670\n",
      "Epoch 185: Train Loss=0.2897, Train Acc=0.8832, Val Loss=0.3188, Val Acc=0.8668\n",
      "Epoch 186: Train Loss=0.2896, Train Acc=0.8833, Val Loss=0.3187, Val Acc=0.8669\n",
      "Epoch 187: Train Loss=0.2895, Train Acc=0.8833, Val Loss=0.3187, Val Acc=0.8671\n",
      "Epoch 188: Train Loss=0.2895, Train Acc=0.8833, Val Loss=0.3186, Val Acc=0.8672\n",
      "Epoch 189: Train Loss=0.2894, Train Acc=0.8834, Val Loss=0.3185, Val Acc=0.8671\n",
      "Epoch 190: Train Loss=0.2893, Train Acc=0.8834, Val Loss=0.3185, Val Acc=0.8671\n",
      "Epoch 191: Train Loss=0.2893, Train Acc=0.8835, Val Loss=0.3184, Val Acc=0.8672\n",
      "Epoch 192: Train Loss=0.2892, Train Acc=0.8835, Val Loss=0.3184, Val Acc=0.8670\n",
      "Epoch 193: Train Loss=0.2891, Train Acc=0.8836, Val Loss=0.3183, Val Acc=0.8672\n",
      "Epoch 194: Train Loss=0.2891, Train Acc=0.8837, Val Loss=0.3183, Val Acc=0.8670\n",
      "Epoch 195: Train Loss=0.2890, Train Acc=0.8838, Val Loss=0.3182, Val Acc=0.8674\n",
      "Epoch 196: Train Loss=0.2889, Train Acc=0.8838, Val Loss=0.3182, Val Acc=0.8674\n",
      "Epoch 197: Train Loss=0.2889, Train Acc=0.8838, Val Loss=0.3181, Val Acc=0.8675\n",
      "Epoch 198: Train Loss=0.2888, Train Acc=0.8839, Val Loss=0.3181, Val Acc=0.8676\n",
      "Epoch 199: Train Loss=0.2887, Train Acc=0.8840, Val Loss=0.3181, Val Acc=0.8674\n",
      "Epoch 200: Train Loss=0.2887, Train Acc=0.8839, Val Loss=0.3180, Val Acc=0.8672\n",
      "Epoch 201: Train Loss=0.2886, Train Acc=0.8841, Val Loss=0.3180, Val Acc=0.8674\n",
      "Epoch 202: Train Loss=0.2886, Train Acc=0.8841, Val Loss=0.3180, Val Acc=0.8675\n",
      "Epoch 203: Train Loss=0.2885, Train Acc=0.8841, Val Loss=0.3179, Val Acc=0.8676\n",
      "Epoch 204: Train Loss=0.2885, Train Acc=0.8841, Val Loss=0.3179, Val Acc=0.8672\n",
      "Epoch 205: Train Loss=0.2884, Train Acc=0.8843, Val Loss=0.3179, Val Acc=0.8675\n",
      "Epoch 206: Train Loss=0.2884, Train Acc=0.8842, Val Loss=0.3178, Val Acc=0.8674\n",
      "Epoch 207: Train Loss=0.2883, Train Acc=0.8843, Val Loss=0.3178, Val Acc=0.8675\n",
      "Epoch 208: Train Loss=0.2883, Train Acc=0.8842, Val Loss=0.3178, Val Acc=0.8676\n",
      "Epoch 209: Train Loss=0.2882, Train Acc=0.8841, Val Loss=0.3177, Val Acc=0.8675\n",
      "Epoch 210: Train Loss=0.2882, Train Acc=0.8843, Val Loss=0.3177, Val Acc=0.8678\n",
      "Epoch 211: Train Loss=0.2881, Train Acc=0.8842, Val Loss=0.3177, Val Acc=0.8681\n",
      "Epoch 212: Train Loss=0.2881, Train Acc=0.8843, Val Loss=0.3176, Val Acc=0.8679\n",
      "Epoch 213: Train Loss=0.2880, Train Acc=0.8844, Val Loss=0.3176, Val Acc=0.8676\n",
      "Epoch 214: Train Loss=0.2880, Train Acc=0.8844, Val Loss=0.3176, Val Acc=0.8678\n",
      "Epoch 215: Train Loss=0.2880, Train Acc=0.8845, Val Loss=0.3176, Val Acc=0.8677\n",
      "Epoch 216: Train Loss=0.2879, Train Acc=0.8845, Val Loss=0.3175, Val Acc=0.8681\n",
      "Epoch 217: Train Loss=0.2879, Train Acc=0.8845, Val Loss=0.3175, Val Acc=0.8679\n",
      "Epoch 218: Train Loss=0.2878, Train Acc=0.8846, Val Loss=0.3175, Val Acc=0.8682\n",
      "Epoch 219: Train Loss=0.2878, Train Acc=0.8845, Val Loss=0.3175, Val Acc=0.8678\n",
      "Epoch 220: Train Loss=0.2878, Train Acc=0.8844, Val Loss=0.3175, Val Acc=0.8683\n",
      "Epoch 221: Train Loss=0.2877, Train Acc=0.8845, Val Loss=0.3174, Val Acc=0.8683\n",
      "Epoch 222: Train Loss=0.2877, Train Acc=0.8845, Val Loss=0.3174, Val Acc=0.8682\n",
      "Epoch 223: Train Loss=0.2877, Train Acc=0.8844, Val Loss=0.3174, Val Acc=0.8684\n",
      "Epoch 224: Train Loss=0.2876, Train Acc=0.8844, Val Loss=0.3174, Val Acc=0.8684\n",
      "Epoch 225: Train Loss=0.2876, Train Acc=0.8845, Val Loss=0.3174, Val Acc=0.8683\n",
      "Epoch 226: Train Loss=0.2876, Train Acc=0.8844, Val Loss=0.3173, Val Acc=0.8685\n",
      "Epoch 227: Train Loss=0.2875, Train Acc=0.8844, Val Loss=0.3173, Val Acc=0.8682\n",
      "Epoch 228: Train Loss=0.2875, Train Acc=0.8845, Val Loss=0.3173, Val Acc=0.8684\n",
      "Epoch 229: Train Loss=0.2875, Train Acc=0.8845, Val Loss=0.3173, Val Acc=0.8685\n",
      "Epoch 230: Train Loss=0.2874, Train Acc=0.8846, Val Loss=0.3172, Val Acc=0.8684\n",
      "Epoch 231: Train Loss=0.2874, Train Acc=0.8846, Val Loss=0.3172, Val Acc=0.8686\n",
      "Epoch 232: Train Loss=0.2874, Train Acc=0.8847, Val Loss=0.3172, Val Acc=0.8685\n",
      "Epoch 233: Train Loss=0.2874, Train Acc=0.8846, Val Loss=0.3172, Val Acc=0.8685\n",
      "Epoch 234: Train Loss=0.2873, Train Acc=0.8848, Val Loss=0.3172, Val Acc=0.8686\n",
      "Epoch 235: Train Loss=0.2873, Train Acc=0.8847, Val Loss=0.3171, Val Acc=0.8687\n",
      "Epoch 236: Train Loss=0.2873, Train Acc=0.8848, Val Loss=0.3171, Val Acc=0.8683\n",
      "Epoch 237: Train Loss=0.2872, Train Acc=0.8847, Val Loss=0.3171, Val Acc=0.8689\n",
      "Epoch 238: Train Loss=0.2872, Train Acc=0.8849, Val Loss=0.3171, Val Acc=0.8685\n",
      "Epoch 239: Train Loss=0.2872, Train Acc=0.8849, Val Loss=0.3171, Val Acc=0.8685\n",
      "Epoch 240: Train Loss=0.2872, Train Acc=0.8848, Val Loss=0.3171, Val Acc=0.8684\n",
      "Epoch 241: Train Loss=0.2871, Train Acc=0.8849, Val Loss=0.3171, Val Acc=0.8684\n",
      "Epoch 242: Train Loss=0.2871, Train Acc=0.8848, Val Loss=0.3170, Val Acc=0.8684\n",
      "Epoch 243: Train Loss=0.2871, Train Acc=0.8848, Val Loss=0.3170, Val Acc=0.8684\n",
      "Epoch 244: Train Loss=0.2871, Train Acc=0.8848, Val Loss=0.3170, Val Acc=0.8683\n",
      "Epoch 245: Train Loss=0.2870, Train Acc=0.8848, Val Loss=0.3170, Val Acc=0.8685\n",
      "Epoch 246: Train Loss=0.2870, Train Acc=0.8848, Val Loss=0.3170, Val Acc=0.8684\n",
      "Epoch 247: Train Loss=0.2870, Train Acc=0.8848, Val Loss=0.3170, Val Acc=0.8686\n",
      "Epoch 248: Train Loss=0.2870, Train Acc=0.8849, Val Loss=0.3170, Val Acc=0.8685\n",
      "Epoch 249: Train Loss=0.2870, Train Acc=0.8848, Val Loss=0.3170, Val Acc=0.8685\n",
      "Epoch 250: Train Loss=0.2869, Train Acc=0.8848, Val Loss=0.3170, Val Acc=0.8685\n",
      "Epoch 251: Train Loss=0.2869, Train Acc=0.8850, Val Loss=0.3170, Val Acc=0.8686\n",
      "Epoch 252: Train Loss=0.2869, Train Acc=0.8849, Val Loss=0.3169, Val Acc=0.8686\n",
      "Epoch 253: Train Loss=0.2869, Train Acc=0.8849, Val Loss=0.3169, Val Acc=0.8685\n",
      "Epoch 254: Train Loss=0.2869, Train Acc=0.8849, Val Loss=0.3169, Val Acc=0.8689\n",
      "Epoch 255: Train Loss=0.2869, Train Acc=0.8848, Val Loss=0.3169, Val Acc=0.8685\n",
      "Epoch 256: Train Loss=0.2868, Train Acc=0.8849, Val Loss=0.3169, Val Acc=0.8685\n",
      "Epoch 257: Train Loss=0.2868, Train Acc=0.8848, Val Loss=0.3168, Val Acc=0.8686\n",
      "Epoch 258: Train Loss=0.2868, Train Acc=0.8849, Val Loss=0.3168, Val Acc=0.8685\n",
      "Epoch 259: Train Loss=0.2868, Train Acc=0.8850, Val Loss=0.3168, Val Acc=0.8687\n",
      "Epoch 260: Train Loss=0.2868, Train Acc=0.8850, Val Loss=0.3168, Val Acc=0.8686\n",
      "Epoch 261: Train Loss=0.2868, Train Acc=0.8850, Val Loss=0.3168, Val Acc=0.8687\n",
      "Epoch 262: Train Loss=0.2867, Train Acc=0.8851, Val Loss=0.3168, Val Acc=0.8686\n",
      "Epoch 263: Train Loss=0.2867, Train Acc=0.8850, Val Loss=0.3167, Val Acc=0.8687\n",
      "Epoch 264: Train Loss=0.2867, Train Acc=0.8850, Val Loss=0.3167, Val Acc=0.8687\n",
      "Epoch 265: Train Loss=0.2867, Train Acc=0.8850, Val Loss=0.3167, Val Acc=0.8689\n",
      "Epoch 266: Train Loss=0.2866, Train Acc=0.8851, Val Loss=0.3167, Val Acc=0.8687\n",
      "Epoch 267: Train Loss=0.2866, Train Acc=0.8851, Val Loss=0.3167, Val Acc=0.8689\n",
      "Epoch 268: Train Loss=0.2866, Train Acc=0.8850, Val Loss=0.3167, Val Acc=0.8687\n",
      "Epoch 269: Train Loss=0.2866, Train Acc=0.8852, Val Loss=0.3167, Val Acc=0.8687\n",
      "Epoch 270: Train Loss=0.2866, Train Acc=0.8852, Val Loss=0.3167, Val Acc=0.8686\n",
      "Epoch 271: Train Loss=0.2865, Train Acc=0.8851, Val Loss=0.3167, Val Acc=0.8685\n",
      "Epoch 272: Train Loss=0.2865, Train Acc=0.8850, Val Loss=0.3167, Val Acc=0.8687\n",
      "Epoch 273: Train Loss=0.2865, Train Acc=0.8850, Val Loss=0.3166, Val Acc=0.8689\n",
      "Epoch 274: Train Loss=0.2865, Train Acc=0.8850, Val Loss=0.3166, Val Acc=0.8689\n",
      "Epoch 275: Train Loss=0.2865, Train Acc=0.8851, Val Loss=0.3166, Val Acc=0.8686\n",
      "Epoch 276: Train Loss=0.2864, Train Acc=0.8851, Val Loss=0.3166, Val Acc=0.8686\n",
      "Epoch 277: Train Loss=0.2864, Train Acc=0.8851, Val Loss=0.3166, Val Acc=0.8684\n",
      "Epoch 278: Train Loss=0.2864, Train Acc=0.8851, Val Loss=0.3166, Val Acc=0.8684\n",
      "Epoch 279: Train Loss=0.2864, Train Acc=0.8851, Val Loss=0.3166, Val Acc=0.8689\n",
      "Epoch 280: Train Loss=0.2864, Train Acc=0.8850, Val Loss=0.3166, Val Acc=0.8687\n",
      "Epoch 281: Train Loss=0.2864, Train Acc=0.8850, Val Loss=0.3166, Val Acc=0.8686\n",
      "Epoch 282: Train Loss=0.2864, Train Acc=0.8851, Val Loss=0.3166, Val Acc=0.8687\n",
      "Epoch 283: Train Loss=0.2863, Train Acc=0.8852, Val Loss=0.3166, Val Acc=0.8685\n",
      "Epoch 284: Train Loss=0.2863, Train Acc=0.8851, Val Loss=0.3166, Val Acc=0.8684\n",
      "Epoch 285: Train Loss=0.2863, Train Acc=0.8852, Val Loss=0.3165, Val Acc=0.8685\n",
      "Epoch 286: Train Loss=0.2863, Train Acc=0.8852, Val Loss=0.3166, Val Acc=0.8685\n",
      "Epoch 287: Train Loss=0.2863, Train Acc=0.8854, Val Loss=0.3165, Val Acc=0.8684\n",
      "Epoch 288: Train Loss=0.2863, Train Acc=0.8851, Val Loss=0.3165, Val Acc=0.8683\n",
      "Epoch 289: Train Loss=0.2863, Train Acc=0.8851, Val Loss=0.3166, Val Acc=0.8684\n",
      "Epoch 290: Train Loss=0.2862, Train Acc=0.8852, Val Loss=0.3165, Val Acc=0.8683\n",
      "Epoch 291: Train Loss=0.2862, Train Acc=0.8852, Val Loss=0.3165, Val Acc=0.8684\n",
      "Epoch 292: Train Loss=0.2862, Train Acc=0.8852, Val Loss=0.3165, Val Acc=0.8685\n",
      "Epoch 293: Train Loss=0.2862, Train Acc=0.8853, Val Loss=0.3165, Val Acc=0.8685\n",
      "Epoch 294: Train Loss=0.2862, Train Acc=0.8853, Val Loss=0.3165, Val Acc=0.8684\n",
      "Epoch 295: Train Loss=0.2862, Train Acc=0.8852, Val Loss=0.3165, Val Acc=0.8685\n",
      "Epoch 296: Train Loss=0.2862, Train Acc=0.8851, Val Loss=0.3165, Val Acc=0.8686\n",
      "Epoch 297: Train Loss=0.2862, Train Acc=0.8852, Val Loss=0.3165, Val Acc=0.8686\n",
      "Epoch 298: Train Loss=0.2862, Train Acc=0.8851, Val Loss=0.3165, Val Acc=0.8689\n",
      "Epoch 299: Train Loss=0.2861, Train Acc=0.8852, Val Loss=0.3165, Val Acc=0.8689\n",
      "Epoch 300: Train Loss=0.2861, Train Acc=0.8853, Val Loss=0.3165, Val Acc=0.8689\n",
      "Epoch 301: Train Loss=0.2861, Train Acc=0.8853, Val Loss=0.3165, Val Acc=0.8686\n",
      "Epoch 302: Train Loss=0.2861, Train Acc=0.8852, Val Loss=0.3165, Val Acc=0.8687\n",
      "Epoch 303: Train Loss=0.2861, Train Acc=0.8852, Val Loss=0.3165, Val Acc=0.8687\n",
      "Epoch 304: Train Loss=0.2861, Train Acc=0.8852, Val Loss=0.3165, Val Acc=0.8687\n",
      "Epoch 305: Train Loss=0.2861, Train Acc=0.8853, Val Loss=0.3165, Val Acc=0.8690\n",
      "Epoch 306: Train Loss=0.2861, Train Acc=0.8853, Val Loss=0.3165, Val Acc=0.8687\n",
      "Epoch 307: Train Loss=0.2860, Train Acc=0.8853, Val Loss=0.3165, Val Acc=0.8689\n",
      "Epoch 308: Train Loss=0.2860, Train Acc=0.8852, Val Loss=0.3165, Val Acc=0.8687\n",
      "Epoch 309: Train Loss=0.2860, Train Acc=0.8853, Val Loss=0.3164, Val Acc=0.8690\n",
      "Epoch 310: Train Loss=0.2860, Train Acc=0.8854, Val Loss=0.3165, Val Acc=0.8686\n",
      "Epoch 311: Train Loss=0.2860, Train Acc=0.8854, Val Loss=0.3164, Val Acc=0.8686\n",
      "Epoch 312: Train Loss=0.2860, Train Acc=0.8854, Val Loss=0.3164, Val Acc=0.8686\n",
      "Epoch 313: Train Loss=0.2860, Train Acc=0.8853, Val Loss=0.3164, Val Acc=0.8687\n",
      "Epoch 314: Train Loss=0.2860, Train Acc=0.8854, Val Loss=0.3164, Val Acc=0.8683\n",
      "Epoch 315: Train Loss=0.2860, Train Acc=0.8853, Val Loss=0.3164, Val Acc=0.8684\n",
      "Epoch 316: Train Loss=0.2859, Train Acc=0.8853, Val Loss=0.3164, Val Acc=0.8687\n",
      "Epoch 317: Train Loss=0.2859, Train Acc=0.8853, Val Loss=0.3164, Val Acc=0.8685\n",
      "Epoch 318: Train Loss=0.2859, Train Acc=0.8854, Val Loss=0.3164, Val Acc=0.8683\n",
      "Epoch 319: Train Loss=0.2859, Train Acc=0.8854, Val Loss=0.3164, Val Acc=0.8686\n",
      "Epoch 320: Train Loss=0.2859, Train Acc=0.8853, Val Loss=0.3164, Val Acc=0.8686\n",
      "Epoch 321: Train Loss=0.2859, Train Acc=0.8854, Val Loss=0.3164, Val Acc=0.8683\n",
      "Epoch 322: Train Loss=0.2859, Train Acc=0.8853, Val Loss=0.3164, Val Acc=0.8685\n",
      "Epoch 323: Train Loss=0.2859, Train Acc=0.8853, Val Loss=0.3164, Val Acc=0.8683\n",
      "Epoch 324: Train Loss=0.2859, Train Acc=0.8852, Val Loss=0.3164, Val Acc=0.8684\n",
      "Epoch 325: Train Loss=0.2859, Train Acc=0.8852, Val Loss=0.3164, Val Acc=0.8683\n",
      "Epoch 326: Train Loss=0.2859, Train Acc=0.8852, Val Loss=0.3164, Val Acc=0.8683\n",
      "Epoch 327: Train Loss=0.2858, Train Acc=0.8853, Val Loss=0.3164, Val Acc=0.8684\n",
      "Epoch 328: Train Loss=0.2858, Train Acc=0.8853, Val Loss=0.3163, Val Acc=0.8686\n",
      "Epoch 329: Train Loss=0.2858, Train Acc=0.8852, Val Loss=0.3163, Val Acc=0.8685\n",
      "Epoch 330: Train Loss=0.2858, Train Acc=0.8853, Val Loss=0.3163, Val Acc=0.8683\n",
      "Epoch 331: Train Loss=0.2858, Train Acc=0.8852, Val Loss=0.3163, Val Acc=0.8682\n",
      "Epoch 332: Train Loss=0.2858, Train Acc=0.8852, Val Loss=0.3163, Val Acc=0.8682\n",
      "Epoch 333: Train Loss=0.2858, Train Acc=0.8853, Val Loss=0.3163, Val Acc=0.8684\n",
      "Epoch 334: Train Loss=0.2858, Train Acc=0.8853, Val Loss=0.3163, Val Acc=0.8684\n",
      "Epoch 335: Train Loss=0.2858, Train Acc=0.8852, Val Loss=0.3163, Val Acc=0.8683\n",
      "Epoch 336: Train Loss=0.2858, Train Acc=0.8852, Val Loss=0.3163, Val Acc=0.8686\n",
      "Epoch 337: Train Loss=0.2858, Train Acc=0.8853, Val Loss=0.3163, Val Acc=0.8685\n",
      "Epoch 338: Train Loss=0.2858, Train Acc=0.8852, Val Loss=0.3163, Val Acc=0.8684\n",
      "Epoch 339: Train Loss=0.2858, Train Acc=0.8853, Val Loss=0.3163, Val Acc=0.8684\n",
      "Epoch 340: Train Loss=0.2857, Train Acc=0.8854, Val Loss=0.3163, Val Acc=0.8684\n",
      "Epoch 341: Train Loss=0.2857, Train Acc=0.8854, Val Loss=0.3163, Val Acc=0.8684\n",
      "Epoch 342: Train Loss=0.2857, Train Acc=0.8854, Val Loss=0.3163, Val Acc=0.8685\n",
      "Epoch 343: Train Loss=0.2857, Train Acc=0.8853, Val Loss=0.3163, Val Acc=0.8682\n",
      "Epoch 344: Train Loss=0.2857, Train Acc=0.8853, Val Loss=0.3163, Val Acc=0.8684\n",
      "Epoch 345: Train Loss=0.2857, Train Acc=0.8854, Val Loss=0.3163, Val Acc=0.8684\n",
      "Epoch 346: Train Loss=0.2857, Train Acc=0.8853, Val Loss=0.3163, Val Acc=0.8684\n",
      "Epoch 347: Train Loss=0.2857, Train Acc=0.8854, Val Loss=0.3163, Val Acc=0.8683\n",
      "Epoch 348: Train Loss=0.2857, Train Acc=0.8853, Val Loss=0.3162, Val Acc=0.8683\n",
      "Epoch 349: Train Loss=0.2857, Train Acc=0.8853, Val Loss=0.3163, Val Acc=0.8683\n",
      "Epoch 350: Train Loss=0.2857, Train Acc=0.8854, Val Loss=0.3162, Val Acc=0.8684\n",
      "Epoch 351: Train Loss=0.2856, Train Acc=0.8854, Val Loss=0.3162, Val Acc=0.8684\n",
      "Epoch 352: Train Loss=0.2856, Train Acc=0.8854, Val Loss=0.3162, Val Acc=0.8684\n",
      "Epoch 353: Train Loss=0.2856, Train Acc=0.8853, Val Loss=0.3162, Val Acc=0.8683\n",
      "Epoch 354: Train Loss=0.2856, Train Acc=0.8854, Val Loss=0.3162, Val Acc=0.8684\n",
      "Epoch 355: Train Loss=0.2856, Train Acc=0.8853, Val Loss=0.3162, Val Acc=0.8684\n",
      "Epoch 356: Train Loss=0.2856, Train Acc=0.8853, Val Loss=0.3162, Val Acc=0.8684\n",
      "Epoch 357: Train Loss=0.2856, Train Acc=0.8853, Val Loss=0.3162, Val Acc=0.8685\n",
      "Epoch 358: Train Loss=0.2856, Train Acc=0.8854, Val Loss=0.3162, Val Acc=0.8683\n",
      "Epoch 359: Train Loss=0.2856, Train Acc=0.8854, Val Loss=0.3161, Val Acc=0.8682\n",
      "Epoch 360: Train Loss=0.2856, Train Acc=0.8853, Val Loss=0.3162, Val Acc=0.8684\n",
      "Epoch 361: Train Loss=0.2856, Train Acc=0.8854, Val Loss=0.3161, Val Acc=0.8682\n",
      "Epoch 362: Train Loss=0.2856, Train Acc=0.8854, Val Loss=0.3161, Val Acc=0.8683\n",
      "Epoch 363: Train Loss=0.2856, Train Acc=0.8854, Val Loss=0.3161, Val Acc=0.8685\n",
      "Epoch 364: Train Loss=0.2855, Train Acc=0.8854, Val Loss=0.3161, Val Acc=0.8685\n",
      "Epoch 365: Train Loss=0.2855, Train Acc=0.8853, Val Loss=0.3161, Val Acc=0.8683\n",
      "Epoch 366: Train Loss=0.2855, Train Acc=0.8854, Val Loss=0.3161, Val Acc=0.8684\n",
      "Epoch 367: Train Loss=0.2855, Train Acc=0.8853, Val Loss=0.3161, Val Acc=0.8683\n",
      "Epoch 368: Train Loss=0.2855, Train Acc=0.8854, Val Loss=0.3161, Val Acc=0.8682\n",
      "Epoch 369: Train Loss=0.2855, Train Acc=0.8855, Val Loss=0.3161, Val Acc=0.8682\n",
      "Epoch 370: Train Loss=0.2855, Train Acc=0.8854, Val Loss=0.3161, Val Acc=0.8683\n",
      "Epoch 371: Train Loss=0.2855, Train Acc=0.8855, Val Loss=0.3160, Val Acc=0.8681\n",
      "Epoch 372: Train Loss=0.2855, Train Acc=0.8856, Val Loss=0.3160, Val Acc=0.8684\n",
      "Epoch 373: Train Loss=0.2855, Train Acc=0.8853, Val Loss=0.3160, Val Acc=0.8682\n",
      "Epoch 374: Train Loss=0.2855, Train Acc=0.8855, Val Loss=0.3160, Val Acc=0.8684\n",
      "Epoch 375: Train Loss=0.2855, Train Acc=0.8855, Val Loss=0.3160, Val Acc=0.8685\n",
      "Epoch 376: Train Loss=0.2855, Train Acc=0.8855, Val Loss=0.3160, Val Acc=0.8685\n",
      "Epoch 377: Train Loss=0.2855, Train Acc=0.8855, Val Loss=0.3160, Val Acc=0.8685\n",
      "Epoch 378: Train Loss=0.2854, Train Acc=0.8856, Val Loss=0.3160, Val Acc=0.8683\n",
      "Epoch 379: Train Loss=0.2854, Train Acc=0.8855, Val Loss=0.3160, Val Acc=0.8684\n",
      "Epoch 380: Train Loss=0.2854, Train Acc=0.8855, Val Loss=0.3160, Val Acc=0.8685\n",
      "Epoch 381: Train Loss=0.2854, Train Acc=0.8856, Val Loss=0.3160, Val Acc=0.8684\n",
      "Epoch 382: Train Loss=0.2854, Train Acc=0.8855, Val Loss=0.3160, Val Acc=0.8683\n",
      "Epoch 383: Train Loss=0.2854, Train Acc=0.8855, Val Loss=0.3160, Val Acc=0.8684\n",
      "Epoch 384: Train Loss=0.2854, Train Acc=0.8856, Val Loss=0.3160, Val Acc=0.8683\n",
      "Epoch 385: Train Loss=0.2854, Train Acc=0.8857, Val Loss=0.3160, Val Acc=0.8684\n",
      "Epoch 386: Train Loss=0.2854, Train Acc=0.8856, Val Loss=0.3160, Val Acc=0.8682\n",
      "Epoch 387: Train Loss=0.2854, Train Acc=0.8856, Val Loss=0.3160, Val Acc=0.8681\n",
      "Epoch 388: Train Loss=0.2854, Train Acc=0.8856, Val Loss=0.3160, Val Acc=0.8678\n",
      "Epoch 389: Train Loss=0.2854, Train Acc=0.8857, Val Loss=0.3160, Val Acc=0.8681\n",
      "Epoch 390: Train Loss=0.2854, Train Acc=0.8858, Val Loss=0.3160, Val Acc=0.8681\n",
      "Epoch 391: Train Loss=0.2854, Train Acc=0.8857, Val Loss=0.3160, Val Acc=0.8682\n",
      "Epoch 392: Train Loss=0.2854, Train Acc=0.8858, Val Loss=0.3160, Val Acc=0.8682\n",
      "Epoch 393: Train Loss=0.2854, Train Acc=0.8857, Val Loss=0.3160, Val Acc=0.8681\n",
      "Epoch 394: Train Loss=0.2853, Train Acc=0.8857, Val Loss=0.3160, Val Acc=0.8684\n",
      "Epoch 395: Train Loss=0.2853, Train Acc=0.8858, Val Loss=0.3160, Val Acc=0.8684\n",
      "Epoch 396: Train Loss=0.2853, Train Acc=0.8857, Val Loss=0.3160, Val Acc=0.8681\n",
      "Epoch 397: Train Loss=0.2853, Train Acc=0.8858, Val Loss=0.3160, Val Acc=0.8683\n",
      "Epoch 398: Train Loss=0.2853, Train Acc=0.8858, Val Loss=0.3160, Val Acc=0.8679\n",
      "Epoch 399: Train Loss=0.2853, Train Acc=0.8858, Val Loss=0.3160, Val Acc=0.8679\n",
      "Epoch 400: Train Loss=0.2853, Train Acc=0.8858, Val Loss=0.3160, Val Acc=0.8676\n",
      "Epoch 401: Train Loss=0.2853, Train Acc=0.8857, Val Loss=0.3160, Val Acc=0.8683\n",
      "Epoch 402: Train Loss=0.2853, Train Acc=0.8858, Val Loss=0.3159, Val Acc=0.8679\n",
      "Epoch 403: Train Loss=0.2853, Train Acc=0.8858, Val Loss=0.3159, Val Acc=0.8681\n",
      "Epoch 404: Train Loss=0.2853, Train Acc=0.8858, Val Loss=0.3159, Val Acc=0.8682\n",
      "Epoch 405: Train Loss=0.2853, Train Acc=0.8858, Val Loss=0.3159, Val Acc=0.8682\n",
      "Epoch 406: Train Loss=0.2853, Train Acc=0.8857, Val Loss=0.3159, Val Acc=0.8682\n",
      "Epoch 407: Train Loss=0.2852, Train Acc=0.8857, Val Loss=0.3159, Val Acc=0.8681\n",
      "Epoch 408: Train Loss=0.2852, Train Acc=0.8857, Val Loss=0.3159, Val Acc=0.8682\n",
      "Epoch 409: Train Loss=0.2852, Train Acc=0.8857, Val Loss=0.3159, Val Acc=0.8681\n",
      "Epoch 410: Train Loss=0.2852, Train Acc=0.8857, Val Loss=0.3159, Val Acc=0.8682\n",
      "Epoch 411: Train Loss=0.2852, Train Acc=0.8858, Val Loss=0.3159, Val Acc=0.8683\n",
      "Epoch 412: Train Loss=0.2852, Train Acc=0.8857, Val Loss=0.3159, Val Acc=0.8678\n",
      "Epoch 413: Train Loss=0.2852, Train Acc=0.8857, Val Loss=0.3159, Val Acc=0.8679\n",
      "Epoch 414: Train Loss=0.2852, Train Acc=0.8857, Val Loss=0.3159, Val Acc=0.8683\n",
      "Epoch 415: Train Loss=0.2852, Train Acc=0.8858, Val Loss=0.3159, Val Acc=0.8682\n",
      "Epoch 416: Train Loss=0.2852, Train Acc=0.8857, Val Loss=0.3159, Val Acc=0.8685\n",
      "Epoch 417: Train Loss=0.2852, Train Acc=0.8857, Val Loss=0.3159, Val Acc=0.8683\n",
      "Epoch 418: Train Loss=0.2852, Train Acc=0.8857, Val Loss=0.3159, Val Acc=0.8683\n",
      "Epoch 419: Train Loss=0.2852, Train Acc=0.8857, Val Loss=0.3159, Val Acc=0.8682\n",
      "Epoch 420: Train Loss=0.2852, Train Acc=0.8857, Val Loss=0.3159, Val Acc=0.8685\n",
      "Epoch 421: Train Loss=0.2852, Train Acc=0.8858, Val Loss=0.3159, Val Acc=0.8683\n",
      "Epoch 422: Train Loss=0.2851, Train Acc=0.8857, Val Loss=0.3159, Val Acc=0.8681\n",
      "Epoch 423: Train Loss=0.2852, Train Acc=0.8857, Val Loss=0.3159, Val Acc=0.8682\n",
      "Epoch 424: Train Loss=0.2852, Train Acc=0.8858, Val Loss=0.3159, Val Acc=0.8683\n",
      "Epoch 425: Train Loss=0.2851, Train Acc=0.8856, Val Loss=0.3159, Val Acc=0.8685\n",
      "Epoch 426: Train Loss=0.2851, Train Acc=0.8857, Val Loss=0.3159, Val Acc=0.8681\n",
      "Epoch 427: Train Loss=0.2851, Train Acc=0.8856, Val Loss=0.3158, Val Acc=0.8682\n",
      "Epoch 428: Train Loss=0.2851, Train Acc=0.8857, Val Loss=0.3159, Val Acc=0.8682\n",
      "Epoch 429: Train Loss=0.2851, Train Acc=0.8857, Val Loss=0.3158, Val Acc=0.8683\n",
      "Epoch 430: Train Loss=0.2851, Train Acc=0.8857, Val Loss=0.3158, Val Acc=0.8682\n",
      "Epoch 431: Train Loss=0.2851, Train Acc=0.8857, Val Loss=0.3159, Val Acc=0.8684\n",
      "Epoch 432: Train Loss=0.2851, Train Acc=0.8858, Val Loss=0.3158, Val Acc=0.8685\n",
      "Epoch 433: Train Loss=0.2851, Train Acc=0.8857, Val Loss=0.3158, Val Acc=0.8684\n",
      "Epoch 434: Train Loss=0.2851, Train Acc=0.8856, Val Loss=0.3158, Val Acc=0.8683\n",
      "Epoch 435: Train Loss=0.2851, Train Acc=0.8857, Val Loss=0.3158, Val Acc=0.8684\n",
      "Epoch 436: Train Loss=0.2851, Train Acc=0.8858, Val Loss=0.3158, Val Acc=0.8685\n",
      "Epoch 437: Train Loss=0.2851, Train Acc=0.8857, Val Loss=0.3158, Val Acc=0.8685\n",
      "Epoch 438: Train Loss=0.2851, Train Acc=0.8857, Val Loss=0.3158, Val Acc=0.8686\n",
      "Epoch 439: Train Loss=0.2851, Train Acc=0.8857, Val Loss=0.3158, Val Acc=0.8686\n",
      "Epoch 440: Train Loss=0.2850, Train Acc=0.8858, Val Loss=0.3158, Val Acc=0.8687\n",
      "Epoch 441: Train Loss=0.2850, Train Acc=0.8858, Val Loss=0.3158, Val Acc=0.8687\n",
      "Epoch 442: Train Loss=0.2850, Train Acc=0.8857, Val Loss=0.3158, Val Acc=0.8689\n",
      "Epoch 443: Train Loss=0.2850, Train Acc=0.8857, Val Loss=0.3158, Val Acc=0.8686\n",
      "Epoch 444: Train Loss=0.2850, Train Acc=0.8859, Val Loss=0.3158, Val Acc=0.8687\n",
      "Epoch 445: Train Loss=0.2850, Train Acc=0.8858, Val Loss=0.3158, Val Acc=0.8687\n",
      "Epoch 446: Train Loss=0.2850, Train Acc=0.8858, Val Loss=0.3158, Val Acc=0.8686\n",
      "Epoch 447: Train Loss=0.2850, Train Acc=0.8857, Val Loss=0.3158, Val Acc=0.8686\n",
      "Epoch 448: Train Loss=0.2850, Train Acc=0.8857, Val Loss=0.3158, Val Acc=0.8686\n",
      "Epoch 449: Train Loss=0.2850, Train Acc=0.8857, Val Loss=0.3158, Val Acc=0.8686\n",
      "Epoch 450: Train Loss=0.2850, Train Acc=0.8857, Val Loss=0.3158, Val Acc=0.8687\n",
      "Epoch 451: Train Loss=0.2850, Train Acc=0.8857, Val Loss=0.3158, Val Acc=0.8684\n",
      "Epoch 452: Train Loss=0.2850, Train Acc=0.8858, Val Loss=0.3158, Val Acc=0.8684\n",
      "Epoch 453: Train Loss=0.2850, Train Acc=0.8858, Val Loss=0.3157, Val Acc=0.8683\n",
      "Epoch 454: Train Loss=0.2850, Train Acc=0.8857, Val Loss=0.3157, Val Acc=0.8685\n",
      "Epoch 455: Train Loss=0.2849, Train Acc=0.8858, Val Loss=0.3157, Val Acc=0.8682\n",
      "Epoch 456: Train Loss=0.2849, Train Acc=0.8858, Val Loss=0.3158, Val Acc=0.8683\n",
      "Epoch 457: Train Loss=0.2849, Train Acc=0.8856, Val Loss=0.3157, Val Acc=0.8684\n",
      "Epoch 458: Train Loss=0.2850, Train Acc=0.8858, Val Loss=0.3157, Val Acc=0.8684\n",
      "Epoch 459: Train Loss=0.2849, Train Acc=0.8858, Val Loss=0.3157, Val Acc=0.8684\n",
      "Epoch 460: Train Loss=0.2849, Train Acc=0.8858, Val Loss=0.3157, Val Acc=0.8684\n",
      "Epoch 461: Train Loss=0.2849, Train Acc=0.8856, Val Loss=0.3157, Val Acc=0.8686\n",
      "Epoch 462: Train Loss=0.2849, Train Acc=0.8858, Val Loss=0.3157, Val Acc=0.8684\n",
      "Epoch 463: Train Loss=0.2849, Train Acc=0.8858, Val Loss=0.3157, Val Acc=0.8685\n",
      "Epoch 464: Train Loss=0.2849, Train Acc=0.8859, Val Loss=0.3157, Val Acc=0.8684\n",
      "Epoch 465: Train Loss=0.2849, Train Acc=0.8858, Val Loss=0.3157, Val Acc=0.8685\n",
      "Epoch 466: Train Loss=0.2849, Train Acc=0.8859, Val Loss=0.3157, Val Acc=0.8685\n",
      "Epoch 467: Train Loss=0.2849, Train Acc=0.8858, Val Loss=0.3157, Val Acc=0.8685\n",
      "Epoch 468: Train Loss=0.2849, Train Acc=0.8856, Val Loss=0.3157, Val Acc=0.8685\n",
      "Epoch 469: Train Loss=0.2849, Train Acc=0.8858, Val Loss=0.3157, Val Acc=0.8684\n",
      "Epoch 470: Train Loss=0.2849, Train Acc=0.8858, Val Loss=0.3157, Val Acc=0.8686\n",
      "Epoch 471: Train Loss=0.2849, Train Acc=0.8858, Val Loss=0.3157, Val Acc=0.8687\n",
      "Epoch 472: Train Loss=0.2849, Train Acc=0.8857, Val Loss=0.3157, Val Acc=0.8684\n",
      "Epoch 473: Train Loss=0.2849, Train Acc=0.8857, Val Loss=0.3157, Val Acc=0.8685\n",
      "Epoch 474: Train Loss=0.2849, Train Acc=0.8858, Val Loss=0.3157, Val Acc=0.8682\n",
      "Epoch 475: Train Loss=0.2849, Train Acc=0.8858, Val Loss=0.3157, Val Acc=0.8685\n",
      "Epoch 476: Train Loss=0.2849, Train Acc=0.8858, Val Loss=0.3157, Val Acc=0.8683\n",
      "Epoch 477: Train Loss=0.2849, Train Acc=0.8858, Val Loss=0.3157, Val Acc=0.8686\n",
      "Epoch 478: Train Loss=0.2849, Train Acc=0.8857, Val Loss=0.3157, Val Acc=0.8683\n",
      "Epoch 479: Train Loss=0.2848, Train Acc=0.8859, Val Loss=0.3157, Val Acc=0.8679\n",
      "Epoch 480: Train Loss=0.2848, Train Acc=0.8858, Val Loss=0.3157, Val Acc=0.8684\n",
      "Epoch 481: Train Loss=0.2848, Train Acc=0.8858, Val Loss=0.3157, Val Acc=0.8684\n",
      "Epoch 482: Train Loss=0.2848, Train Acc=0.8858, Val Loss=0.3157, Val Acc=0.8685\n",
      "Epoch 483: Train Loss=0.2848, Train Acc=0.8858, Val Loss=0.3157, Val Acc=0.8682\n",
      "Epoch 484: Train Loss=0.2848, Train Acc=0.8859, Val Loss=0.3157, Val Acc=0.8684\n",
      "Epoch 485: Train Loss=0.2848, Train Acc=0.8860, Val Loss=0.3157, Val Acc=0.8685\n",
      "Epoch 486: Train Loss=0.2848, Train Acc=0.8859, Val Loss=0.3157, Val Acc=0.8684\n",
      "Epoch 487: Train Loss=0.2848, Train Acc=0.8858, Val Loss=0.3157, Val Acc=0.8683\n",
      "Epoch 488: Train Loss=0.2848, Train Acc=0.8858, Val Loss=0.3157, Val Acc=0.8686\n",
      "Epoch 489: Train Loss=0.2848, Train Acc=0.8858, Val Loss=0.3157, Val Acc=0.8684\n",
      "Epoch 490: Train Loss=0.2848, Train Acc=0.8857, Val Loss=0.3157, Val Acc=0.8684\n",
      "Epoch 491: Train Loss=0.2848, Train Acc=0.8857, Val Loss=0.3157, Val Acc=0.8686\n",
      "Epoch 492: Train Loss=0.2848, Train Acc=0.8858, Val Loss=0.3157, Val Acc=0.8685\n",
      "Epoch 493: Train Loss=0.2848, Train Acc=0.8858, Val Loss=0.3157, Val Acc=0.8686\n",
      "Epoch 494: Train Loss=0.2848, Train Acc=0.8858, Val Loss=0.3157, Val Acc=0.8685\n",
      "Epoch 495: Train Loss=0.2848, Train Acc=0.8857, Val Loss=0.3157, Val Acc=0.8687\n",
      "Epoch 496: Train Loss=0.2848, Train Acc=0.8860, Val Loss=0.3156, Val Acc=0.8687\n",
      "Epoch 497: Train Loss=0.2848, Train Acc=0.8859, Val Loss=0.3157, Val Acc=0.8689\n",
      "Epoch 498: Train Loss=0.2848, Train Acc=0.8859, Val Loss=0.3157, Val Acc=0.8684\n",
      "Epoch 499: Train Loss=0.2848, Train Acc=0.8859, Val Loss=0.3156, Val Acc=0.8686\n",
      "Epoch 500: Train Loss=0.2848, Train Acc=0.8858, Val Loss=0.3157, Val Acc=0.8686\n",
      "Epoch 501: Train Loss=0.2848, Train Acc=0.8858, Val Loss=0.3157, Val Acc=0.8686\n",
      "Epoch 502: Train Loss=0.2848, Train Acc=0.8858, Val Loss=0.3157, Val Acc=0.8685\n",
      "Epoch 503: Train Loss=0.2848, Train Acc=0.8858, Val Loss=0.3157, Val Acc=0.8687\n",
      "Epoch 504: Train Loss=0.2848, Train Acc=0.8859, Val Loss=0.3157, Val Acc=0.8689\n",
      "Epoch 505: Train Loss=0.2848, Train Acc=0.8859, Val Loss=0.3157, Val Acc=0.8689\n",
      "Epoch 506: Train Loss=0.2848, Train Acc=0.8859, Val Loss=0.3157, Val Acc=0.8687\n",
      "Epoch 507: Train Loss=0.2848, Train Acc=0.8860, Val Loss=0.3157, Val Acc=0.8686\n",
      "Epoch 508: Train Loss=0.2847, Train Acc=0.8859, Val Loss=0.3157, Val Acc=0.8686\n",
      "Epoch 509: Train Loss=0.2847, Train Acc=0.8858, Val Loss=0.3157, Val Acc=0.8685\n",
      "Epoch 510: Train Loss=0.2847, Train Acc=0.8860, Val Loss=0.3157, Val Acc=0.8687\n",
      "Epoch 511: Train Loss=0.2848, Train Acc=0.8860, Val Loss=0.3157, Val Acc=0.8687\n",
      "Epoch 512: Train Loss=0.2847, Train Acc=0.8860, Val Loss=0.3157, Val Acc=0.8689\n",
      "Epoch 513: Train Loss=0.2847, Train Acc=0.8858, Val Loss=0.3156, Val Acc=0.8686\n",
      "Epoch 514: Train Loss=0.2847, Train Acc=0.8859, Val Loss=0.3157, Val Acc=0.8685\n",
      "Epoch 515: Train Loss=0.2847, Train Acc=0.8858, Val Loss=0.3157, Val Acc=0.8684\n",
      "Epoch 516: Train Loss=0.2847, Train Acc=0.8859, Val Loss=0.3157, Val Acc=0.8685\n",
      "Epoch 517: Train Loss=0.2847, Train Acc=0.8860, Val Loss=0.3157, Val Acc=0.8686\n",
      "Epoch 518: Train Loss=0.2847, Train Acc=0.8860, Val Loss=0.3156, Val Acc=0.8689\n",
      "Epoch 519: Train Loss=0.2847, Train Acc=0.8859, Val Loss=0.3156, Val Acc=0.8687\n",
      "Epoch 520: Train Loss=0.2847, Train Acc=0.8859, Val Loss=0.3156, Val Acc=0.8686\n",
      "Epoch 521: Train Loss=0.2847, Train Acc=0.8860, Val Loss=0.3157, Val Acc=0.8685\n",
      "Epoch 522: Train Loss=0.2847, Train Acc=0.8860, Val Loss=0.3156, Val Acc=0.8684\n",
      "Epoch 523: Train Loss=0.2847, Train Acc=0.8859, Val Loss=0.3156, Val Acc=0.8685\n",
      "Epoch 524: Train Loss=0.2847, Train Acc=0.8859, Val Loss=0.3156, Val Acc=0.8685\n",
      "Epoch 525: Train Loss=0.2847, Train Acc=0.8859, Val Loss=0.3156, Val Acc=0.8684\n",
      "Epoch 526: Train Loss=0.2847, Train Acc=0.8860, Val Loss=0.3156, Val Acc=0.8683\n",
      "Epoch 527: Train Loss=0.2847, Train Acc=0.8860, Val Loss=0.3157, Val Acc=0.8684\n",
      "Epoch 528: Train Loss=0.2847, Train Acc=0.8859, Val Loss=0.3156, Val Acc=0.8683\n",
      "Epoch 529: Train Loss=0.2847, Train Acc=0.8860, Val Loss=0.3156, Val Acc=0.8684\n",
      "Epoch 530: Train Loss=0.2847, Train Acc=0.8859, Val Loss=0.3156, Val Acc=0.8684\n",
      "Epoch 531: Train Loss=0.2847, Train Acc=0.8860, Val Loss=0.3156, Val Acc=0.8683\n",
      "Epoch 532: Train Loss=0.2847, Train Acc=0.8860, Val Loss=0.3156, Val Acc=0.8684\n",
      "Epoch 533: Train Loss=0.2847, Train Acc=0.8859, Val Loss=0.3156, Val Acc=0.8685\n",
      "Epoch 534: Train Loss=0.2847, Train Acc=0.8860, Val Loss=0.3156, Val Acc=0.8685\n",
      "Epoch 535: Train Loss=0.2847, Train Acc=0.8859, Val Loss=0.3156, Val Acc=0.8684\n",
      "Epoch 536: Train Loss=0.2846, Train Acc=0.8860, Val Loss=0.3156, Val Acc=0.8685\n",
      "Epoch 537: Train Loss=0.2847, Train Acc=0.8859, Val Loss=0.3157, Val Acc=0.8684\n",
      "Epoch 538: Train Loss=0.2847, Train Acc=0.8860, Val Loss=0.3157, Val Acc=0.8685\n",
      "Epoch 539: Train Loss=0.2847, Train Acc=0.8860, Val Loss=0.3156, Val Acc=0.8684\n",
      "Epoch 540: Train Loss=0.2846, Train Acc=0.8861, Val Loss=0.3156, Val Acc=0.8684\n",
      "Epoch 541: Train Loss=0.2846, Train Acc=0.8860, Val Loss=0.3156, Val Acc=0.8685\n",
      "Epoch 542: Train Loss=0.2846, Train Acc=0.8859, Val Loss=0.3156, Val Acc=0.8686\n",
      "Epoch 543: Train Loss=0.2846, Train Acc=0.8861, Val Loss=0.3156, Val Acc=0.8685\n",
      "Epoch 544: Train Loss=0.2846, Train Acc=0.8859, Val Loss=0.3156, Val Acc=0.8686\n",
      "Epoch 545: Train Loss=0.2846, Train Acc=0.8861, Val Loss=0.3156, Val Acc=0.8683\n",
      "Epoch 546: Train Loss=0.2846, Train Acc=0.8860, Val Loss=0.3156, Val Acc=0.8690\n",
      "Epoch 547: Train Loss=0.2846, Train Acc=0.8860, Val Loss=0.3157, Val Acc=0.8685\n",
      "Epoch 548: Train Loss=0.2846, Train Acc=0.8861, Val Loss=0.3156, Val Acc=0.8687\n",
      "Epoch 549: Train Loss=0.2846, Train Acc=0.8860, Val Loss=0.3156, Val Acc=0.8687\n",
      "Epoch 550: Train Loss=0.2846, Train Acc=0.8860, Val Loss=0.3156, Val Acc=0.8684\n",
      "Epoch 551: Train Loss=0.2846, Train Acc=0.8860, Val Loss=0.3157, Val Acc=0.8682\n",
      "Epoch 552: Train Loss=0.2846, Train Acc=0.8861, Val Loss=0.3156, Val Acc=0.8685\n",
      "Epoch 553: Train Loss=0.2846, Train Acc=0.8861, Val Loss=0.3156, Val Acc=0.8687\n",
      "Epoch 554: Train Loss=0.2846, Train Acc=0.8861, Val Loss=0.3156, Val Acc=0.8686\n",
      "Epoch 555: Train Loss=0.2846, Train Acc=0.8860, Val Loss=0.3156, Val Acc=0.8686\n",
      "Epoch 556: Train Loss=0.2846, Train Acc=0.8862, Val Loss=0.3156, Val Acc=0.8687\n",
      "Epoch 557: Train Loss=0.2846, Train Acc=0.8861, Val Loss=0.3156, Val Acc=0.8686\n",
      "Epoch 558: Train Loss=0.2846, Train Acc=0.8861, Val Loss=0.3156, Val Acc=0.8685\n",
      "Early stopping at epoch 558\n",
      "\n",
      "Best model saved at epoch 528 with Val Loss=0.3156 and Val Acc=0.8683 (Early Stopping Patience = 30)\n",
      "CPU times: user 4min 51s, sys: 1.49 s, total: 4min 52s\n",
      "Wall time: 4min 54s\n"
     ]
    }
   ],
   "source": [
    "%%time\n",
    "\n",
    "optimizer = optim.Adam(mlp.parameters(), lr=0.001, weight_decay=0.001)\n",
    "\n",
    "# every single parameter is the same as 1-d cnn model. the only difference is the model\n",
    "best_model_wts_mlp, mlp_Best, train_losses, train_accuracies, val_losses, val_accuracies = train_model(mlp,\n",
    "                                                                                                      train_loader,\n",
    "                                                                                                      val_loader,\n",
    "                                                                                                      criterion,\n",
    "                                                                                                      optimizer,\n",
    "                                                                                                      num_epochs,\n",
    "                                                                                                      early_stopping_patience)"
   ]
  },
  {
   "cell_type": "code",
   "execution_count": 135,
   "metadata": {},
   "outputs": [
    {
     "data": {
      "text/plain": [
       "<All keys matched successfully>"
      ]
     },
     "execution_count": 135,
     "metadata": {},
     "output_type": "execute_result"
    }
   ],
   "source": [
    "torch.save(best_model_wts_mlp, 'MLP_Best.pth')\n",
    "mlp.load_state_dict(torch.load('MLP_Best.pth'))"
   ]
  },
  {
   "cell_type": "code",
   "execution_count": 136,
   "metadata": {},
   "outputs": [],
   "source": [
    "train_preds_MLP, train_probs_MLP = make_predictions_using_NN(mlp, train_loader)\n",
    "val_preds_MLP, val_probs_MLP = make_predictions_using_NN(mlp, val_loader)\n",
    "test_preds_MLP, test_probs_MLP = make_predictions_using_NN(mlp, test_loader)"
   ]
  },
  {
   "cell_type": "code",
   "execution_count": 137,
   "metadata": {},
   "outputs": [
    {
     "name": "stdout",
     "output_type": "stream",
     "text": [
      "Training performance for MLP\n",
      "              precision    recall  f1-score   support\n",
      "\n",
      "           0       0.88      0.89      0.89     23853\n",
      "           1       0.89      0.89      0.89     25190\n",
      "\n",
      "    accuracy                           0.89     49043\n",
      "   macro avg       0.89      0.89      0.89     49043\n",
      "weighted avg       0.89      0.89      0.89     49043\n",
      "\n"
     ]
    }
   ],
   "source": [
    "print(\"Training performance for MLP\")\n",
    "print(classification_report(Y_train, train_preds_MLP))"
   ]
  },
  {
   "cell_type": "code",
   "execution_count": 138,
   "metadata": {},
   "outputs": [
    {
     "name": "stdout",
     "output_type": "stream",
     "text": [
      "Val performance for MLP\n",
      "              precision    recall  f1-score   support\n",
      "\n",
      "           0       0.86      0.87      0.86      4097\n",
      "           1       0.88      0.87      0.87      4558\n",
      "\n",
      "    accuracy                           0.87      8655\n",
      "   macro avg       0.87      0.87      0.87      8655\n",
      "weighted avg       0.87      0.87      0.87      8655\n",
      "\n"
     ]
    }
   ],
   "source": [
    "print(\"Val performance for MLP\")\n",
    "print(classification_report(Y_val, val_preds_MLP))"
   ]
  },
  {
   "cell_type": "code",
   "execution_count": 139,
   "metadata": {},
   "outputs": [
    {
     "name": "stdout",
     "output_type": "stream",
     "text": [
      "Test performance for MLP\n",
      "              precision    recall  f1-score   support\n",
      "\n",
      "           0       0.86      0.87      0.87      7078\n",
      "           1       0.87      0.87      0.87      7347\n",
      "\n",
      "    accuracy                           0.87     14425\n",
      "   macro avg       0.87      0.87      0.87     14425\n",
      "weighted avg       0.87      0.87      0.87     14425\n",
      "\n"
     ]
    }
   ],
   "source": [
    "print(\"Test performance for MLP\")\n",
    "print(classification_report(Y_test, test_preds_MLP))"
   ]
  },
  {
   "cell_type": "code",
   "execution_count": 141,
   "metadata": {},
   "outputs": [
    {
     "data": {
      "image/png": "[encoded data removed]",
      "text/plain": [
       "<Figure size 600x600 with 1 Axes>"
      ]
     },
     "metadata": {},
     "output_type": "display_data"
    },
    {
     "name": "stdout",
     "output_type": "stream",
     "text": [
      "\n",
      "\n",
      "FOR TESTING SET: \n",
      "              precision    recall  f1-score   support\n",
      "\n",
      "           0       0.86      0.87      0.87      7078\n",
      "           1       0.87      0.87      0.87      7347\n",
      "\n",
      "    accuracy                           0.87     14425\n",
      "   macro avg       0.87      0.87      0.87     14425\n",
      "weighted avg       0.87      0.87      0.87     14425\n",
      "\n",
      "\n",
      "\n",
      "ROC AUC Score: 94.42%\n",
      "\n",
      "\n"
     ]
    },
    {
     "data": {
      "image/png": "[encoded data removed]",
      "text/plain": [
       "<Figure size 1000x600 with 1 Axes>"
      ]
     },
     "metadata": {},
     "output_type": "display_data"
    }
   ],
   "source": [
    "perform_deep_test_analysis(Y_test, test_preds_MLP, test_probs_MLP[:, 1], \"MLP\")"
   ]
  },
  {
   "cell_type": "code",
   "execution_count": null,
   "metadata": {},
   "outputs": [],
   "source": []
  },
  {
   "cell_type": "code",
   "execution_count": null,
   "metadata": {},
   "outputs": [],
   "source": []
  }
 ],
 "metadata": {
  "kernelspec": {
   "display_name": "capstone",
   "language": "python",
   "name": "python3"
  },
  "language_info": {
   "name": "python",
   "version": "3.11.13"
  }
 },
 "nbformat": 4,
 "nbformat_minor": 0
}
